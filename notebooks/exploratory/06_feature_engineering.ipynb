{
 "metadata": {
  "language_info": {
   "codemirror_mode": {
    "name": "ipython",
    "version": 3
   },
   "file_extension": ".py",
   "mimetype": "text/x-python",
   "name": "python",
   "nbconvert_exporter": "python",
   "pygments_lexer": "ipython3",
   "version": "3.8.3-final"
  },
  "orig_nbformat": 2,
  "kernelspec": {
   "name": "python_defaultSpec_1596775940359",
   "display_name": "Python 3.8.3 64-bit ('capstone': conda)"
  }
 },
 "nbformat": 4,
 "nbformat_minor": 2,
 "cells": [
  {
   "cell_type": "markdown",
   "metadata": {},
   "source": [
    "# Feature Engineering Notebook\n",
    "\n",
    "At the end of the previous notebook (05_models) I attempted some feature engineering. However, when I used these features on the model I was getting very weird results. the original features were producing an RMSE score of about 5,000 and the engineered features were producing RMSE scores around 4-5. So either my feature engineering skills are top notch (not the case) or i made a mistake somewhere. I looked through the notebook multiple times but was unable to find any obvious mistakes, so i want to try and recreate that work in this notebook to ensure feature engineering was done correctly.\n",
    "\n",
    "I essentially added three groups of features.\n",
    "- Time element (hour of day and week of year)\n",
    "- Previous weather conditions (weather observations three hours prior to \"current\" observations)\n",
    "- Derivative of past weather conditions to previous weather conditions (three hour interval)\n",
    "\n",
    "To gauge how these features affect the performance of model's I will test each iteration on a random forest model with default parameters. I will use RMSE as a metric for each iteration.\n",
    "\n",
    "## Layout of Notebook\n",
    "- Random forest performance on original features\n",
    "- Random forest performance with addition of time element\n",
    "- Random forest performance with addition of previous weather observations\n",
    "- Random forest performance with addition of derivative of each weather condition over three hour time period"
   ]
  },
  {
   "cell_type": "code",
   "execution_count": 1,
   "metadata": {
    "tags": []
   },
   "outputs": [],
   "source": [
    "# Import libraries\n",
    "import pandas as pd\n",
    "import numpy as np\n",
    "import matplotlib.pyplot as plt\n",
    "import seaborn as sns\n",
    "%matplotlib inline\n",
    "\n",
    "# Scaling\n",
    "from sklearn.preprocessing import StandardScaler\n",
    "\n",
    "# Data Split/Cross Validation\n",
    "from sklearn.model_selection import train_test_split, cross_val_score, KFold, GridSearchCV\n",
    "\n",
    "# Model Metrics\n",
    "from sklearn.metrics import mean_squared_error as mse\n",
    "from sklearn.metrics import r2_score, make_scorer\n",
    "\n",
    "# Ensembles\n",
    "from sklearn.ensemble import RandomForestRegressor\n",
    "\n",
    "# Use functions from .py file\n",
    "%load_ext autoreload\n",
    "%autoreload 2\n",
    "import os\n",
    "import sys\n",
    "module_path = os.path.abspath(os.path.join(os.pardir, os.pardir))\n",
    "if module_path not in sys.path:\n",
    "    sys.path.append(module_path)\n",
    "    \n",
    "import src.data_gathering as dg\n"
   ]
  },
  {
   "cell_type": "code",
   "execution_count": 2,
   "metadata": {},
   "outputs": [],
   "source": [
    "# import energy and weather data\n",
    "energy = dg.energy_data()\n",
    "weather = dg.weather_data()"
   ]
  },
  {
   "cell_type": "code",
   "execution_count": 3,
   "metadata": {},
   "outputs": [],
   "source": [
    "# make mse scorer object\n",
    "mse_score = make_scorer(mse)"
   ]
  },
  {
   "cell_type": "markdown",
   "metadata": {},
   "source": [
    "### Initial weather dataframe cleaning (will be added to data_gathering.py file after this)"
   ]
  },
  {
   "cell_type": "markdown",
   "metadata": {},
   "source": [
    "Drop rows from weather dataframe at time 23:59:00 from each day. "
   ]
  },
  {
   "cell_type": "code",
   "execution_count": 4,
   "metadata": {},
   "outputs": [],
   "source": [
    "to_drop = weather[(weather.index.hour == 23) & (weather.index.minute == 59)].index"
   ]
  },
  {
   "cell_type": "code",
   "execution_count": 5,
   "metadata": {},
   "outputs": [],
   "source": [
    "weather.drop(to_drop, axis=0, inplace=True)"
   ]
  },
  {
   "cell_type": "markdown",
   "metadata": {},
   "source": [
    "Convert all instances of \\* in dataframe to np.nan and all instances of '' in wind direction column to np.nan as well"
   ]
  },
  {
   "cell_type": "code",
   "execution_count": 6,
   "metadata": {},
   "outputs": [],
   "source": [
    "weather['HourlyDewPointTemperature'].loc[weather['HourlyDewPointTemperature'] == '*'] = np.nan\n",
    "weather['HourlyDryBulbTemperature'].loc[weather['HourlyDryBulbTemperature'] == '*'] = np.nan\n",
    "weather['HourlyRelativeHumidity'].loc[weather['HourlyRelativeHumidity'] == '*'] = np.nan\n",
    "weather['HourlyVisibility'].loc[weather['HourlyVisibility'] == '*'] = np.nan"
   ]
  },
  {
   "cell_type": "code",
   "execution_count": 7,
   "metadata": {},
   "outputs": [],
   "source": [
    "weather['HourlyWindDirection'] = weather['HourlyWindDirection'].replace('', np.nan)"
   ]
  },
  {
   "cell_type": "markdown",
   "metadata": {},
   "source": [
    "Convert weather dataframe to float"
   ]
  },
  {
   "cell_type": "code",
   "execution_count": 8,
   "metadata": {},
   "outputs": [],
   "source": [
    "weather = weather.astype(float)"
   ]
  },
  {
   "cell_type": "markdown",
   "metadata": {},
   "source": [
    "## Original Features"
   ]
  },
  {
   "cell_type": "markdown",
   "metadata": {},
   "source": [
    "I need to import IterativeImputer, which is the imputation method I have been using to fill the missing values."
   ]
  },
  {
   "cell_type": "code",
   "execution_count": 9,
   "metadata": {},
   "outputs": [],
   "source": [
    "from sklearn.experimental import enable_iterative_imputer\n",
    "from sklearn.impute import IterativeImputer"
   ]
  },
  {
   "cell_type": "code",
   "execution_count": 10,
   "metadata": {},
   "outputs": [],
   "source": [
    "imp1 = IterativeImputer(random_state=42)"
   ]
  },
  {
   "cell_type": "code",
   "execution_count": 11,
   "metadata": {},
   "outputs": [],
   "source": [
    "weather1_imp = imp1.fit_transform(weather)"
   ]
  },
  {
   "cell_type": "code",
   "execution_count": 12,
   "metadata": {},
   "outputs": [],
   "source": [
    "weather_df1 = pd.DataFrame(index=weather.index, columns=weather.columns, data=weather1_imp)"
   ]
  },
  {
   "cell_type": "markdown",
   "metadata": {},
   "source": [
    "Now I can pair up the energy data and weather data into a single dataframe. First I need to aggregate the weather data to hourly. To ensure the observations line up correctly (solar energy output with weather observations three hours prior) I am going to add a 'time' column to the weather dataframe that i can remove once I ensure it is formatted correctly."
   ]
  },
  {
   "cell_type": "code",
   "execution_count": 13,
   "metadata": {},
   "outputs": [],
   "source": [
    "weather_hourly1 = weather_df1.resample('H').mean()"
   ]
  },
  {
   "cell_type": "code",
   "execution_count": 14,
   "metadata": {},
   "outputs": [],
   "source": [
    "weather_hourly1['time'] = weather_hourly1.index"
   ]
  },
  {
   "cell_type": "code",
   "execution_count": 15,
   "metadata": {},
   "outputs": [],
   "source": [
    "base_df1 = pd.concat([energy, weather_hourly1.shift(3)], axis=1)"
   ]
  },
  {
   "cell_type": "code",
   "execution_count": 16,
   "metadata": {},
   "outputs": [
    {
     "output_type": "execute_result",
     "data": {
      "text/plain": "                     nexus_meter  HourlyAltimeterSetting  \\\nDATE                                                       \n2018-01-29 00:00:00          NaN                     NaN   \n2018-01-29 01:00:00          NaN                     NaN   \n2018-01-29 02:00:00          NaN                     NaN   \n2018-01-29 03:00:00          NaN                 30.3425   \n2018-01-29 04:00:00          NaN                 30.3400   \n\n                     HourlyDewPointTemperature  HourlyDryBulbTemperature  \\\nDATE                                                                       \n2018-01-29 00:00:00                        NaN                       NaN   \n2018-01-29 01:00:00                        NaN                       NaN   \n2018-01-29 02:00:00                        NaN                       NaN   \n2018-01-29 03:00:00                       28.0                      30.0   \n2018-01-29 04:00:00                       28.0                      30.0   \n\n                     HourlyRelativeHumidity  HourlyStationPressure  \\\nDATE                                                                 \n2018-01-29 00:00:00                     NaN                    NaN   \n2018-01-29 01:00:00                     NaN                    NaN   \n2018-01-29 02:00:00                     NaN                    NaN   \n2018-01-29 03:00:00                   92.25                29.5125   \n2018-01-29 04:00:00                   92.00                29.5100   \n\n                     HourlyVisibility  HourlyWindSpeed  HourlyWindDirection  \\\nDATE                                                                          \n2018-01-29 00:00:00               NaN              NaN                  NaN   \n2018-01-29 01:00:00               NaN              NaN                  NaN   \n2018-01-29 02:00:00               NaN              NaN                  NaN   \n2018-01-29 03:00:00              5.75            14.25                327.5   \n2018-01-29 04:00:00              3.00            10.00                340.0   \n\n                     HourlyPrecipitation  cloud_coverage                time  \nDATE                                                                          \n2018-01-29 00:00:00                  NaN             NaN                 NaT  \n2018-01-29 01:00:00                  NaN             NaN                 NaT  \n2018-01-29 02:00:00                  NaN             NaN                 NaT  \n2018-01-29 03:00:00             0.017317            80.0 2018-01-29 00:00:00  \n2018-01-29 04:00:00             0.000000            80.0 2018-01-29 01:00:00  ",
      "text/html": "<div>\n<style scoped>\n    .dataframe tbody tr th:only-of-type {\n        vertical-align: middle;\n    }\n\n    .dataframe tbody tr th {\n        vertical-align: top;\n    }\n\n    .dataframe thead th {\n        text-align: right;\n    }\n</style>\n<table border=\"1\" class=\"dataframe\">\n  <thead>\n    <tr style=\"text-align: right;\">\n      <th></th>\n      <th>nexus_meter</th>\n      <th>HourlyAltimeterSetting</th>\n      <th>HourlyDewPointTemperature</th>\n      <th>HourlyDryBulbTemperature</th>\n      <th>HourlyRelativeHumidity</th>\n      <th>HourlyStationPressure</th>\n      <th>HourlyVisibility</th>\n      <th>HourlyWindSpeed</th>\n      <th>HourlyWindDirection</th>\n      <th>HourlyPrecipitation</th>\n      <th>cloud_coverage</th>\n      <th>time</th>\n    </tr>\n    <tr>\n      <th>DATE</th>\n      <th></th>\n      <th></th>\n      <th></th>\n      <th></th>\n      <th></th>\n      <th></th>\n      <th></th>\n      <th></th>\n      <th></th>\n      <th></th>\n      <th></th>\n      <th></th>\n    </tr>\n  </thead>\n  <tbody>\n    <tr>\n      <th>2018-01-29 00:00:00</th>\n      <td>NaN</td>\n      <td>NaN</td>\n      <td>NaN</td>\n      <td>NaN</td>\n      <td>NaN</td>\n      <td>NaN</td>\n      <td>NaN</td>\n      <td>NaN</td>\n      <td>NaN</td>\n      <td>NaN</td>\n      <td>NaN</td>\n      <td>NaT</td>\n    </tr>\n    <tr>\n      <th>2018-01-29 01:00:00</th>\n      <td>NaN</td>\n      <td>NaN</td>\n      <td>NaN</td>\n      <td>NaN</td>\n      <td>NaN</td>\n      <td>NaN</td>\n      <td>NaN</td>\n      <td>NaN</td>\n      <td>NaN</td>\n      <td>NaN</td>\n      <td>NaN</td>\n      <td>NaT</td>\n    </tr>\n    <tr>\n      <th>2018-01-29 02:00:00</th>\n      <td>NaN</td>\n      <td>NaN</td>\n      <td>NaN</td>\n      <td>NaN</td>\n      <td>NaN</td>\n      <td>NaN</td>\n      <td>NaN</td>\n      <td>NaN</td>\n      <td>NaN</td>\n      <td>NaN</td>\n      <td>NaN</td>\n      <td>NaT</td>\n    </tr>\n    <tr>\n      <th>2018-01-29 03:00:00</th>\n      <td>NaN</td>\n      <td>30.3425</td>\n      <td>28.0</td>\n      <td>30.0</td>\n      <td>92.25</td>\n      <td>29.5125</td>\n      <td>5.75</td>\n      <td>14.25</td>\n      <td>327.5</td>\n      <td>0.017317</td>\n      <td>80.0</td>\n      <td>2018-01-29 00:00:00</td>\n    </tr>\n    <tr>\n      <th>2018-01-29 04:00:00</th>\n      <td>NaN</td>\n      <td>30.3400</td>\n      <td>28.0</td>\n      <td>30.0</td>\n      <td>92.00</td>\n      <td>29.5100</td>\n      <td>3.00</td>\n      <td>10.00</td>\n      <td>340.0</td>\n      <td>0.000000</td>\n      <td>80.0</td>\n      <td>2018-01-29 01:00:00</td>\n    </tr>\n  </tbody>\n</table>\n</div>"
     },
     "metadata": {},
     "execution_count": 16
    }
   ],
   "source": [
    "base_df1.head()"
   ]
  },
  {
   "cell_type": "markdown",
   "metadata": {},
   "source": [
    "Great this dataframe is formatted correctly, now I can drop the time column from the dataframe and also the first 24 rows as they contain no energy data"
   ]
  },
  {
   "cell_type": "code",
   "execution_count": 17,
   "metadata": {},
   "outputs": [],
   "source": [
    "base_df1.drop('time', axis=1, inplace=True)"
   ]
  },
  {
   "cell_type": "code",
   "execution_count": 18,
   "metadata": {},
   "outputs": [],
   "source": [
    "base_df1.drop(base_df1[:'2018-01-29'].index, axis=0, inplace=True)"
   ]
  },
  {
   "cell_type": "code",
   "execution_count": 19,
   "metadata": {},
   "outputs": [
    {
     "output_type": "execute_result",
     "data": {
      "text/plain": "                     nexus_meter  HourlyAltimeterSetting  \\\nDATE                                                       \n2018-01-30 00:00:00          0.0                   30.47   \n2018-01-30 01:00:00          0.0                   30.48   \n2018-01-30 02:00:00          0.0                   30.48   \n2018-01-30 03:00:00          0.0                   30.46   \n2018-01-30 04:00:00          0.0                   30.47   \n\n                     HourlyDewPointTemperature  HourlyDryBulbTemperature  \\\nDATE                                                                       \n2018-01-30 00:00:00                       15.0                      19.0   \n2018-01-30 01:00:00                       13.0                      17.0   \n2018-01-30 02:00:00                       13.0                      17.0   \n2018-01-30 03:00:00                       14.0                      17.0   \n2018-01-30 04:00:00                       11.0                      15.0   \n\n                     HourlyRelativeHumidity  HourlyStationPressure  \\\nDATE                                                                 \n2018-01-30 00:00:00                    84.0                  29.64   \n2018-01-30 01:00:00                    84.0                  29.65   \n2018-01-30 02:00:00                    84.0                  29.65   \n2018-01-30 03:00:00                    88.0                  29.63   \n2018-01-30 04:00:00                    84.0                  29.64   \n\n                     HourlyVisibility  HourlyWindSpeed  HourlyWindDirection  \\\nDATE                                                                          \n2018-01-30 00:00:00              10.0              6.0                310.0   \n2018-01-30 01:00:00              10.0              6.0                320.0   \n2018-01-30 02:00:00              10.0              5.0                300.0   \n2018-01-30 03:00:00              10.0              6.0                310.0   \n2018-01-30 04:00:00              10.0              6.0                320.0   \n\n                     HourlyPrecipitation  cloud_coverage  \nDATE                                                      \n2018-01-30 00:00:00                  0.0             0.0  \n2018-01-30 01:00:00                  0.0             0.0  \n2018-01-30 02:00:00                  0.0             0.0  \n2018-01-30 03:00:00                  0.0             0.0  \n2018-01-30 04:00:00                  0.0             0.0  ",
      "text/html": "<div>\n<style scoped>\n    .dataframe tbody tr th:only-of-type {\n        vertical-align: middle;\n    }\n\n    .dataframe tbody tr th {\n        vertical-align: top;\n    }\n\n    .dataframe thead th {\n        text-align: right;\n    }\n</style>\n<table border=\"1\" class=\"dataframe\">\n  <thead>\n    <tr style=\"text-align: right;\">\n      <th></th>\n      <th>nexus_meter</th>\n      <th>HourlyAltimeterSetting</th>\n      <th>HourlyDewPointTemperature</th>\n      <th>HourlyDryBulbTemperature</th>\n      <th>HourlyRelativeHumidity</th>\n      <th>HourlyStationPressure</th>\n      <th>HourlyVisibility</th>\n      <th>HourlyWindSpeed</th>\n      <th>HourlyWindDirection</th>\n      <th>HourlyPrecipitation</th>\n      <th>cloud_coverage</th>\n    </tr>\n    <tr>\n      <th>DATE</th>\n      <th></th>\n      <th></th>\n      <th></th>\n      <th></th>\n      <th></th>\n      <th></th>\n      <th></th>\n      <th></th>\n      <th></th>\n      <th></th>\n      <th></th>\n    </tr>\n  </thead>\n  <tbody>\n    <tr>\n      <th>2018-01-30 00:00:00</th>\n      <td>0.0</td>\n      <td>30.47</td>\n      <td>15.0</td>\n      <td>19.0</td>\n      <td>84.0</td>\n      <td>29.64</td>\n      <td>10.0</td>\n      <td>6.0</td>\n      <td>310.0</td>\n      <td>0.0</td>\n      <td>0.0</td>\n    </tr>\n    <tr>\n      <th>2018-01-30 01:00:00</th>\n      <td>0.0</td>\n      <td>30.48</td>\n      <td>13.0</td>\n      <td>17.0</td>\n      <td>84.0</td>\n      <td>29.65</td>\n      <td>10.0</td>\n      <td>6.0</td>\n      <td>320.0</td>\n      <td>0.0</td>\n      <td>0.0</td>\n    </tr>\n    <tr>\n      <th>2018-01-30 02:00:00</th>\n      <td>0.0</td>\n      <td>30.48</td>\n      <td>13.0</td>\n      <td>17.0</td>\n      <td>84.0</td>\n      <td>29.65</td>\n      <td>10.0</td>\n      <td>5.0</td>\n      <td>300.0</td>\n      <td>0.0</td>\n      <td>0.0</td>\n    </tr>\n    <tr>\n      <th>2018-01-30 03:00:00</th>\n      <td>0.0</td>\n      <td>30.46</td>\n      <td>14.0</td>\n      <td>17.0</td>\n      <td>88.0</td>\n      <td>29.63</td>\n      <td>10.0</td>\n      <td>6.0</td>\n      <td>310.0</td>\n      <td>0.0</td>\n      <td>0.0</td>\n    </tr>\n    <tr>\n      <th>2018-01-30 04:00:00</th>\n      <td>0.0</td>\n      <td>30.47</td>\n      <td>11.0</td>\n      <td>15.0</td>\n      <td>84.0</td>\n      <td>29.64</td>\n      <td>10.0</td>\n      <td>6.0</td>\n      <td>320.0</td>\n      <td>0.0</td>\n      <td>0.0</td>\n    </tr>\n  </tbody>\n</table>\n</div>"
     },
     "metadata": {},
     "execution_count": 19
    }
   ],
   "source": [
    "base_df1.head()"
   ]
  },
  {
   "cell_type": "markdown",
   "metadata": {},
   "source": [
    "I want to focus my analysis on the time frame 5am to 9pm, as these are the hours where energy may be produced (not likely in winter months)"
   ]
  },
  {
   "cell_type": "code",
   "execution_count": 20,
   "metadata": {},
   "outputs": [],
   "source": [
    "model_df1 = base_df1[(base_df1.index.hour >= 5) & (base_df1.index.hour <= 21)]"
   ]
  },
  {
   "cell_type": "markdown",
   "metadata": {},
   "source": [
    "Great, now I can separate the features and perform a train test split before modeling on the random forest regressor."
   ]
  },
  {
   "cell_type": "code",
   "execution_count": 21,
   "metadata": {},
   "outputs": [],
   "source": [
    "# separate target and features\n",
    "\n",
    "# target\n",
    "y1 = model_df1['nexus_meter']\n",
    "\n",
    "# features\n",
    "X1 = model_df1.drop('nexus_meter', axis=1)"
   ]
  },
  {
   "cell_type": "markdown",
   "metadata": {},
   "source": [
    "Since I am just testing the feature performance, I am only going to perform a single train test split."
   ]
  },
  {
   "cell_type": "code",
   "execution_count": 22,
   "metadata": {},
   "outputs": [],
   "source": [
    "X_train1, X_test1, y_train1, y_test1 = train_test_split(X1, y1, random_state=42, test_size=.3)"
   ]
  },
  {
   "cell_type": "markdown",
   "metadata": {},
   "source": [
    "I do a test size of .3 to replicate the size of the training data when doing two splits."
   ]
  },
  {
   "cell_type": "markdown",
   "metadata": {},
   "source": [
    "Now i can scale the training data and fit the random forest model"
   ]
  },
  {
   "cell_type": "code",
   "execution_count": 23,
   "metadata": {},
   "outputs": [],
   "source": [
    "scaler1 = StandardScaler()"
   ]
  },
  {
   "cell_type": "code",
   "execution_count": 24,
   "metadata": {},
   "outputs": [],
   "source": [
    "X_train1_scaled = scaler1.fit_transform(X_train1)"
   ]
  },
  {
   "cell_type": "code",
   "execution_count": 25,
   "metadata": {},
   "outputs": [],
   "source": [
    "# instantiate random forest regressor with default parameters\n",
    "rf1 = RandomForestRegressor(random_state=42)"
   ]
  },
  {
   "cell_type": "markdown",
   "metadata": {},
   "source": [
    "Now I will perform a 5 split cross validation on the training data using RMSE as the metric."
   ]
  },
  {
   "cell_type": "code",
   "execution_count": 26,
   "metadata": {},
   "outputs": [
    {
     "output_type": "execute_result",
     "data": {
      "text/plain": "4659.64242523034"
     },
     "metadata": {},
     "execution_count": 26
    }
   ],
   "source": [
    "np.sqrt(cross_val_score(rf1, X_train1_scaled, y_train1, scoring=mse_score, cv=5).mean())"
   ]
  },
  {
   "cell_type": "markdown",
   "metadata": {},
   "source": [
    "The first feature iteration produced an RMSE of 4659, now I can move on to adding the time element to the feature set"
   ]
  },
  {
   "cell_type": "markdown",
   "metadata": {},
   "source": [
    "## Random Forst with time element"
   ]
  },
  {
   "cell_type": "markdown",
   "metadata": {},
   "source": [
    "I will use the time of energy production because I am more interested in what it will be when the energy is being produced, not when we are making the predictions. I will add two columns, one for hour of day and one for week of year."
   ]
  },
  {
   "cell_type": "code",
   "execution_count": 27,
   "metadata": {},
   "outputs": [],
   "source": [
    "energy['hour'] = energy.index.hour\n",
    "energy['week'] = energy.index.week"
   ]
  },
  {
   "cell_type": "markdown",
   "metadata": {},
   "source": [
    "Next I will combine this new energy dataframe with the weather_hourly dataframe."
   ]
  },
  {
   "cell_type": "code",
   "execution_count": 28,
   "metadata": {},
   "outputs": [],
   "source": [
    "base_df2 = pd.concat([energy, weather_hourly1.shift(3)], axis=1)"
   ]
  },
  {
   "cell_type": "code",
   "execution_count": 29,
   "metadata": {},
   "outputs": [
    {
     "output_type": "execute_result",
     "data": {
      "text/plain": "                     nexus_meter  hour  week  HourlyAltimeterSetting  \\\nDATE                                                                   \n2018-01-29 00:00:00          NaN   NaN   NaN                     NaN   \n2018-01-29 01:00:00          NaN   NaN   NaN                     NaN   \n2018-01-29 02:00:00          NaN   NaN   NaN                     NaN   \n2018-01-29 03:00:00          NaN   NaN   NaN                 30.3425   \n2018-01-29 04:00:00          NaN   NaN   NaN                 30.3400   \n\n                     HourlyDewPointTemperature  HourlyDryBulbTemperature  \\\nDATE                                                                       \n2018-01-29 00:00:00                        NaN                       NaN   \n2018-01-29 01:00:00                        NaN                       NaN   \n2018-01-29 02:00:00                        NaN                       NaN   \n2018-01-29 03:00:00                       28.0                      30.0   \n2018-01-29 04:00:00                       28.0                      30.0   \n\n                     HourlyRelativeHumidity  HourlyStationPressure  \\\nDATE                                                                 \n2018-01-29 00:00:00                     NaN                    NaN   \n2018-01-29 01:00:00                     NaN                    NaN   \n2018-01-29 02:00:00                     NaN                    NaN   \n2018-01-29 03:00:00                   92.25                29.5125   \n2018-01-29 04:00:00                   92.00                29.5100   \n\n                     HourlyVisibility  HourlyWindSpeed  HourlyWindDirection  \\\nDATE                                                                          \n2018-01-29 00:00:00               NaN              NaN                  NaN   \n2018-01-29 01:00:00               NaN              NaN                  NaN   \n2018-01-29 02:00:00               NaN              NaN                  NaN   \n2018-01-29 03:00:00              5.75            14.25                327.5   \n2018-01-29 04:00:00              3.00            10.00                340.0   \n\n                     HourlyPrecipitation  cloud_coverage                time  \nDATE                                                                          \n2018-01-29 00:00:00                  NaN             NaN                 NaT  \n2018-01-29 01:00:00                  NaN             NaN                 NaT  \n2018-01-29 02:00:00                  NaN             NaN                 NaT  \n2018-01-29 03:00:00             0.017317            80.0 2018-01-29 00:00:00  \n2018-01-29 04:00:00             0.000000            80.0 2018-01-29 01:00:00  ",
      "text/html": "<div>\n<style scoped>\n    .dataframe tbody tr th:only-of-type {\n        vertical-align: middle;\n    }\n\n    .dataframe tbody tr th {\n        vertical-align: top;\n    }\n\n    .dataframe thead th {\n        text-align: right;\n    }\n</style>\n<table border=\"1\" class=\"dataframe\">\n  <thead>\n    <tr style=\"text-align: right;\">\n      <th></th>\n      <th>nexus_meter</th>\n      <th>hour</th>\n      <th>week</th>\n      <th>HourlyAltimeterSetting</th>\n      <th>HourlyDewPointTemperature</th>\n      <th>HourlyDryBulbTemperature</th>\n      <th>HourlyRelativeHumidity</th>\n      <th>HourlyStationPressure</th>\n      <th>HourlyVisibility</th>\n      <th>HourlyWindSpeed</th>\n      <th>HourlyWindDirection</th>\n      <th>HourlyPrecipitation</th>\n      <th>cloud_coverage</th>\n      <th>time</th>\n    </tr>\n    <tr>\n      <th>DATE</th>\n      <th></th>\n      <th></th>\n      <th></th>\n      <th></th>\n      <th></th>\n      <th></th>\n      <th></th>\n      <th></th>\n      <th></th>\n      <th></th>\n      <th></th>\n      <th></th>\n      <th></th>\n      <th></th>\n    </tr>\n  </thead>\n  <tbody>\n    <tr>\n      <th>2018-01-29 00:00:00</th>\n      <td>NaN</td>\n      <td>NaN</td>\n      <td>NaN</td>\n      <td>NaN</td>\n      <td>NaN</td>\n      <td>NaN</td>\n      <td>NaN</td>\n      <td>NaN</td>\n      <td>NaN</td>\n      <td>NaN</td>\n      <td>NaN</td>\n      <td>NaN</td>\n      <td>NaN</td>\n      <td>NaT</td>\n    </tr>\n    <tr>\n      <th>2018-01-29 01:00:00</th>\n      <td>NaN</td>\n      <td>NaN</td>\n      <td>NaN</td>\n      <td>NaN</td>\n      <td>NaN</td>\n      <td>NaN</td>\n      <td>NaN</td>\n      <td>NaN</td>\n      <td>NaN</td>\n      <td>NaN</td>\n      <td>NaN</td>\n      <td>NaN</td>\n      <td>NaN</td>\n      <td>NaT</td>\n    </tr>\n    <tr>\n      <th>2018-01-29 02:00:00</th>\n      <td>NaN</td>\n      <td>NaN</td>\n      <td>NaN</td>\n      <td>NaN</td>\n      <td>NaN</td>\n      <td>NaN</td>\n      <td>NaN</td>\n      <td>NaN</td>\n      <td>NaN</td>\n      <td>NaN</td>\n      <td>NaN</td>\n      <td>NaN</td>\n      <td>NaN</td>\n      <td>NaT</td>\n    </tr>\n    <tr>\n      <th>2018-01-29 03:00:00</th>\n      <td>NaN</td>\n      <td>NaN</td>\n      <td>NaN</td>\n      <td>30.3425</td>\n      <td>28.0</td>\n      <td>30.0</td>\n      <td>92.25</td>\n      <td>29.5125</td>\n      <td>5.75</td>\n      <td>14.25</td>\n      <td>327.5</td>\n      <td>0.017317</td>\n      <td>80.0</td>\n      <td>2018-01-29 00:00:00</td>\n    </tr>\n    <tr>\n      <th>2018-01-29 04:00:00</th>\n      <td>NaN</td>\n      <td>NaN</td>\n      <td>NaN</td>\n      <td>30.3400</td>\n      <td>28.0</td>\n      <td>30.0</td>\n      <td>92.00</td>\n      <td>29.5100</td>\n      <td>3.00</td>\n      <td>10.00</td>\n      <td>340.0</td>\n      <td>0.000000</td>\n      <td>80.0</td>\n      <td>2018-01-29 01:00:00</td>\n    </tr>\n  </tbody>\n</table>\n</div>"
     },
     "metadata": {},
     "execution_count": 29
    }
   ],
   "source": [
    "base_df2.head()"
   ]
  },
  {
   "cell_type": "markdown",
   "metadata": {},
   "source": [
    "Everything is formatted correctly, I can now drop the 'time' column and the first 24 rows again."
   ]
  },
  {
   "cell_type": "code",
   "execution_count": 30,
   "metadata": {},
   "outputs": [],
   "source": [
    "base_df2.drop('time', axis=1, inplace=True)\n",
    "base_df2.drop(base_df2[:'2018-01-29'].index, axis=0, inplace=True)"
   ]
  },
  {
   "cell_type": "markdown",
   "metadata": {},
   "source": [
    "Again I will subset this dataframe to only include the rows between 5am and 9pm."
   ]
  },
  {
   "cell_type": "code",
   "execution_count": 31,
   "metadata": {},
   "outputs": [],
   "source": [
    "model_df2 = base_df2[(base_df2.index.hour >= 5) & (base_df2.index.hour <= 21)]"
   ]
  },
  {
   "cell_type": "markdown",
   "metadata": {},
   "source": [
    "Perform a train test split with same random state and test size as previous iteration"
   ]
  },
  {
   "cell_type": "code",
   "execution_count": 32,
   "metadata": {},
   "outputs": [],
   "source": [
    "# separate target and features\n",
    "\n",
    "# target\n",
    "y2 = model_df2['nexus_meter']\n",
    "\n",
    "# features\n",
    "X2 = model_df2.drop('nexus_meter', axis=1)"
   ]
  },
  {
   "cell_type": "code",
   "execution_count": 33,
   "metadata": {},
   "outputs": [],
   "source": [
    "X_train2, X_test2, y_train2, y_test2 = train_test_split(X2, y2, random_state=42, test_size=.3)"
   ]
  },
  {
   "cell_type": "markdown",
   "metadata": {},
   "source": [
    "I want to import a new standard scaler object to ensure no data is passed over from the previous fit. I know this might be unneccesary but I just want to be sure."
   ]
  },
  {
   "cell_type": "code",
   "execution_count": 34,
   "metadata": {},
   "outputs": [],
   "source": [
    "scaler2 = StandardScaler()"
   ]
  },
  {
   "cell_type": "code",
   "execution_count": 35,
   "metadata": {},
   "outputs": [],
   "source": [
    "X_train2_scaled = scaler2.fit_transform(X_train2)"
   ]
  },
  {
   "cell_type": "code",
   "execution_count": 36,
   "metadata": {},
   "outputs": [],
   "source": [
    "# instantiate new random forest object with default parameters\n",
    "rf2 = RandomForestRegressor(random_state=42)"
   ]
  },
  {
   "cell_type": "code",
   "execution_count": 37,
   "metadata": {},
   "outputs": [
    {
     "output_type": "execute_result",
     "data": {
      "text/plain": "2389.196932888855"
     },
     "metadata": {},
     "execution_count": 37
    }
   ],
   "source": [
    "# 5 split cross validation\n",
    "np.sqrt(cross_val_score(rf2, X_train2_scaled, y_train2, scoring=mse_score, cv=5).mean())"
   ]
  },
  {
   "cell_type": "markdown",
   "metadata": {},
   "source": [
    "Adding the time element alone cut the RMSE score in half. That makes me feel a lot better about the results I was getting from the 05_models notebook. Next I will add the weather observations from three hour's prior of the current time and see how that affects the model before including the derivative of each individual weather condition over that time period."
   ]
  },
  {
   "cell_type": "markdown",
   "metadata": {},
   "source": [
    "## Random Forest with Time element and past weather conditions"
   ]
  },
  {
   "cell_type": "markdown",
   "metadata": {},
   "source": [
    "The addition of the time features was extremely beneficial to the model performance, so i am going to keep those. The next features I want to add are more weather conditions, only from three hours prior to the current observations. So the dataframe will be set up in the following format, energy observations, weather conditions three hours prior to energy production observation (original weather features), and an additional set of weather features three hours prior to the current observations (6 hours before energy production). My hope is that by including the weather observations from further back, the model will be able to pick up on how the weather has changed up to the point of current observation, and how it might change up to the point of energy production."
   ]
  },
  {
   "cell_type": "markdown",
   "metadata": {},
   "source": [
    "To construct that lagged weather observations, I will simply shift the weather_hourly dataframe, exactly how I do it when concatenating the weather and energy dataframe."
   ]
  },
  {
   "cell_type": "code",
   "execution_count": 38,
   "metadata": {},
   "outputs": [],
   "source": [
    "weather_lagged_df = weather_hourly1.shift(3)"
   ]
  },
  {
   "cell_type": "code",
   "execution_count": 39,
   "metadata": {},
   "outputs": [
    {
     "output_type": "execute_result",
     "data": {
      "text/plain": "                     HourlyAltimeterSetting  HourlyDewPointTemperature  \\\nDATE                                                                     \n2018-01-29 00:00:00                     NaN                        NaN   \n2018-01-29 01:00:00                     NaN                        NaN   \n2018-01-29 02:00:00                     NaN                        NaN   \n2018-01-29 03:00:00                 30.3425                       28.0   \n2018-01-29 04:00:00                 30.3400                       28.0   \n\n                     HourlyDryBulbTemperature  HourlyRelativeHumidity  \\\nDATE                                                                    \n2018-01-29 00:00:00                       NaN                     NaN   \n2018-01-29 01:00:00                       NaN                     NaN   \n2018-01-29 02:00:00                       NaN                     NaN   \n2018-01-29 03:00:00                      30.0                   92.25   \n2018-01-29 04:00:00                      30.0                   92.00   \n\n                     HourlyStationPressure  HourlyVisibility  HourlyWindSpeed  \\\nDATE                                                                            \n2018-01-29 00:00:00                    NaN               NaN              NaN   \n2018-01-29 01:00:00                    NaN               NaN              NaN   \n2018-01-29 02:00:00                    NaN               NaN              NaN   \n2018-01-29 03:00:00                29.5125              5.75            14.25   \n2018-01-29 04:00:00                29.5100              3.00            10.00   \n\n                     HourlyWindDirection  HourlyPrecipitation  cloud_coverage  \\\nDATE                                                                            \n2018-01-29 00:00:00                  NaN                  NaN             NaN   \n2018-01-29 01:00:00                  NaN                  NaN             NaN   \n2018-01-29 02:00:00                  NaN                  NaN             NaN   \n2018-01-29 03:00:00                327.5             0.017317            80.0   \n2018-01-29 04:00:00                340.0             0.000000            80.0   \n\n                                   time  \nDATE                                     \n2018-01-29 00:00:00                 NaT  \n2018-01-29 01:00:00                 NaT  \n2018-01-29 02:00:00                 NaT  \n2018-01-29 03:00:00 2018-01-29 00:00:00  \n2018-01-29 04:00:00 2018-01-29 01:00:00  ",
      "text/html": "<div>\n<style scoped>\n    .dataframe tbody tr th:only-of-type {\n        vertical-align: middle;\n    }\n\n    .dataframe tbody tr th {\n        vertical-align: top;\n    }\n\n    .dataframe thead th {\n        text-align: right;\n    }\n</style>\n<table border=\"1\" class=\"dataframe\">\n  <thead>\n    <tr style=\"text-align: right;\">\n      <th></th>\n      <th>HourlyAltimeterSetting</th>\n      <th>HourlyDewPointTemperature</th>\n      <th>HourlyDryBulbTemperature</th>\n      <th>HourlyRelativeHumidity</th>\n      <th>HourlyStationPressure</th>\n      <th>HourlyVisibility</th>\n      <th>HourlyWindSpeed</th>\n      <th>HourlyWindDirection</th>\n      <th>HourlyPrecipitation</th>\n      <th>cloud_coverage</th>\n      <th>time</th>\n    </tr>\n    <tr>\n      <th>DATE</th>\n      <th></th>\n      <th></th>\n      <th></th>\n      <th></th>\n      <th></th>\n      <th></th>\n      <th></th>\n      <th></th>\n      <th></th>\n      <th></th>\n      <th></th>\n    </tr>\n  </thead>\n  <tbody>\n    <tr>\n      <th>2018-01-29 00:00:00</th>\n      <td>NaN</td>\n      <td>NaN</td>\n      <td>NaN</td>\n      <td>NaN</td>\n      <td>NaN</td>\n      <td>NaN</td>\n      <td>NaN</td>\n      <td>NaN</td>\n      <td>NaN</td>\n      <td>NaN</td>\n      <td>NaT</td>\n    </tr>\n    <tr>\n      <th>2018-01-29 01:00:00</th>\n      <td>NaN</td>\n      <td>NaN</td>\n      <td>NaN</td>\n      <td>NaN</td>\n      <td>NaN</td>\n      <td>NaN</td>\n      <td>NaN</td>\n      <td>NaN</td>\n      <td>NaN</td>\n      <td>NaN</td>\n      <td>NaT</td>\n    </tr>\n    <tr>\n      <th>2018-01-29 02:00:00</th>\n      <td>NaN</td>\n      <td>NaN</td>\n      <td>NaN</td>\n      <td>NaN</td>\n      <td>NaN</td>\n      <td>NaN</td>\n      <td>NaN</td>\n      <td>NaN</td>\n      <td>NaN</td>\n      <td>NaN</td>\n      <td>NaT</td>\n    </tr>\n    <tr>\n      <th>2018-01-29 03:00:00</th>\n      <td>30.3425</td>\n      <td>28.0</td>\n      <td>30.0</td>\n      <td>92.25</td>\n      <td>29.5125</td>\n      <td>5.75</td>\n      <td>14.25</td>\n      <td>327.5</td>\n      <td>0.017317</td>\n      <td>80.0</td>\n      <td>2018-01-29 00:00:00</td>\n    </tr>\n    <tr>\n      <th>2018-01-29 04:00:00</th>\n      <td>30.3400</td>\n      <td>28.0</td>\n      <td>30.0</td>\n      <td>92.00</td>\n      <td>29.5100</td>\n      <td>3.00</td>\n      <td>10.00</td>\n      <td>340.0</td>\n      <td>0.000000</td>\n      <td>80.0</td>\n      <td>2018-01-29 01:00:00</td>\n    </tr>\n  </tbody>\n</table>\n</div>"
     },
     "metadata": {},
     "execution_count": 39
    }
   ],
   "source": [
    "weather_lagged_df.head()"
   ]
  },
  {
   "cell_type": "markdown",
   "metadata": {},
   "source": [
    "I want to change the column name's so I don't mix up the lagged weather and current weather."
   ]
  },
  {
   "cell_type": "code",
   "execution_count": 40,
   "metadata": {},
   "outputs": [],
   "source": [
    "weather_lagged_df.columns = ['lag3_altimeter', 'lag3_dew_point', 'lag3_temp', 'lag3_humidity', 'lag3_pressure', \n",
    "                            'lag3_visibility', 'lag3_wind_speed', 'lag3_wind_direction', 'lag3_precipitation', 'lag3_cloud_coverage', 'lag3_time']"
   ]
  },
  {
   "cell_type": "code",
   "execution_count": 41,
   "metadata": {},
   "outputs": [
    {
     "output_type": "execute_result",
     "data": {
      "text/plain": "lag3_altimeter         13\nlag3_dew_point         13\nlag3_temp              13\nlag3_humidity          13\nlag3_pressure          13\nlag3_visibility        13\nlag3_wind_speed        13\nlag3_wind_direction    13\nlag3_precipitation     13\nlag3_cloud_coverage    13\nlag3_time               3\ndtype: int64"
     },
     "metadata": {},
     "execution_count": 41
    }
   ],
   "source": [
    "weather_lagged_df.isna().sum()"
   ]
  },
  {
   "cell_type": "code",
   "execution_count": 42,
   "metadata": {},
   "outputs": [
    {
     "output_type": "execute_result",
     "data": {
      "text/plain": "HourlyAltimeterSetting       10\nHourlyDewPointTemperature    10\nHourlyDryBulbTemperature     10\nHourlyRelativeHumidity       10\nHourlyStationPressure        10\nHourlyVisibility             10\nHourlyWindSpeed              10\nHourlyWindDirection          10\nHourlyPrecipitation          10\ncloud_coverage               10\ntime                          0\ndtype: int64"
     },
     "metadata": {},
     "execution_count": 42
    }
   ],
   "source": [
    "weather_hourly1.isna().sum()"
   ]
  },
  {
   "cell_type": "code",
   "execution_count": 43,
   "metadata": {},
   "outputs": [
    {
     "output_type": "execute_result",
     "data": {
      "text/plain": "                     lag3_altimeter  lag3_dew_point  lag3_temp  lag3_humidity  \\\nDATE                                                                            \n2018-01-29 00:00:00             NaN             NaN        NaN            NaN   \n2018-01-29 01:00:00             NaN             NaN        NaN            NaN   \n2018-01-29 02:00:00             NaN             NaN        NaN            NaN   \n2018-04-12 03:00:00             NaN             NaN        NaN            NaN   \n2018-04-12 04:00:00             NaN             NaN        NaN            NaN   \n2018-05-16 03:00:00             NaN             NaN        NaN            NaN   \n2018-05-16 04:00:00             NaN             NaN        NaN            NaN   \n2019-07-25 01:00:00             NaN             NaN        NaN            NaN   \n2019-07-25 02:00:00             NaN             NaN        NaN            NaN   \n2019-07-25 03:00:00             NaN             NaN        NaN            NaN   \n2019-07-25 04:00:00             NaN             NaN        NaN            NaN   \n2020-02-20 02:00:00             NaN             NaN        NaN            NaN   \n2020-02-20 03:00:00             NaN             NaN        NaN            NaN   \n\n                     lag3_pressure  lag3_visibility  lag3_wind_speed  \\\nDATE                                                                   \n2018-01-29 00:00:00            NaN              NaN              NaN   \n2018-01-29 01:00:00            NaN              NaN              NaN   \n2018-01-29 02:00:00            NaN              NaN              NaN   \n2018-04-12 03:00:00            NaN              NaN              NaN   \n2018-04-12 04:00:00            NaN              NaN              NaN   \n2018-05-16 03:00:00            NaN              NaN              NaN   \n2018-05-16 04:00:00            NaN              NaN              NaN   \n2019-07-25 01:00:00            NaN              NaN              NaN   \n2019-07-25 02:00:00            NaN              NaN              NaN   \n2019-07-25 03:00:00            NaN              NaN              NaN   \n2019-07-25 04:00:00            NaN              NaN              NaN   \n2020-02-20 02:00:00            NaN              NaN              NaN   \n2020-02-20 03:00:00            NaN              NaN              NaN   \n\n                     lag3_wind_direction  lag3_precipitation  \\\nDATE                                                           \n2018-01-29 00:00:00                  NaN                 NaN   \n2018-01-29 01:00:00                  NaN                 NaN   \n2018-01-29 02:00:00                  NaN                 NaN   \n2018-04-12 03:00:00                  NaN                 NaN   \n2018-04-12 04:00:00                  NaN                 NaN   \n2018-05-16 03:00:00                  NaN                 NaN   \n2018-05-16 04:00:00                  NaN                 NaN   \n2019-07-25 01:00:00                  NaN                 NaN   \n2019-07-25 02:00:00                  NaN                 NaN   \n2019-07-25 03:00:00                  NaN                 NaN   \n2019-07-25 04:00:00                  NaN                 NaN   \n2020-02-20 02:00:00                  NaN                 NaN   \n2020-02-20 03:00:00                  NaN                 NaN   \n\n                     lag3_cloud_coverage           lag3_time  \nDATE                                                          \n2018-01-29 00:00:00                  NaN                 NaT  \n2018-01-29 01:00:00                  NaN                 NaT  \n2018-01-29 02:00:00                  NaN                 NaT  \n2018-04-12 03:00:00                  NaN 2018-04-12 00:00:00  \n2018-04-12 04:00:00                  NaN 2018-04-12 01:00:00  \n2018-05-16 03:00:00                  NaN 2018-05-16 00:00:00  \n2018-05-16 04:00:00                  NaN 2018-05-16 01:00:00  \n2019-07-25 01:00:00                  NaN 2019-07-24 22:00:00  \n2019-07-25 02:00:00                  NaN 2019-07-24 23:00:00  \n2019-07-25 03:00:00                  NaN 2019-07-25 00:00:00  \n2019-07-25 04:00:00                  NaN 2019-07-25 01:00:00  \n2020-02-20 02:00:00                  NaN 2020-02-19 23:00:00  \n2020-02-20 03:00:00                  NaN 2020-02-20 00:00:00  ",
      "text/html": "<div>\n<style scoped>\n    .dataframe tbody tr th:only-of-type {\n        vertical-align: middle;\n    }\n\n    .dataframe tbody tr th {\n        vertical-align: top;\n    }\n\n    .dataframe thead th {\n        text-align: right;\n    }\n</style>\n<table border=\"1\" class=\"dataframe\">\n  <thead>\n    <tr style=\"text-align: right;\">\n      <th></th>\n      <th>lag3_altimeter</th>\n      <th>lag3_dew_point</th>\n      <th>lag3_temp</th>\n      <th>lag3_humidity</th>\n      <th>lag3_pressure</th>\n      <th>lag3_visibility</th>\n      <th>lag3_wind_speed</th>\n      <th>lag3_wind_direction</th>\n      <th>lag3_precipitation</th>\n      <th>lag3_cloud_coverage</th>\n      <th>lag3_time</th>\n    </tr>\n    <tr>\n      <th>DATE</th>\n      <th></th>\n      <th></th>\n      <th></th>\n      <th></th>\n      <th></th>\n      <th></th>\n      <th></th>\n      <th></th>\n      <th></th>\n      <th></th>\n      <th></th>\n    </tr>\n  </thead>\n  <tbody>\n    <tr>\n      <th>2018-01-29 00:00:00</th>\n      <td>NaN</td>\n      <td>NaN</td>\n      <td>NaN</td>\n      <td>NaN</td>\n      <td>NaN</td>\n      <td>NaN</td>\n      <td>NaN</td>\n      <td>NaN</td>\n      <td>NaN</td>\n      <td>NaN</td>\n      <td>NaT</td>\n    </tr>\n    <tr>\n      <th>2018-01-29 01:00:00</th>\n      <td>NaN</td>\n      <td>NaN</td>\n      <td>NaN</td>\n      <td>NaN</td>\n      <td>NaN</td>\n      <td>NaN</td>\n      <td>NaN</td>\n      <td>NaN</td>\n      <td>NaN</td>\n      <td>NaN</td>\n      <td>NaT</td>\n    </tr>\n    <tr>\n      <th>2018-01-29 02:00:00</th>\n      <td>NaN</td>\n      <td>NaN</td>\n      <td>NaN</td>\n      <td>NaN</td>\n      <td>NaN</td>\n      <td>NaN</td>\n      <td>NaN</td>\n      <td>NaN</td>\n      <td>NaN</td>\n      <td>NaN</td>\n      <td>NaT</td>\n    </tr>\n    <tr>\n      <th>2018-04-12 03:00:00</th>\n      <td>NaN</td>\n      <td>NaN</td>\n      <td>NaN</td>\n      <td>NaN</td>\n      <td>NaN</td>\n      <td>NaN</td>\n      <td>NaN</td>\n      <td>NaN</td>\n      <td>NaN</td>\n      <td>NaN</td>\n      <td>2018-04-12 00:00:00</td>\n    </tr>\n    <tr>\n      <th>2018-04-12 04:00:00</th>\n      <td>NaN</td>\n      <td>NaN</td>\n      <td>NaN</td>\n      <td>NaN</td>\n      <td>NaN</td>\n      <td>NaN</td>\n      <td>NaN</td>\n      <td>NaN</td>\n      <td>NaN</td>\n      <td>NaN</td>\n      <td>2018-04-12 01:00:00</td>\n    </tr>\n    <tr>\n      <th>2018-05-16 03:00:00</th>\n      <td>NaN</td>\n      <td>NaN</td>\n      <td>NaN</td>\n      <td>NaN</td>\n      <td>NaN</td>\n      <td>NaN</td>\n      <td>NaN</td>\n      <td>NaN</td>\n      <td>NaN</td>\n      <td>NaN</td>\n      <td>2018-05-16 00:00:00</td>\n    </tr>\n    <tr>\n      <th>2018-05-16 04:00:00</th>\n      <td>NaN</td>\n      <td>NaN</td>\n      <td>NaN</td>\n      <td>NaN</td>\n      <td>NaN</td>\n      <td>NaN</td>\n      <td>NaN</td>\n      <td>NaN</td>\n      <td>NaN</td>\n      <td>NaN</td>\n      <td>2018-05-16 01:00:00</td>\n    </tr>\n    <tr>\n      <th>2019-07-25 01:00:00</th>\n      <td>NaN</td>\n      <td>NaN</td>\n      <td>NaN</td>\n      <td>NaN</td>\n      <td>NaN</td>\n      <td>NaN</td>\n      <td>NaN</td>\n      <td>NaN</td>\n      <td>NaN</td>\n      <td>NaN</td>\n      <td>2019-07-24 22:00:00</td>\n    </tr>\n    <tr>\n      <th>2019-07-25 02:00:00</th>\n      <td>NaN</td>\n      <td>NaN</td>\n      <td>NaN</td>\n      <td>NaN</td>\n      <td>NaN</td>\n      <td>NaN</td>\n      <td>NaN</td>\n      <td>NaN</td>\n      <td>NaN</td>\n      <td>NaN</td>\n      <td>2019-07-24 23:00:00</td>\n    </tr>\n    <tr>\n      <th>2019-07-25 03:00:00</th>\n      <td>NaN</td>\n      <td>NaN</td>\n      <td>NaN</td>\n      <td>NaN</td>\n      <td>NaN</td>\n      <td>NaN</td>\n      <td>NaN</td>\n      <td>NaN</td>\n      <td>NaN</td>\n      <td>NaN</td>\n      <td>2019-07-25 00:00:00</td>\n    </tr>\n    <tr>\n      <th>2019-07-25 04:00:00</th>\n      <td>NaN</td>\n      <td>NaN</td>\n      <td>NaN</td>\n      <td>NaN</td>\n      <td>NaN</td>\n      <td>NaN</td>\n      <td>NaN</td>\n      <td>NaN</td>\n      <td>NaN</td>\n      <td>NaN</td>\n      <td>2019-07-25 01:00:00</td>\n    </tr>\n    <tr>\n      <th>2020-02-20 02:00:00</th>\n      <td>NaN</td>\n      <td>NaN</td>\n      <td>NaN</td>\n      <td>NaN</td>\n      <td>NaN</td>\n      <td>NaN</td>\n      <td>NaN</td>\n      <td>NaN</td>\n      <td>NaN</td>\n      <td>NaN</td>\n      <td>2020-02-19 23:00:00</td>\n    </tr>\n    <tr>\n      <th>2020-02-20 03:00:00</th>\n      <td>NaN</td>\n      <td>NaN</td>\n      <td>NaN</td>\n      <td>NaN</td>\n      <td>NaN</td>\n      <td>NaN</td>\n      <td>NaN</td>\n      <td>NaN</td>\n      <td>NaN</td>\n      <td>NaN</td>\n      <td>2020-02-20 00:00:00</td>\n    </tr>\n  </tbody>\n</table>\n</div>"
     },
     "metadata": {},
     "execution_count": 43
    }
   ],
   "source": [
    "weather_lagged_df[weather_lagged_df['lag3_altimeter'].isna() == True]"
   ]
  },
  {
   "cell_type": "markdown",
   "metadata": {},
   "source": [
    "Both weather_hourly1 and weather_lagged_df still contain missing values, fortunately they are all at times that will not be included in the analysis, so i can ignore those because they won't be included in the modeling data. Now I want to combine these two dataframes before adding on the energy data because I want investigate the collinearity between the two weather dataframes."
   ]
  },
  {
   "cell_type": "code",
   "execution_count": 44,
   "metadata": {},
   "outputs": [],
   "source": [
    "big_weather_df1 = pd.concat([weather_hourly1, weather_lagged_df], axis=1)"
   ]
  },
  {
   "cell_type": "code",
   "execution_count": 45,
   "metadata": {},
   "outputs": [
    {
     "output_type": "execute_result",
     "data": {
      "text/plain": "                     HourlyAltimeterSetting  HourlyDewPointTemperature  \\\nDATE                                                                     \n2018-01-29 00:00:00                 30.3425                       28.0   \n2018-01-29 01:00:00                 30.3400                       28.0   \n2018-01-29 02:00:00                 30.3300                       28.0   \n2018-01-29 03:00:00                 30.3300                       28.0   \n2018-01-29 04:00:00                 30.3300                       28.0   \n\n                     HourlyDryBulbTemperature  HourlyRelativeHumidity  \\\nDATE                                                                    \n2018-01-29 00:00:00                      30.0                   92.25   \n2018-01-29 01:00:00                      30.0                   92.00   \n2018-01-29 02:00:00                      30.0                   92.00   \n2018-01-29 03:00:00                      30.0                   92.00   \n2018-01-29 04:00:00                      30.0                   92.50   \n\n                     HourlyStationPressure  HourlyVisibility  HourlyWindSpeed  \\\nDATE                                                                            \n2018-01-29 00:00:00                29.5125              5.75            14.25   \n2018-01-29 01:00:00                29.5100              3.00            10.00   \n2018-01-29 02:00:00                29.5000              5.00            13.00   \n2018-01-29 03:00:00                29.5000              6.00            13.00   \n2018-01-29 04:00:00                29.5000              6.00            10.50   \n\n                     HourlyWindDirection  HourlyPrecipitation  cloud_coverage  \\\nDATE                                                                            \n2018-01-29 00:00:00                327.5             0.017317            80.0   \n2018-01-29 01:00:00                340.0             0.000000            80.0   \n2018-01-29 02:00:00                340.0             0.000000            80.0   \n2018-01-29 03:00:00                320.0             0.000000            80.0   \n2018-01-29 04:00:00                325.0             0.009066            80.0   \n\n                     ... lag3_dew_point  lag3_temp  lag3_humidity  \\\nDATE                 ...                                            \n2018-01-29 00:00:00  ...            NaN        NaN            NaN   \n2018-01-29 01:00:00  ...            NaN        NaN            NaN   \n2018-01-29 02:00:00  ...            NaN        NaN            NaN   \n2018-01-29 03:00:00  ...           28.0       30.0          92.25   \n2018-01-29 04:00:00  ...           28.0       30.0          92.00   \n\n                     lag3_pressure  lag3_visibility  lag3_wind_speed  \\\nDATE                                                                   \n2018-01-29 00:00:00            NaN              NaN              NaN   \n2018-01-29 01:00:00            NaN              NaN              NaN   \n2018-01-29 02:00:00            NaN              NaN              NaN   \n2018-01-29 03:00:00        29.5125             5.75            14.25   \n2018-01-29 04:00:00        29.5100             3.00            10.00   \n\n                     lag3_wind_direction  lag3_precipitation  \\\nDATE                                                           \n2018-01-29 00:00:00                  NaN                 NaN   \n2018-01-29 01:00:00                  NaN                 NaN   \n2018-01-29 02:00:00                  NaN                 NaN   \n2018-01-29 03:00:00                327.5            0.017317   \n2018-01-29 04:00:00                340.0            0.000000   \n\n                     lag3_cloud_coverage           lag3_time  \nDATE                                                          \n2018-01-29 00:00:00                  NaN                 NaT  \n2018-01-29 01:00:00                  NaN                 NaT  \n2018-01-29 02:00:00                  NaN                 NaT  \n2018-01-29 03:00:00                 80.0 2018-01-29 00:00:00  \n2018-01-29 04:00:00                 80.0 2018-01-29 01:00:00  \n\n[5 rows x 22 columns]",
      "text/html": "<div>\n<style scoped>\n    .dataframe tbody tr th:only-of-type {\n        vertical-align: middle;\n    }\n\n    .dataframe tbody tr th {\n        vertical-align: top;\n    }\n\n    .dataframe thead th {\n        text-align: right;\n    }\n</style>\n<table border=\"1\" class=\"dataframe\">\n  <thead>\n    <tr style=\"text-align: right;\">\n      <th></th>\n      <th>HourlyAltimeterSetting</th>\n      <th>HourlyDewPointTemperature</th>\n      <th>HourlyDryBulbTemperature</th>\n      <th>HourlyRelativeHumidity</th>\n      <th>HourlyStationPressure</th>\n      <th>HourlyVisibility</th>\n      <th>HourlyWindSpeed</th>\n      <th>HourlyWindDirection</th>\n      <th>HourlyPrecipitation</th>\n      <th>cloud_coverage</th>\n      <th>...</th>\n      <th>lag3_dew_point</th>\n      <th>lag3_temp</th>\n      <th>lag3_humidity</th>\n      <th>lag3_pressure</th>\n      <th>lag3_visibility</th>\n      <th>lag3_wind_speed</th>\n      <th>lag3_wind_direction</th>\n      <th>lag3_precipitation</th>\n      <th>lag3_cloud_coverage</th>\n      <th>lag3_time</th>\n    </tr>\n    <tr>\n      <th>DATE</th>\n      <th></th>\n      <th></th>\n      <th></th>\n      <th></th>\n      <th></th>\n      <th></th>\n      <th></th>\n      <th></th>\n      <th></th>\n      <th></th>\n      <th></th>\n      <th></th>\n      <th></th>\n      <th></th>\n      <th></th>\n      <th></th>\n      <th></th>\n      <th></th>\n      <th></th>\n      <th></th>\n      <th></th>\n    </tr>\n  </thead>\n  <tbody>\n    <tr>\n      <th>2018-01-29 00:00:00</th>\n      <td>30.3425</td>\n      <td>28.0</td>\n      <td>30.0</td>\n      <td>92.25</td>\n      <td>29.5125</td>\n      <td>5.75</td>\n      <td>14.25</td>\n      <td>327.5</td>\n      <td>0.017317</td>\n      <td>80.0</td>\n      <td>...</td>\n      <td>NaN</td>\n      <td>NaN</td>\n      <td>NaN</td>\n      <td>NaN</td>\n      <td>NaN</td>\n      <td>NaN</td>\n      <td>NaN</td>\n      <td>NaN</td>\n      <td>NaN</td>\n      <td>NaT</td>\n    </tr>\n    <tr>\n      <th>2018-01-29 01:00:00</th>\n      <td>30.3400</td>\n      <td>28.0</td>\n      <td>30.0</td>\n      <td>92.00</td>\n      <td>29.5100</td>\n      <td>3.00</td>\n      <td>10.00</td>\n      <td>340.0</td>\n      <td>0.000000</td>\n      <td>80.0</td>\n      <td>...</td>\n      <td>NaN</td>\n      <td>NaN</td>\n      <td>NaN</td>\n      <td>NaN</td>\n      <td>NaN</td>\n      <td>NaN</td>\n      <td>NaN</td>\n      <td>NaN</td>\n      <td>NaN</td>\n      <td>NaT</td>\n    </tr>\n    <tr>\n      <th>2018-01-29 02:00:00</th>\n      <td>30.3300</td>\n      <td>28.0</td>\n      <td>30.0</td>\n      <td>92.00</td>\n      <td>29.5000</td>\n      <td>5.00</td>\n      <td>13.00</td>\n      <td>340.0</td>\n      <td>0.000000</td>\n      <td>80.0</td>\n      <td>...</td>\n      <td>NaN</td>\n      <td>NaN</td>\n      <td>NaN</td>\n      <td>NaN</td>\n      <td>NaN</td>\n      <td>NaN</td>\n      <td>NaN</td>\n      <td>NaN</td>\n      <td>NaN</td>\n      <td>NaT</td>\n    </tr>\n    <tr>\n      <th>2018-01-29 03:00:00</th>\n      <td>30.3300</td>\n      <td>28.0</td>\n      <td>30.0</td>\n      <td>92.00</td>\n      <td>29.5000</td>\n      <td>6.00</td>\n      <td>13.00</td>\n      <td>320.0</td>\n      <td>0.000000</td>\n      <td>80.0</td>\n      <td>...</td>\n      <td>28.0</td>\n      <td>30.0</td>\n      <td>92.25</td>\n      <td>29.5125</td>\n      <td>5.75</td>\n      <td>14.25</td>\n      <td>327.5</td>\n      <td>0.017317</td>\n      <td>80.0</td>\n      <td>2018-01-29 00:00:00</td>\n    </tr>\n    <tr>\n      <th>2018-01-29 04:00:00</th>\n      <td>30.3300</td>\n      <td>28.0</td>\n      <td>30.0</td>\n      <td>92.50</td>\n      <td>29.5000</td>\n      <td>6.00</td>\n      <td>10.50</td>\n      <td>325.0</td>\n      <td>0.009066</td>\n      <td>80.0</td>\n      <td>...</td>\n      <td>28.0</td>\n      <td>30.0</td>\n      <td>92.00</td>\n      <td>29.5100</td>\n      <td>3.00</td>\n      <td>10.00</td>\n      <td>340.0</td>\n      <td>0.000000</td>\n      <td>80.0</td>\n      <td>2018-01-29 01:00:00</td>\n    </tr>\n  </tbody>\n</table>\n<p>5 rows × 22 columns</p>\n</div>"
     },
     "metadata": {},
     "execution_count": 45
    }
   ],
   "source": [
    "big_weather_df1.head()"
   ]
  },
  {
   "cell_type": "code",
   "execution_count": 46,
   "metadata": {},
   "outputs": [
    {
     "output_type": "execute_result",
     "data": {
      "text/plain": "                           HourlyAltimeterSetting  HourlyDewPointTemperature  \\\nHourlyAltimeterSetting                   1.000000                  -0.434606   \nHourlyDewPointTemperature               -0.434606                   1.000000   \nHourlyDryBulbTemperature                -0.369730                   0.925492   \nHourlyRelativeHumidity                  -0.146624                   0.083132   \nHourlyStationPressure                    0.999904                  -0.434653   \nHourlyVisibility                         0.110492                   0.067593   \nHourlyWindSpeed                         -0.224720                  -0.230326   \nHourlyWindDirection                     -0.062811                  -0.123985   \nHourlyPrecipitation                     -0.131810                   0.101760   \ncloud_coverage                          -0.210783                  -0.072403   \nlag3_altimeter                           0.975846                  -0.418642   \nlag3_dew_point                          -0.440683                   0.986729   \nlag3_temp                               -0.387236                   0.918611   \nlag3_humidity                           -0.116790                   0.069932   \nlag3_pressure                            0.975718                  -0.418689   \nlag3_visibility                          0.113905                   0.063576   \nlag3_wind_speed                         -0.203265                  -0.247077   \nlag3_wind_direction                     -0.004632                  -0.150267   \nlag3_precipitation                      -0.143586                   0.099764   \nlag3_cloud_coverage                     -0.205365                  -0.082900   \n\n                           HourlyDryBulbTemperature  HourlyRelativeHumidity  \\\nHourlyAltimeterSetting                    -0.369730               -0.146624   \nHourlyDewPointTemperature                  0.925492                0.083132   \nHourlyDryBulbTemperature                   1.000000               -0.293323   \nHourlyRelativeHumidity                    -0.293323                1.000000   \nHourlyStationPressure                     -0.369868               -0.146298   \nHourlyVisibility                           0.217558               -0.477416   \nHourlyWindSpeed                           -0.153317               -0.183343   \nHourlyWindDirection                       -0.100561               -0.053699   \nHourlyPrecipitation                        0.034522                0.189210   \ncloud_coverage                            -0.184664                0.327048   \nlag3_altimeter                            -0.338300               -0.183734   \nlag3_dew_point                             0.915897                0.078985   \nlag3_temp                                  0.965362               -0.218888   \nlag3_humidity                             -0.227705                0.788644   \nlag3_pressure                             -0.338369               -0.183613   \nlag3_visibility                            0.191524               -0.398863   \nlag3_wind_speed                           -0.180979               -0.155098   \nlag3_wind_direction                       -0.122538               -0.066780   \nlag3_precipitation                         0.038207                0.170354   \nlag3_cloud_coverage                       -0.194667                0.325048   \n\n                           HourlyStationPressure  HourlyVisibility  \\\nHourlyAltimeterSetting                  0.999904          0.110492   \nHourlyDewPointTemperature              -0.434653          0.067593   \nHourlyDryBulbTemperature               -0.369868          0.217558   \nHourlyRelativeHumidity                 -0.146298         -0.477416   \nHourlyStationPressure                   1.000000          0.110117   \nHourlyVisibility                        0.110117          1.000000   \nHourlyWindSpeed                        -0.224702          0.009911   \nHourlyWindDirection                    -0.063134          0.067353   \nHourlyPrecipitation                    -0.131763         -0.381465   \ncloud_coverage                         -0.210508         -0.385921   \nlag3_altimeter                          0.975743          0.101823   \nlag3_dew_point                         -0.440727          0.071134   \nlag3_temp                              -0.387382          0.200956   \nlag3_humidity                          -0.116401         -0.409129   \nlag3_pressure                           0.975688          0.101628   \nlag3_visibility                         0.113487          0.651922   \nlag3_wind_speed                        -0.203145          0.034287   \nlag3_wind_direction                    -0.004872          0.105882   \nlag3_precipitation                     -0.143454         -0.165008   \nlag3_cloud_coverage                    -0.205152         -0.333767   \n\n                           HourlyWindSpeed  HourlyWindDirection  \\\nHourlyAltimeterSetting           -0.224720            -0.062811   \nHourlyDewPointTemperature        -0.230326            -0.123985   \nHourlyDryBulbTemperature         -0.153317            -0.100561   \nHourlyRelativeHumidity           -0.183343            -0.053699   \nHourlyStationPressure            -0.224702            -0.063134   \nHourlyVisibility                  0.009911             0.067353   \nHourlyWindSpeed                   1.000000             0.233074   \nHourlyWindDirection               0.233074             1.000000   \nHourlyPrecipitation               0.056054            -0.017153   \ncloud_coverage                    0.243868             0.048051   \nlag3_altimeter                   -0.226990            -0.120503   \nlag3_dew_point                   -0.215068            -0.100985   \nlag3_temp                        -0.180905            -0.097983   \nlag3_humidity                    -0.066850             0.002035   \nlag3_pressure                    -0.226871            -0.120805   \nlag3_visibility                  -0.045120             0.021333   \nlag3_wind_speed                   0.739300             0.203992   \nlag3_wind_direction               0.114943             0.602288   \nlag3_precipitation                0.029438            -0.017722   \nlag3_cloud_coverage               0.236718             0.077186   \n\n                           HourlyPrecipitation  cloud_coverage  \\\nHourlyAltimeterSetting               -0.131810       -0.210783   \nHourlyDewPointTemperature             0.101760       -0.072403   \nHourlyDryBulbTemperature              0.034522       -0.184664   \nHourlyRelativeHumidity                0.189210        0.327048   \nHourlyStationPressure                -0.131763       -0.210508   \nHourlyVisibility                     -0.381465       -0.385921   \nHourlyWindSpeed                       0.056054        0.243868   \nHourlyWindDirection                  -0.017153        0.048051   \nHourlyPrecipitation                   1.000000        0.222786   \ncloud_coverage                        0.222786        1.000000   \nlag3_altimeter                       -0.124373       -0.211195   \nlag3_dew_point                        0.101167       -0.077303   \nlag3_temp                             0.058920       -0.186336   \nlag3_humidity                         0.112931        0.320372   \nlag3_pressure                        -0.124382       -0.210831   \nlag3_visibility                      -0.166389       -0.359529   \nlag3_wind_speed                       0.033438        0.209171   \nlag3_wind_direction                  -0.052643       -0.003940   \nlag3_precipitation                    0.157707        0.152706   \nlag3_cloud_coverage                   0.153530        0.698110   \n\n                           lag3_altimeter  lag3_dew_point  lag3_temp  \\\nHourlyAltimeterSetting           0.975846       -0.440683  -0.387236   \nHourlyDewPointTemperature       -0.418642        0.986729   0.918611   \nHourlyDryBulbTemperature        -0.338300        0.915897   0.965362   \nHourlyRelativeHumidity          -0.183734        0.078985  -0.218888   \nHourlyStationPressure            0.975743       -0.440727  -0.387382   \nHourlyVisibility                 0.101823        0.071134   0.200956   \nHourlyWindSpeed                 -0.226990       -0.215068  -0.180905   \nHourlyWindDirection             -0.120503       -0.100985  -0.097983   \nHourlyPrecipitation             -0.124373        0.101167   0.058920   \ncloud_coverage                  -0.211195       -0.077303  -0.186336   \nlag3_altimeter                   1.000000       -0.434647  -0.369748   \nlag3_dew_point                  -0.434647        1.000000   0.925488   \nlag3_temp                       -0.369748        0.925488   1.000000   \nlag3_humidity                   -0.146627        0.083018  -0.293442   \nlag3_pressure                    0.999904       -0.434694  -0.369886   \nlag3_visibility                  0.110496        0.067517   0.217513   \nlag3_wind_speed                 -0.224774       -0.230100  -0.153140   \nlag3_wind_direction             -0.062831       -0.123720  -0.100366   \nlag3_precipitation              -0.131811        0.101804   0.034548   \nlag3_cloud_coverage             -0.210799       -0.072256  -0.184569   \n\n                           lag3_humidity  lag3_pressure  lag3_visibility  \\\nHourlyAltimeterSetting         -0.116790       0.975718         0.113905   \nHourlyDewPointTemperature       0.069932      -0.418689         0.063576   \nHourlyDryBulbTemperature       -0.227705      -0.338369         0.191524   \nHourlyRelativeHumidity          0.788644      -0.183613        -0.398863   \nHourlyStationPressure          -0.116401       0.975688         0.113487   \nHourlyVisibility               -0.409129       0.101628         0.651922   \nHourlyWindSpeed                -0.066850      -0.226871        -0.045120   \nHourlyWindDirection             0.002035      -0.120805         0.021333   \nHourlyPrecipitation             0.112931      -0.124382        -0.166389   \ncloud_coverage                  0.320372      -0.210831        -0.359529   \nlag3_altimeter                 -0.146627       0.999904         0.110496   \nlag3_dew_point                  0.083018      -0.434694         0.067517   \nlag3_temp                      -0.293442      -0.369886         0.217513   \nlag3_humidity                   1.000000      -0.146301        -0.477492   \nlag3_pressure                  -0.146301       1.000000         0.110120   \nlag3_visibility                -0.477492       0.110120         1.000000   \nlag3_wind_speed                -0.183211      -0.224756         0.010032   \nlag3_wind_direction            -0.053531      -0.063153         0.067490   \nlag3_precipitation              0.189238      -0.131764        -0.381459   \nlag3_cloud_coverage             0.327175      -0.210523        -0.385887   \n\n                           lag3_wind_speed  lag3_wind_direction  \\\nHourlyAltimeterSetting           -0.203265            -0.004632   \nHourlyDewPointTemperature        -0.247077            -0.150267   \nHourlyDryBulbTemperature         -0.180979            -0.122538   \nHourlyRelativeHumidity           -0.155098            -0.066780   \nHourlyStationPressure            -0.203145            -0.004872   \nHourlyVisibility                  0.034287             0.105882   \nHourlyWindSpeed                   0.739300             0.114943   \nHourlyWindDirection               0.203992             0.602288   \nHourlyPrecipitation               0.033438            -0.052643   \ncloud_coverage                    0.209171            -0.003940   \nlag3_altimeter                   -0.224774            -0.062831   \nlag3_dew_point                   -0.230100            -0.123720   \nlag3_temp                        -0.153140            -0.100366   \nlag3_humidity                    -0.183211            -0.053531   \nlag3_pressure                    -0.224756            -0.063153   \nlag3_visibility                   0.010032             0.067490   \nlag3_wind_speed                   1.000000             0.232740   \nlag3_wind_direction               0.232740             1.000000   \nlag3_precipitation                0.056017            -0.017206   \nlag3_cloud_coverage               0.243708             0.047833   \n\n                           lag3_precipitation  lag3_cloud_coverage  \nHourlyAltimeterSetting              -0.143586            -0.205365  \nHourlyDewPointTemperature            0.099764            -0.082900  \nHourlyDryBulbTemperature             0.038207            -0.194667  \nHourlyRelativeHumidity               0.170354             0.325048  \nHourlyStationPressure               -0.143454            -0.205152  \nHourlyVisibility                    -0.165008            -0.333767  \nHourlyWindSpeed                      0.029438             0.236718  \nHourlyWindDirection                 -0.017722             0.077186  \nHourlyPrecipitation                  0.157707             0.153530  \ncloud_coverage                       0.152706             0.698110  \nlag3_altimeter                      -0.131811            -0.210799  \nlag3_dew_point                       0.101804            -0.072256  \nlag3_temp                            0.034548            -0.184569  \nlag3_humidity                        0.189238             0.327175  \nlag3_pressure                       -0.131764            -0.210523  \nlag3_visibility                     -0.381459            -0.385887  \nlag3_wind_speed                      0.056017             0.243708  \nlag3_wind_direction                 -0.017206             0.047833  \nlag3_precipitation                   1.000000             0.222775  \nlag3_cloud_coverage                  0.222775             1.000000  ",
      "text/html": "<div>\n<style scoped>\n    .dataframe tbody tr th:only-of-type {\n        vertical-align: middle;\n    }\n\n    .dataframe tbody tr th {\n        vertical-align: top;\n    }\n\n    .dataframe thead th {\n        text-align: right;\n    }\n</style>\n<table border=\"1\" class=\"dataframe\">\n  <thead>\n    <tr style=\"text-align: right;\">\n      <th></th>\n      <th>HourlyAltimeterSetting</th>\n      <th>HourlyDewPointTemperature</th>\n      <th>HourlyDryBulbTemperature</th>\n      <th>HourlyRelativeHumidity</th>\n      <th>HourlyStationPressure</th>\n      <th>HourlyVisibility</th>\n      <th>HourlyWindSpeed</th>\n      <th>HourlyWindDirection</th>\n      <th>HourlyPrecipitation</th>\n      <th>cloud_coverage</th>\n      <th>lag3_altimeter</th>\n      <th>lag3_dew_point</th>\n      <th>lag3_temp</th>\n      <th>lag3_humidity</th>\n      <th>lag3_pressure</th>\n      <th>lag3_visibility</th>\n      <th>lag3_wind_speed</th>\n      <th>lag3_wind_direction</th>\n      <th>lag3_precipitation</th>\n      <th>lag3_cloud_coverage</th>\n    </tr>\n  </thead>\n  <tbody>\n    <tr>\n      <th>HourlyAltimeterSetting</th>\n      <td>1.000000</td>\n      <td>-0.434606</td>\n      <td>-0.369730</td>\n      <td>-0.146624</td>\n      <td>0.999904</td>\n      <td>0.110492</td>\n      <td>-0.224720</td>\n      <td>-0.062811</td>\n      <td>-0.131810</td>\n      <td>-0.210783</td>\n      <td>0.975846</td>\n      <td>-0.440683</td>\n      <td>-0.387236</td>\n      <td>-0.116790</td>\n      <td>0.975718</td>\n      <td>0.113905</td>\n      <td>-0.203265</td>\n      <td>-0.004632</td>\n      <td>-0.143586</td>\n      <td>-0.205365</td>\n    </tr>\n    <tr>\n      <th>HourlyDewPointTemperature</th>\n      <td>-0.434606</td>\n      <td>1.000000</td>\n      <td>0.925492</td>\n      <td>0.083132</td>\n      <td>-0.434653</td>\n      <td>0.067593</td>\n      <td>-0.230326</td>\n      <td>-0.123985</td>\n      <td>0.101760</td>\n      <td>-0.072403</td>\n      <td>-0.418642</td>\n      <td>0.986729</td>\n      <td>0.918611</td>\n      <td>0.069932</td>\n      <td>-0.418689</td>\n      <td>0.063576</td>\n      <td>-0.247077</td>\n      <td>-0.150267</td>\n      <td>0.099764</td>\n      <td>-0.082900</td>\n    </tr>\n    <tr>\n      <th>HourlyDryBulbTemperature</th>\n      <td>-0.369730</td>\n      <td>0.925492</td>\n      <td>1.000000</td>\n      <td>-0.293323</td>\n      <td>-0.369868</td>\n      <td>0.217558</td>\n      <td>-0.153317</td>\n      <td>-0.100561</td>\n      <td>0.034522</td>\n      <td>-0.184664</td>\n      <td>-0.338300</td>\n      <td>0.915897</td>\n      <td>0.965362</td>\n      <td>-0.227705</td>\n      <td>-0.338369</td>\n      <td>0.191524</td>\n      <td>-0.180979</td>\n      <td>-0.122538</td>\n      <td>0.038207</td>\n      <td>-0.194667</td>\n    </tr>\n    <tr>\n      <th>HourlyRelativeHumidity</th>\n      <td>-0.146624</td>\n      <td>0.083132</td>\n      <td>-0.293323</td>\n      <td>1.000000</td>\n      <td>-0.146298</td>\n      <td>-0.477416</td>\n      <td>-0.183343</td>\n      <td>-0.053699</td>\n      <td>0.189210</td>\n      <td>0.327048</td>\n      <td>-0.183734</td>\n      <td>0.078985</td>\n      <td>-0.218888</td>\n      <td>0.788644</td>\n      <td>-0.183613</td>\n      <td>-0.398863</td>\n      <td>-0.155098</td>\n      <td>-0.066780</td>\n      <td>0.170354</td>\n      <td>0.325048</td>\n    </tr>\n    <tr>\n      <th>HourlyStationPressure</th>\n      <td>0.999904</td>\n      <td>-0.434653</td>\n      <td>-0.369868</td>\n      <td>-0.146298</td>\n      <td>1.000000</td>\n      <td>0.110117</td>\n      <td>-0.224702</td>\n      <td>-0.063134</td>\n      <td>-0.131763</td>\n      <td>-0.210508</td>\n      <td>0.975743</td>\n      <td>-0.440727</td>\n      <td>-0.387382</td>\n      <td>-0.116401</td>\n      <td>0.975688</td>\n      <td>0.113487</td>\n      <td>-0.203145</td>\n      <td>-0.004872</td>\n      <td>-0.143454</td>\n      <td>-0.205152</td>\n    </tr>\n    <tr>\n      <th>HourlyVisibility</th>\n      <td>0.110492</td>\n      <td>0.067593</td>\n      <td>0.217558</td>\n      <td>-0.477416</td>\n      <td>0.110117</td>\n      <td>1.000000</td>\n      <td>0.009911</td>\n      <td>0.067353</td>\n      <td>-0.381465</td>\n      <td>-0.385921</td>\n      <td>0.101823</td>\n      <td>0.071134</td>\n      <td>0.200956</td>\n      <td>-0.409129</td>\n      <td>0.101628</td>\n      <td>0.651922</td>\n      <td>0.034287</td>\n      <td>0.105882</td>\n      <td>-0.165008</td>\n      <td>-0.333767</td>\n    </tr>\n    <tr>\n      <th>HourlyWindSpeed</th>\n      <td>-0.224720</td>\n      <td>-0.230326</td>\n      <td>-0.153317</td>\n      <td>-0.183343</td>\n      <td>-0.224702</td>\n      <td>0.009911</td>\n      <td>1.000000</td>\n      <td>0.233074</td>\n      <td>0.056054</td>\n      <td>0.243868</td>\n      <td>-0.226990</td>\n      <td>-0.215068</td>\n      <td>-0.180905</td>\n      <td>-0.066850</td>\n      <td>-0.226871</td>\n      <td>-0.045120</td>\n      <td>0.739300</td>\n      <td>0.114943</td>\n      <td>0.029438</td>\n      <td>0.236718</td>\n    </tr>\n    <tr>\n      <th>HourlyWindDirection</th>\n      <td>-0.062811</td>\n      <td>-0.123985</td>\n      <td>-0.100561</td>\n      <td>-0.053699</td>\n      <td>-0.063134</td>\n      <td>0.067353</td>\n      <td>0.233074</td>\n      <td>1.000000</td>\n      <td>-0.017153</td>\n      <td>0.048051</td>\n      <td>-0.120503</td>\n      <td>-0.100985</td>\n      <td>-0.097983</td>\n      <td>0.002035</td>\n      <td>-0.120805</td>\n      <td>0.021333</td>\n      <td>0.203992</td>\n      <td>0.602288</td>\n      <td>-0.017722</td>\n      <td>0.077186</td>\n    </tr>\n    <tr>\n      <th>HourlyPrecipitation</th>\n      <td>-0.131810</td>\n      <td>0.101760</td>\n      <td>0.034522</td>\n      <td>0.189210</td>\n      <td>-0.131763</td>\n      <td>-0.381465</td>\n      <td>0.056054</td>\n      <td>-0.017153</td>\n      <td>1.000000</td>\n      <td>0.222786</td>\n      <td>-0.124373</td>\n      <td>0.101167</td>\n      <td>0.058920</td>\n      <td>0.112931</td>\n      <td>-0.124382</td>\n      <td>-0.166389</td>\n      <td>0.033438</td>\n      <td>-0.052643</td>\n      <td>0.157707</td>\n      <td>0.153530</td>\n    </tr>\n    <tr>\n      <th>cloud_coverage</th>\n      <td>-0.210783</td>\n      <td>-0.072403</td>\n      <td>-0.184664</td>\n      <td>0.327048</td>\n      <td>-0.210508</td>\n      <td>-0.385921</td>\n      <td>0.243868</td>\n      <td>0.048051</td>\n      <td>0.222786</td>\n      <td>1.000000</td>\n      <td>-0.211195</td>\n      <td>-0.077303</td>\n      <td>-0.186336</td>\n      <td>0.320372</td>\n      <td>-0.210831</td>\n      <td>-0.359529</td>\n      <td>0.209171</td>\n      <td>-0.003940</td>\n      <td>0.152706</td>\n      <td>0.698110</td>\n    </tr>\n    <tr>\n      <th>lag3_altimeter</th>\n      <td>0.975846</td>\n      <td>-0.418642</td>\n      <td>-0.338300</td>\n      <td>-0.183734</td>\n      <td>0.975743</td>\n      <td>0.101823</td>\n      <td>-0.226990</td>\n      <td>-0.120503</td>\n      <td>-0.124373</td>\n      <td>-0.211195</td>\n      <td>1.000000</td>\n      <td>-0.434647</td>\n      <td>-0.369748</td>\n      <td>-0.146627</td>\n      <td>0.999904</td>\n      <td>0.110496</td>\n      <td>-0.224774</td>\n      <td>-0.062831</td>\n      <td>-0.131811</td>\n      <td>-0.210799</td>\n    </tr>\n    <tr>\n      <th>lag3_dew_point</th>\n      <td>-0.440683</td>\n      <td>0.986729</td>\n      <td>0.915897</td>\n      <td>0.078985</td>\n      <td>-0.440727</td>\n      <td>0.071134</td>\n      <td>-0.215068</td>\n      <td>-0.100985</td>\n      <td>0.101167</td>\n      <td>-0.077303</td>\n      <td>-0.434647</td>\n      <td>1.000000</td>\n      <td>0.925488</td>\n      <td>0.083018</td>\n      <td>-0.434694</td>\n      <td>0.067517</td>\n      <td>-0.230100</td>\n      <td>-0.123720</td>\n      <td>0.101804</td>\n      <td>-0.072256</td>\n    </tr>\n    <tr>\n      <th>lag3_temp</th>\n      <td>-0.387236</td>\n      <td>0.918611</td>\n      <td>0.965362</td>\n      <td>-0.218888</td>\n      <td>-0.387382</td>\n      <td>0.200956</td>\n      <td>-0.180905</td>\n      <td>-0.097983</td>\n      <td>0.058920</td>\n      <td>-0.186336</td>\n      <td>-0.369748</td>\n      <td>0.925488</td>\n      <td>1.000000</td>\n      <td>-0.293442</td>\n      <td>-0.369886</td>\n      <td>0.217513</td>\n      <td>-0.153140</td>\n      <td>-0.100366</td>\n      <td>0.034548</td>\n      <td>-0.184569</td>\n    </tr>\n    <tr>\n      <th>lag3_humidity</th>\n      <td>-0.116790</td>\n      <td>0.069932</td>\n      <td>-0.227705</td>\n      <td>0.788644</td>\n      <td>-0.116401</td>\n      <td>-0.409129</td>\n      <td>-0.066850</td>\n      <td>0.002035</td>\n      <td>0.112931</td>\n      <td>0.320372</td>\n      <td>-0.146627</td>\n      <td>0.083018</td>\n      <td>-0.293442</td>\n      <td>1.000000</td>\n      <td>-0.146301</td>\n      <td>-0.477492</td>\n      <td>-0.183211</td>\n      <td>-0.053531</td>\n      <td>0.189238</td>\n      <td>0.327175</td>\n    </tr>\n    <tr>\n      <th>lag3_pressure</th>\n      <td>0.975718</td>\n      <td>-0.418689</td>\n      <td>-0.338369</td>\n      <td>-0.183613</td>\n      <td>0.975688</td>\n      <td>0.101628</td>\n      <td>-0.226871</td>\n      <td>-0.120805</td>\n      <td>-0.124382</td>\n      <td>-0.210831</td>\n      <td>0.999904</td>\n      <td>-0.434694</td>\n      <td>-0.369886</td>\n      <td>-0.146301</td>\n      <td>1.000000</td>\n      <td>0.110120</td>\n      <td>-0.224756</td>\n      <td>-0.063153</td>\n      <td>-0.131764</td>\n      <td>-0.210523</td>\n    </tr>\n    <tr>\n      <th>lag3_visibility</th>\n      <td>0.113905</td>\n      <td>0.063576</td>\n      <td>0.191524</td>\n      <td>-0.398863</td>\n      <td>0.113487</td>\n      <td>0.651922</td>\n      <td>-0.045120</td>\n      <td>0.021333</td>\n      <td>-0.166389</td>\n      <td>-0.359529</td>\n      <td>0.110496</td>\n      <td>0.067517</td>\n      <td>0.217513</td>\n      <td>-0.477492</td>\n      <td>0.110120</td>\n      <td>1.000000</td>\n      <td>0.010032</td>\n      <td>0.067490</td>\n      <td>-0.381459</td>\n      <td>-0.385887</td>\n    </tr>\n    <tr>\n      <th>lag3_wind_speed</th>\n      <td>-0.203265</td>\n      <td>-0.247077</td>\n      <td>-0.180979</td>\n      <td>-0.155098</td>\n      <td>-0.203145</td>\n      <td>0.034287</td>\n      <td>0.739300</td>\n      <td>0.203992</td>\n      <td>0.033438</td>\n      <td>0.209171</td>\n      <td>-0.224774</td>\n      <td>-0.230100</td>\n      <td>-0.153140</td>\n      <td>-0.183211</td>\n      <td>-0.224756</td>\n      <td>0.010032</td>\n      <td>1.000000</td>\n      <td>0.232740</td>\n      <td>0.056017</td>\n      <td>0.243708</td>\n    </tr>\n    <tr>\n      <th>lag3_wind_direction</th>\n      <td>-0.004632</td>\n      <td>-0.150267</td>\n      <td>-0.122538</td>\n      <td>-0.066780</td>\n      <td>-0.004872</td>\n      <td>0.105882</td>\n      <td>0.114943</td>\n      <td>0.602288</td>\n      <td>-0.052643</td>\n      <td>-0.003940</td>\n      <td>-0.062831</td>\n      <td>-0.123720</td>\n      <td>-0.100366</td>\n      <td>-0.053531</td>\n      <td>-0.063153</td>\n      <td>0.067490</td>\n      <td>0.232740</td>\n      <td>1.000000</td>\n      <td>-0.017206</td>\n      <td>0.047833</td>\n    </tr>\n    <tr>\n      <th>lag3_precipitation</th>\n      <td>-0.143586</td>\n      <td>0.099764</td>\n      <td>0.038207</td>\n      <td>0.170354</td>\n      <td>-0.143454</td>\n      <td>-0.165008</td>\n      <td>0.029438</td>\n      <td>-0.017722</td>\n      <td>0.157707</td>\n      <td>0.152706</td>\n      <td>-0.131811</td>\n      <td>0.101804</td>\n      <td>0.034548</td>\n      <td>0.189238</td>\n      <td>-0.131764</td>\n      <td>-0.381459</td>\n      <td>0.056017</td>\n      <td>-0.017206</td>\n      <td>1.000000</td>\n      <td>0.222775</td>\n    </tr>\n    <tr>\n      <th>lag3_cloud_coverage</th>\n      <td>-0.205365</td>\n      <td>-0.082900</td>\n      <td>-0.194667</td>\n      <td>0.325048</td>\n      <td>-0.205152</td>\n      <td>-0.333767</td>\n      <td>0.236718</td>\n      <td>0.077186</td>\n      <td>0.153530</td>\n      <td>0.698110</td>\n      <td>-0.210799</td>\n      <td>-0.072256</td>\n      <td>-0.184569</td>\n      <td>0.327175</td>\n      <td>-0.210523</td>\n      <td>-0.385887</td>\n      <td>0.243708</td>\n      <td>0.047833</td>\n      <td>0.222775</td>\n      <td>1.000000</td>\n    </tr>\n  </tbody>\n</table>\n</div>"
     },
     "metadata": {},
     "execution_count": 46
    }
   ],
   "source": [
    "big_weather_df1.corr()"
   ]
  },
  {
   "cell_type": "markdown",
   "metadata": {},
   "source": [
    "## NOTE\n",
    "Different weather conditions are pretty correlated by themselves, but the same weather conditions measured within a short time frame (3 hours) are extremely correlated to one another. For that reason when i continue model iterations I will need to include I will perform PCA to account for this. I will also likely drop a few features that are either similar to another or don't influence energy production very much. BUt for now, I want to check the model on all of these features to ensure the concept checks out. \n",
    "\n",
    "Next I will combine this big weather dataframe with the energy dataframe and perform the same process in previous iterations. Separate features and target, train test split, scale, and model"
   ]
  },
  {
   "cell_type": "code",
   "execution_count": 47,
   "metadata": {},
   "outputs": [],
   "source": [
    "# combine energy and weather data\n",
    "base_df3 = pd.concat([energy, big_weather_df1.shift(3)], axis=1)"
   ]
  },
  {
   "cell_type": "code",
   "execution_count": 48,
   "metadata": {},
   "outputs": [
    {
     "output_type": "execute_result",
     "data": {
      "text/plain": "                     nexus_meter  hour  week  HourlyAltimeterSetting  \\\nDATE                                                                   \n2018-01-29 00:00:00          NaN   NaN   NaN                     NaN   \n2018-01-29 01:00:00          NaN   NaN   NaN                     NaN   \n2018-01-29 02:00:00          NaN   NaN   NaN                     NaN   \n2018-01-29 03:00:00          NaN   NaN   NaN                 30.3425   \n2018-01-29 04:00:00          NaN   NaN   NaN                 30.3400   \n\n                     HourlyDewPointTemperature  HourlyDryBulbTemperature  \\\nDATE                                                                       \n2018-01-29 00:00:00                        NaN                       NaN   \n2018-01-29 01:00:00                        NaN                       NaN   \n2018-01-29 02:00:00                        NaN                       NaN   \n2018-01-29 03:00:00                       28.0                      30.0   \n2018-01-29 04:00:00                       28.0                      30.0   \n\n                     HourlyRelativeHumidity  HourlyStationPressure  \\\nDATE                                                                 \n2018-01-29 00:00:00                     NaN                    NaN   \n2018-01-29 01:00:00                     NaN                    NaN   \n2018-01-29 02:00:00                     NaN                    NaN   \n2018-01-29 03:00:00                   92.25                29.5125   \n2018-01-29 04:00:00                   92.00                29.5100   \n\n                     HourlyVisibility  HourlyWindSpeed  ...  lag3_dew_point  \\\nDATE                                                    ...                   \n2018-01-29 00:00:00               NaN              NaN  ...             NaN   \n2018-01-29 01:00:00               NaN              NaN  ...             NaN   \n2018-01-29 02:00:00               NaN              NaN  ...             NaN   \n2018-01-29 03:00:00              5.75            14.25  ...             NaN   \n2018-01-29 04:00:00              3.00            10.00  ...             NaN   \n\n                     lag3_temp  lag3_humidity lag3_pressure  lag3_visibility  \\\nDATE                                                                           \n2018-01-29 00:00:00        NaN            NaN           NaN              NaN   \n2018-01-29 01:00:00        NaN            NaN           NaN              NaN   \n2018-01-29 02:00:00        NaN            NaN           NaN              NaN   \n2018-01-29 03:00:00        NaN            NaN           NaN              NaN   \n2018-01-29 04:00:00        NaN            NaN           NaN              NaN   \n\n                     lag3_wind_speed  lag3_wind_direction  lag3_precipitation  \\\nDATE                                                                            \n2018-01-29 00:00:00              NaN                  NaN                 NaN   \n2018-01-29 01:00:00              NaN                  NaN                 NaN   \n2018-01-29 02:00:00              NaN                  NaN                 NaN   \n2018-01-29 03:00:00              NaN                  NaN                 NaN   \n2018-01-29 04:00:00              NaN                  NaN                 NaN   \n\n                     lag3_cloud_coverage  lag3_time  \nDATE                                                 \n2018-01-29 00:00:00                  NaN        NaT  \n2018-01-29 01:00:00                  NaN        NaT  \n2018-01-29 02:00:00                  NaN        NaT  \n2018-01-29 03:00:00                  NaN        NaT  \n2018-01-29 04:00:00                  NaN        NaT  \n\n[5 rows x 25 columns]",
      "text/html": "<div>\n<style scoped>\n    .dataframe tbody tr th:only-of-type {\n        vertical-align: middle;\n    }\n\n    .dataframe tbody tr th {\n        vertical-align: top;\n    }\n\n    .dataframe thead th {\n        text-align: right;\n    }\n</style>\n<table border=\"1\" class=\"dataframe\">\n  <thead>\n    <tr style=\"text-align: right;\">\n      <th></th>\n      <th>nexus_meter</th>\n      <th>hour</th>\n      <th>week</th>\n      <th>HourlyAltimeterSetting</th>\n      <th>HourlyDewPointTemperature</th>\n      <th>HourlyDryBulbTemperature</th>\n      <th>HourlyRelativeHumidity</th>\n      <th>HourlyStationPressure</th>\n      <th>HourlyVisibility</th>\n      <th>HourlyWindSpeed</th>\n      <th>...</th>\n      <th>lag3_dew_point</th>\n      <th>lag3_temp</th>\n      <th>lag3_humidity</th>\n      <th>lag3_pressure</th>\n      <th>lag3_visibility</th>\n      <th>lag3_wind_speed</th>\n      <th>lag3_wind_direction</th>\n      <th>lag3_precipitation</th>\n      <th>lag3_cloud_coverage</th>\n      <th>lag3_time</th>\n    </tr>\n    <tr>\n      <th>DATE</th>\n      <th></th>\n      <th></th>\n      <th></th>\n      <th></th>\n      <th></th>\n      <th></th>\n      <th></th>\n      <th></th>\n      <th></th>\n      <th></th>\n      <th></th>\n      <th></th>\n      <th></th>\n      <th></th>\n      <th></th>\n      <th></th>\n      <th></th>\n      <th></th>\n      <th></th>\n      <th></th>\n      <th></th>\n    </tr>\n  </thead>\n  <tbody>\n    <tr>\n      <th>2018-01-29 00:00:00</th>\n      <td>NaN</td>\n      <td>NaN</td>\n      <td>NaN</td>\n      <td>NaN</td>\n      <td>NaN</td>\n      <td>NaN</td>\n      <td>NaN</td>\n      <td>NaN</td>\n      <td>NaN</td>\n      <td>NaN</td>\n      <td>...</td>\n      <td>NaN</td>\n      <td>NaN</td>\n      <td>NaN</td>\n      <td>NaN</td>\n      <td>NaN</td>\n      <td>NaN</td>\n      <td>NaN</td>\n      <td>NaN</td>\n      <td>NaN</td>\n      <td>NaT</td>\n    </tr>\n    <tr>\n      <th>2018-01-29 01:00:00</th>\n      <td>NaN</td>\n      <td>NaN</td>\n      <td>NaN</td>\n      <td>NaN</td>\n      <td>NaN</td>\n      <td>NaN</td>\n      <td>NaN</td>\n      <td>NaN</td>\n      <td>NaN</td>\n      <td>NaN</td>\n      <td>...</td>\n      <td>NaN</td>\n      <td>NaN</td>\n      <td>NaN</td>\n      <td>NaN</td>\n      <td>NaN</td>\n      <td>NaN</td>\n      <td>NaN</td>\n      <td>NaN</td>\n      <td>NaN</td>\n      <td>NaT</td>\n    </tr>\n    <tr>\n      <th>2018-01-29 02:00:00</th>\n      <td>NaN</td>\n      <td>NaN</td>\n      <td>NaN</td>\n      <td>NaN</td>\n      <td>NaN</td>\n      <td>NaN</td>\n      <td>NaN</td>\n      <td>NaN</td>\n      <td>NaN</td>\n      <td>NaN</td>\n      <td>...</td>\n      <td>NaN</td>\n      <td>NaN</td>\n      <td>NaN</td>\n      <td>NaN</td>\n      <td>NaN</td>\n      <td>NaN</td>\n      <td>NaN</td>\n      <td>NaN</td>\n      <td>NaN</td>\n      <td>NaT</td>\n    </tr>\n    <tr>\n      <th>2018-01-29 03:00:00</th>\n      <td>NaN</td>\n      <td>NaN</td>\n      <td>NaN</td>\n      <td>30.3425</td>\n      <td>28.0</td>\n      <td>30.0</td>\n      <td>92.25</td>\n      <td>29.5125</td>\n      <td>5.75</td>\n      <td>14.25</td>\n      <td>...</td>\n      <td>NaN</td>\n      <td>NaN</td>\n      <td>NaN</td>\n      <td>NaN</td>\n      <td>NaN</td>\n      <td>NaN</td>\n      <td>NaN</td>\n      <td>NaN</td>\n      <td>NaN</td>\n      <td>NaT</td>\n    </tr>\n    <tr>\n      <th>2018-01-29 04:00:00</th>\n      <td>NaN</td>\n      <td>NaN</td>\n      <td>NaN</td>\n      <td>30.3400</td>\n      <td>28.0</td>\n      <td>30.0</td>\n      <td>92.00</td>\n      <td>29.5100</td>\n      <td>3.00</td>\n      <td>10.00</td>\n      <td>...</td>\n      <td>NaN</td>\n      <td>NaN</td>\n      <td>NaN</td>\n      <td>NaN</td>\n      <td>NaN</td>\n      <td>NaN</td>\n      <td>NaN</td>\n      <td>NaN</td>\n      <td>NaN</td>\n      <td>NaT</td>\n    </tr>\n  </tbody>\n</table>\n<p>5 rows × 25 columns</p>\n</div>"
     },
     "metadata": {},
     "execution_count": 48
    }
   ],
   "source": [
    "base_df3.head()"
   ]
  },
  {
   "cell_type": "code",
   "execution_count": 49,
   "metadata": {},
   "outputs": [],
   "source": [
    "# drop first 24 rows\n",
    "base_df3.drop(base_df3[:'2019-01-29'].index, axis=0, inplace=True)"
   ]
  },
  {
   "cell_type": "code",
   "execution_count": 50,
   "metadata": {},
   "outputs": [
    {
     "output_type": "execute_result",
     "data": {
      "text/plain": "                     nexus_meter  hour  week  HourlyAltimeterSetting  \\\nDATE                                                                   \n2019-01-30 00:00:00        -48.9   0.0   5.0               30.110000   \n2019-01-30 01:00:00        -50.8   1.0   5.0               30.100000   \n2019-01-30 02:00:00        -50.2   2.0   5.0               30.110000   \n2019-01-30 03:00:00        -75.0   3.0   5.0               30.110000   \n2019-01-30 04:00:00       -110.2   4.0   5.0               30.107500   \n2019-01-30 05:00:00        -97.8   5.0   5.0               30.130000   \n2019-01-30 06:00:00        -98.6   6.0   5.0               30.180000   \n2019-01-30 07:00:00       1013.2   7.0   5.0               30.220000   \n2019-01-30 08:00:00       1002.2   8.0   5.0               30.246667   \n2019-01-30 09:00:00        459.0   9.0   5.0               30.276667   \n\n                     HourlyDewPointTemperature  HourlyDryBulbTemperature  \\\nDATE                                                                       \n2019-01-30 00:00:00                  -9.000000                  1.000000   \n2019-01-30 01:00:00                  -9.000000                  0.000000   \n2019-01-30 02:00:00                 -10.000000                  0.000000   \n2019-01-30 03:00:00                  -7.500000                 -1.000000   \n2019-01-30 04:00:00                 -11.000000                 -2.250000   \n2019-01-30 05:00:00                 -13.500000                 -4.500000   \n2019-01-30 06:00:00                 -19.000000                 -8.500000   \n2019-01-30 07:00:00                 -23.000000                -11.000000   \n2019-01-30 08:00:00                 -24.333333                -12.666667   \n2019-01-30 09:00:00                 -26.000000                -14.333333   \n\n                     HourlyRelativeHumidity  HourlyStationPressure  \\\nDATE                                                                 \n2019-01-30 00:00:00               62.000000              29.290000   \n2019-01-30 01:00:00               65.000000              29.280000   \n2019-01-30 02:00:00               62.000000              29.290000   \n2019-01-30 03:00:00               73.500000              29.290000   \n2019-01-30 04:00:00               65.750000              29.287500   \n2019-01-30 05:00:00               65.000000              29.310000   \n2019-01-30 06:00:00               59.500000              29.360000   \n2019-01-30 07:00:00               54.000000              29.390000   \n2019-01-30 08:00:00               55.000000              29.416667   \n2019-01-30 09:00:00               54.333333              29.453333   \n\n                     HourlyVisibility  HourlyWindSpeed  ...  lag3_dew_point  \\\nDATE                                                    ...                   \n2019-01-30 00:00:00         10.000000        20.000000  ...            -7.0   \n2019-01-30 01:00:00         10.000000        14.000000  ...            -9.0   \n2019-01-30 02:00:00         10.000000        24.000000  ...            -9.0   \n2019-01-30 03:00:00          5.250000        21.000000  ...            -9.0   \n2019-01-30 04:00:00          7.500000        25.750000  ...            -9.0   \n2019-01-30 05:00:00          6.500000        25.500000  ...           -10.0   \n2019-01-30 06:00:00         10.000000        26.500000  ...            -7.5   \n2019-01-30 07:00:00         10.000000        24.000000  ...           -11.0   \n2019-01-30 08:00:00         10.000000        29.333333  ...           -13.5   \n2019-01-30 09:00:00          9.666667        23.333333  ...           -19.0   \n\n                     lag3_temp  lag3_humidity lag3_pressure  lag3_visibility  \\\nDATE                                                                           \n2019-01-30 00:00:00       4.00          60.00       29.2800            10.00   \n2019-01-30 01:00:00       2.00          59.00       29.2800            10.00   \n2019-01-30 02:00:00       2.00          59.00       29.2900            10.00   \n2019-01-30 03:00:00       1.00          62.00       29.2900            10.00   \n2019-01-30 04:00:00       0.00          65.00       29.2800            10.00   \n2019-01-30 05:00:00       0.00          62.00       29.2900            10.00   \n2019-01-30 06:00:00      -1.00          73.50       29.2900             5.25   \n2019-01-30 07:00:00      -2.25          65.75       29.2875             7.50   \n2019-01-30 08:00:00      -4.50          65.00       29.3100             6.50   \n2019-01-30 09:00:00      -8.50          59.50       29.3600            10.00   \n\n                     lag3_wind_speed  lag3_wind_direction  lag3_precipitation  \\\nDATE                                                                            \n2019-01-30 00:00:00            17.00                300.0            0.000000   \n2019-01-30 01:00:00            20.00                310.0            0.000000   \n2019-01-30 02:00:00            22.00                300.0            0.000000   \n2019-01-30 03:00:00            20.00                300.0            0.000000   \n2019-01-30 04:00:00            14.00                300.0            0.000000   \n2019-01-30 05:00:00            24.00                270.0            0.000000   \n2019-01-30 06:00:00            21.00                290.0           -0.001069   \n2019-01-30 07:00:00            25.75                285.0            0.000000   \n2019-01-30 08:00:00            25.50                290.0           -0.006216   \n2019-01-30 09:00:00            26.50                295.0            0.000000   \n\n                     lag3_cloud_coverage           lag3_time  \nDATE                                                          \n2019-01-30 00:00:00                  0.0 2019-01-29 18:00:00  \n2019-01-30 01:00:00                  0.0 2019-01-29 19:00:00  \n2019-01-30 02:00:00                  0.0 2019-01-29 20:00:00  \n2019-01-30 03:00:00                  0.0 2019-01-29 21:00:00  \n2019-01-30 04:00:00                  0.0 2019-01-29 22:00:00  \n2019-01-30 05:00:00                 80.0 2019-01-29 23:00:00  \n2019-01-30 06:00:00                 80.0 2019-01-30 00:00:00  \n2019-01-30 07:00:00                 80.0 2019-01-30 01:00:00  \n2019-01-30 08:00:00                 80.0 2019-01-30 02:00:00  \n2019-01-30 09:00:00                 80.0 2019-01-30 03:00:00  \n\n[10 rows x 25 columns]",
      "text/html": "<div>\n<style scoped>\n    .dataframe tbody tr th:only-of-type {\n        vertical-align: middle;\n    }\n\n    .dataframe tbody tr th {\n        vertical-align: top;\n    }\n\n    .dataframe thead th {\n        text-align: right;\n    }\n</style>\n<table border=\"1\" class=\"dataframe\">\n  <thead>\n    <tr style=\"text-align: right;\">\n      <th></th>\n      <th>nexus_meter</th>\n      <th>hour</th>\n      <th>week</th>\n      <th>HourlyAltimeterSetting</th>\n      <th>HourlyDewPointTemperature</th>\n      <th>HourlyDryBulbTemperature</th>\n      <th>HourlyRelativeHumidity</th>\n      <th>HourlyStationPressure</th>\n      <th>HourlyVisibility</th>\n      <th>HourlyWindSpeed</th>\n      <th>...</th>\n      <th>lag3_dew_point</th>\n      <th>lag3_temp</th>\n      <th>lag3_humidity</th>\n      <th>lag3_pressure</th>\n      <th>lag3_visibility</th>\n      <th>lag3_wind_speed</th>\n      <th>lag3_wind_direction</th>\n      <th>lag3_precipitation</th>\n      <th>lag3_cloud_coverage</th>\n      <th>lag3_time</th>\n    </tr>\n    <tr>\n      <th>DATE</th>\n      <th></th>\n      <th></th>\n      <th></th>\n      <th></th>\n      <th></th>\n      <th></th>\n      <th></th>\n      <th></th>\n      <th></th>\n      <th></th>\n      <th></th>\n      <th></th>\n      <th></th>\n      <th></th>\n      <th></th>\n      <th></th>\n      <th></th>\n      <th></th>\n      <th></th>\n      <th></th>\n      <th></th>\n    </tr>\n  </thead>\n  <tbody>\n    <tr>\n      <th>2019-01-30 00:00:00</th>\n      <td>-48.9</td>\n      <td>0.0</td>\n      <td>5.0</td>\n      <td>30.110000</td>\n      <td>-9.000000</td>\n      <td>1.000000</td>\n      <td>62.000000</td>\n      <td>29.290000</td>\n      <td>10.000000</td>\n      <td>20.000000</td>\n      <td>...</td>\n      <td>-7.0</td>\n      <td>4.00</td>\n      <td>60.00</td>\n      <td>29.2800</td>\n      <td>10.00</td>\n      <td>17.00</td>\n      <td>300.0</td>\n      <td>0.000000</td>\n      <td>0.0</td>\n      <td>2019-01-29 18:00:00</td>\n    </tr>\n    <tr>\n      <th>2019-01-30 01:00:00</th>\n      <td>-50.8</td>\n      <td>1.0</td>\n      <td>5.0</td>\n      <td>30.100000</td>\n      <td>-9.000000</td>\n      <td>0.000000</td>\n      <td>65.000000</td>\n      <td>29.280000</td>\n      <td>10.000000</td>\n      <td>14.000000</td>\n      <td>...</td>\n      <td>-9.0</td>\n      <td>2.00</td>\n      <td>59.00</td>\n      <td>29.2800</td>\n      <td>10.00</td>\n      <td>20.00</td>\n      <td>310.0</td>\n      <td>0.000000</td>\n      <td>0.0</td>\n      <td>2019-01-29 19:00:00</td>\n    </tr>\n    <tr>\n      <th>2019-01-30 02:00:00</th>\n      <td>-50.2</td>\n      <td>2.0</td>\n      <td>5.0</td>\n      <td>30.110000</td>\n      <td>-10.000000</td>\n      <td>0.000000</td>\n      <td>62.000000</td>\n      <td>29.290000</td>\n      <td>10.000000</td>\n      <td>24.000000</td>\n      <td>...</td>\n      <td>-9.0</td>\n      <td>2.00</td>\n      <td>59.00</td>\n      <td>29.2900</td>\n      <td>10.00</td>\n      <td>22.00</td>\n      <td>300.0</td>\n      <td>0.000000</td>\n      <td>0.0</td>\n      <td>2019-01-29 20:00:00</td>\n    </tr>\n    <tr>\n      <th>2019-01-30 03:00:00</th>\n      <td>-75.0</td>\n      <td>3.0</td>\n      <td>5.0</td>\n      <td>30.110000</td>\n      <td>-7.500000</td>\n      <td>-1.000000</td>\n      <td>73.500000</td>\n      <td>29.290000</td>\n      <td>5.250000</td>\n      <td>21.000000</td>\n      <td>...</td>\n      <td>-9.0</td>\n      <td>1.00</td>\n      <td>62.00</td>\n      <td>29.2900</td>\n      <td>10.00</td>\n      <td>20.00</td>\n      <td>300.0</td>\n      <td>0.000000</td>\n      <td>0.0</td>\n      <td>2019-01-29 21:00:00</td>\n    </tr>\n    <tr>\n      <th>2019-01-30 04:00:00</th>\n      <td>-110.2</td>\n      <td>4.0</td>\n      <td>5.0</td>\n      <td>30.107500</td>\n      <td>-11.000000</td>\n      <td>-2.250000</td>\n      <td>65.750000</td>\n      <td>29.287500</td>\n      <td>7.500000</td>\n      <td>25.750000</td>\n      <td>...</td>\n      <td>-9.0</td>\n      <td>0.00</td>\n      <td>65.00</td>\n      <td>29.2800</td>\n      <td>10.00</td>\n      <td>14.00</td>\n      <td>300.0</td>\n      <td>0.000000</td>\n      <td>0.0</td>\n      <td>2019-01-29 22:00:00</td>\n    </tr>\n    <tr>\n      <th>2019-01-30 05:00:00</th>\n      <td>-97.8</td>\n      <td>5.0</td>\n      <td>5.0</td>\n      <td>30.130000</td>\n      <td>-13.500000</td>\n      <td>-4.500000</td>\n      <td>65.000000</td>\n      <td>29.310000</td>\n      <td>6.500000</td>\n      <td>25.500000</td>\n      <td>...</td>\n      <td>-10.0</td>\n      <td>0.00</td>\n      <td>62.00</td>\n      <td>29.2900</td>\n      <td>10.00</td>\n      <td>24.00</td>\n      <td>270.0</td>\n      <td>0.000000</td>\n      <td>80.0</td>\n      <td>2019-01-29 23:00:00</td>\n    </tr>\n    <tr>\n      <th>2019-01-30 06:00:00</th>\n      <td>-98.6</td>\n      <td>6.0</td>\n      <td>5.0</td>\n      <td>30.180000</td>\n      <td>-19.000000</td>\n      <td>-8.500000</td>\n      <td>59.500000</td>\n      <td>29.360000</td>\n      <td>10.000000</td>\n      <td>26.500000</td>\n      <td>...</td>\n      <td>-7.5</td>\n      <td>-1.00</td>\n      <td>73.50</td>\n      <td>29.2900</td>\n      <td>5.25</td>\n      <td>21.00</td>\n      <td>290.0</td>\n      <td>-0.001069</td>\n      <td>80.0</td>\n      <td>2019-01-30 00:00:00</td>\n    </tr>\n    <tr>\n      <th>2019-01-30 07:00:00</th>\n      <td>1013.2</td>\n      <td>7.0</td>\n      <td>5.0</td>\n      <td>30.220000</td>\n      <td>-23.000000</td>\n      <td>-11.000000</td>\n      <td>54.000000</td>\n      <td>29.390000</td>\n      <td>10.000000</td>\n      <td>24.000000</td>\n      <td>...</td>\n      <td>-11.0</td>\n      <td>-2.25</td>\n      <td>65.75</td>\n      <td>29.2875</td>\n      <td>7.50</td>\n      <td>25.75</td>\n      <td>285.0</td>\n      <td>0.000000</td>\n      <td>80.0</td>\n      <td>2019-01-30 01:00:00</td>\n    </tr>\n    <tr>\n      <th>2019-01-30 08:00:00</th>\n      <td>1002.2</td>\n      <td>8.0</td>\n      <td>5.0</td>\n      <td>30.246667</td>\n      <td>-24.333333</td>\n      <td>-12.666667</td>\n      <td>55.000000</td>\n      <td>29.416667</td>\n      <td>10.000000</td>\n      <td>29.333333</td>\n      <td>...</td>\n      <td>-13.5</td>\n      <td>-4.50</td>\n      <td>65.00</td>\n      <td>29.3100</td>\n      <td>6.50</td>\n      <td>25.50</td>\n      <td>290.0</td>\n      <td>-0.006216</td>\n      <td>80.0</td>\n      <td>2019-01-30 02:00:00</td>\n    </tr>\n    <tr>\n      <th>2019-01-30 09:00:00</th>\n      <td>459.0</td>\n      <td>9.0</td>\n      <td>5.0</td>\n      <td>30.276667</td>\n      <td>-26.000000</td>\n      <td>-14.333333</td>\n      <td>54.333333</td>\n      <td>29.453333</td>\n      <td>9.666667</td>\n      <td>23.333333</td>\n      <td>...</td>\n      <td>-19.0</td>\n      <td>-8.50</td>\n      <td>59.50</td>\n      <td>29.3600</td>\n      <td>10.00</td>\n      <td>26.50</td>\n      <td>295.0</td>\n      <td>0.000000</td>\n      <td>80.0</td>\n      <td>2019-01-30 03:00:00</td>\n    </tr>\n  </tbody>\n</table>\n<p>10 rows × 25 columns</p>\n</div>"
     },
     "metadata": {},
     "execution_count": 50
    }
   ],
   "source": [
    "base_df3.head(10)"
   ]
  },
  {
   "cell_type": "markdown",
   "metadata": {},
   "source": [
    "dataframe is formatted correctly, now I can drop the time columns and perform a train test split"
   ]
  },
  {
   "cell_type": "code",
   "execution_count": 51,
   "metadata": {},
   "outputs": [],
   "source": [
    "base_df3.drop(['time', 'lag3_time'], axis=1, inplace=True)"
   ]
  },
  {
   "cell_type": "code",
   "execution_count": 52,
   "metadata": {},
   "outputs": [],
   "source": [
    "model_df3 = base_df3[(base_df3.index.hour >= 5) & (base_df3.index.hour <= 21)]"
   ]
  },
  {
   "cell_type": "code",
   "execution_count": 53,
   "metadata": {},
   "outputs": [
    {
     "output_type": "execute_result",
     "data": {
      "text/plain": "                     nexus_meter  hour  week  HourlyAltimeterSetting  \\\nDATE                                                                   \n2019-07-25 05:00:00       -30.52   5.0  30.0                   30.17   \n2019-07-25 06:00:00       640.90   6.0  30.0                   30.17   \n2019-07-25 07:00:00      3608.00   7.0  30.0                   30.19   \n2020-02-20 05:00:00       -61.20   5.0   8.0                   30.58   \n2020-02-20 06:00:00        -0.83   6.0   8.0                   30.59   \n\n                     HourlyDewPointTemperature  HourlyDryBulbTemperature  \\\nDATE                                                                       \n2019-07-25 05:00:00                       52.0                      55.0   \n2019-07-25 06:00:00                       52.0                      58.0   \n2019-07-25 07:00:00                       51.0                      57.0   \n2020-02-20 05:00:00                       13.0                      21.0   \n2020-02-20 06:00:00                       14.0                      21.0   \n\n                     HourlyRelativeHumidity  HourlyStationPressure  \\\nDATE                                                                 \n2019-07-25 05:00:00                    90.0                  29.35   \n2019-07-25 06:00:00                    81.0                  29.35   \n2019-07-25 07:00:00                    81.0                  29.37   \n2020-02-20 05:00:00                    71.0                  29.75   \n2020-02-20 06:00:00                    74.0                  29.76   \n\n                     HourlyVisibility  HourlyWindSpeed  ...  lag3_altimeter  \\\nDATE                                                    ...                   \n2019-07-25 05:00:00              10.0              5.0  ...             NaN   \n2019-07-25 06:00:00              10.0              5.0  ...             NaN   \n2019-07-25 07:00:00              10.0              3.0  ...             NaN   \n2020-02-20 05:00:00              10.0             13.0  ...             NaN   \n2020-02-20 06:00:00              10.0              9.0  ...             NaN   \n\n                     lag3_dew_point  lag3_temp  lag3_humidity  lag3_pressure  \\\nDATE                                                                           \n2019-07-25 05:00:00             NaN        NaN            NaN            NaN   \n2019-07-25 06:00:00             NaN        NaN            NaN            NaN   \n2019-07-25 07:00:00             NaN        NaN            NaN            NaN   \n2020-02-20 05:00:00             NaN        NaN            NaN            NaN   \n2020-02-20 06:00:00             NaN        NaN            NaN            NaN   \n\n                     lag3_visibility  lag3_wind_speed  lag3_wind_direction  \\\nDATE                                                                         \n2019-07-25 05:00:00              NaN              NaN                  NaN   \n2019-07-25 06:00:00              NaN              NaN                  NaN   \n2019-07-25 07:00:00              NaN              NaN                  NaN   \n2020-02-20 05:00:00              NaN              NaN                  NaN   \n2020-02-20 06:00:00              NaN              NaN                  NaN   \n\n                     lag3_precipitation  lag3_cloud_coverage  \nDATE                                                          \n2019-07-25 05:00:00                 NaN                  NaN  \n2019-07-25 06:00:00                 NaN                  NaN  \n2019-07-25 07:00:00                 NaN                  NaN  \n2020-02-20 05:00:00                 NaN                  NaN  \n2020-02-20 06:00:00                 NaN                  NaN  \n\n[5 rows x 23 columns]",
      "text/html": "<div>\n<style scoped>\n    .dataframe tbody tr th:only-of-type {\n        vertical-align: middle;\n    }\n\n    .dataframe tbody tr th {\n        vertical-align: top;\n    }\n\n    .dataframe thead th {\n        text-align: right;\n    }\n</style>\n<table border=\"1\" class=\"dataframe\">\n  <thead>\n    <tr style=\"text-align: right;\">\n      <th></th>\n      <th>nexus_meter</th>\n      <th>hour</th>\n      <th>week</th>\n      <th>HourlyAltimeterSetting</th>\n      <th>HourlyDewPointTemperature</th>\n      <th>HourlyDryBulbTemperature</th>\n      <th>HourlyRelativeHumidity</th>\n      <th>HourlyStationPressure</th>\n      <th>HourlyVisibility</th>\n      <th>HourlyWindSpeed</th>\n      <th>...</th>\n      <th>lag3_altimeter</th>\n      <th>lag3_dew_point</th>\n      <th>lag3_temp</th>\n      <th>lag3_humidity</th>\n      <th>lag3_pressure</th>\n      <th>lag3_visibility</th>\n      <th>lag3_wind_speed</th>\n      <th>lag3_wind_direction</th>\n      <th>lag3_precipitation</th>\n      <th>lag3_cloud_coverage</th>\n    </tr>\n    <tr>\n      <th>DATE</th>\n      <th></th>\n      <th></th>\n      <th></th>\n      <th></th>\n      <th></th>\n      <th></th>\n      <th></th>\n      <th></th>\n      <th></th>\n      <th></th>\n      <th></th>\n      <th></th>\n      <th></th>\n      <th></th>\n      <th></th>\n      <th></th>\n      <th></th>\n      <th></th>\n      <th></th>\n      <th></th>\n      <th></th>\n    </tr>\n  </thead>\n  <tbody>\n    <tr>\n      <th>2019-07-25 05:00:00</th>\n      <td>-30.52</td>\n      <td>5.0</td>\n      <td>30.0</td>\n      <td>30.17</td>\n      <td>52.0</td>\n      <td>55.0</td>\n      <td>90.0</td>\n      <td>29.35</td>\n      <td>10.0</td>\n      <td>5.0</td>\n      <td>...</td>\n      <td>NaN</td>\n      <td>NaN</td>\n      <td>NaN</td>\n      <td>NaN</td>\n      <td>NaN</td>\n      <td>NaN</td>\n      <td>NaN</td>\n      <td>NaN</td>\n      <td>NaN</td>\n      <td>NaN</td>\n    </tr>\n    <tr>\n      <th>2019-07-25 06:00:00</th>\n      <td>640.90</td>\n      <td>6.0</td>\n      <td>30.0</td>\n      <td>30.17</td>\n      <td>52.0</td>\n      <td>58.0</td>\n      <td>81.0</td>\n      <td>29.35</td>\n      <td>10.0</td>\n      <td>5.0</td>\n      <td>...</td>\n      <td>NaN</td>\n      <td>NaN</td>\n      <td>NaN</td>\n      <td>NaN</td>\n      <td>NaN</td>\n      <td>NaN</td>\n      <td>NaN</td>\n      <td>NaN</td>\n      <td>NaN</td>\n      <td>NaN</td>\n    </tr>\n    <tr>\n      <th>2019-07-25 07:00:00</th>\n      <td>3608.00</td>\n      <td>7.0</td>\n      <td>30.0</td>\n      <td>30.19</td>\n      <td>51.0</td>\n      <td>57.0</td>\n      <td>81.0</td>\n      <td>29.37</td>\n      <td>10.0</td>\n      <td>3.0</td>\n      <td>...</td>\n      <td>NaN</td>\n      <td>NaN</td>\n      <td>NaN</td>\n      <td>NaN</td>\n      <td>NaN</td>\n      <td>NaN</td>\n      <td>NaN</td>\n      <td>NaN</td>\n      <td>NaN</td>\n      <td>NaN</td>\n    </tr>\n    <tr>\n      <th>2020-02-20 05:00:00</th>\n      <td>-61.20</td>\n      <td>5.0</td>\n      <td>8.0</td>\n      <td>30.58</td>\n      <td>13.0</td>\n      <td>21.0</td>\n      <td>71.0</td>\n      <td>29.75</td>\n      <td>10.0</td>\n      <td>13.0</td>\n      <td>...</td>\n      <td>NaN</td>\n      <td>NaN</td>\n      <td>NaN</td>\n      <td>NaN</td>\n      <td>NaN</td>\n      <td>NaN</td>\n      <td>NaN</td>\n      <td>NaN</td>\n      <td>NaN</td>\n      <td>NaN</td>\n    </tr>\n    <tr>\n      <th>2020-02-20 06:00:00</th>\n      <td>-0.83</td>\n      <td>6.0</td>\n      <td>8.0</td>\n      <td>30.59</td>\n      <td>14.0</td>\n      <td>21.0</td>\n      <td>74.0</td>\n      <td>29.76</td>\n      <td>10.0</td>\n      <td>9.0</td>\n      <td>...</td>\n      <td>NaN</td>\n      <td>NaN</td>\n      <td>NaN</td>\n      <td>NaN</td>\n      <td>NaN</td>\n      <td>NaN</td>\n      <td>NaN</td>\n      <td>NaN</td>\n      <td>NaN</td>\n      <td>NaN</td>\n    </tr>\n  </tbody>\n</table>\n<p>5 rows × 23 columns</p>\n</div>"
     },
     "metadata": {},
     "execution_count": 53
    }
   ],
   "source": [
    "model_df3[model_df3['lag3_altimeter'].isna() == True]"
   ]
  },
  {
   "cell_type": "markdown",
   "metadata": {},
   "source": [
    "Model_df3 is missing a few rows of the lagged weather dataframe. I will use IterativeImputer again to fill these in. It is only 5 rows out of 15,000 so I think this method should suffice."
   ]
  },
  {
   "cell_type": "code",
   "execution_count": 54,
   "metadata": {},
   "outputs": [],
   "source": [
    "imp3 = IterativeImputer(random_state=42)"
   ]
  },
  {
   "cell_type": "code",
   "execution_count": 55,
   "metadata": {},
   "outputs": [],
   "source": [
    "imputed3 = imp3.fit_transform(model_df3.drop('nexus_meter', axis=1))"
   ]
  },
  {
   "cell_type": "code",
   "execution_count": 56,
   "metadata": {},
   "outputs": [],
   "source": [
    "model3_df = pd.DataFrame(index=model_df3.drop('nexus_meter', axis=1).index, columns=model_df3.drop('nexus_meter', axis=1).columns, data=imputed3)"
   ]
  },
  {
   "cell_type": "code",
   "execution_count": 57,
   "metadata": {},
   "outputs": [],
   "source": [
    "model3_df['nexus_meter'] = model_df3['nexus_meter']"
   ]
  },
  {
   "cell_type": "code",
   "execution_count": 58,
   "metadata": {},
   "outputs": [],
   "source": [
    "# separate target and features\n",
    "\n",
    "# target\n",
    "y3 = model3_df['nexus_meter']\n",
    "\n",
    "# features\n",
    "X3 = model3_df.drop('nexus_meter', axis=1)"
   ]
  },
  {
   "cell_type": "code",
   "execution_count": 59,
   "metadata": {},
   "outputs": [],
   "source": [
    "# train test split\n",
    "X_train3, X_test3, y_train3, y_test3 = train_test_split(X3, y3, random_state=42, test_size=.3)"
   ]
  },
  {
   "cell_type": "markdown",
   "metadata": {},
   "source": [
    "Next I will instantiate a new StandardScaler object to scale the training data"
   ]
  },
  {
   "cell_type": "code",
   "execution_count": 60,
   "metadata": {},
   "outputs": [],
   "source": [
    "scaler3 = StandardScaler()"
   ]
  },
  {
   "cell_type": "code",
   "execution_count": 61,
   "metadata": {},
   "outputs": [],
   "source": [
    "# scale training data\n",
    "X_train3_scaled = scaler3.fit_transform(X_train3)"
   ]
  },
  {
   "cell_type": "code",
   "execution_count": 62,
   "metadata": {},
   "outputs": [],
   "source": [
    "# instantiate new Random Forest object with default parameters\n",
    "rf3 = RandomForestRegressor(random_state=42)"
   ]
  },
  {
   "cell_type": "code",
   "execution_count": 63,
   "metadata": {},
   "outputs": [
    {
     "output_type": "execute_result",
     "data": {
      "text/plain": "2532.131485637282"
     },
     "metadata": {},
     "execution_count": 63
    }
   ],
   "source": [
    "# 5 split cross val score on training data\n",
    "np.sqrt(cross_val_score(rf3, X_train3_scaled, y_train3, scoring=mse_score, cv=5).mean())"
   ]
  },
  {
   "cell_type": "markdown",
   "metadata": {},
   "source": [
    "The addition of those features actually brought the RMSE up. I am hoping by adding in the derivative the model will be able to interpret this is meaningful instead of random data."
   ]
  },
  {
   "cell_type": "markdown",
   "metadata": {},
   "source": [
    "## Random Forest with all features"
   ]
  },
  {
   "cell_type": "markdown",
   "metadata": {},
   "source": [
    "I have the weather_hourly df and weather_lagged_df, now I need to take the derivative of each value at each hour (index). This will give me the slope (rate of change) of each weather condition over the given time period of three hours. My hope is that including the derivative, the model will be able to analyze how the weather has changed over the past three hours, so it can better predict how it may change over the next 3. To calculate the slope I will use the following formula: (current weather - past weather)/3."
   ]
  },
  {
   "cell_type": "code",
   "execution_count": 64,
   "metadata": {},
   "outputs": [
    {
     "output_type": "execute_result",
     "data": {
      "text/plain": "                     HourlyAltimeterSetting  HourlyDewPointTemperature  \\\nDATE                                                                     \n2018-01-29 00:00:00                 30.3425                       28.0   \n2018-01-29 01:00:00                 30.3400                       28.0   \n2018-01-29 02:00:00                 30.3300                       28.0   \n2018-01-29 03:00:00                 30.3300                       28.0   \n2018-01-29 04:00:00                 30.3300                       28.0   \n\n                     HourlyDryBulbTemperature  HourlyRelativeHumidity  \\\nDATE                                                                    \n2018-01-29 00:00:00                      30.0                   92.25   \n2018-01-29 01:00:00                      30.0                   92.00   \n2018-01-29 02:00:00                      30.0                   92.00   \n2018-01-29 03:00:00                      30.0                   92.00   \n2018-01-29 04:00:00                      30.0                   92.50   \n\n                     HourlyStationPressure  HourlyVisibility  HourlyWindSpeed  \\\nDATE                                                                            \n2018-01-29 00:00:00                29.5125              5.75            14.25   \n2018-01-29 01:00:00                29.5100              3.00            10.00   \n2018-01-29 02:00:00                29.5000              5.00            13.00   \n2018-01-29 03:00:00                29.5000              6.00            13.00   \n2018-01-29 04:00:00                29.5000              6.00            10.50   \n\n                     HourlyWindDirection  HourlyPrecipitation  cloud_coverage  \\\nDATE                                                                            \n2018-01-29 00:00:00                327.5             0.017317            80.0   \n2018-01-29 01:00:00                340.0             0.000000            80.0   \n2018-01-29 02:00:00                340.0             0.000000            80.0   \n2018-01-29 03:00:00                320.0             0.000000            80.0   \n2018-01-29 04:00:00                325.0             0.009066            80.0   \n\n                                   time  \nDATE                                     \n2018-01-29 00:00:00 2018-01-29 00:00:00  \n2018-01-29 01:00:00 2018-01-29 01:00:00  \n2018-01-29 02:00:00 2018-01-29 02:00:00  \n2018-01-29 03:00:00 2018-01-29 03:00:00  \n2018-01-29 04:00:00 2018-01-29 04:00:00  ",
      "text/html": "<div>\n<style scoped>\n    .dataframe tbody tr th:only-of-type {\n        vertical-align: middle;\n    }\n\n    .dataframe tbody tr th {\n        vertical-align: top;\n    }\n\n    .dataframe thead th {\n        text-align: right;\n    }\n</style>\n<table border=\"1\" class=\"dataframe\">\n  <thead>\n    <tr style=\"text-align: right;\">\n      <th></th>\n      <th>HourlyAltimeterSetting</th>\n      <th>HourlyDewPointTemperature</th>\n      <th>HourlyDryBulbTemperature</th>\n      <th>HourlyRelativeHumidity</th>\n      <th>HourlyStationPressure</th>\n      <th>HourlyVisibility</th>\n      <th>HourlyWindSpeed</th>\n      <th>HourlyWindDirection</th>\n      <th>HourlyPrecipitation</th>\n      <th>cloud_coverage</th>\n      <th>time</th>\n    </tr>\n    <tr>\n      <th>DATE</th>\n      <th></th>\n      <th></th>\n      <th></th>\n      <th></th>\n      <th></th>\n      <th></th>\n      <th></th>\n      <th></th>\n      <th></th>\n      <th></th>\n      <th></th>\n    </tr>\n  </thead>\n  <tbody>\n    <tr>\n      <th>2018-01-29 00:00:00</th>\n      <td>30.3425</td>\n      <td>28.0</td>\n      <td>30.0</td>\n      <td>92.25</td>\n      <td>29.5125</td>\n      <td>5.75</td>\n      <td>14.25</td>\n      <td>327.5</td>\n      <td>0.017317</td>\n      <td>80.0</td>\n      <td>2018-01-29 00:00:00</td>\n    </tr>\n    <tr>\n      <th>2018-01-29 01:00:00</th>\n      <td>30.3400</td>\n      <td>28.0</td>\n      <td>30.0</td>\n      <td>92.00</td>\n      <td>29.5100</td>\n      <td>3.00</td>\n      <td>10.00</td>\n      <td>340.0</td>\n      <td>0.000000</td>\n      <td>80.0</td>\n      <td>2018-01-29 01:00:00</td>\n    </tr>\n    <tr>\n      <th>2018-01-29 02:00:00</th>\n      <td>30.3300</td>\n      <td>28.0</td>\n      <td>30.0</td>\n      <td>92.00</td>\n      <td>29.5000</td>\n      <td>5.00</td>\n      <td>13.00</td>\n      <td>340.0</td>\n      <td>0.000000</td>\n      <td>80.0</td>\n      <td>2018-01-29 02:00:00</td>\n    </tr>\n    <tr>\n      <th>2018-01-29 03:00:00</th>\n      <td>30.3300</td>\n      <td>28.0</td>\n      <td>30.0</td>\n      <td>92.00</td>\n      <td>29.5000</td>\n      <td>6.00</td>\n      <td>13.00</td>\n      <td>320.0</td>\n      <td>0.000000</td>\n      <td>80.0</td>\n      <td>2018-01-29 03:00:00</td>\n    </tr>\n    <tr>\n      <th>2018-01-29 04:00:00</th>\n      <td>30.3300</td>\n      <td>28.0</td>\n      <td>30.0</td>\n      <td>92.50</td>\n      <td>29.5000</td>\n      <td>6.00</td>\n      <td>10.50</td>\n      <td>325.0</td>\n      <td>0.009066</td>\n      <td>80.0</td>\n      <td>2018-01-29 04:00:00</td>\n    </tr>\n  </tbody>\n</table>\n</div>"
     },
     "metadata": {},
     "execution_count": 64
    }
   ],
   "source": [
    "weather_hourly1.head()"
   ]
  },
  {
   "cell_type": "code",
   "execution_count": 65,
   "metadata": {},
   "outputs": [
    {
     "output_type": "execute_result",
     "data": {
      "text/plain": "                     lag3_altimeter  lag3_dew_point  lag3_temp  lag3_humidity  \\\nDATE                                                                            \n2018-01-29 00:00:00             NaN             NaN        NaN            NaN   \n2018-01-29 01:00:00             NaN             NaN        NaN            NaN   \n2018-01-29 02:00:00             NaN             NaN        NaN            NaN   \n2018-01-29 03:00:00         30.3425            28.0       30.0          92.25   \n2018-01-29 04:00:00         30.3400            28.0       30.0          92.00   \n\n                     lag3_pressure  lag3_visibility  lag3_wind_speed  \\\nDATE                                                                   \n2018-01-29 00:00:00            NaN              NaN              NaN   \n2018-01-29 01:00:00            NaN              NaN              NaN   \n2018-01-29 02:00:00            NaN              NaN              NaN   \n2018-01-29 03:00:00        29.5125             5.75            14.25   \n2018-01-29 04:00:00        29.5100             3.00            10.00   \n\n                     lag3_wind_direction  lag3_precipitation  \\\nDATE                                                           \n2018-01-29 00:00:00                  NaN                 NaN   \n2018-01-29 01:00:00                  NaN                 NaN   \n2018-01-29 02:00:00                  NaN                 NaN   \n2018-01-29 03:00:00                327.5            0.017317   \n2018-01-29 04:00:00                340.0            0.000000   \n\n                     lag3_cloud_coverage           lag3_time  \nDATE                                                          \n2018-01-29 00:00:00                  NaN                 NaT  \n2018-01-29 01:00:00                  NaN                 NaT  \n2018-01-29 02:00:00                  NaN                 NaT  \n2018-01-29 03:00:00                 80.0 2018-01-29 00:00:00  \n2018-01-29 04:00:00                 80.0 2018-01-29 01:00:00  ",
      "text/html": "<div>\n<style scoped>\n    .dataframe tbody tr th:only-of-type {\n        vertical-align: middle;\n    }\n\n    .dataframe tbody tr th {\n        vertical-align: top;\n    }\n\n    .dataframe thead th {\n        text-align: right;\n    }\n</style>\n<table border=\"1\" class=\"dataframe\">\n  <thead>\n    <tr style=\"text-align: right;\">\n      <th></th>\n      <th>lag3_altimeter</th>\n      <th>lag3_dew_point</th>\n      <th>lag3_temp</th>\n      <th>lag3_humidity</th>\n      <th>lag3_pressure</th>\n      <th>lag3_visibility</th>\n      <th>lag3_wind_speed</th>\n      <th>lag3_wind_direction</th>\n      <th>lag3_precipitation</th>\n      <th>lag3_cloud_coverage</th>\n      <th>lag3_time</th>\n    </tr>\n    <tr>\n      <th>DATE</th>\n      <th></th>\n      <th></th>\n      <th></th>\n      <th></th>\n      <th></th>\n      <th></th>\n      <th></th>\n      <th></th>\n      <th></th>\n      <th></th>\n      <th></th>\n    </tr>\n  </thead>\n  <tbody>\n    <tr>\n      <th>2018-01-29 00:00:00</th>\n      <td>NaN</td>\n      <td>NaN</td>\n      <td>NaN</td>\n      <td>NaN</td>\n      <td>NaN</td>\n      <td>NaN</td>\n      <td>NaN</td>\n      <td>NaN</td>\n      <td>NaN</td>\n      <td>NaN</td>\n      <td>NaT</td>\n    </tr>\n    <tr>\n      <th>2018-01-29 01:00:00</th>\n      <td>NaN</td>\n      <td>NaN</td>\n      <td>NaN</td>\n      <td>NaN</td>\n      <td>NaN</td>\n      <td>NaN</td>\n      <td>NaN</td>\n      <td>NaN</td>\n      <td>NaN</td>\n      <td>NaN</td>\n      <td>NaT</td>\n    </tr>\n    <tr>\n      <th>2018-01-29 02:00:00</th>\n      <td>NaN</td>\n      <td>NaN</td>\n      <td>NaN</td>\n      <td>NaN</td>\n      <td>NaN</td>\n      <td>NaN</td>\n      <td>NaN</td>\n      <td>NaN</td>\n      <td>NaN</td>\n      <td>NaN</td>\n      <td>NaT</td>\n    </tr>\n    <tr>\n      <th>2018-01-29 03:00:00</th>\n      <td>30.3425</td>\n      <td>28.0</td>\n      <td>30.0</td>\n      <td>92.25</td>\n      <td>29.5125</td>\n      <td>5.75</td>\n      <td>14.25</td>\n      <td>327.5</td>\n      <td>0.017317</td>\n      <td>80.0</td>\n      <td>2018-01-29 00:00:00</td>\n    </tr>\n    <tr>\n      <th>2018-01-29 04:00:00</th>\n      <td>30.3400</td>\n      <td>28.0</td>\n      <td>30.0</td>\n      <td>92.00</td>\n      <td>29.5100</td>\n      <td>3.00</td>\n      <td>10.00</td>\n      <td>340.0</td>\n      <td>0.000000</td>\n      <td>80.0</td>\n      <td>2018-01-29 01:00:00</td>\n    </tr>\n  </tbody>\n</table>\n</div>"
     },
     "metadata": {},
     "execution_count": 65
    }
   ],
   "source": [
    "weather_lagged_df.head()"
   ]
  },
  {
   "cell_type": "markdown",
   "metadata": {},
   "source": [
    "I am going to drop the first three rows of each dataframe since the lagged df only has NaN values for those rows. Also these rows are dropped when combined with the energy dataframe"
   ]
  },
  {
   "cell_type": "code",
   "execution_count": 66,
   "metadata": {},
   "outputs": [],
   "source": [
    "weather_hourly1.drop(weather_hourly1.iloc[:3].index, axis=0, inplace=True)\n",
    "weather_lagged_df.drop(weather_lagged_df.iloc[:3].index, axis=0, inplace=True)"
   ]
  },
  {
   "cell_type": "code",
   "execution_count": 72,
   "metadata": {},
   "outputs": [],
   "source": [
    "weather_change_df_cols = ['altimeter_change', 'dew_point_change', 'temp_change', 'humidity_change', 'pressure_change', 'visibility_change', \n",
    "                            'wind_speed_change', 'precip_change', 'cloud_coverage_change']"
   ]
  },
  {
   "cell_type": "code",
   "execution_count": 73,
   "metadata": {},
   "outputs": [
    {
     "output_type": "error",
     "ename": "KeyError",
     "evalue": "\"['time'] not found in axis\"",
     "traceback": [
      "\u001b[0;31m---------------------------------------------------------------------------\u001b[0m",
      "\u001b[0;31mKeyError\u001b[0m                                  Traceback (most recent call last)",
      "\u001b[0;32m<ipython-input-73-c22fa816e0c3>\u001b[0m in \u001b[0;36m<module>\u001b[0;34m\u001b[0m\n\u001b[0;32m----> 1\u001b[0;31m \u001b[0mweather_hourly1\u001b[0m\u001b[0;34m.\u001b[0m\u001b[0mdrop\u001b[0m\u001b[0;34m(\u001b[0m\u001b[0;34m'time'\u001b[0m\u001b[0;34m,\u001b[0m \u001b[0maxis\u001b[0m\u001b[0;34m=\u001b[0m\u001b[0;36m1\u001b[0m\u001b[0;34m,\u001b[0m \u001b[0minplace\u001b[0m\u001b[0;34m=\u001b[0m\u001b[0;32mTrue\u001b[0m\u001b[0;34m)\u001b[0m\u001b[0;34m\u001b[0m\u001b[0;34m\u001b[0m\u001b[0m\n\u001b[0m\u001b[1;32m      2\u001b[0m \u001b[0mweather_lagged_df\u001b[0m\u001b[0;34m.\u001b[0m\u001b[0mdrop\u001b[0m\u001b[0;34m(\u001b[0m\u001b[0;34m'lag3_time'\u001b[0m\u001b[0;34m,\u001b[0m \u001b[0maxis\u001b[0m\u001b[0;34m=\u001b[0m\u001b[0;36m1\u001b[0m\u001b[0;34m,\u001b[0m \u001b[0minplace\u001b[0m\u001b[0;34m=\u001b[0m\u001b[0;32mTrue\u001b[0m\u001b[0;34m)\u001b[0m\u001b[0;34m\u001b[0m\u001b[0;34m\u001b[0m\u001b[0m\n",
      "\u001b[0;32m~/opt/anaconda3/envs/capstone/lib/python3.8/site-packages/pandas/core/frame.py\u001b[0m in \u001b[0;36mdrop\u001b[0;34m(self, labels, axis, index, columns, level, inplace, errors)\u001b[0m\n\u001b[1;32m   3988\u001b[0m                 \u001b[0mweight\u001b[0m  \u001b[0;36m1.0\u001b[0m     \u001b[0;36m0.8\u001b[0m\u001b[0;34m\u001b[0m\u001b[0;34m\u001b[0m\u001b[0m\n\u001b[1;32m   3989\u001b[0m         \"\"\"\n\u001b[0;32m-> 3990\u001b[0;31m         return super().drop(\n\u001b[0m\u001b[1;32m   3991\u001b[0m             \u001b[0mlabels\u001b[0m\u001b[0;34m=\u001b[0m\u001b[0mlabels\u001b[0m\u001b[0;34m,\u001b[0m\u001b[0;34m\u001b[0m\u001b[0;34m\u001b[0m\u001b[0m\n\u001b[1;32m   3992\u001b[0m             \u001b[0maxis\u001b[0m\u001b[0;34m=\u001b[0m\u001b[0maxis\u001b[0m\u001b[0;34m,\u001b[0m\u001b[0;34m\u001b[0m\u001b[0;34m\u001b[0m\u001b[0m\n",
      "\u001b[0;32m~/opt/anaconda3/envs/capstone/lib/python3.8/site-packages/pandas/core/generic.py\u001b[0m in \u001b[0;36mdrop\u001b[0;34m(self, labels, axis, index, columns, level, inplace, errors)\u001b[0m\n\u001b[1;32m   3934\u001b[0m         \u001b[0;32mfor\u001b[0m \u001b[0maxis\u001b[0m\u001b[0;34m,\u001b[0m \u001b[0mlabels\u001b[0m \u001b[0;32min\u001b[0m \u001b[0maxes\u001b[0m\u001b[0;34m.\u001b[0m\u001b[0mitems\u001b[0m\u001b[0;34m(\u001b[0m\u001b[0;34m)\u001b[0m\u001b[0;34m:\u001b[0m\u001b[0;34m\u001b[0m\u001b[0;34m\u001b[0m\u001b[0m\n\u001b[1;32m   3935\u001b[0m             \u001b[0;32mif\u001b[0m \u001b[0mlabels\u001b[0m \u001b[0;32mis\u001b[0m \u001b[0;32mnot\u001b[0m \u001b[0;32mNone\u001b[0m\u001b[0;34m:\u001b[0m\u001b[0;34m\u001b[0m\u001b[0;34m\u001b[0m\u001b[0m\n\u001b[0;32m-> 3936\u001b[0;31m                 \u001b[0mobj\u001b[0m \u001b[0;34m=\u001b[0m \u001b[0mobj\u001b[0m\u001b[0;34m.\u001b[0m\u001b[0m_drop_axis\u001b[0m\u001b[0;34m(\u001b[0m\u001b[0mlabels\u001b[0m\u001b[0;34m,\u001b[0m \u001b[0maxis\u001b[0m\u001b[0;34m,\u001b[0m \u001b[0mlevel\u001b[0m\u001b[0;34m=\u001b[0m\u001b[0mlevel\u001b[0m\u001b[0;34m,\u001b[0m \u001b[0merrors\u001b[0m\u001b[0;34m=\u001b[0m\u001b[0merrors\u001b[0m\u001b[0;34m)\u001b[0m\u001b[0;34m\u001b[0m\u001b[0;34m\u001b[0m\u001b[0m\n\u001b[0m\u001b[1;32m   3937\u001b[0m \u001b[0;34m\u001b[0m\u001b[0m\n\u001b[1;32m   3938\u001b[0m         \u001b[0;32mif\u001b[0m \u001b[0minplace\u001b[0m\u001b[0;34m:\u001b[0m\u001b[0;34m\u001b[0m\u001b[0;34m\u001b[0m\u001b[0m\n",
      "\u001b[0;32m~/opt/anaconda3/envs/capstone/lib/python3.8/site-packages/pandas/core/generic.py\u001b[0m in \u001b[0;36m_drop_axis\u001b[0;34m(self, labels, axis, level, errors)\u001b[0m\n\u001b[1;32m   3968\u001b[0m                 \u001b[0mnew_axis\u001b[0m \u001b[0;34m=\u001b[0m \u001b[0maxis\u001b[0m\u001b[0;34m.\u001b[0m\u001b[0mdrop\u001b[0m\u001b[0;34m(\u001b[0m\u001b[0mlabels\u001b[0m\u001b[0;34m,\u001b[0m \u001b[0mlevel\u001b[0m\u001b[0;34m=\u001b[0m\u001b[0mlevel\u001b[0m\u001b[0;34m,\u001b[0m \u001b[0merrors\u001b[0m\u001b[0;34m=\u001b[0m\u001b[0merrors\u001b[0m\u001b[0;34m)\u001b[0m\u001b[0;34m\u001b[0m\u001b[0;34m\u001b[0m\u001b[0m\n\u001b[1;32m   3969\u001b[0m             \u001b[0;32melse\u001b[0m\u001b[0;34m:\u001b[0m\u001b[0;34m\u001b[0m\u001b[0;34m\u001b[0m\u001b[0m\n\u001b[0;32m-> 3970\u001b[0;31m                 \u001b[0mnew_axis\u001b[0m \u001b[0;34m=\u001b[0m \u001b[0maxis\u001b[0m\u001b[0;34m.\u001b[0m\u001b[0mdrop\u001b[0m\u001b[0;34m(\u001b[0m\u001b[0mlabels\u001b[0m\u001b[0;34m,\u001b[0m \u001b[0merrors\u001b[0m\u001b[0;34m=\u001b[0m\u001b[0merrors\u001b[0m\u001b[0;34m)\u001b[0m\u001b[0;34m\u001b[0m\u001b[0;34m\u001b[0m\u001b[0m\n\u001b[0m\u001b[1;32m   3971\u001b[0m             \u001b[0mresult\u001b[0m \u001b[0;34m=\u001b[0m \u001b[0mself\u001b[0m\u001b[0;34m.\u001b[0m\u001b[0mreindex\u001b[0m\u001b[0;34m(\u001b[0m\u001b[0;34m**\u001b[0m\u001b[0;34m{\u001b[0m\u001b[0maxis_name\u001b[0m\u001b[0;34m:\u001b[0m \u001b[0mnew_axis\u001b[0m\u001b[0;34m}\u001b[0m\u001b[0;34m)\u001b[0m\u001b[0;34m\u001b[0m\u001b[0;34m\u001b[0m\u001b[0m\n\u001b[1;32m   3972\u001b[0m \u001b[0;34m\u001b[0m\u001b[0m\n",
      "\u001b[0;32m~/opt/anaconda3/envs/capstone/lib/python3.8/site-packages/pandas/core/indexes/base.py\u001b[0m in \u001b[0;36mdrop\u001b[0;34m(self, labels, errors)\u001b[0m\n\u001b[1;32m   5016\u001b[0m         \u001b[0;32mif\u001b[0m \u001b[0mmask\u001b[0m\u001b[0;34m.\u001b[0m\u001b[0many\u001b[0m\u001b[0;34m(\u001b[0m\u001b[0;34m)\u001b[0m\u001b[0;34m:\u001b[0m\u001b[0;34m\u001b[0m\u001b[0;34m\u001b[0m\u001b[0m\n\u001b[1;32m   5017\u001b[0m             \u001b[0;32mif\u001b[0m \u001b[0merrors\u001b[0m \u001b[0;34m!=\u001b[0m \u001b[0;34m\"ignore\"\u001b[0m\u001b[0;34m:\u001b[0m\u001b[0;34m\u001b[0m\u001b[0;34m\u001b[0m\u001b[0m\n\u001b[0;32m-> 5018\u001b[0;31m                 \u001b[0;32mraise\u001b[0m \u001b[0mKeyError\u001b[0m\u001b[0;34m(\u001b[0m\u001b[0;34mf\"{labels[mask]} not found in axis\"\u001b[0m\u001b[0;34m)\u001b[0m\u001b[0;34m\u001b[0m\u001b[0;34m\u001b[0m\u001b[0m\n\u001b[0m\u001b[1;32m   5019\u001b[0m             \u001b[0mindexer\u001b[0m \u001b[0;34m=\u001b[0m \u001b[0mindexer\u001b[0m\u001b[0;34m[\u001b[0m\u001b[0;34m~\u001b[0m\u001b[0mmask\u001b[0m\u001b[0;34m]\u001b[0m\u001b[0;34m\u001b[0m\u001b[0;34m\u001b[0m\u001b[0m\n\u001b[1;32m   5020\u001b[0m         \u001b[0;32mreturn\u001b[0m \u001b[0mself\u001b[0m\u001b[0;34m.\u001b[0m\u001b[0mdelete\u001b[0m\u001b[0;34m(\u001b[0m\u001b[0mindexer\u001b[0m\u001b[0;34m)\u001b[0m\u001b[0;34m\u001b[0m\u001b[0;34m\u001b[0m\u001b[0m\n",
      "\u001b[0;31mKeyError\u001b[0m: \"['time'] not found in axis\""
     ]
    }
   ],
   "source": [
    "weather_hourly1.drop('time', axis=1, inplace=True)\n",
    "weather_lagged_df.drop('lag3_time', axis=1, inplace=True)"
   ]
  },
  {
   "cell_type": "code",
   "execution_count": 85,
   "metadata": {},
   "outputs": [],
   "source": [
    "weather_change_df = pd.DataFrame(index=weather_hourly1.index, columns=weather_hourly1.columns)"
   ]
  },
  {
   "cell_type": "code",
   "execution_count": 87,
   "metadata": {},
   "outputs": [],
   "source": [
    "weather_lagged_df.columns = weather_hourly1.columns"
   ]
  },
  {
   "cell_type": "code",
   "execution_count": 89,
   "metadata": {},
   "outputs": [],
   "source": [
    "for idx in weather_change_df.index:\n",
    "    weather_change_df.loc[idx] = (weather_hourly1.loc[idx] - weather_lagged_df.loc[idx])/3"
   ]
  },
  {
   "cell_type": "code",
   "execution_count": 90,
   "metadata": {},
   "outputs": [
    {
     "output_type": "execute_result",
     "data": {
      "text/plain": "                    HourlyAltimeterSetting HourlyDewPointTemperature  \\\nDATE                                                                   \n2018-01-29 03:00:00            -0.00416667                         0   \n2018-01-29 04:00:00            -0.00333333                         0   \n2018-01-29 05:00:00             0.00333333                 -0.333333   \n2018-01-29 06:00:00                   0.01                 -0.666667   \n2018-01-29 07:00:00              0.0133333                        -1   \n2018-01-29 08:00:00              0.0111111                        -1   \n2018-01-29 09:00:00              0.0133333                        -1   \n2018-01-29 10:00:00              0.0133333                 -0.666667   \n2018-01-29 11:00:00             0.00888889                 -0.333333   \n2018-01-29 12:00:00            -0.00333333                 -0.333333   \n2018-01-29 13:00:00                  -0.01                        -1   \n2018-01-29 14:00:00            -0.00333333                        -2   \n2018-01-29 15:00:00             0.00166667                  -1.83333   \n2018-01-29 16:00:00              0.0133333                  -1.33333   \n2018-01-29 17:00:00              0.0144444                 -0.222222   \n2018-01-29 18:00:00              0.0216667                      -0.5   \n2018-01-29 19:00:00                  0.015                      -0.5   \n2018-01-29 20:00:00              0.0122222                  -1.11111   \n2018-01-29 21:00:00             0.00333333                         0   \n2018-01-29 22:00:00                  0.005                      -0.5   \n2018-01-29 23:00:00             0.00333333                         0   \n2018-01-30 00:00:00            -0.00333333                 -0.333333   \n2018-01-30 01:00:00            -0.00333333                 -0.666667   \n2018-01-30 02:00:00            -0.00333333                 -0.666667   \n2018-01-30 03:00:00                      0                        -1   \n\n                    HourlyDryBulbTemperature HourlyRelativeHumidity  \\\nDATE                                                                  \n2018-01-29 03:00:00                        0             -0.0833333   \n2018-01-29 04:00:00                        0               0.166667   \n2018-01-29 05:00:00                        0               -1.33333   \n2018-01-29 06:00:00                -0.333333                     -1   \n2018-01-29 07:00:00                -0.583333               -1.91667   \n2018-01-29 08:00:00                -0.666667                     -1   \n2018-01-29 09:00:00                        0               -3.66667   \n2018-01-29 10:00:00                     0.25               -2.91667   \n2018-01-29 11:00:00                 0.333333               -2.33333   \n2018-01-29 12:00:00                        0                     -1   \n2018-01-29 13:00:00                        0                     -3   \n2018-01-29 14:00:00                -0.333333                     -5   \n2018-01-29 15:00:00                     -0.5                     -4   \n2018-01-29 16:00:00                -0.833333               -1.33333   \n2018-01-29 17:00:00                -0.777778                1.66667   \n2018-01-29 18:00:00                -0.833333                      1   \n2018-01-29 19:00:00                -0.666667               0.166667   \n2018-01-29 20:00:00                 -2.22222                      3   \n2018-01-29 21:00:00                       -2                      6   \n2018-01-29 22:00:00                     -2.5                6.16667   \n2018-01-29 23:00:00                -0.666667                2.33333   \n2018-01-30 00:00:00                -0.666667                1.33333   \n2018-01-30 01:00:00                -0.666667                      0   \n2018-01-30 02:00:00                       -1                1.33333   \n2018-01-30 03:00:00                       -1                      0   \n\n                    HourlyStationPressure HourlyVisibility HourlyWindSpeed  \\\nDATE                                                                         \n2018-01-29 03:00:00           -0.00416667        0.0833333       -0.416667   \n2018-01-29 04:00:00           -0.00333333                1        0.166667   \n2018-01-29 05:00:00            0.00333333          1.66667        0.333333   \n2018-01-29 06:00:00                  0.01        -0.333333               1   \n2018-01-29 07:00:00             0.0133333                1         1.33333   \n2018-01-29 08:00:00             0.0111111        -0.111111               1   \n2018-01-29 09:00:00             0.0133333          1.66667       -0.333333   \n2018-01-29 10:00:00             0.0133333        -0.333333        0.833333   \n2018-01-29 11:00:00            0.00888889         -1.22222        0.333333   \n2018-01-29 12:00:00           -0.00333333                0        0.333333   \n2018-01-29 13:00:00                 -0.01         0.666667         1.66667   \n2018-01-29 14:00:00           -0.00333333          1.33333        0.666667   \n2018-01-29 15:00:00            0.00166667                0             0.5   \n2018-01-29 16:00:00             0.0133333                0        -1.66667   \n2018-01-29 17:00:00             0.0144444                0        -1.88889   \n2018-01-29 18:00:00             0.0216667                0       -0.833333   \n2018-01-29 19:00:00                 0.015                0       -0.833333   \n2018-01-29 20:00:00             0.0122222                0        -2.77778   \n2018-01-29 21:00:00            0.00333333                0              -3   \n2018-01-29 22:00:00                 0.005                0        -2.83333   \n2018-01-29 23:00:00            0.00333333                0       -0.333333   \n2018-01-30 00:00:00           -0.00333333                0               0   \n2018-01-30 01:00:00           -0.00333333                0               0   \n2018-01-30 02:00:00           -0.00333333                0               0   \n2018-01-30 03:00:00                     0                0       -0.333333   \n\n                    HourlyWindDirection HourlyPrecipitation cloud_coverage  \nDATE                                                                        \n2018-01-29 03:00:00                -2.5         -0.00577225              0  \n2018-01-29 04:00:00                  -5          0.00302193              0  \n2018-01-29 05:00:00                   0        -0.000375227              0  \n2018-01-29 06:00:00                  10                   0              0  \n2018-01-29 07:00:00             9.16667         -0.00308974              0  \n2018-01-29 08:00:00             3.33333         0.000122437              0  \n2018-01-29 09:00:00                   0                   0              0  \n2018-01-29 10:00:00                -7.5         6.78004e-05              0  \n2018-01-29 11:00:00            -6.66667         0.000252789              0  \n2018-01-29 12:00:00            -6.66667                   0              0  \n2018-01-29 13:00:00             3.33333                   0              0  \n2018-01-29 14:00:00                   0                   0              0  \n2018-01-29 15:00:00                   0         5.79352e-05              0  \n2018-01-29 16:00:00                   0        -0.000149344              0  \n2018-01-29 17:00:00             2.22222        -0.000626231              0  \n2018-01-29 18:00:00             3.33333        -5.79352e-05              0  \n2018-01-29 19:00:00            -1.66667        -0.000325224       -1.66667  \n2018-01-29 20:00:00            -5.55556         0.000626231       -26.6667  \n2018-01-29 21:00:00                 -10                   0       -26.6667  \n2018-01-29 22:00:00                  -5         0.000474568            -25  \n2018-01-29 23:00:00            -6.66667                   0              0  \n2018-01-30 00:00:00                   0                   0              0  \n2018-01-30 01:00:00                   0                   0              0  \n2018-01-30 02:00:00                  10                   0              0  \n2018-01-30 03:00:00             13.3333                   0              0  ",
      "text/html": "<div>\n<style scoped>\n    .dataframe tbody tr th:only-of-type {\n        vertical-align: middle;\n    }\n\n    .dataframe tbody tr th {\n        vertical-align: top;\n    }\n\n    .dataframe thead th {\n        text-align: right;\n    }\n</style>\n<table border=\"1\" class=\"dataframe\">\n  <thead>\n    <tr style=\"text-align: right;\">\n      <th></th>\n      <th>HourlyAltimeterSetting</th>\n      <th>HourlyDewPointTemperature</th>\n      <th>HourlyDryBulbTemperature</th>\n      <th>HourlyRelativeHumidity</th>\n      <th>HourlyStationPressure</th>\n      <th>HourlyVisibility</th>\n      <th>HourlyWindSpeed</th>\n      <th>HourlyWindDirection</th>\n      <th>HourlyPrecipitation</th>\n      <th>cloud_coverage</th>\n    </tr>\n    <tr>\n      <th>DATE</th>\n      <th></th>\n      <th></th>\n      <th></th>\n      <th></th>\n      <th></th>\n      <th></th>\n      <th></th>\n      <th></th>\n      <th></th>\n      <th></th>\n    </tr>\n  </thead>\n  <tbody>\n    <tr>\n      <th>2018-01-29 03:00:00</th>\n      <td>-0.00416667</td>\n      <td>0</td>\n      <td>0</td>\n      <td>-0.0833333</td>\n      <td>-0.00416667</td>\n      <td>0.0833333</td>\n      <td>-0.416667</td>\n      <td>-2.5</td>\n      <td>-0.00577225</td>\n      <td>0</td>\n    </tr>\n    <tr>\n      <th>2018-01-29 04:00:00</th>\n      <td>-0.00333333</td>\n      <td>0</td>\n      <td>0</td>\n      <td>0.166667</td>\n      <td>-0.00333333</td>\n      <td>1</td>\n      <td>0.166667</td>\n      <td>-5</td>\n      <td>0.00302193</td>\n      <td>0</td>\n    </tr>\n    <tr>\n      <th>2018-01-29 05:00:00</th>\n      <td>0.00333333</td>\n      <td>-0.333333</td>\n      <td>0</td>\n      <td>-1.33333</td>\n      <td>0.00333333</td>\n      <td>1.66667</td>\n      <td>0.333333</td>\n      <td>0</td>\n      <td>-0.000375227</td>\n      <td>0</td>\n    </tr>\n    <tr>\n      <th>2018-01-29 06:00:00</th>\n      <td>0.01</td>\n      <td>-0.666667</td>\n      <td>-0.333333</td>\n      <td>-1</td>\n      <td>0.01</td>\n      <td>-0.333333</td>\n      <td>1</td>\n      <td>10</td>\n      <td>0</td>\n      <td>0</td>\n    </tr>\n    <tr>\n      <th>2018-01-29 07:00:00</th>\n      <td>0.0133333</td>\n      <td>-1</td>\n      <td>-0.583333</td>\n      <td>-1.91667</td>\n      <td>0.0133333</td>\n      <td>1</td>\n      <td>1.33333</td>\n      <td>9.16667</td>\n      <td>-0.00308974</td>\n      <td>0</td>\n    </tr>\n    <tr>\n      <th>2018-01-29 08:00:00</th>\n      <td>0.0111111</td>\n      <td>-1</td>\n      <td>-0.666667</td>\n      <td>-1</td>\n      <td>0.0111111</td>\n      <td>-0.111111</td>\n      <td>1</td>\n      <td>3.33333</td>\n      <td>0.000122437</td>\n      <td>0</td>\n    </tr>\n    <tr>\n      <th>2018-01-29 09:00:00</th>\n      <td>0.0133333</td>\n      <td>-1</td>\n      <td>0</td>\n      <td>-3.66667</td>\n      <td>0.0133333</td>\n      <td>1.66667</td>\n      <td>-0.333333</td>\n      <td>0</td>\n      <td>0</td>\n      <td>0</td>\n    </tr>\n    <tr>\n      <th>2018-01-29 10:00:00</th>\n      <td>0.0133333</td>\n      <td>-0.666667</td>\n      <td>0.25</td>\n      <td>-2.91667</td>\n      <td>0.0133333</td>\n      <td>-0.333333</td>\n      <td>0.833333</td>\n      <td>-7.5</td>\n      <td>6.78004e-05</td>\n      <td>0</td>\n    </tr>\n    <tr>\n      <th>2018-01-29 11:00:00</th>\n      <td>0.00888889</td>\n      <td>-0.333333</td>\n      <td>0.333333</td>\n      <td>-2.33333</td>\n      <td>0.00888889</td>\n      <td>-1.22222</td>\n      <td>0.333333</td>\n      <td>-6.66667</td>\n      <td>0.000252789</td>\n      <td>0</td>\n    </tr>\n    <tr>\n      <th>2018-01-29 12:00:00</th>\n      <td>-0.00333333</td>\n      <td>-0.333333</td>\n      <td>0</td>\n      <td>-1</td>\n      <td>-0.00333333</td>\n      <td>0</td>\n      <td>0.333333</td>\n      <td>-6.66667</td>\n      <td>0</td>\n      <td>0</td>\n    </tr>\n    <tr>\n      <th>2018-01-29 13:00:00</th>\n      <td>-0.01</td>\n      <td>-1</td>\n      <td>0</td>\n      <td>-3</td>\n      <td>-0.01</td>\n      <td>0.666667</td>\n      <td>1.66667</td>\n      <td>3.33333</td>\n      <td>0</td>\n      <td>0</td>\n    </tr>\n    <tr>\n      <th>2018-01-29 14:00:00</th>\n      <td>-0.00333333</td>\n      <td>-2</td>\n      <td>-0.333333</td>\n      <td>-5</td>\n      <td>-0.00333333</td>\n      <td>1.33333</td>\n      <td>0.666667</td>\n      <td>0</td>\n      <td>0</td>\n      <td>0</td>\n    </tr>\n    <tr>\n      <th>2018-01-29 15:00:00</th>\n      <td>0.00166667</td>\n      <td>-1.83333</td>\n      <td>-0.5</td>\n      <td>-4</td>\n      <td>0.00166667</td>\n      <td>0</td>\n      <td>0.5</td>\n      <td>0</td>\n      <td>5.79352e-05</td>\n      <td>0</td>\n    </tr>\n    <tr>\n      <th>2018-01-29 16:00:00</th>\n      <td>0.0133333</td>\n      <td>-1.33333</td>\n      <td>-0.833333</td>\n      <td>-1.33333</td>\n      <td>0.0133333</td>\n      <td>0</td>\n      <td>-1.66667</td>\n      <td>0</td>\n      <td>-0.000149344</td>\n      <td>0</td>\n    </tr>\n    <tr>\n      <th>2018-01-29 17:00:00</th>\n      <td>0.0144444</td>\n      <td>-0.222222</td>\n      <td>-0.777778</td>\n      <td>1.66667</td>\n      <td>0.0144444</td>\n      <td>0</td>\n      <td>-1.88889</td>\n      <td>2.22222</td>\n      <td>-0.000626231</td>\n      <td>0</td>\n    </tr>\n    <tr>\n      <th>2018-01-29 18:00:00</th>\n      <td>0.0216667</td>\n      <td>-0.5</td>\n      <td>-0.833333</td>\n      <td>1</td>\n      <td>0.0216667</td>\n      <td>0</td>\n      <td>-0.833333</td>\n      <td>3.33333</td>\n      <td>-5.79352e-05</td>\n      <td>0</td>\n    </tr>\n    <tr>\n      <th>2018-01-29 19:00:00</th>\n      <td>0.015</td>\n      <td>-0.5</td>\n      <td>-0.666667</td>\n      <td>0.166667</td>\n      <td>0.015</td>\n      <td>0</td>\n      <td>-0.833333</td>\n      <td>-1.66667</td>\n      <td>-0.000325224</td>\n      <td>-1.66667</td>\n    </tr>\n    <tr>\n      <th>2018-01-29 20:00:00</th>\n      <td>0.0122222</td>\n      <td>-1.11111</td>\n      <td>-2.22222</td>\n      <td>3</td>\n      <td>0.0122222</td>\n      <td>0</td>\n      <td>-2.77778</td>\n      <td>-5.55556</td>\n      <td>0.000626231</td>\n      <td>-26.6667</td>\n    </tr>\n    <tr>\n      <th>2018-01-29 21:00:00</th>\n      <td>0.00333333</td>\n      <td>0</td>\n      <td>-2</td>\n      <td>6</td>\n      <td>0.00333333</td>\n      <td>0</td>\n      <td>-3</td>\n      <td>-10</td>\n      <td>0</td>\n      <td>-26.6667</td>\n    </tr>\n    <tr>\n      <th>2018-01-29 22:00:00</th>\n      <td>0.005</td>\n      <td>-0.5</td>\n      <td>-2.5</td>\n      <td>6.16667</td>\n      <td>0.005</td>\n      <td>0</td>\n      <td>-2.83333</td>\n      <td>-5</td>\n      <td>0.000474568</td>\n      <td>-25</td>\n    </tr>\n    <tr>\n      <th>2018-01-29 23:00:00</th>\n      <td>0.00333333</td>\n      <td>0</td>\n      <td>-0.666667</td>\n      <td>2.33333</td>\n      <td>0.00333333</td>\n      <td>0</td>\n      <td>-0.333333</td>\n      <td>-6.66667</td>\n      <td>0</td>\n      <td>0</td>\n    </tr>\n    <tr>\n      <th>2018-01-30 00:00:00</th>\n      <td>-0.00333333</td>\n      <td>-0.333333</td>\n      <td>-0.666667</td>\n      <td>1.33333</td>\n      <td>-0.00333333</td>\n      <td>0</td>\n      <td>0</td>\n      <td>0</td>\n      <td>0</td>\n      <td>0</td>\n    </tr>\n    <tr>\n      <th>2018-01-30 01:00:00</th>\n      <td>-0.00333333</td>\n      <td>-0.666667</td>\n      <td>-0.666667</td>\n      <td>0</td>\n      <td>-0.00333333</td>\n      <td>0</td>\n      <td>0</td>\n      <td>0</td>\n      <td>0</td>\n      <td>0</td>\n    </tr>\n    <tr>\n      <th>2018-01-30 02:00:00</th>\n      <td>-0.00333333</td>\n      <td>-0.666667</td>\n      <td>-1</td>\n      <td>1.33333</td>\n      <td>-0.00333333</td>\n      <td>0</td>\n      <td>0</td>\n      <td>10</td>\n      <td>0</td>\n      <td>0</td>\n    </tr>\n    <tr>\n      <th>2018-01-30 03:00:00</th>\n      <td>0</td>\n      <td>-1</td>\n      <td>-1</td>\n      <td>0</td>\n      <td>0</td>\n      <td>0</td>\n      <td>-0.333333</td>\n      <td>13.3333</td>\n      <td>0</td>\n      <td>0</td>\n    </tr>\n  </tbody>\n</table>\n</div>"
     },
     "metadata": {},
     "execution_count": 90
    }
   ],
   "source": [
    "weather_change_df.head(25)"
   ]
  },
  {
   "cell_type": "markdown",
   "metadata": {},
   "source": [
    "The weather change dataframe is now constructed, next I will combine all three weather dataframes before adding them to the energy data, just to ensure everything is formatted correctly. First I want to change the column names of the different dataframes so I can tell them apart."
   ]
  },
  {
   "cell_type": "code",
   "execution_count": 92,
   "metadata": {},
   "outputs": [],
   "source": [
    "weather_change_df = weather_change_df.astype(float)"
   ]
  },
  {
   "cell_type": "code",
   "execution_count": 94,
   "metadata": {},
   "outputs": [],
   "source": [
    "weather_change_df.columns = ['altimeter_change', 'dew_point_change', 'temp_change', 'humidity_change', 'pressure_change', 'visibility_change', \n",
    "                            'wind_speed_change', 'wind_direction_change', 'precip_change', 'cloud_coverage_change']"
   ]
  },
  {
   "cell_type": "code",
   "execution_count": 95,
   "metadata": {},
   "outputs": [],
   "source": [
    "weather_lagged_df.columns = ['lag3_altimeter', 'lag3_dew_point', 'lag3_temp', 'lag3_humidity', 'lag3_pressure', \n",
    "                            'lag3_visibility', 'lag3_wind_speed', 'lag3_wind_direction', 'lag3_precipitation', 'lag3_cloud_coverage']"
   ]
  },
  {
   "cell_type": "code",
   "execution_count": 96,
   "metadata": {},
   "outputs": [],
   "source": [
    "big_weather_df2 = pd.concat([weather_hourly1, weather_lagged_df, weather_change_df], axis=1)"
   ]
  },
  {
   "cell_type": "code",
   "execution_count": 97,
   "metadata": {},
   "outputs": [
    {
     "output_type": "execute_result",
     "data": {
      "text/plain": "                     HourlyAltimeterSetting  HourlyDewPointTemperature  \\\nDATE                                                                     \n2018-01-29 03:00:00                   30.33                       28.0   \n2018-01-29 04:00:00                   30.33                       28.0   \n2018-01-29 05:00:00                   30.34                       27.0   \n2018-01-29 06:00:00                   30.36                       26.0   \n2018-01-29 07:00:00                   30.37                       25.0   \n\n                     HourlyDryBulbTemperature  HourlyRelativeHumidity  \\\nDATE                                                                    \n2018-01-29 03:00:00                     30.00                   92.00   \n2018-01-29 04:00:00                     30.00                   92.50   \n2018-01-29 05:00:00                     30.00                   88.00   \n2018-01-29 06:00:00                     29.00                   89.00   \n2018-01-29 07:00:00                     28.25                   86.75   \n\n                     HourlyStationPressure  HourlyVisibility  HourlyWindSpeed  \\\nDATE                                                                            \n2018-01-29 03:00:00                  29.50               6.0             13.0   \n2018-01-29 04:00:00                  29.50               6.0             10.5   \n2018-01-29 05:00:00                  29.51              10.0             14.0   \n2018-01-29 06:00:00                  29.53               5.0             16.0   \n2018-01-29 07:00:00                  29.54               9.0             14.5   \n\n                     HourlyWindDirection  HourlyPrecipitation  cloud_coverage  \\\nDATE                                                                            \n2018-01-29 03:00:00                320.0             0.000000            80.0   \n2018-01-29 04:00:00                325.0             0.009066            80.0   \n2018-01-29 05:00:00                340.0            -0.001126            80.0   \n2018-01-29 06:00:00                350.0             0.000000            80.0   \n2018-01-29 07:00:00                352.5            -0.000203            80.0   \n\n                     ...  altimeter_change  dew_point_change  temp_change  \\\nDATE                 ...                                                    \n2018-01-29 03:00:00  ...         -0.004167          0.000000     0.000000   \n2018-01-29 04:00:00  ...         -0.003333          0.000000     0.000000   \n2018-01-29 05:00:00  ...          0.003333         -0.333333     0.000000   \n2018-01-29 06:00:00  ...          0.010000         -0.666667    -0.333333   \n2018-01-29 07:00:00  ...          0.013333         -1.000000    -0.583333   \n\n                     humidity_change  pressure_change  visibility_change  \\\nDATE                                                                       \n2018-01-29 03:00:00        -0.083333        -0.004167           0.083333   \n2018-01-29 04:00:00         0.166667        -0.003333           1.000000   \n2018-01-29 05:00:00        -1.333333         0.003333           1.666667   \n2018-01-29 06:00:00        -1.000000         0.010000          -0.333333   \n2018-01-29 07:00:00        -1.916667         0.013333           1.000000   \n\n                     wind_speed_change  wind_direction_change  precip_change  \\\nDATE                                                                           \n2018-01-29 03:00:00          -0.416667              -2.500000      -0.005772   \n2018-01-29 04:00:00           0.166667              -5.000000       0.003022   \n2018-01-29 05:00:00           0.333333               0.000000      -0.000375   \n2018-01-29 06:00:00           1.000000              10.000000       0.000000   \n2018-01-29 07:00:00           1.333333               9.166667      -0.003090   \n\n                     cloud_coverage_change  \nDATE                                        \n2018-01-29 03:00:00                    0.0  \n2018-01-29 04:00:00                    0.0  \n2018-01-29 05:00:00                    0.0  \n2018-01-29 06:00:00                    0.0  \n2018-01-29 07:00:00                    0.0  \n\n[5 rows x 30 columns]",
      "text/html": "<div>\n<style scoped>\n    .dataframe tbody tr th:only-of-type {\n        vertical-align: middle;\n    }\n\n    .dataframe tbody tr th {\n        vertical-align: top;\n    }\n\n    .dataframe thead th {\n        text-align: right;\n    }\n</style>\n<table border=\"1\" class=\"dataframe\">\n  <thead>\n    <tr style=\"text-align: right;\">\n      <th></th>\n      <th>HourlyAltimeterSetting</th>\n      <th>HourlyDewPointTemperature</th>\n      <th>HourlyDryBulbTemperature</th>\n      <th>HourlyRelativeHumidity</th>\n      <th>HourlyStationPressure</th>\n      <th>HourlyVisibility</th>\n      <th>HourlyWindSpeed</th>\n      <th>HourlyWindDirection</th>\n      <th>HourlyPrecipitation</th>\n      <th>cloud_coverage</th>\n      <th>...</th>\n      <th>altimeter_change</th>\n      <th>dew_point_change</th>\n      <th>temp_change</th>\n      <th>humidity_change</th>\n      <th>pressure_change</th>\n      <th>visibility_change</th>\n      <th>wind_speed_change</th>\n      <th>wind_direction_change</th>\n      <th>precip_change</th>\n      <th>cloud_coverage_change</th>\n    </tr>\n    <tr>\n      <th>DATE</th>\n      <th></th>\n      <th></th>\n      <th></th>\n      <th></th>\n      <th></th>\n      <th></th>\n      <th></th>\n      <th></th>\n      <th></th>\n      <th></th>\n      <th></th>\n      <th></th>\n      <th></th>\n      <th></th>\n      <th></th>\n      <th></th>\n      <th></th>\n      <th></th>\n      <th></th>\n      <th></th>\n      <th></th>\n    </tr>\n  </thead>\n  <tbody>\n    <tr>\n      <th>2018-01-29 03:00:00</th>\n      <td>30.33</td>\n      <td>28.0</td>\n      <td>30.00</td>\n      <td>92.00</td>\n      <td>29.50</td>\n      <td>6.0</td>\n      <td>13.0</td>\n      <td>320.0</td>\n      <td>0.000000</td>\n      <td>80.0</td>\n      <td>...</td>\n      <td>-0.004167</td>\n      <td>0.000000</td>\n      <td>0.000000</td>\n      <td>-0.083333</td>\n      <td>-0.004167</td>\n      <td>0.083333</td>\n      <td>-0.416667</td>\n      <td>-2.500000</td>\n      <td>-0.005772</td>\n      <td>0.0</td>\n    </tr>\n    <tr>\n      <th>2018-01-29 04:00:00</th>\n      <td>30.33</td>\n      <td>28.0</td>\n      <td>30.00</td>\n      <td>92.50</td>\n      <td>29.50</td>\n      <td>6.0</td>\n      <td>10.5</td>\n      <td>325.0</td>\n      <td>0.009066</td>\n      <td>80.0</td>\n      <td>...</td>\n      <td>-0.003333</td>\n      <td>0.000000</td>\n      <td>0.000000</td>\n      <td>0.166667</td>\n      <td>-0.003333</td>\n      <td>1.000000</td>\n      <td>0.166667</td>\n      <td>-5.000000</td>\n      <td>0.003022</td>\n      <td>0.0</td>\n    </tr>\n    <tr>\n      <th>2018-01-29 05:00:00</th>\n      <td>30.34</td>\n      <td>27.0</td>\n      <td>30.00</td>\n      <td>88.00</td>\n      <td>29.51</td>\n      <td>10.0</td>\n      <td>14.0</td>\n      <td>340.0</td>\n      <td>-0.001126</td>\n      <td>80.0</td>\n      <td>...</td>\n      <td>0.003333</td>\n      <td>-0.333333</td>\n      <td>0.000000</td>\n      <td>-1.333333</td>\n      <td>0.003333</td>\n      <td>1.666667</td>\n      <td>0.333333</td>\n      <td>0.000000</td>\n      <td>-0.000375</td>\n      <td>0.0</td>\n    </tr>\n    <tr>\n      <th>2018-01-29 06:00:00</th>\n      <td>30.36</td>\n      <td>26.0</td>\n      <td>29.00</td>\n      <td>89.00</td>\n      <td>29.53</td>\n      <td>5.0</td>\n      <td>16.0</td>\n      <td>350.0</td>\n      <td>0.000000</td>\n      <td>80.0</td>\n      <td>...</td>\n      <td>0.010000</td>\n      <td>-0.666667</td>\n      <td>-0.333333</td>\n      <td>-1.000000</td>\n      <td>0.010000</td>\n      <td>-0.333333</td>\n      <td>1.000000</td>\n      <td>10.000000</td>\n      <td>0.000000</td>\n      <td>0.0</td>\n    </tr>\n    <tr>\n      <th>2018-01-29 07:00:00</th>\n      <td>30.37</td>\n      <td>25.0</td>\n      <td>28.25</td>\n      <td>86.75</td>\n      <td>29.54</td>\n      <td>9.0</td>\n      <td>14.5</td>\n      <td>352.5</td>\n      <td>-0.000203</td>\n      <td>80.0</td>\n      <td>...</td>\n      <td>0.013333</td>\n      <td>-1.000000</td>\n      <td>-0.583333</td>\n      <td>-1.916667</td>\n      <td>0.013333</td>\n      <td>1.000000</td>\n      <td>1.333333</td>\n      <td>9.166667</td>\n      <td>-0.003090</td>\n      <td>0.0</td>\n    </tr>\n  </tbody>\n</table>\n<p>5 rows × 30 columns</p>\n</div>"
     },
     "metadata": {},
     "execution_count": 97
    }
   ],
   "source": [
    "big_weather_df2.head()"
   ]
  },
  {
   "cell_type": "markdown",
   "metadata": {},
   "source": [
    "Everything looks properly formatted, next I can combine this dataframe with the energy data. To make sure things are formatted correctly in the base_df I will add a time column to this weather dataframe to make sure these observations are three hours behind each of the energy observations."
   ]
  },
  {
   "cell_type": "code",
   "execution_count": 99,
   "metadata": {},
   "outputs": [],
   "source": [
    "big_weather_df2['time'] = big_weather_df2.index"
   ]
  },
  {
   "cell_type": "code",
   "execution_count": 111,
   "metadata": {},
   "outputs": [],
   "source": [
    "base_df4 = pd.concat([energy, big_weather_df2.shift(3)], axis=1)"
   ]
  },
  {
   "cell_type": "code",
   "execution_count": 108,
   "metadata": {},
   "outputs": [
    {
     "output_type": "execute_result",
     "data": {
      "text/plain": "                     nexus_meter  hour  week  HourlyAltimeterSetting  \\\nDATE                                                                   \n2018-01-29 03:00:00          NaN   NaN   NaN                     NaN   \n2018-01-29 04:00:00          NaN   NaN   NaN                     NaN   \n2018-01-29 05:00:00          NaN   NaN   NaN                     NaN   \n2018-01-29 06:00:00          NaN   NaN   NaN                   30.33   \n2018-01-29 07:00:00          NaN   NaN   NaN                   30.33   \n\n                     HourlyDewPointTemperature  HourlyDryBulbTemperature  \\\nDATE                                                                       \n2018-01-29 03:00:00                        NaN                       NaN   \n2018-01-29 04:00:00                        NaN                       NaN   \n2018-01-29 05:00:00                        NaN                       NaN   \n2018-01-29 06:00:00                       28.0                      30.0   \n2018-01-29 07:00:00                       28.0                      30.0   \n\n                     HourlyRelativeHumidity  HourlyStationPressure  \\\nDATE                                                                 \n2018-01-29 03:00:00                     NaN                    NaN   \n2018-01-29 04:00:00                     NaN                    NaN   \n2018-01-29 05:00:00                     NaN                    NaN   \n2018-01-29 06:00:00                    92.0                   29.5   \n2018-01-29 07:00:00                    92.5                   29.5   \n\n                     HourlyVisibility  HourlyWindSpeed  ...  dew_point_change  \\\nDATE                                                    ...                     \n2018-01-29 03:00:00               NaN              NaN  ...               NaN   \n2018-01-29 04:00:00               NaN              NaN  ...               NaN   \n2018-01-29 05:00:00               NaN              NaN  ...               NaN   \n2018-01-29 06:00:00               6.0             13.0  ...               0.0   \n2018-01-29 07:00:00               6.0             10.5  ...               0.0   \n\n                     temp_change  humidity_change  pressure_change  \\\nDATE                                                                 \n2018-01-29 03:00:00          NaN              NaN              NaN   \n2018-01-29 04:00:00          NaN              NaN              NaN   \n2018-01-29 05:00:00          NaN              NaN              NaN   \n2018-01-29 06:00:00          0.0        -0.083333        -0.004167   \n2018-01-29 07:00:00          0.0         0.166667        -0.003333   \n\n                     visibility_change  wind_speed_change  \\\nDATE                                                        \n2018-01-29 03:00:00                NaN                NaN   \n2018-01-29 04:00:00                NaN                NaN   \n2018-01-29 05:00:00                NaN                NaN   \n2018-01-29 06:00:00           0.083333          -0.416667   \n2018-01-29 07:00:00           1.000000           0.166667   \n\n                     wind_direction_change  precip_change  \\\nDATE                                                        \n2018-01-29 03:00:00                    NaN            NaN   \n2018-01-29 04:00:00                    NaN            NaN   \n2018-01-29 05:00:00                    NaN            NaN   \n2018-01-29 06:00:00                   -2.5      -0.005772   \n2018-01-29 07:00:00                   -5.0       0.003022   \n\n                     cloud_coverage_change                time  \nDATE                                                            \n2018-01-29 03:00:00                    NaN                 NaT  \n2018-01-29 04:00:00                    NaN                 NaT  \n2018-01-29 05:00:00                    NaN                 NaT  \n2018-01-29 06:00:00                    0.0 2018-01-29 03:00:00  \n2018-01-29 07:00:00                    0.0 2018-01-29 04:00:00  \n\n[5 rows x 34 columns]",
      "text/html": "<div>\n<style scoped>\n    .dataframe tbody tr th:only-of-type {\n        vertical-align: middle;\n    }\n\n    .dataframe tbody tr th {\n        vertical-align: top;\n    }\n\n    .dataframe thead th {\n        text-align: right;\n    }\n</style>\n<table border=\"1\" class=\"dataframe\">\n  <thead>\n    <tr style=\"text-align: right;\">\n      <th></th>\n      <th>nexus_meter</th>\n      <th>hour</th>\n      <th>week</th>\n      <th>HourlyAltimeterSetting</th>\n      <th>HourlyDewPointTemperature</th>\n      <th>HourlyDryBulbTemperature</th>\n      <th>HourlyRelativeHumidity</th>\n      <th>HourlyStationPressure</th>\n      <th>HourlyVisibility</th>\n      <th>HourlyWindSpeed</th>\n      <th>...</th>\n      <th>dew_point_change</th>\n      <th>temp_change</th>\n      <th>humidity_change</th>\n      <th>pressure_change</th>\n      <th>visibility_change</th>\n      <th>wind_speed_change</th>\n      <th>wind_direction_change</th>\n      <th>precip_change</th>\n      <th>cloud_coverage_change</th>\n      <th>time</th>\n    </tr>\n    <tr>\n      <th>DATE</th>\n      <th></th>\n      <th></th>\n      <th></th>\n      <th></th>\n      <th></th>\n      <th></th>\n      <th></th>\n      <th></th>\n      <th></th>\n      <th></th>\n      <th></th>\n      <th></th>\n      <th></th>\n      <th></th>\n      <th></th>\n      <th></th>\n      <th></th>\n      <th></th>\n      <th></th>\n      <th></th>\n      <th></th>\n    </tr>\n  </thead>\n  <tbody>\n    <tr>\n      <th>2018-01-29 03:00:00</th>\n      <td>NaN</td>\n      <td>NaN</td>\n      <td>NaN</td>\n      <td>NaN</td>\n      <td>NaN</td>\n      <td>NaN</td>\n      <td>NaN</td>\n      <td>NaN</td>\n      <td>NaN</td>\n      <td>NaN</td>\n      <td>...</td>\n      <td>NaN</td>\n      <td>NaN</td>\n      <td>NaN</td>\n      <td>NaN</td>\n      <td>NaN</td>\n      <td>NaN</td>\n      <td>NaN</td>\n      <td>NaN</td>\n      <td>NaN</td>\n      <td>NaT</td>\n    </tr>\n    <tr>\n      <th>2018-01-29 04:00:00</th>\n      <td>NaN</td>\n      <td>NaN</td>\n      <td>NaN</td>\n      <td>NaN</td>\n      <td>NaN</td>\n      <td>NaN</td>\n      <td>NaN</td>\n      <td>NaN</td>\n      <td>NaN</td>\n      <td>NaN</td>\n      <td>...</td>\n      <td>NaN</td>\n      <td>NaN</td>\n      <td>NaN</td>\n      <td>NaN</td>\n      <td>NaN</td>\n      <td>NaN</td>\n      <td>NaN</td>\n      <td>NaN</td>\n      <td>NaN</td>\n      <td>NaT</td>\n    </tr>\n    <tr>\n      <th>2018-01-29 05:00:00</th>\n      <td>NaN</td>\n      <td>NaN</td>\n      <td>NaN</td>\n      <td>NaN</td>\n      <td>NaN</td>\n      <td>NaN</td>\n      <td>NaN</td>\n      <td>NaN</td>\n      <td>NaN</td>\n      <td>NaN</td>\n      <td>...</td>\n      <td>NaN</td>\n      <td>NaN</td>\n      <td>NaN</td>\n      <td>NaN</td>\n      <td>NaN</td>\n      <td>NaN</td>\n      <td>NaN</td>\n      <td>NaN</td>\n      <td>NaN</td>\n      <td>NaT</td>\n    </tr>\n    <tr>\n      <th>2018-01-29 06:00:00</th>\n      <td>NaN</td>\n      <td>NaN</td>\n      <td>NaN</td>\n      <td>30.33</td>\n      <td>28.0</td>\n      <td>30.0</td>\n      <td>92.0</td>\n      <td>29.5</td>\n      <td>6.0</td>\n      <td>13.0</td>\n      <td>...</td>\n      <td>0.0</td>\n      <td>0.0</td>\n      <td>-0.083333</td>\n      <td>-0.004167</td>\n      <td>0.083333</td>\n      <td>-0.416667</td>\n      <td>-2.5</td>\n      <td>-0.005772</td>\n      <td>0.0</td>\n      <td>2018-01-29 03:00:00</td>\n    </tr>\n    <tr>\n      <th>2018-01-29 07:00:00</th>\n      <td>NaN</td>\n      <td>NaN</td>\n      <td>NaN</td>\n      <td>30.33</td>\n      <td>28.0</td>\n      <td>30.0</td>\n      <td>92.5</td>\n      <td>29.5</td>\n      <td>6.0</td>\n      <td>10.5</td>\n      <td>...</td>\n      <td>0.0</td>\n      <td>0.0</td>\n      <td>0.166667</td>\n      <td>-0.003333</td>\n      <td>1.000000</td>\n      <td>0.166667</td>\n      <td>-5.0</td>\n      <td>0.003022</td>\n      <td>0.0</td>\n      <td>2018-01-29 04:00:00</td>\n    </tr>\n  </tbody>\n</table>\n<p>5 rows × 34 columns</p>\n</div>"
     },
     "metadata": {},
     "execution_count": 108
    }
   ],
   "source": [
    "base_df4.head()"
   ]
  },
  {
   "cell_type": "markdown",
   "metadata": {},
   "source": [
    "All the weather data lines up with the future energy data, now I can drop the time column and the first 24 rows because they contain no energy data."
   ]
  },
  {
   "cell_type": "code",
   "execution_count": 112,
   "metadata": {},
   "outputs": [],
   "source": [
    "base_df4.drop('time', axis=1, inplace=True)\n",
    "base_df4.drop(base_df4[:'2019-01-29'].index, axis=0, inplace=True)"
   ]
  },
  {
   "cell_type": "code",
   "execution_count": 113,
   "metadata": {},
   "outputs": [
    {
     "output_type": "execute_result",
     "data": {
      "text/plain": "                     nexus_meter  hour  week  HourlyAltimeterSetting  \\\nDATE                                                                   \n2019-01-30 00:00:00        -48.9   0.0   5.0                 30.1100   \n2019-01-30 01:00:00        -50.8   1.0   5.0                 30.1000   \n2019-01-30 02:00:00        -50.2   2.0   5.0                 30.1100   \n2019-01-30 03:00:00        -75.0   3.0   5.0                 30.1100   \n2019-01-30 04:00:00       -110.2   4.0   5.0                 30.1075   \n\n                     HourlyDewPointTemperature  HourlyDryBulbTemperature  \\\nDATE                                                                       \n2019-01-30 00:00:00                       -9.0                      1.00   \n2019-01-30 01:00:00                       -9.0                      0.00   \n2019-01-30 02:00:00                      -10.0                      0.00   \n2019-01-30 03:00:00                       -7.5                     -1.00   \n2019-01-30 04:00:00                      -11.0                     -2.25   \n\n                     HourlyRelativeHumidity  HourlyStationPressure  \\\nDATE                                                                 \n2019-01-30 00:00:00                   62.00                29.2900   \n2019-01-30 01:00:00                   65.00                29.2800   \n2019-01-30 02:00:00                   62.00                29.2900   \n2019-01-30 03:00:00                   73.50                29.2900   \n2019-01-30 04:00:00                   65.75                29.2875   \n\n                     HourlyVisibility  HourlyWindSpeed  ...  altimeter_change  \\\nDATE                                                    ...                     \n2019-01-30 00:00:00             10.00            20.00  ...          0.003333   \n2019-01-30 01:00:00             10.00            14.00  ...          0.000000   \n2019-01-30 02:00:00             10.00            24.00  ...          0.000000   \n2019-01-30 03:00:00              5.25            21.00  ...          0.000000   \n2019-01-30 04:00:00              7.50            25.75  ...          0.002500   \n\n                     dew_point_change  temp_change  humidity_change  \\\nDATE                                                                  \n2019-01-30 00:00:00         -0.666667    -1.000000         0.666667   \n2019-01-30 01:00:00          0.000000    -0.666667         2.000000   \n2019-01-30 02:00:00         -0.333333    -0.666667         1.000000   \n2019-01-30 03:00:00          0.500000    -0.666667         3.833333   \n2019-01-30 04:00:00         -0.666667    -0.750000         0.250000   \n\n                     pressure_change  visibility_change  wind_speed_change  \\\nDATE                                                                         \n2019-01-30 00:00:00         0.003333           0.000000           1.000000   \n2019-01-30 01:00:00         0.000000           0.000000          -2.000000   \n2019-01-30 02:00:00         0.000000           0.000000           0.666667   \n2019-01-30 03:00:00         0.000000          -1.583333           0.333333   \n2019-01-30 04:00:00         0.002500          -0.833333           3.916667   \n\n                     wind_direction_change  precip_change  \\\nDATE                                                        \n2019-01-30 00:00:00               0.000000       0.000000   \n2019-01-30 01:00:00              -3.333333       0.000000   \n2019-01-30 02:00:00             -10.000000       0.000000   \n2019-01-30 03:00:00              -3.333333      -0.000356   \n2019-01-30 04:00:00              -5.000000       0.000000   \n\n                     cloud_coverage_change  \nDATE                                        \n2019-01-30 00:00:00               0.000000  \n2019-01-30 01:00:00               0.000000  \n2019-01-30 02:00:00              26.666667  \n2019-01-30 03:00:00              26.666667  \n2019-01-30 04:00:00              26.666667  \n\n[5 rows x 33 columns]",
      "text/html": "<div>\n<style scoped>\n    .dataframe tbody tr th:only-of-type {\n        vertical-align: middle;\n    }\n\n    .dataframe tbody tr th {\n        vertical-align: top;\n    }\n\n    .dataframe thead th {\n        text-align: right;\n    }\n</style>\n<table border=\"1\" class=\"dataframe\">\n  <thead>\n    <tr style=\"text-align: right;\">\n      <th></th>\n      <th>nexus_meter</th>\n      <th>hour</th>\n      <th>week</th>\n      <th>HourlyAltimeterSetting</th>\n      <th>HourlyDewPointTemperature</th>\n      <th>HourlyDryBulbTemperature</th>\n      <th>HourlyRelativeHumidity</th>\n      <th>HourlyStationPressure</th>\n      <th>HourlyVisibility</th>\n      <th>HourlyWindSpeed</th>\n      <th>...</th>\n      <th>altimeter_change</th>\n      <th>dew_point_change</th>\n      <th>temp_change</th>\n      <th>humidity_change</th>\n      <th>pressure_change</th>\n      <th>visibility_change</th>\n      <th>wind_speed_change</th>\n      <th>wind_direction_change</th>\n      <th>precip_change</th>\n      <th>cloud_coverage_change</th>\n    </tr>\n    <tr>\n      <th>DATE</th>\n      <th></th>\n      <th></th>\n      <th></th>\n      <th></th>\n      <th></th>\n      <th></th>\n      <th></th>\n      <th></th>\n      <th></th>\n      <th></th>\n      <th></th>\n      <th></th>\n      <th></th>\n      <th></th>\n      <th></th>\n      <th></th>\n      <th></th>\n      <th></th>\n      <th></th>\n      <th></th>\n      <th></th>\n    </tr>\n  </thead>\n  <tbody>\n    <tr>\n      <th>2019-01-30 00:00:00</th>\n      <td>-48.9</td>\n      <td>0.0</td>\n      <td>5.0</td>\n      <td>30.1100</td>\n      <td>-9.0</td>\n      <td>1.00</td>\n      <td>62.00</td>\n      <td>29.2900</td>\n      <td>10.00</td>\n      <td>20.00</td>\n      <td>...</td>\n      <td>0.003333</td>\n      <td>-0.666667</td>\n      <td>-1.000000</td>\n      <td>0.666667</td>\n      <td>0.003333</td>\n      <td>0.000000</td>\n      <td>1.000000</td>\n      <td>0.000000</td>\n      <td>0.000000</td>\n      <td>0.000000</td>\n    </tr>\n    <tr>\n      <th>2019-01-30 01:00:00</th>\n      <td>-50.8</td>\n      <td>1.0</td>\n      <td>5.0</td>\n      <td>30.1000</td>\n      <td>-9.0</td>\n      <td>0.00</td>\n      <td>65.00</td>\n      <td>29.2800</td>\n      <td>10.00</td>\n      <td>14.00</td>\n      <td>...</td>\n      <td>0.000000</td>\n      <td>0.000000</td>\n      <td>-0.666667</td>\n      <td>2.000000</td>\n      <td>0.000000</td>\n      <td>0.000000</td>\n      <td>-2.000000</td>\n      <td>-3.333333</td>\n      <td>0.000000</td>\n      <td>0.000000</td>\n    </tr>\n    <tr>\n      <th>2019-01-30 02:00:00</th>\n      <td>-50.2</td>\n      <td>2.0</td>\n      <td>5.0</td>\n      <td>30.1100</td>\n      <td>-10.0</td>\n      <td>0.00</td>\n      <td>62.00</td>\n      <td>29.2900</td>\n      <td>10.00</td>\n      <td>24.00</td>\n      <td>...</td>\n      <td>0.000000</td>\n      <td>-0.333333</td>\n      <td>-0.666667</td>\n      <td>1.000000</td>\n      <td>0.000000</td>\n      <td>0.000000</td>\n      <td>0.666667</td>\n      <td>-10.000000</td>\n      <td>0.000000</td>\n      <td>26.666667</td>\n    </tr>\n    <tr>\n      <th>2019-01-30 03:00:00</th>\n      <td>-75.0</td>\n      <td>3.0</td>\n      <td>5.0</td>\n      <td>30.1100</td>\n      <td>-7.5</td>\n      <td>-1.00</td>\n      <td>73.50</td>\n      <td>29.2900</td>\n      <td>5.25</td>\n      <td>21.00</td>\n      <td>...</td>\n      <td>0.000000</td>\n      <td>0.500000</td>\n      <td>-0.666667</td>\n      <td>3.833333</td>\n      <td>0.000000</td>\n      <td>-1.583333</td>\n      <td>0.333333</td>\n      <td>-3.333333</td>\n      <td>-0.000356</td>\n      <td>26.666667</td>\n    </tr>\n    <tr>\n      <th>2019-01-30 04:00:00</th>\n      <td>-110.2</td>\n      <td>4.0</td>\n      <td>5.0</td>\n      <td>30.1075</td>\n      <td>-11.0</td>\n      <td>-2.25</td>\n      <td>65.75</td>\n      <td>29.2875</td>\n      <td>7.50</td>\n      <td>25.75</td>\n      <td>...</td>\n      <td>0.002500</td>\n      <td>-0.666667</td>\n      <td>-0.750000</td>\n      <td>0.250000</td>\n      <td>0.002500</td>\n      <td>-0.833333</td>\n      <td>3.916667</td>\n      <td>-5.000000</td>\n      <td>0.000000</td>\n      <td>26.666667</td>\n    </tr>\n  </tbody>\n</table>\n<p>5 rows × 33 columns</p>\n</div>"
     },
     "metadata": {},
     "execution_count": 113
    }
   ],
   "source": [
    "base_df4.head()"
   ]
  },
  {
   "cell_type": "markdown",
   "metadata": {},
   "source": [
    "Next I need to filter this dataframe to only include the time stamps 5am to 9pm. I will likely change this in the future, but this is the time frame I have been using for past iterations so this is the one I need to use now.\n",
    "\n",
    "## NOTE\n",
    "Do more investigation into which times are likely to produce energy, then filter the dataframe that way."
   ]
  },
  {
   "cell_type": "code",
   "execution_count": 114,
   "metadata": {},
   "outputs": [],
   "source": [
    "model_df4 = base_df4[(base_df4.index.hour >= 5) & (base_df4.index.hour <= 21)]"
   ]
  },
  {
   "cell_type": "code",
   "execution_count": 115,
   "metadata": {},
   "outputs": [
    {
     "output_type": "execute_result",
     "data": {
      "text/plain": "nexus_meter                  0\nhour                         0\nweek                         0\nHourlyAltimeterSetting       0\nHourlyDewPointTemperature    0\nHourlyDryBulbTemperature     0\nHourlyRelativeHumidity       0\nHourlyStationPressure        0\nHourlyVisibility             0\nHourlyWindSpeed              0\nHourlyWindDirection          0\nHourlyPrecipitation          0\ncloud_coverage               0\nlag3_altimeter               5\nlag3_dew_point               5\nlag3_temp                    5\nlag3_humidity                5\nlag3_pressure                5\nlag3_visibility              5\nlag3_wind_speed              5\nlag3_wind_direction          5\nlag3_precipitation           5\nlag3_cloud_coverage          5\naltimeter_change             5\ndew_point_change             5\ntemp_change                  5\nhumidity_change              5\npressure_change              5\nvisibility_change            5\nwind_speed_change            5\nwind_direction_change        5\nprecip_change                5\ncloud_coverage_change        5\ndtype: int64"
     },
     "metadata": {},
     "execution_count": 115
    }
   ],
   "source": [
    "model_df4.isna().sum()"
   ]
  },
  {
   "cell_type": "markdown",
   "metadata": {},
   "source": [
    "I am going to impute these missing values just as I did before with IterativeImputer, in future iterations I want to explore different methods of either dropping these rows or imputing differently, but for now I want to keep it consistent with past iterations."
   ]
  },
  {
   "cell_type": "code",
   "execution_count": 116,
   "metadata": {},
   "outputs": [],
   "source": [
    "imp4 = IterativeImputer(random_state=42)"
   ]
  },
  {
   "cell_type": "code",
   "execution_count": 117,
   "metadata": {},
   "outputs": [],
   "source": [
    "model4_imputed = imp4.fit_transform(model_df4.drop('nexus_meter', axis=1))"
   ]
  },
  {
   "cell_type": "code",
   "execution_count": 118,
   "metadata": {},
   "outputs": [],
   "source": [
    "model4_df = pd.DataFrame(index=model_df4.drop('nexus_meter', axis=1).index, columns=model_df4.drop('nexus_meter', axis=1).columns, data=model4_imputed)"
   ]
  },
  {
   "cell_type": "code",
   "execution_count": 119,
   "metadata": {},
   "outputs": [],
   "source": [
    "model4_df['nexus_meter'] = model_df4['nexus_meter']"
   ]
  },
  {
   "cell_type": "markdown",
   "metadata": {},
   "source": [
    "Now I can perform a train test split and run the random forest model on this dataset."
   ]
  },
  {
   "cell_type": "code",
   "execution_count": 120,
   "metadata": {},
   "outputs": [],
   "source": [
    "# separate target and features\n",
    "\n",
    "# target\n",
    "y4 = model4_df['nexus_meter']\n",
    "\n",
    "# features\n",
    "X4 = model4_df.drop('nexus_meter', axis=1)"
   ]
  },
  {
   "cell_type": "code",
   "execution_count": 121,
   "metadata": {},
   "outputs": [],
   "source": [
    "# train test split\n",
    "X_train4, X_test4, y_train4, y_test4 = train_test_split(X4, y4, random_state=42, test_size=.3)"
   ]
  },
  {
   "cell_type": "code",
   "execution_count": 122,
   "metadata": {},
   "outputs": [],
   "source": [
    "# instantiate new StandardScaler object\n",
    "scaler4 = StandardScaler()"
   ]
  },
  {
   "cell_type": "code",
   "execution_count": 123,
   "metadata": {},
   "outputs": [],
   "source": [
    "# scale training data\n",
    "X_train4_scaled = scaler4.fit_transform(X_train4)"
   ]
  },
  {
   "cell_type": "code",
   "execution_count": 124,
   "metadata": {},
   "outputs": [],
   "source": [
    "# instantiate random forest regressor with default parameters\n",
    "rf4 = RandomForestRegressor(random_state=42)"
   ]
  },
  {
   "cell_type": "code",
   "execution_count": 125,
   "metadata": {},
   "outputs": [
    {
     "output_type": "execute_result",
     "data": {
      "text/plain": "2577.9910534384926"
     },
     "metadata": {},
     "execution_count": 125
    }
   ],
   "source": [
    "# cross val score over 5 splits\n",
    "np.sqrt(cross_val_score(rf4, X_train4_scaled, y_train4, scoring=mse_score, cv=5).mean())"
   ]
  },
  {
   "cell_type": "markdown",
   "metadata": {},
   "source": [
    "So something did go wrong in the 05_models notebook, I didn't think I really would get the RMSE down to 4 so I was very confused when that happened. Just to double check everything, I want to run all of these feature combinations on random forest model with the same parameters as the best performing one from 05_models."
   ]
  },
  {
   "cell_type": "markdown",
   "metadata": {},
   "source": [
    "## Random Forest With Tuned Hyperparameters"
   ]
  },
  {
   "cell_type": "code",
   "execution_count": 127,
   "metadata": {},
   "outputs": [],
   "source": [
    "rf5 = RandomForestRegressor(random_state=42, max_depth=15, min_samples_leaf=25, n_estimators=100)"
   ]
  },
  {
   "cell_type": "markdown",
   "metadata": {},
   "source": [
    "Now I can calculate the cross val score over 5 splits for each of the training data combinations"
   ]
  },
  {
   "cell_type": "markdown",
   "metadata": {},
   "source": [
    "### Base Features"
   ]
  },
  {
   "cell_type": "code",
   "execution_count": 128,
   "metadata": {},
   "outputs": [
    {
     "output_type": "execute_result",
     "data": {
      "text/plain": "4861.238871525712"
     },
     "metadata": {},
     "execution_count": 128
    }
   ],
   "source": [
    "np.sqrt(cross_val_score(rf5, X_train1_scaled, y_train1, scoring=mse_score, cv=5).mean())"
   ]
  },
  {
   "cell_type": "code",
   "execution_count": 132,
   "metadata": {},
   "outputs": [
    {
     "output_type": "execute_result",
     "data": {
      "text/plain": "RandomForestRegressor(max_depth=15, min_samples_leaf=25, random_state=42)"
     },
     "metadata": {},
     "execution_count": 132
    }
   ],
   "source": [
    "rf5.fit(X_train1_scaled, y_train1)"
   ]
  },
  {
   "cell_type": "code",
   "execution_count": 134,
   "metadata": {},
   "outputs": [
    {
     "output_type": "execute_result",
     "data": {
      "text/plain": "4473.119484793107"
     },
     "metadata": {},
     "execution_count": 134
    }
   ],
   "source": [
    "np.sqrt(mse(y_train1, rf5.predict(X_train1_scaled)))"
   ]
  },
  {
   "cell_type": "markdown",
   "metadata": {},
   "source": [
    "### Include time element"
   ]
  },
  {
   "cell_type": "code",
   "execution_count": 129,
   "metadata": {},
   "outputs": [
    {
     "output_type": "execute_result",
     "data": {
      "text/plain": "2592.966985729268"
     },
     "metadata": {},
     "execution_count": 129
    }
   ],
   "source": [
    "np.sqrt(cross_val_score(rf5, X_train2_scaled, y_train2, scoring=mse_score, cv=5).mean())"
   ]
  },
  {
   "cell_type": "code",
   "execution_count": 135,
   "metadata": {},
   "outputs": [
    {
     "output_type": "execute_result",
     "data": {
      "text/plain": "RandomForestRegressor(max_depth=15, min_samples_leaf=25, random_state=42)"
     },
     "metadata": {},
     "execution_count": 135
    }
   ],
   "source": [
    "rf5.fit(X_train2_scaled, y_train2)"
   ]
  },
  {
   "cell_type": "code",
   "execution_count": 136,
   "metadata": {},
   "outputs": [
    {
     "output_type": "execute_result",
     "data": {
      "text/plain": "2349.9764480720455"
     },
     "metadata": {},
     "execution_count": 136
    }
   ],
   "source": [
    "np.sqrt(mse(y_train2, rf5.predict(X_train2_scaled)))"
   ]
  },
  {
   "cell_type": "markdown",
   "metadata": {},
   "source": [
    "### Add past weather conditions"
   ]
  },
  {
   "cell_type": "code",
   "execution_count": 130,
   "metadata": {},
   "outputs": [
    {
     "output_type": "execute_result",
     "data": {
      "text/plain": "2792.360258877181"
     },
     "metadata": {},
     "execution_count": 130
    }
   ],
   "source": [
    "np.sqrt(cross_val_score(rf5, X_train3_scaled, y_train3, scoring=mse_score, cv=5).mean())"
   ]
  },
  {
   "cell_type": "code",
   "execution_count": 137,
   "metadata": {},
   "outputs": [
    {
     "output_type": "execute_result",
     "data": {
      "text/plain": "RandomForestRegressor(max_depth=15, min_samples_leaf=25, random_state=42)"
     },
     "metadata": {},
     "execution_count": 137
    }
   ],
   "source": [
    "rf5.fit(X_train3_scaled, y_train3)"
   ]
  },
  {
   "cell_type": "code",
   "execution_count": 138,
   "metadata": {},
   "outputs": [
    {
     "output_type": "execute_result",
     "data": {
      "text/plain": "2501.1801611695814"
     },
     "metadata": {},
     "execution_count": 138
    }
   ],
   "source": [
    "np.sqrt(mse(y_train3, rf5.predict(X_train3_scaled)))"
   ]
  },
  {
   "cell_type": "markdown",
   "metadata": {},
   "source": [
    "### Add how weather changed"
   ]
  },
  {
   "cell_type": "code",
   "execution_count": 131,
   "metadata": {},
   "outputs": [
    {
     "output_type": "execute_result",
     "data": {
      "text/plain": "2829.224429679723"
     },
     "metadata": {},
     "execution_count": 131
    }
   ],
   "source": [
    "np.sqrt(cross_val_score(rf5, X_train4_scaled, y_train4, scoring=mse_score, cv=5).mean())"
   ]
  },
  {
   "cell_type": "code",
   "execution_count": 142,
   "metadata": {},
   "outputs": [
    {
     "output_type": "execute_result",
     "data": {
      "text/plain": "RandomForestRegressor(max_depth=15, min_samples_leaf=25, random_state=42)"
     },
     "metadata": {},
     "execution_count": 142
    }
   ],
   "source": [
    "rf5.fit(X_train4_scaled, y_train4)"
   ]
  },
  {
   "cell_type": "code",
   "execution_count": 143,
   "metadata": {},
   "outputs": [
    {
     "output_type": "execute_result",
     "data": {
      "text/plain": "2497.2588592954285"
     },
     "metadata": {},
     "execution_count": 143
    }
   ],
   "source": [
    "np.sqrt(mse(y_train4, rf5.predict(X_train4_scaled)))"
   ]
  },
  {
   "cell_type": "markdown",
   "metadata": {},
   "source": [
    "## Conclusions\n",
    "\n",
    "The best performing feature combinations were the base features with the addition of the time element (week of year/hour of day). Those are the features I am going to proceed with for now."
   ]
  },
  {
   "cell_type": "code",
   "execution_count": null,
   "metadata": {},
   "outputs": [],
   "source": []
  }
 ]
}