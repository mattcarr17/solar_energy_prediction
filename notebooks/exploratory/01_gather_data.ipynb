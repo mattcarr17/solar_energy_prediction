{
 "metadata": {
  "language_info": {
   "codemirror_mode": {
    "name": "ipython",
    "version": 3
   },
   "file_extension": ".py",
   "mimetype": "text/x-python",
   "name": "python",
   "nbconvert_exporter": "python",
   "pygments_lexer": "ipython3",
   "version": "3.8.3-final"
  },
  "orig_nbformat": 2,
  "kernelspec": {
   "name": "python_defaultSpec_1596834885270",
   "display_name": "Python 3.8.3 64-bit ('capstone': conda)"
  }
 },
 "nbformat": 4,
 "nbformat_minor": 2,
 "cells": [
  {
   "cell_type": "code",
   "execution_count": 1,
   "metadata": {},
   "outputs": [],
   "source": [
    "from selenium import webdriver\n",
    "from selenium.webdriver.chrome.options import Options\n",
    "import pandas as pd"
   ]
  },
  {
   "cell_type": "code",
   "execution_count": 2,
   "metadata": {},
   "outputs": [],
   "source": [
    "pref = {'download.default_directory': '/Users/mattcarr/Desktop/Flatiron/chi_sea_ds/projects/solar_energy_prediction/data/energy'}"
   ]
  },
  {
   "cell_type": "code",
   "execution_count": 3,
   "metadata": {},
   "outputs": [],
   "source": [
    "chrome_options = webdriver.ChromeOptions()\n",
    "chrome_options.add_experimental_option('prefs', pref)"
   ]
  },
  {
   "cell_type": "code",
   "execution_count": 4,
   "metadata": {},
   "outputs": [],
   "source": [
    "driver = webdriver.Chrome('../../src/chromedriver', options=chrome_options)"
   ]
  },
  {
   "cell_type": "code",
   "execution_count": 5,
   "metadata": {},
   "outputs": [],
   "source": [
    "driver.get('http://s35695.mini.alsoenergy.com/Dashboard/2a5669735065572f4a42454b772b714d3d')"
   ]
  },
  {
   "cell_type": "code",
   "execution_count": 6,
   "metadata": {},
   "outputs": [],
   "source": [
    "def next_page():\n",
    "    driver.find_element_by_xpath('/html/body/div[1]/div/div/div[2]/div/table/tbody/tr/td[2]/div/div[1]/div/div/nav/ul/li[1]/div/a[2]').click()\n",
    "\n",
    "def download():\n",
    "    driver.find_element_by_class_name('highcharts-button').click()\n",
    "    driver.find_element_by_xpath('/html/body/div[1]/div/div/div[2]/div/table/tbody/tr/td[2]/div/div[2]/div[1]/div/div[1]/div/div/div[3]/div/div[2]').click()"
   ]
  },
  {
   "cell_type": "code",
   "execution_count": 7,
   "metadata": {},
   "outputs": [],
   "source": [
    "def download_files(start_date, end_date):\n",
    "    start = pd.to_datetime(start_date)\n",
    "    end = pd.to_datetime(end_date)\n",
    "\n",
    "    date = pd.to_datetime(driver.find_element_by_class_name('highcharts-xaxis-title').text)\n",
    "\n",
    "    days_to_end = (date - end).days\n",
    "    days_to_start = (end - start).days\n",
    "\n",
    "    for _ in range(days_to_end):\n",
    "        next_page()\n",
    "\n",
    "    for _ in range(days_to_start + 1):\n",
    "        attempts = 0\n",
    "        while attempts < 2:\n",
    "            try:\n",
    "                download()\n",
    "                break\n",
    "            except:\n",
    "                print('exception')\n",
    "                attempts += 1\n",
    "\n",
    "        next_page()"
   ]
  },
  {
   "cell_type": "code",
   "execution_count": 8,
   "metadata": {
    "tags": []
   },
   "outputs": [
    {
     "output_type": "stream",
     "name": "stdout",
     "text": "exception\nexception\nexception\nexception\nexception\nexception\nexception\nexception\n"
    }
   ],
   "source": [
    "download_files('July 15, 2020', 'July 20, 2020')"
   ]
  },
  {
   "cell_type": "code",
   "execution_count": 9,
   "metadata": {},
   "outputs": [],
   "source": [
    "driver.close()"
   ]
  }
 ]
}