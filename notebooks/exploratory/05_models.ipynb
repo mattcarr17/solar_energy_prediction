{
 "metadata": {
  "language_info": {
   "codemirror_mode": {
    "name": "ipython",
    "version": 3
   },
   "file_extension": ".py",
   "mimetype": "text/x-python",
   "name": "python",
   "nbconvert_exporter": "python",
   "pygments_lexer": "ipython3",
   "version": 3
  },
  "orig_nbformat": 2,
  "kernelspec": {
   "name": "python_defaultSpec_1596676824364",
   "display_name": "Python 3.6.9 64-bit ('learn-env': conda)"
  }
 },
 "nbformat": 4,
 "nbformat_minor": 2,
 "cells": [
  {
   "cell_type": "markdown",
   "metadata": {},
   "source": [
    "# Modeling Notebook\n",
    "\n",
    "This notebook will contain model iterations as well as continued data exploration. I will attempt a variety of machine learning methods as well as different feature combinations and engineering. I also intend to experiment with different imputation methods and hope to create a custom imputation objectAfter actually exploring the data in the 04_explore_data I feel as though I have a much better idea of what I am working with.\n",
    "\n",
    "### Plan\n",
    "- Import data and do initial cleaning\n",
    "- Inital model iterations with IterativeImputer (experiment with different models)\n",
    "- Feature experimentation/engineering\n",
    "- Imputation Object?"
   ]
  },
  {
   "cell_type": "code",
   "execution_count": 19,
   "metadata": {
    "tags": []
   },
   "outputs": [
    {
     "output_type": "stream",
     "name": "stdout",
     "text": "The autoreload extension is already loaded. To reload it, use:\n  %reload_ext autoreload\n"
    }
   ],
   "source": [
    "# Import libraries\n",
    "import pandas as pd\n",
    "import numpy as np\n",
    "import matplotlib.pyplot as plt\n",
    "import seaborn as sns\n",
    "%matplotlib inline\n",
    "\n",
    "# Scaling\n",
    "from sklearn.preprocessing import StandardScaler\n",
    "\n",
    "# Data Split/Cross Validation\n",
    "from sklearn.model_selection import train_test_split, cross_val_score, KFold, GridSearchCV\n",
    "\n",
    "# Model Metrics\n",
    "from sklearn.metrics import mean_squared_error as mse\n",
    "from sklearn.metrics import mean_absolute_error as mae\n",
    "from sklearn.metrics import r2_score\n",
    "\n",
    "# Models\n",
    "from sklearn.linear_model import LinearRegression\n",
    "from sklearn.tree import DecisionTreeRegressor\n",
    "\n",
    "# Ensembles\n",
    "from sklearn.ensemble import RandomForestRegressor, GradientBoostingRegressor\n",
    "\n",
    "# Use functions from .py file\n",
    "%load_ext autoreload\n",
    "%autoreload 2\n",
    "import os\n",
    "import sys\n",
    "module_path = os.path.abspath(os.path.join(os.pardir, os.pardir))\n",
    "if module_path not in sys.path:\n",
    "    sys.path.append(module_path)\n",
    "    \n",
    "import src.data_gathering as dg"
   ]
  },
  {
   "cell_type": "markdown",
   "metadata": {},
   "source": [
    "## Import Data and Clean"
   ]
  },
  {
   "cell_type": "code",
   "execution_count": 26,
   "metadata": {},
   "outputs": [],
   "source": [
    "energy = dg.energy_data()\n",
    "weather = dg.weather_data()"
   ]
  },
  {
   "cell_type": "markdown",
   "metadata": {},
   "source": [
    "Drop rows from weather dataframe at time 23:59:00 from each day. "
   ]
  },
  {
   "cell_type": "code",
   "execution_count": 27,
   "metadata": {},
   "outputs": [],
   "source": [
    "to_drop = weather[(weather.index.hour == 23) & (weather.index.minute == 59)].index"
   ]
  },
  {
   "cell_type": "code",
   "execution_count": 28,
   "metadata": {},
   "outputs": [],
   "source": [
    "weather.drop(to_drop, axis=0, inplace=True)"
   ]
  },
  {
   "cell_type": "markdown",
   "metadata": {},
   "source": [
    "Convert all instances of \\* in dataframe to np.nan and all instances of '' in wind direction column to np.nan as well"
   ]
  },
  {
   "cell_type": "code",
   "execution_count": 29,
   "metadata": {},
   "outputs": [],
   "source": [
    "weather['HourlyDewPointTemperature'].loc[weather['HourlyDewPointTemperature'] == '*'] = np.nan\n",
    "weather['HourlyDryBulbTemperature'].loc[weather['HourlyDryBulbTemperature'] == '*'] = np.nan\n",
    "weather['HourlyRelativeHumidity'].loc[weather['HourlyRelativeHumidity'] == '*'] = np.nan\n",
    "weather['HourlyVisibility'].loc[weather['HourlyVisibility'] == '*'] = np.nan"
   ]
  },
  {
   "cell_type": "code",
   "execution_count": 30,
   "metadata": {},
   "outputs": [],
   "source": [
    "weather['HourlyWindDirection'] = weather['HourlyWindDirection'].replace('', np.nan)"
   ]
  },
  {
   "cell_type": "markdown",
   "metadata": {},
   "source": [
    "Convert weather dataframe to float"
   ]
  },
  {
   "cell_type": "code",
   "execution_count": 31,
   "metadata": {},
   "outputs": [],
   "source": [
    "weather = weather.astype(float)"
   ]
  },
  {
   "cell_type": "markdown",
   "metadata": {},
   "source": [
    "Now I can begin to do some modeling."
   ]
  },
  {
   "cell_type": "markdown",
   "metadata": {},
   "source": [
    "## Initial Model Iterations\n",
    "\n",
    "My initial MVP model iterations will use IterativeImputer to impute the missing values. In later iterations I hope to create a custom imputation object that can incorporate PCA as well because there is a lot of multicollinearity between weather features, but for now this will work."
   ]
  },
  {
   "cell_type": "code",
   "execution_count": 32,
   "metadata": {},
   "outputs": [],
   "source": [
    "from sklearn.experimental import enable_iterative_imputer\n",
    "from sklearn.impute import IterativeImputer"
   ]
  },
  {
   "cell_type": "code",
   "execution_count": 33,
   "metadata": {},
   "outputs": [],
   "source": [
    "imp = IterativeImputer(random_state=42)"
   ]
  },
  {
   "cell_type": "code",
   "execution_count": 34,
   "metadata": {},
   "outputs": [],
   "source": [
    "weather_iter_imputed = imp.fit_transform(weather)"
   ]
  },
  {
   "cell_type": "markdown",
   "metadata": {},
   "source": [
    "The IterativeImputer object returns a numpy array, so I need to put this data back into a dataframe using the columns and index from the original weather dataframe."
   ]
  },
  {
   "cell_type": "code",
   "execution_count": 35,
   "metadata": {},
   "outputs": [],
   "source": [
    "weather_df = pd.DataFrame(index=weather.index, columns=weather.columns, data=weather_iter_imputed)"
   ]
  },
  {
   "cell_type": "markdown",
   "metadata": {},
   "source": [
    "Now that I have all of the weather and energy data, I can combine the two into a single dataframe. Since I am modeling energy production three hours in advance, I will incorporate a three hour lag between the weather data and the solar energy output. Before I do that I need to aggregate the weather dataframe into hourly format. To ensure the data lines up correctly (energy output and weather conditions from three hours prior) I am going to add a column to the weather dataframe that gives says the time of weather observation. Once I am certain everything is formatted correctly, I can drop this column"
   ]
  },
  {
   "cell_type": "code",
   "execution_count": 346,
   "metadata": {},
   "outputs": [],
   "source": [
    "weather_hourly = weather_df.resample('H').mean()"
   ]
  },
  {
   "cell_type": "code",
   "execution_count": 347,
   "metadata": {},
   "outputs": [],
   "source": [
    "weather_hourly['time'] = weather_hourly.index"
   ]
  },
  {
   "cell_type": "code",
   "execution_count": 39,
   "metadata": {},
   "outputs": [],
   "source": [
    "base_df = pd.concat([energy, weather_hourly.shift(3)], axis=1)"
   ]
  },
  {
   "cell_type": "code",
   "execution_count": 40,
   "metadata": {},
   "outputs": [
    {
     "output_type": "execute_result",
     "data": {
      "text/plain": "                     nexus_meter  HourlyAltimeterSetting  \\\nDATE                                                       \n2018-01-29 00:00:00          NaN                     NaN   \n2018-01-29 01:00:00          NaN                     NaN   \n2018-01-29 02:00:00          NaN                     NaN   \n2018-01-29 03:00:00          NaN                 30.3425   \n2018-01-29 04:00:00          NaN                 30.3400   \n\n                     HourlyDewPointTemperature  HourlyDryBulbTemperature  \\\nDATE                                                                       \n2018-01-29 00:00:00                        NaN                       NaN   \n2018-01-29 01:00:00                        NaN                       NaN   \n2018-01-29 02:00:00                        NaN                       NaN   \n2018-01-29 03:00:00                       28.0                      30.0   \n2018-01-29 04:00:00                       28.0                      30.0   \n\n                     HourlyRelativeHumidity  HourlyStationPressure  \\\nDATE                                                                 \n2018-01-29 00:00:00                     NaN                    NaN   \n2018-01-29 01:00:00                     NaN                    NaN   \n2018-01-29 02:00:00                     NaN                    NaN   \n2018-01-29 03:00:00                   92.25                29.5125   \n2018-01-29 04:00:00                   92.00                29.5100   \n\n                     HourlyVisibility  HourlyWindSpeed  HourlyWindDirection  \\\nDATE                                                                          \n2018-01-29 00:00:00               NaN              NaN                  NaN   \n2018-01-29 01:00:00               NaN              NaN                  NaN   \n2018-01-29 02:00:00               NaN              NaN                  NaN   \n2018-01-29 03:00:00              5.75            14.25                327.5   \n2018-01-29 04:00:00              3.00            10.00                340.0   \n\n                     HourlyPrecipitation  cloud_coverage                time  \nDATE                                                                          \n2018-01-29 00:00:00                  NaN             NaN                 NaT  \n2018-01-29 01:00:00                  NaN             NaN                 NaT  \n2018-01-29 02:00:00                  NaN             NaN                 NaT  \n2018-01-29 03:00:00             0.017317            80.0 2018-01-29 00:00:00  \n2018-01-29 04:00:00             0.000000            80.0 2018-01-29 01:00:00  ",
      "text/html": "<div>\n<style scoped>\n    .dataframe tbody tr th:only-of-type {\n        vertical-align: middle;\n    }\n\n    .dataframe tbody tr th {\n        vertical-align: top;\n    }\n\n    .dataframe thead th {\n        text-align: right;\n    }\n</style>\n<table border=\"1\" class=\"dataframe\">\n  <thead>\n    <tr style=\"text-align: right;\">\n      <th></th>\n      <th>nexus_meter</th>\n      <th>HourlyAltimeterSetting</th>\n      <th>HourlyDewPointTemperature</th>\n      <th>HourlyDryBulbTemperature</th>\n      <th>HourlyRelativeHumidity</th>\n      <th>HourlyStationPressure</th>\n      <th>HourlyVisibility</th>\n      <th>HourlyWindSpeed</th>\n      <th>HourlyWindDirection</th>\n      <th>HourlyPrecipitation</th>\n      <th>cloud_coverage</th>\n      <th>time</th>\n    </tr>\n    <tr>\n      <th>DATE</th>\n      <th></th>\n      <th></th>\n      <th></th>\n      <th></th>\n      <th></th>\n      <th></th>\n      <th></th>\n      <th></th>\n      <th></th>\n      <th></th>\n      <th></th>\n      <th></th>\n    </tr>\n  </thead>\n  <tbody>\n    <tr>\n      <th>2018-01-29 00:00:00</th>\n      <td>NaN</td>\n      <td>NaN</td>\n      <td>NaN</td>\n      <td>NaN</td>\n      <td>NaN</td>\n      <td>NaN</td>\n      <td>NaN</td>\n      <td>NaN</td>\n      <td>NaN</td>\n      <td>NaN</td>\n      <td>NaN</td>\n      <td>NaT</td>\n    </tr>\n    <tr>\n      <th>2018-01-29 01:00:00</th>\n      <td>NaN</td>\n      <td>NaN</td>\n      <td>NaN</td>\n      <td>NaN</td>\n      <td>NaN</td>\n      <td>NaN</td>\n      <td>NaN</td>\n      <td>NaN</td>\n      <td>NaN</td>\n      <td>NaN</td>\n      <td>NaN</td>\n      <td>NaT</td>\n    </tr>\n    <tr>\n      <th>2018-01-29 02:00:00</th>\n      <td>NaN</td>\n      <td>NaN</td>\n      <td>NaN</td>\n      <td>NaN</td>\n      <td>NaN</td>\n      <td>NaN</td>\n      <td>NaN</td>\n      <td>NaN</td>\n      <td>NaN</td>\n      <td>NaN</td>\n      <td>NaN</td>\n      <td>NaT</td>\n    </tr>\n    <tr>\n      <th>2018-01-29 03:00:00</th>\n      <td>NaN</td>\n      <td>30.3425</td>\n      <td>28.0</td>\n      <td>30.0</td>\n      <td>92.25</td>\n      <td>29.5125</td>\n      <td>5.75</td>\n      <td>14.25</td>\n      <td>327.5</td>\n      <td>0.017317</td>\n      <td>80.0</td>\n      <td>2018-01-29 00:00:00</td>\n    </tr>\n    <tr>\n      <th>2018-01-29 04:00:00</th>\n      <td>NaN</td>\n      <td>30.3400</td>\n      <td>28.0</td>\n      <td>30.0</td>\n      <td>92.00</td>\n      <td>29.5100</td>\n      <td>3.00</td>\n      <td>10.00</td>\n      <td>340.0</td>\n      <td>0.000000</td>\n      <td>80.0</td>\n      <td>2018-01-29 01:00:00</td>\n    </tr>\n  </tbody>\n</table>\n</div>"
     },
     "metadata": {},
     "execution_count": 40
    }
   ],
   "source": [
    "base_df.head()"
   ]
  },
  {
   "cell_type": "markdown",
   "metadata": {},
   "source": [
    "Everything seems to be formatted correctly. The first 24 rows of the dataframe do not contain any energy data, so I am going to drop those rows. As well as the time column that I created."
   ]
  },
  {
   "cell_type": "code",
   "execution_count": 41,
   "metadata": {},
   "outputs": [],
   "source": [
    "to_drop2 = base_df[:'2018-01-29'].index"
   ]
  },
  {
   "cell_type": "code",
   "execution_count": 42,
   "metadata": {},
   "outputs": [],
   "source": [
    "base_df.drop(to_drop2, axis=0, inplace=True)"
   ]
  },
  {
   "cell_type": "code",
   "execution_count": 48,
   "metadata": {},
   "outputs": [],
   "source": [
    "base_df.drop('time', axis=1, inplace=True)"
   ]
  },
  {
   "cell_type": "code",
   "execution_count": 49,
   "metadata": {},
   "outputs": [
    {
     "output_type": "execute_result",
     "data": {
      "text/plain": "                     nexus_meter  HourlyAltimeterSetting  \\\nDATE                                                       \n2018-01-30 00:00:00          0.0                   30.47   \n2018-01-30 01:00:00          0.0                   30.48   \n2018-01-30 02:00:00          0.0                   30.48   \n2018-01-30 03:00:00          0.0                   30.46   \n2018-01-30 04:00:00          0.0                   30.47   \n\n                     HourlyDewPointTemperature  HourlyDryBulbTemperature  \\\nDATE                                                                       \n2018-01-30 00:00:00                       15.0                      19.0   \n2018-01-30 01:00:00                       13.0                      17.0   \n2018-01-30 02:00:00                       13.0                      17.0   \n2018-01-30 03:00:00                       14.0                      17.0   \n2018-01-30 04:00:00                       11.0                      15.0   \n\n                     HourlyRelativeHumidity  HourlyStationPressure  \\\nDATE                                                                 \n2018-01-30 00:00:00                    84.0                  29.64   \n2018-01-30 01:00:00                    84.0                  29.65   \n2018-01-30 02:00:00                    84.0                  29.65   \n2018-01-30 03:00:00                    88.0                  29.63   \n2018-01-30 04:00:00                    84.0                  29.64   \n\n                     HourlyVisibility  HourlyWindSpeed  HourlyWindDirection  \\\nDATE                                                                          \n2018-01-30 00:00:00              10.0              6.0                310.0   \n2018-01-30 01:00:00              10.0              6.0                320.0   \n2018-01-30 02:00:00              10.0              5.0                300.0   \n2018-01-30 03:00:00              10.0              6.0                310.0   \n2018-01-30 04:00:00              10.0              6.0                320.0   \n\n                     HourlyPrecipitation  cloud_coverage  \nDATE                                                      \n2018-01-30 00:00:00                  0.0             0.0  \n2018-01-30 01:00:00                  0.0             0.0  \n2018-01-30 02:00:00                  0.0             0.0  \n2018-01-30 03:00:00                  0.0             0.0  \n2018-01-30 04:00:00                  0.0             0.0  ",
      "text/html": "<div>\n<style scoped>\n    .dataframe tbody tr th:only-of-type {\n        vertical-align: middle;\n    }\n\n    .dataframe tbody tr th {\n        vertical-align: top;\n    }\n\n    .dataframe thead th {\n        text-align: right;\n    }\n</style>\n<table border=\"1\" class=\"dataframe\">\n  <thead>\n    <tr style=\"text-align: right;\">\n      <th></th>\n      <th>nexus_meter</th>\n      <th>HourlyAltimeterSetting</th>\n      <th>HourlyDewPointTemperature</th>\n      <th>HourlyDryBulbTemperature</th>\n      <th>HourlyRelativeHumidity</th>\n      <th>HourlyStationPressure</th>\n      <th>HourlyVisibility</th>\n      <th>HourlyWindSpeed</th>\n      <th>HourlyWindDirection</th>\n      <th>HourlyPrecipitation</th>\n      <th>cloud_coverage</th>\n    </tr>\n    <tr>\n      <th>DATE</th>\n      <th></th>\n      <th></th>\n      <th></th>\n      <th></th>\n      <th></th>\n      <th></th>\n      <th></th>\n      <th></th>\n      <th></th>\n      <th></th>\n      <th></th>\n    </tr>\n  </thead>\n  <tbody>\n    <tr>\n      <th>2018-01-30 00:00:00</th>\n      <td>0.0</td>\n      <td>30.47</td>\n      <td>15.0</td>\n      <td>19.0</td>\n      <td>84.0</td>\n      <td>29.64</td>\n      <td>10.0</td>\n      <td>6.0</td>\n      <td>310.0</td>\n      <td>0.0</td>\n      <td>0.0</td>\n    </tr>\n    <tr>\n      <th>2018-01-30 01:00:00</th>\n      <td>0.0</td>\n      <td>30.48</td>\n      <td>13.0</td>\n      <td>17.0</td>\n      <td>84.0</td>\n      <td>29.65</td>\n      <td>10.0</td>\n      <td>6.0</td>\n      <td>320.0</td>\n      <td>0.0</td>\n      <td>0.0</td>\n    </tr>\n    <tr>\n      <th>2018-01-30 02:00:00</th>\n      <td>0.0</td>\n      <td>30.48</td>\n      <td>13.0</td>\n      <td>17.0</td>\n      <td>84.0</td>\n      <td>29.65</td>\n      <td>10.0</td>\n      <td>5.0</td>\n      <td>300.0</td>\n      <td>0.0</td>\n      <td>0.0</td>\n    </tr>\n    <tr>\n      <th>2018-01-30 03:00:00</th>\n      <td>0.0</td>\n      <td>30.46</td>\n      <td>14.0</td>\n      <td>17.0</td>\n      <td>88.0</td>\n      <td>29.63</td>\n      <td>10.0</td>\n      <td>6.0</td>\n      <td>310.0</td>\n      <td>0.0</td>\n      <td>0.0</td>\n    </tr>\n    <tr>\n      <th>2018-01-30 04:00:00</th>\n      <td>0.0</td>\n      <td>30.47</td>\n      <td>11.0</td>\n      <td>15.0</td>\n      <td>84.0</td>\n      <td>29.64</td>\n      <td>10.0</td>\n      <td>6.0</td>\n      <td>320.0</td>\n      <td>0.0</td>\n      <td>0.0</td>\n    </tr>\n  </tbody>\n</table>\n</div>"
     },
     "metadata": {},
     "execution_count": 49
    }
   ],
   "source": [
    "base_df.head()"
   ]
  },
  {
   "cell_type": "code",
   "execution_count": 50,
   "metadata": {},
   "outputs": [
    {
     "output_type": "execute_result",
     "data": {
      "text/plain": "nexus_meter                   0\nHourlyAltimeterSetting       10\nHourlyDewPointTemperature    10\nHourlyDryBulbTemperature     10\nHourlyRelativeHumidity       10\nHourlyStationPressure        10\nHourlyVisibility             10\nHourlyWindSpeed              10\nHourlyWindDirection          10\nHourlyPrecipitation          10\ncloud_coverage               10\ndtype: int64"
     },
     "metadata": {},
     "execution_count": 50
    }
   ],
   "source": [
    "base_df.isna().sum()"
   ]
  },
  {
   "cell_type": "markdown",
   "metadata": {},
   "source": [
    "So there are ten rows that do not contain any weather data, I want to see what at what time index those rows occur, because I may just be able to drop them"
   ]
  },
  {
   "cell_type": "code",
   "execution_count": 51,
   "metadata": {},
   "outputs": [
    {
     "output_type": "execute_result",
     "data": {
      "text/plain": "                     nexus_meter  HourlyAltimeterSetting  \\\nDATE                                                       \n2018-04-12 03:00:00       -38.90                     NaN   \n2018-04-12 04:00:00       -38.63                     NaN   \n2018-05-16 03:00:00       -44.90                     NaN   \n2018-05-16 04:00:00       -44.60                     NaN   \n2019-07-25 01:00:00       -53.00                     NaN   \n2019-07-25 02:00:00       -52.90                     NaN   \n2019-07-25 03:00:00       -51.60                     NaN   \n2019-07-25 04:00:00       -51.60                     NaN   \n2020-02-20 02:00:00       -50.60                     NaN   \n2020-02-20 03:00:00       -48.70                     NaN   \n\n                     HourlyDewPointTemperature  HourlyDryBulbTemperature  \\\nDATE                                                                       \n2018-04-12 03:00:00                        NaN                       NaN   \n2018-04-12 04:00:00                        NaN                       NaN   \n2018-05-16 03:00:00                        NaN                       NaN   \n2018-05-16 04:00:00                        NaN                       NaN   \n2019-07-25 01:00:00                        NaN                       NaN   \n2019-07-25 02:00:00                        NaN                       NaN   \n2019-07-25 03:00:00                        NaN                       NaN   \n2019-07-25 04:00:00                        NaN                       NaN   \n2020-02-20 02:00:00                        NaN                       NaN   \n2020-02-20 03:00:00                        NaN                       NaN   \n\n                     HourlyRelativeHumidity  HourlyStationPressure  \\\nDATE                                                                 \n2018-04-12 03:00:00                     NaN                    NaN   \n2018-04-12 04:00:00                     NaN                    NaN   \n2018-05-16 03:00:00                     NaN                    NaN   \n2018-05-16 04:00:00                     NaN                    NaN   \n2019-07-25 01:00:00                     NaN                    NaN   \n2019-07-25 02:00:00                     NaN                    NaN   \n2019-07-25 03:00:00                     NaN                    NaN   \n2019-07-25 04:00:00                     NaN                    NaN   \n2020-02-20 02:00:00                     NaN                    NaN   \n2020-02-20 03:00:00                     NaN                    NaN   \n\n                     HourlyVisibility  HourlyWindSpeed  HourlyWindDirection  \\\nDATE                                                                          \n2018-04-12 03:00:00               NaN              NaN                  NaN   \n2018-04-12 04:00:00               NaN              NaN                  NaN   \n2018-05-16 03:00:00               NaN              NaN                  NaN   \n2018-05-16 04:00:00               NaN              NaN                  NaN   \n2019-07-25 01:00:00               NaN              NaN                  NaN   \n2019-07-25 02:00:00               NaN              NaN                  NaN   \n2019-07-25 03:00:00               NaN              NaN                  NaN   \n2019-07-25 04:00:00               NaN              NaN                  NaN   \n2020-02-20 02:00:00               NaN              NaN                  NaN   \n2020-02-20 03:00:00               NaN              NaN                  NaN   \n\n                     HourlyPrecipitation  cloud_coverage  \nDATE                                                      \n2018-04-12 03:00:00                  NaN             NaN  \n2018-04-12 04:00:00                  NaN             NaN  \n2018-05-16 03:00:00                  NaN             NaN  \n2018-05-16 04:00:00                  NaN             NaN  \n2019-07-25 01:00:00                  NaN             NaN  \n2019-07-25 02:00:00                  NaN             NaN  \n2019-07-25 03:00:00                  NaN             NaN  \n2019-07-25 04:00:00                  NaN             NaN  \n2020-02-20 02:00:00                  NaN             NaN  \n2020-02-20 03:00:00                  NaN             NaN  ",
      "text/html": "<div>\n<style scoped>\n    .dataframe tbody tr th:only-of-type {\n        vertical-align: middle;\n    }\n\n    .dataframe tbody tr th {\n        vertical-align: top;\n    }\n\n    .dataframe thead th {\n        text-align: right;\n    }\n</style>\n<table border=\"1\" class=\"dataframe\">\n  <thead>\n    <tr style=\"text-align: right;\">\n      <th></th>\n      <th>nexus_meter</th>\n      <th>HourlyAltimeterSetting</th>\n      <th>HourlyDewPointTemperature</th>\n      <th>HourlyDryBulbTemperature</th>\n      <th>HourlyRelativeHumidity</th>\n      <th>HourlyStationPressure</th>\n      <th>HourlyVisibility</th>\n      <th>HourlyWindSpeed</th>\n      <th>HourlyWindDirection</th>\n      <th>HourlyPrecipitation</th>\n      <th>cloud_coverage</th>\n    </tr>\n    <tr>\n      <th>DATE</th>\n      <th></th>\n      <th></th>\n      <th></th>\n      <th></th>\n      <th></th>\n      <th></th>\n      <th></th>\n      <th></th>\n      <th></th>\n      <th></th>\n      <th></th>\n    </tr>\n  </thead>\n  <tbody>\n    <tr>\n      <th>2018-04-12 03:00:00</th>\n      <td>-38.90</td>\n      <td>NaN</td>\n      <td>NaN</td>\n      <td>NaN</td>\n      <td>NaN</td>\n      <td>NaN</td>\n      <td>NaN</td>\n      <td>NaN</td>\n      <td>NaN</td>\n      <td>NaN</td>\n      <td>NaN</td>\n    </tr>\n    <tr>\n      <th>2018-04-12 04:00:00</th>\n      <td>-38.63</td>\n      <td>NaN</td>\n      <td>NaN</td>\n      <td>NaN</td>\n      <td>NaN</td>\n      <td>NaN</td>\n      <td>NaN</td>\n      <td>NaN</td>\n      <td>NaN</td>\n      <td>NaN</td>\n      <td>NaN</td>\n    </tr>\n    <tr>\n      <th>2018-05-16 03:00:00</th>\n      <td>-44.90</td>\n      <td>NaN</td>\n      <td>NaN</td>\n      <td>NaN</td>\n      <td>NaN</td>\n      <td>NaN</td>\n      <td>NaN</td>\n      <td>NaN</td>\n      <td>NaN</td>\n      <td>NaN</td>\n      <td>NaN</td>\n    </tr>\n    <tr>\n      <th>2018-05-16 04:00:00</th>\n      <td>-44.60</td>\n      <td>NaN</td>\n      <td>NaN</td>\n      <td>NaN</td>\n      <td>NaN</td>\n      <td>NaN</td>\n      <td>NaN</td>\n      <td>NaN</td>\n      <td>NaN</td>\n      <td>NaN</td>\n      <td>NaN</td>\n    </tr>\n    <tr>\n      <th>2019-07-25 01:00:00</th>\n      <td>-53.00</td>\n      <td>NaN</td>\n      <td>NaN</td>\n      <td>NaN</td>\n      <td>NaN</td>\n      <td>NaN</td>\n      <td>NaN</td>\n      <td>NaN</td>\n      <td>NaN</td>\n      <td>NaN</td>\n      <td>NaN</td>\n    </tr>\n    <tr>\n      <th>2019-07-25 02:00:00</th>\n      <td>-52.90</td>\n      <td>NaN</td>\n      <td>NaN</td>\n      <td>NaN</td>\n      <td>NaN</td>\n      <td>NaN</td>\n      <td>NaN</td>\n      <td>NaN</td>\n      <td>NaN</td>\n      <td>NaN</td>\n      <td>NaN</td>\n    </tr>\n    <tr>\n      <th>2019-07-25 03:00:00</th>\n      <td>-51.60</td>\n      <td>NaN</td>\n      <td>NaN</td>\n      <td>NaN</td>\n      <td>NaN</td>\n      <td>NaN</td>\n      <td>NaN</td>\n      <td>NaN</td>\n      <td>NaN</td>\n      <td>NaN</td>\n      <td>NaN</td>\n    </tr>\n    <tr>\n      <th>2019-07-25 04:00:00</th>\n      <td>-51.60</td>\n      <td>NaN</td>\n      <td>NaN</td>\n      <td>NaN</td>\n      <td>NaN</td>\n      <td>NaN</td>\n      <td>NaN</td>\n      <td>NaN</td>\n      <td>NaN</td>\n      <td>NaN</td>\n      <td>NaN</td>\n    </tr>\n    <tr>\n      <th>2020-02-20 02:00:00</th>\n      <td>-50.60</td>\n      <td>NaN</td>\n      <td>NaN</td>\n      <td>NaN</td>\n      <td>NaN</td>\n      <td>NaN</td>\n      <td>NaN</td>\n      <td>NaN</td>\n      <td>NaN</td>\n      <td>NaN</td>\n      <td>NaN</td>\n    </tr>\n    <tr>\n      <th>2020-02-20 03:00:00</th>\n      <td>-48.70</td>\n      <td>NaN</td>\n      <td>NaN</td>\n      <td>NaN</td>\n      <td>NaN</td>\n      <td>NaN</td>\n      <td>NaN</td>\n      <td>NaN</td>\n      <td>NaN</td>\n      <td>NaN</td>\n      <td>NaN</td>\n    </tr>\n  </tbody>\n</table>\n</div>"
     },
     "metadata": {},
     "execution_count": 51
    }
   ],
   "source": [
    "base_df[base_df['HourlyAltimeterSetting'].isna() == True]"
   ]
  },
  {
   "cell_type": "markdown",
   "metadata": {},
   "source": [
    "Okay great, they are all at times where no energy data is produced. This brings me to my next point, I am going to focus my analysis on the time of day where energy is most likely to be produced, for now we will consider this 5am to 9pm. Although in Winter these times are unlikely to produce any solar energy, I do not want to miss any energy production in the Spring, Summer, and Fall months."
   ]
  },
  {
   "cell_type": "code",
   "execution_count": 52,
   "metadata": {},
   "outputs": [],
   "source": [
    "model_df = base_df[(base_df.index.hour >= 5) & (base_df.index.hour <= 21)]"
   ]
  },
  {
   "cell_type": "code",
   "execution_count": 54,
   "metadata": {},
   "outputs": [
    {
     "output_type": "execute_result",
     "data": {
      "text/plain": "                     nexus_meter  HourlyAltimeterSetting  \\\nDATE                                                       \n2018-01-30 05:00:00        0.000                   30.47   \n2018-01-30 06:00:00        0.000                   30.46   \n2018-01-30 07:00:00        0.000                   30.45   \n2018-01-30 08:00:00        0.000                   30.47   \n2018-01-30 09:00:00        0.000                   30.50   \n2018-01-30 10:00:00      276.600                   30.48   \n2018-01-30 11:00:00    10128.000                   30.53   \n2018-01-30 12:00:00    17570.000                   30.52   \n2018-01-30 13:00:00    16156.000                   30.48   \n2018-01-30 14:00:00    12779.000                   30.45   \n2018-01-30 15:00:00     6430.000                   30.42   \n2018-01-30 16:00:00     1404.900                   30.37   \n2018-01-30 17:00:00      -33.111                   30.34   \n2018-01-30 18:00:00      -44.600                   30.30   \n2018-01-30 19:00:00      -43.800                   30.25   \n2018-01-30 20:00:00      -48.400                   30.25   \n2018-01-30 21:00:00      -43.500                   30.22   \n2018-01-31 05:00:00      -55.700                   29.99   \n2018-01-31 06:00:00      -56.400                   29.93   \n2018-01-31 07:00:00      289.660                   29.87   \n\n                     HourlyDewPointTemperature  HourlyDryBulbTemperature  \\\nDATE                                                                       \n2018-01-30 05:00:00                       11.0                      14.0   \n2018-01-30 06:00:00                       11.0                      14.0   \n2018-01-30 07:00:00                       10.0                      13.0   \n2018-01-30 08:00:00                       11.0                      14.0   \n2018-01-30 09:00:00                       11.0                      13.0   \n2018-01-30 10:00:00                       13.0                      16.0   \n2018-01-30 11:00:00                       13.0                      21.0   \n2018-01-30 12:00:00                       12.0                      23.0   \n2018-01-30 13:00:00                       12.0                      25.0   \n2018-01-30 14:00:00                       14.0                      27.0   \n2018-01-30 15:00:00                       16.0                      29.0   \n2018-01-30 16:00:00                       17.0                      31.0   \n2018-01-30 17:00:00                       17.0                      31.0   \n2018-01-30 18:00:00                       18.0                      32.0   \n2018-01-30 19:00:00                       19.0                      30.0   \n2018-01-30 20:00:00                       19.0                      30.0   \n2018-01-30 21:00:00                       20.0                      30.0   \n2018-01-31 05:00:00                       20.0                      30.0   \n2018-01-31 06:00:00                       20.0                      30.0   \n2018-01-31 07:00:00                       21.0                      31.0   \n\n                     HourlyRelativeHumidity  HourlyStationPressure  \\\nDATE                                                                 \n2018-01-30 05:00:00                    88.0                  29.64   \n2018-01-30 06:00:00                    88.0                  29.63   \n2018-01-30 07:00:00                    88.0                  29.62   \n2018-01-30 08:00:00                    88.0                  29.64   \n2018-01-30 09:00:00                    92.0                  29.67   \n2018-01-30 10:00:00                    88.0                  29.65   \n2018-01-30 11:00:00                    71.0                  29.70   \n2018-01-30 12:00:00                    63.0                  29.69   \n2018-01-30 13:00:00                    58.0                  29.65   \n2018-01-30 14:00:00                    58.0                  29.62   \n2018-01-30 15:00:00                    58.0                  29.59   \n2018-01-30 16:00:00                    56.0                  29.54   \n2018-01-30 17:00:00                    56.0                  29.51   \n2018-01-30 18:00:00                    56.0                  29.47   \n2018-01-30 19:00:00                    64.0                  29.42   \n2018-01-30 20:00:00                    64.0                  29.42   \n2018-01-30 21:00:00                    66.0                  29.39   \n2018-01-31 05:00:00                    66.0                  29.17   \n2018-01-31 06:00:00                    66.0                  29.11   \n2018-01-31 07:00:00                    67.0                  29.05   \n\n                     HourlyVisibility  HourlyWindSpeed  HourlyWindDirection  \\\nDATE                                                                          \n2018-01-30 05:00:00              10.0              5.0           330.000000   \n2018-01-30 06:00:00              10.0              5.0           350.000000   \n2018-01-30 07:00:00              10.0              0.0             0.000000   \n2018-01-30 08:00:00              10.0              6.0           260.000000   \n2018-01-30 09:00:00              10.0              6.0           260.000000   \n2018-01-30 10:00:00              10.0              0.0             0.000000   \n2018-01-30 11:00:00              10.0              3.0           166.892929   \n2018-01-30 12:00:00              10.0              3.0           220.000000   \n2018-01-30 13:00:00              10.0              0.0             0.000000   \n2018-01-30 14:00:00              10.0              6.0           210.000000   \n2018-01-30 15:00:00              10.0              9.0           200.000000   \n2018-01-30 16:00:00              10.0              9.0           190.000000   \n2018-01-30 17:00:00              10.0             13.0           180.000000   \n2018-01-30 18:00:00              10.0             16.0           180.000000   \n2018-01-30 19:00:00              10.0             15.0           160.000000   \n2018-01-30 20:00:00              10.0             13.0           160.000000   \n2018-01-30 21:00:00              10.0             15.0           160.000000   \n2018-01-31 05:00:00              10.0             21.0           180.000000   \n2018-01-31 06:00:00              10.0             23.0           180.000000   \n2018-01-31 07:00:00              10.0             24.0           180.000000   \n\n                     HourlyPrecipitation  cloud_coverage  \nDATE                                                      \n2018-01-30 05:00:00                  0.0             0.0  \n2018-01-30 06:00:00                  0.0             0.0  \n2018-01-30 07:00:00                  0.0             0.0  \n2018-01-30 08:00:00                  0.0             0.0  \n2018-01-30 09:00:00                  0.0             0.0  \n2018-01-30 10:00:00                  0.0             0.0  \n2018-01-30 11:00:00                  0.0             0.0  \n2018-01-30 12:00:00                  0.0             0.0  \n2018-01-30 13:00:00                  0.0             0.0  \n2018-01-30 14:00:00                  0.0             0.0  \n2018-01-30 15:00:00                  0.0             0.0  \n2018-01-30 16:00:00                  0.0             0.0  \n2018-01-30 17:00:00                  0.0             0.0  \n2018-01-30 18:00:00                  0.0             0.0  \n2018-01-30 19:00:00                  0.0             0.0  \n2018-01-30 20:00:00                  0.0             0.0  \n2018-01-30 21:00:00                  0.0             0.0  \n2018-01-31 05:00:00                  0.0             0.0  \n2018-01-31 06:00:00                  0.0             0.0  \n2018-01-31 07:00:00                  0.0             0.0  ",
      "text/html": "<div>\n<style scoped>\n    .dataframe tbody tr th:only-of-type {\n        vertical-align: middle;\n    }\n\n    .dataframe tbody tr th {\n        vertical-align: top;\n    }\n\n    .dataframe thead th {\n        text-align: right;\n    }\n</style>\n<table border=\"1\" class=\"dataframe\">\n  <thead>\n    <tr style=\"text-align: right;\">\n      <th></th>\n      <th>nexus_meter</th>\n      <th>HourlyAltimeterSetting</th>\n      <th>HourlyDewPointTemperature</th>\n      <th>HourlyDryBulbTemperature</th>\n      <th>HourlyRelativeHumidity</th>\n      <th>HourlyStationPressure</th>\n      <th>HourlyVisibility</th>\n      <th>HourlyWindSpeed</th>\n      <th>HourlyWindDirection</th>\n      <th>HourlyPrecipitation</th>\n      <th>cloud_coverage</th>\n    </tr>\n    <tr>\n      <th>DATE</th>\n      <th></th>\n      <th></th>\n      <th></th>\n      <th></th>\n      <th></th>\n      <th></th>\n      <th></th>\n      <th></th>\n      <th></th>\n      <th></th>\n      <th></th>\n    </tr>\n  </thead>\n  <tbody>\n    <tr>\n      <th>2018-01-30 05:00:00</th>\n      <td>0.000</td>\n      <td>30.47</td>\n      <td>11.0</td>\n      <td>14.0</td>\n      <td>88.0</td>\n      <td>29.64</td>\n      <td>10.0</td>\n      <td>5.0</td>\n      <td>330.000000</td>\n      <td>0.0</td>\n      <td>0.0</td>\n    </tr>\n    <tr>\n      <th>2018-01-30 06:00:00</th>\n      <td>0.000</td>\n      <td>30.46</td>\n      <td>11.0</td>\n      <td>14.0</td>\n      <td>88.0</td>\n      <td>29.63</td>\n      <td>10.0</td>\n      <td>5.0</td>\n      <td>350.000000</td>\n      <td>0.0</td>\n      <td>0.0</td>\n    </tr>\n    <tr>\n      <th>2018-01-30 07:00:00</th>\n      <td>0.000</td>\n      <td>30.45</td>\n      <td>10.0</td>\n      <td>13.0</td>\n      <td>88.0</td>\n      <td>29.62</td>\n      <td>10.0</td>\n      <td>0.0</td>\n      <td>0.000000</td>\n      <td>0.0</td>\n      <td>0.0</td>\n    </tr>\n    <tr>\n      <th>2018-01-30 08:00:00</th>\n      <td>0.000</td>\n      <td>30.47</td>\n      <td>11.0</td>\n      <td>14.0</td>\n      <td>88.0</td>\n      <td>29.64</td>\n      <td>10.0</td>\n      <td>6.0</td>\n      <td>260.000000</td>\n      <td>0.0</td>\n      <td>0.0</td>\n    </tr>\n    <tr>\n      <th>2018-01-30 09:00:00</th>\n      <td>0.000</td>\n      <td>30.50</td>\n      <td>11.0</td>\n      <td>13.0</td>\n      <td>92.0</td>\n      <td>29.67</td>\n      <td>10.0</td>\n      <td>6.0</td>\n      <td>260.000000</td>\n      <td>0.0</td>\n      <td>0.0</td>\n    </tr>\n    <tr>\n      <th>2018-01-30 10:00:00</th>\n      <td>276.600</td>\n      <td>30.48</td>\n      <td>13.0</td>\n      <td>16.0</td>\n      <td>88.0</td>\n      <td>29.65</td>\n      <td>10.0</td>\n      <td>0.0</td>\n      <td>0.000000</td>\n      <td>0.0</td>\n      <td>0.0</td>\n    </tr>\n    <tr>\n      <th>2018-01-30 11:00:00</th>\n      <td>10128.000</td>\n      <td>30.53</td>\n      <td>13.0</td>\n      <td>21.0</td>\n      <td>71.0</td>\n      <td>29.70</td>\n      <td>10.0</td>\n      <td>3.0</td>\n      <td>166.892929</td>\n      <td>0.0</td>\n      <td>0.0</td>\n    </tr>\n    <tr>\n      <th>2018-01-30 12:00:00</th>\n      <td>17570.000</td>\n      <td>30.52</td>\n      <td>12.0</td>\n      <td>23.0</td>\n      <td>63.0</td>\n      <td>29.69</td>\n      <td>10.0</td>\n      <td>3.0</td>\n      <td>220.000000</td>\n      <td>0.0</td>\n      <td>0.0</td>\n    </tr>\n    <tr>\n      <th>2018-01-30 13:00:00</th>\n      <td>16156.000</td>\n      <td>30.48</td>\n      <td>12.0</td>\n      <td>25.0</td>\n      <td>58.0</td>\n      <td>29.65</td>\n      <td>10.0</td>\n      <td>0.0</td>\n      <td>0.000000</td>\n      <td>0.0</td>\n      <td>0.0</td>\n    </tr>\n    <tr>\n      <th>2018-01-30 14:00:00</th>\n      <td>12779.000</td>\n      <td>30.45</td>\n      <td>14.0</td>\n      <td>27.0</td>\n      <td>58.0</td>\n      <td>29.62</td>\n      <td>10.0</td>\n      <td>6.0</td>\n      <td>210.000000</td>\n      <td>0.0</td>\n      <td>0.0</td>\n    </tr>\n    <tr>\n      <th>2018-01-30 15:00:00</th>\n      <td>6430.000</td>\n      <td>30.42</td>\n      <td>16.0</td>\n      <td>29.0</td>\n      <td>58.0</td>\n      <td>29.59</td>\n      <td>10.0</td>\n      <td>9.0</td>\n      <td>200.000000</td>\n      <td>0.0</td>\n      <td>0.0</td>\n    </tr>\n    <tr>\n      <th>2018-01-30 16:00:00</th>\n      <td>1404.900</td>\n      <td>30.37</td>\n      <td>17.0</td>\n      <td>31.0</td>\n      <td>56.0</td>\n      <td>29.54</td>\n      <td>10.0</td>\n      <td>9.0</td>\n      <td>190.000000</td>\n      <td>0.0</td>\n      <td>0.0</td>\n    </tr>\n    <tr>\n      <th>2018-01-30 17:00:00</th>\n      <td>-33.111</td>\n      <td>30.34</td>\n      <td>17.0</td>\n      <td>31.0</td>\n      <td>56.0</td>\n      <td>29.51</td>\n      <td>10.0</td>\n      <td>13.0</td>\n      <td>180.000000</td>\n      <td>0.0</td>\n      <td>0.0</td>\n    </tr>\n    <tr>\n      <th>2018-01-30 18:00:00</th>\n      <td>-44.600</td>\n      <td>30.30</td>\n      <td>18.0</td>\n      <td>32.0</td>\n      <td>56.0</td>\n      <td>29.47</td>\n      <td>10.0</td>\n      <td>16.0</td>\n      <td>180.000000</td>\n      <td>0.0</td>\n      <td>0.0</td>\n    </tr>\n    <tr>\n      <th>2018-01-30 19:00:00</th>\n      <td>-43.800</td>\n      <td>30.25</td>\n      <td>19.0</td>\n      <td>30.0</td>\n      <td>64.0</td>\n      <td>29.42</td>\n      <td>10.0</td>\n      <td>15.0</td>\n      <td>160.000000</td>\n      <td>0.0</td>\n      <td>0.0</td>\n    </tr>\n    <tr>\n      <th>2018-01-30 20:00:00</th>\n      <td>-48.400</td>\n      <td>30.25</td>\n      <td>19.0</td>\n      <td>30.0</td>\n      <td>64.0</td>\n      <td>29.42</td>\n      <td>10.0</td>\n      <td>13.0</td>\n      <td>160.000000</td>\n      <td>0.0</td>\n      <td>0.0</td>\n    </tr>\n    <tr>\n      <th>2018-01-30 21:00:00</th>\n      <td>-43.500</td>\n      <td>30.22</td>\n      <td>20.0</td>\n      <td>30.0</td>\n      <td>66.0</td>\n      <td>29.39</td>\n      <td>10.0</td>\n      <td>15.0</td>\n      <td>160.000000</td>\n      <td>0.0</td>\n      <td>0.0</td>\n    </tr>\n    <tr>\n      <th>2018-01-31 05:00:00</th>\n      <td>-55.700</td>\n      <td>29.99</td>\n      <td>20.0</td>\n      <td>30.0</td>\n      <td>66.0</td>\n      <td>29.17</td>\n      <td>10.0</td>\n      <td>21.0</td>\n      <td>180.000000</td>\n      <td>0.0</td>\n      <td>0.0</td>\n    </tr>\n    <tr>\n      <th>2018-01-31 06:00:00</th>\n      <td>-56.400</td>\n      <td>29.93</td>\n      <td>20.0</td>\n      <td>30.0</td>\n      <td>66.0</td>\n      <td>29.11</td>\n      <td>10.0</td>\n      <td>23.0</td>\n      <td>180.000000</td>\n      <td>0.0</td>\n      <td>0.0</td>\n    </tr>\n    <tr>\n      <th>2018-01-31 07:00:00</th>\n      <td>289.660</td>\n      <td>29.87</td>\n      <td>21.0</td>\n      <td>31.0</td>\n      <td>67.0</td>\n      <td>29.05</td>\n      <td>10.0</td>\n      <td>24.0</td>\n      <td>180.000000</td>\n      <td>0.0</td>\n      <td>0.0</td>\n    </tr>\n  </tbody>\n</table>\n</div>"
     },
     "metadata": {},
     "execution_count": 54
    }
   ],
   "source": [
    "model_df.head(20)"
   ]
  },
  {
   "cell_type": "markdown",
   "metadata": {},
   "source": [
    "Great, the first modeling dataframe is all set up, now I can perform a train test split and begin modeling."
   ]
  },
  {
   "cell_type": "code",
   "execution_count": 55,
   "metadata": {},
   "outputs": [
    {
     "output_type": "execute_result",
     "data": {
      "text/plain": "(15351, 11)"
     },
     "metadata": {},
     "execution_count": 55
    }
   ],
   "source": [
    "model_df.shape"
   ]
  },
  {
   "cell_type": "markdown",
   "metadata": {},
   "source": [
    "I only have about 15,000 observations to work with and I need to split this data into three groups: training, validation, and testing. I would like the majority of data to be used to train the model (at least 10,000 observations). So I am going to do a 70-15-15 split. That gives me about 10,745 data points for training, and about 2,300 for validation and testing"
   ]
  },
  {
   "cell_type": "code",
   "execution_count": 62,
   "metadata": {},
   "outputs": [],
   "source": [
    "# Separate target and features\n",
    "\n",
    "# target\n",
    "y = model_df['nexus_meter']\n",
    "\n",
    "# features\n",
    "X = model_df.drop('nexus_meter', axis=1)\n"
   ]
  },
  {
   "cell_type": "code",
   "execution_count": 63,
   "metadata": {},
   "outputs": [],
   "source": [
    "# first train test split\n",
    "X_train, X_test, y_train, y_test = train_test_split(X, y, random_state=42, test_size=.15)"
   ]
  },
  {
   "cell_type": "markdown",
   "metadata": {},
   "source": [
    "I want to make sure X_test has the right amount of observations."
   ]
  },
  {
   "cell_type": "code",
   "execution_count": 64,
   "metadata": {},
   "outputs": [
    {
     "output_type": "execute_result",
     "data": {
      "text/plain": "2303"
     },
     "metadata": {},
     "execution_count": 64
    }
   ],
   "source": [
    "len(X_test)"
   ]
  },
  {
   "cell_type": "markdown",
   "metadata": {},
   "source": [
    "Great now I can perform the second split for training and validation data"
   ]
  },
  {
   "cell_type": "code",
   "execution_count": 83,
   "metadata": {},
   "outputs": [],
   "source": [
    "X_t, X_v, y_t, y_v = train_test_split(X_train, y_train, random_state=42, test_size=.18)"
   ]
  },
  {
   "cell_type": "markdown",
   "metadata": {},
   "source": [
    "I have all of my data separated into train, validation, and testing data. So now I can begin modeling."
   ]
  },
  {
   "cell_type": "markdown",
   "metadata": {},
   "source": [
    "## Model Iterations\n",
    "\n",
    "### Linear Regression\n",
    "\n",
    "The first model I am going to start with is just a step above the DummyRegressor used for the baseline model. \n",
    "\n",
    "### Note\n",
    "I think past weather conditions will have a beneficial affect on the model. Shift the features back further. I'm thinking if the model can pick up on how the weather is changing and the rate it which it is changing it will likely be able to better infer what the whether WILL be at the time of energy generation."
   ]
  },
  {
   "cell_type": "markdown",
   "metadata": {},
   "source": [
    "I need to scale the data before i can train the model. I will use StandardScaler"
   ]
  },
  {
   "cell_type": "code",
   "execution_count": 86,
   "metadata": {},
   "outputs": [],
   "source": [
    "scaler = StandardScaler()"
   ]
  },
  {
   "cell_type": "code",
   "execution_count": 87,
   "metadata": {},
   "outputs": [],
   "source": [
    "X_t_scaled = scaler.fit_transform(X_t)"
   ]
  },
  {
   "cell_type": "code",
   "execution_count": 88,
   "metadata": {},
   "outputs": [],
   "source": [
    "lr = LinearRegression(normalize=False)"
   ]
  },
  {
   "cell_type": "code",
   "execution_count": 90,
   "metadata": {},
   "outputs": [
    {
     "output_type": "execute_result",
     "data": {
      "text/plain": "LinearRegression()"
     },
     "metadata": {},
     "execution_count": 90
    }
   ],
   "source": [
    "# fit on scaled training data\n",
    "lr.fit(X_t_scaled, y_t)"
   ]
  },
  {
   "cell_type": "code",
   "execution_count": 91,
   "metadata": {},
   "outputs": [],
   "source": [
    "# training predictions\n",
    "lr_train_preds = lr.predict(X_t_scaled)"
   ]
  },
  {
   "cell_type": "markdown",
   "metadata": {},
   "source": [
    "The main metric I will be using is RMSE. To gauge this metric, I need to have an idea of what the mean and standard deviation of the target variable is, I will use the variable 'y', which hold's all target data to compute this. I will also be using adjusted R2 to estimate the amount of target variance explained by the features while adjusting the score for number of features I have."
   ]
  },
  {
   "cell_type": "code",
   "execution_count": 92,
   "metadata": {
    "tags": []
   },
   "outputs": [
    {
     "output_type": "stream",
     "name": "stdout",
     "text": "Target mean: 4564.371307797537\nTarget std: 5625.247166565416\n"
    }
   ],
   "source": [
    "target_mean = np.mean(y)\n",
    "target_std = np.std(y)\n",
    "print('Target mean: {}\\nTarget std: {}'.format(target_mean, target_std))"
   ]
  },
  {
   "cell_type": "code",
   "execution_count": 94,
   "metadata": {},
   "outputs": [
    {
     "output_type": "execute_result",
     "data": {
      "text/plain": "5041.827998601696"
     },
     "metadata": {},
     "execution_count": 94
    }
   ],
   "source": [
    "np.sqrt(mse(y_t, lr_train_preds))"
   ]
  },
  {
   "cell_type": "markdown",
   "metadata": {},
   "source": [
    "Now I want to check the validation predictions to see how the model fit. I doubt the model is overfit, but I would like to check anyways. First I need to transform the validation data."
   ]
  },
  {
   "cell_type": "code",
   "execution_count": 95,
   "metadata": {},
   "outputs": [],
   "source": [
    "X_v_scaled = scaler.transform(X_v)"
   ]
  },
  {
   "cell_type": "code",
   "execution_count": 96,
   "metadata": {},
   "outputs": [],
   "source": [
    "lr_val_preds = lr.predict(X_v_scaled)"
   ]
  },
  {
   "cell_type": "code",
   "execution_count": 97,
   "metadata": {},
   "outputs": [
    {
     "output_type": "execute_result",
     "data": {
      "text/plain": "5126.357458453091"
     },
     "metadata": {},
     "execution_count": 97
    }
   ],
   "source": [
    "np.sqrt(mse(y_v, lr_val_preds))"
   ]
  },
  {
   "cell_type": "code",
   "execution_count": 98,
   "metadata": {},
   "outputs": [
    {
     "output_type": "execute_result",
     "data": {
      "text/plain": "0.19480069267237066"
     },
     "metadata": {},
     "execution_count": 98
    }
   ],
   "source": [
    "r2_score(y_t, lr_train_preds)"
   ]
  },
  {
   "cell_type": "markdown",
   "metadata": {},
   "source": [
    "## Decision Tree Regressor\n",
    "\n",
    "The next model i would like to test is a decision tree regressor. Along with it being a slightly more complex model than linear regression, it provides more information about the results. Using Decision Tree I will be able to see which feature's the model is considering the most important and splitting on earlier. The training and validation data is already scaled with StandardScaler so i can begin with instantiating a decision tree model and performing cross-validation with cross_val_score. In future model iterations I plan on using KFold so I can experiment with a few different imputation methods within the cross-validation."
   ]
  },
  {
   "cell_type": "code",
   "execution_count": 100,
   "metadata": {},
   "outputs": [],
   "source": [
    "# instantiate decision tree regressor with default parameters.\n",
    "dt = DecisionTreeRegressor(random_state=42)"
   ]
  },
  {
   "cell_type": "code",
   "execution_count": 101,
   "metadata": {},
   "outputs": [
    {
     "output_type": "execute_result",
     "data": {
      "text/plain": "DecisionTreeRegressor(random_state=42)"
     },
     "metadata": {},
     "execution_count": 101
    }
   ],
   "source": [
    "# fit to training data\n",
    "dt.fit(X_t_scaled, y_t)"
   ]
  },
  {
   "cell_type": "markdown",
   "metadata": {},
   "source": [
    "Now I can use cross_val_score to perform a cross validation over five splits. I still want to focus on RMSE, so I need to create an MSE scorer object to be passed into cross_val_score, since it's default metric is r2. Since I want RMSE, I will take the square root of the mean MSE over five splits."
   ]
  },
  {
   "cell_type": "code",
   "execution_count": 104,
   "metadata": {},
   "outputs": [],
   "source": [
    "from sklearn.metrics import make_scorer"
   ]
  },
  {
   "cell_type": "code",
   "execution_count": 105,
   "metadata": {},
   "outputs": [],
   "source": [
    "mse_score = make_scorer(mse)"
   ]
  },
  {
   "cell_type": "code",
   "execution_count": 107,
   "metadata": {},
   "outputs": [
    {
     "output_type": "execute_result",
     "data": {
      "text/plain": "6329.506983473418"
     },
     "metadata": {},
     "execution_count": 107
    }
   ],
   "source": [
    "np.sqrt(cross_val_score(dt, X_t_scaled, y_t, scoring=mse_score, cv=5).mean())"
   ]
  },
  {
   "cell_type": "markdown",
   "metadata": {},
   "source": [
    "The base DecisionTreeRegressor performed worse than the base LinearRegression model. I am going to instantiate another DT regression object and change a few of the parameters to try and produce a better performing model. To start I will change min_samples_leaf from the default of 1 to 25. My thinking behind this is that the Decision Tree is probably splitting the data too much, energy production isn't going to have too big of a fluctuation with a minor change in one of the features, so by grouping results together in leaf nodes it should produce better predictions."
   ]
  },
  {
   "cell_type": "code",
   "execution_count": 120,
   "metadata": {},
   "outputs": [],
   "source": [
    "dt2 = DecisionTreeRegressor(random_state=42, min_samples_leaf=25)"
   ]
  },
  {
   "cell_type": "code",
   "execution_count": 121,
   "metadata": {},
   "outputs": [
    {
     "output_type": "execute_result",
     "data": {
      "text/plain": "5075.467944015973"
     },
     "metadata": {},
     "execution_count": 121
    }
   ],
   "source": [
    "np.sqrt(cross_val_score(dt2, X_t_scaled, y_t, scoring=mse_score, cv=5).mean())"
   ]
  },
  {
   "cell_type": "markdown",
   "metadata": {},
   "source": [
    "Changing that single parameter brought the RMSE down by over 1,000. Next I want to change min_samples_split from 2 to 10, for the same reason discussed above."
   ]
  },
  {
   "cell_type": "code",
   "execution_count": 136,
   "metadata": {},
   "outputs": [],
   "source": [
    "dt3 = DecisionTreeRegressor(random_state=42, min_samples_leaf=25, min_samples_split=10)"
   ]
  },
  {
   "cell_type": "code",
   "execution_count": 137,
   "metadata": {},
   "outputs": [
    {
     "output_type": "execute_result",
     "data": {
      "text/plain": "5075.467944015973"
     },
     "metadata": {},
     "execution_count": 137
    }
   ],
   "source": [
    "# training RMSE cross val score over 5 splits\n",
    "np.sqrt(cross_val_score(dt3, X_t_scaled, y_t, scoring=mse_score, cv=5).mean())"
   ]
  },
  {
   "cell_type": "markdown",
   "metadata": {},
   "source": [
    "That did not change the score too much. Those two parameters are pretty similar to one another, so i am going to try changing max_depth. Again, I don't want to model splitting the energy production into two seperate leaf nodes due to a very minor difference in one of the features, because a minor change in a single weather condition will not have a very large affect on solar energy production. I want to see how deep the current decision tree is before changing the max_depth parameter."
   ]
  },
  {
   "cell_type": "code",
   "execution_count": 138,
   "metadata": {},
   "outputs": [
    {
     "output_type": "execute_result",
     "data": {
      "text/plain": "DecisionTreeRegressor(min_samples_leaf=25, min_samples_split=10,\n                      random_state=42)"
     },
     "metadata": {},
     "execution_count": 138
    }
   ],
   "source": [
    "dt3.fit(X_t_scaled, y_t)"
   ]
  },
  {
   "cell_type": "code",
   "execution_count": 145,
   "metadata": {
    "tags": []
   },
   "outputs": [
    {
     "output_type": "stream",
     "name": "stdout",
     "text": "16\n"
    }
   ],
   "source": [
    "print(dt3.tree_.max_depth)"
   ]
  },
  {
   "cell_type": "markdown",
   "metadata": {},
   "source": [
    "The current depth of the tree is 16. I am going to see if 10 will reduce the error."
   ]
  },
  {
   "cell_type": "markdown",
   "metadata": {},
   "source": [
    "## NOTE\n",
    "Time of year and time of day are both going to influence how much energy is produced, add a feature for both of these"
   ]
  },
  {
   "cell_type": "code",
   "execution_count": 152,
   "metadata": {},
   "outputs": [],
   "source": [
    "dt4 = DecisionTreeRegressor(random_state=42, max_depth=10, min_samples_leaf=25)"
   ]
  },
  {
   "cell_type": "code",
   "execution_count": 153,
   "metadata": {},
   "outputs": [
    {
     "output_type": "execute_result",
     "data": {
      "text/plain": "5058.020095469636"
     },
     "metadata": {},
     "execution_count": 153
    }
   ],
   "source": [
    "np.sqrt(cross_val_score(dt4, X_t_scaled, y_t, scoring=mse_score, cv=5).mean())"
   ]
  },
  {
   "cell_type": "markdown",
   "metadata": {},
   "source": [
    "That reduced the RMSE score slightly. I want to see how this tree is fitting to the data (overfit or underfit) by checking it's performance on the validation data"
   ]
  },
  {
   "cell_type": "code",
   "execution_count": 154,
   "metadata": {},
   "outputs": [
    {
     "output_type": "execute_result",
     "data": {
      "text/plain": "DecisionTreeRegressor(max_depth=10, min_samples_leaf=25, random_state=42)"
     },
     "metadata": {},
     "execution_count": 154
    }
   ],
   "source": [
    "dt4.fit(X_t_scaled, y_t)"
   ]
  },
  {
   "cell_type": "code",
   "execution_count": 155,
   "metadata": {},
   "outputs": [
    {
     "output_type": "execute_result",
     "data": {
      "text/plain": "5121.5222838481895"
     },
     "metadata": {},
     "execution_count": 155
    }
   ],
   "source": [
    "np.sqrt(mse(y_v, dt4.predict(X_v_scaled)))"
   ]
  },
  {
   "cell_type": "markdown",
   "metadata": {},
   "source": [
    "The RMSE of the validation data is only slightly higher than that of the training data which tells me the model's variance is not too high and it can generalize fairly well to unseen data. Now I would like to experiment with a few more complex ensemble methods: random forest and gradient boosting. After i have worked with these models I will want to experiment with a few different imputation methods and do some feature engineering."
   ]
  },
  {
   "cell_type": "markdown",
   "metadata": {},
   "source": [
    "## Random Forest\n",
    "\n",
    "The first ensemble I want to work with is random forest. I need to keep in mind the changes to the hyperparameters I made for the Decision Tree model above, because those changes should have the same effect to this model. I want to start by creating a random forest model with a max_depth of 15, min_samples_leaf of 25 and 100 estimators."
   ]
  },
  {
   "cell_type": "code",
   "execution_count": 166,
   "metadata": {},
   "outputs": [],
   "source": [
    "rf1 = RandomForestRegressor(random_state=42, max_depth=15, min_samples_leaf=25, n_estimators=100)"
   ]
  },
  {
   "cell_type": "code",
   "execution_count": 167,
   "metadata": {},
   "outputs": [
    {
     "output_type": "execute_result",
     "data": {
      "text/plain": "4820.799769697813"
     },
     "metadata": {},
     "execution_count": 167
    }
   ],
   "source": [
    "# Cross val RMSE score over 5 splits\n",
    "np.sqrt(cross_val_score(rf1, X_t_scaled, y_t, scoring=mse_score, cv=5).mean())"
   ]
  },
  {
   "cell_type": "markdown",
   "metadata": {},
   "source": [
    "The random forest model with similar parameters to the decision tree above performed a little better, this is to be expected because RandomForest is an ensemble which usually perform better than model's that are not ensemble methods. RandomForest does have quite a few more hyperparameters i can experiment with. The next iteration I want to change max_features to .5, this will make the model consider only half of the features for each split, and should help prevent a tree from splitting due to a minor change in one of the features."
   ]
  },
  {
   "cell_type": "code",
   "execution_count": 182,
   "metadata": {},
   "outputs": [],
   "source": [
    "rf2 = RandomForestRegressor(random_state=42, max_depth=15, min_samples_leaf=25, n_estimators=100, max_features=.5)"
   ]
  },
  {
   "cell_type": "code",
   "execution_count": 183,
   "metadata": {},
   "outputs": [
    {
     "output_type": "execute_result",
     "data": {
      "text/plain": "4830.154086478536"
     },
     "metadata": {},
     "execution_count": 183
    }
   ],
   "source": [
    "# Cross val RMSE score over 5 splits\n",
    "np.sqrt(cross_val_score(rf2, X_t_scaled, y_t, scoring=mse_score, cv=5).mean())"
   ]
  },
  {
   "cell_type": "markdown",
   "metadata": {},
   "source": [
    "That iteration performed slightly worse. I am going to leave max_features alone and focus on how the model is splitting the nodes. The next iteration i want to set max_leaf_nodes to 25, min_samples_split to 25, and ignore min_samples_leaf"
   ]
  },
  {
   "cell_type": "code",
   "execution_count": 190,
   "metadata": {},
   "outputs": [],
   "source": [
    "rf3 = RandomForestRegressor(random_state=42, max_depth=15, min_samples_split=25, max_leaf_nodes=25)"
   ]
  },
  {
   "cell_type": "code",
   "execution_count": 191,
   "metadata": {},
   "outputs": [
    {
     "output_type": "execute_result",
     "data": {
      "text/plain": "4934.239585270432"
     },
     "metadata": {},
     "execution_count": 191
    }
   ],
   "source": [
    "# Cross val RMSE score over 5 splits\n",
    "np.sqrt(cross_val_score(rf3, X_t_scaled, y_t, scoring=mse_score, cv=5).mean())"
   ]
  },
  {
   "cell_type": "markdown",
   "metadata": {},
   "source": [
    "That brought the RMSE score up again. I think the best way to improve the performance of these models would be to add some features."
   ]
  },
  {
   "cell_type": "markdown",
   "metadata": {},
   "source": [
    "## Feature Engineering\n",
    "\n",
    "For starters I want to incorporate the time of year and time of day as a feature, as this will likely play a big role in how much energy is produced. For time of year I want to add a feature that gives a numerical representation of the week of the year, and for a time of day I will add a feature that gives the hour the predictions are being made for.\n",
    "\n",
    "In addition to those two, I want to incorporate more weather data instead of only using the weather conditions at the time of prediction. My thinking is that if the model can pick up on how the weather has changed over the past few hours, and the rate of that change, it will be able to better predict what the weather will be like in the future (three hours)."
   ]
  },
  {
   "cell_type": "markdown",
   "metadata": {},
   "source": [
    "Since I am forecasting energy prediction in the future, I think it would make more sense to include what time of the day it will be at the point of energy production, so I am going to add the 'hour' column to the energy dataframe."
   ]
  },
  {
   "cell_type": "code",
   "execution_count": 209,
   "metadata": {},
   "outputs": [],
   "source": [
    "energy['hour'] = energy.index.hour"
   ]
  },
  {
   "cell_type": "code",
   "execution_count": 210,
   "metadata": {},
   "outputs": [
    {
     "output_type": "execute_result",
     "data": {
      "text/plain": "                     nexus_meter  hour\ntime                                  \n2018-01-30 00:00:00          4.0     0\n2018-01-30 01:00:00          4.0     1\n2018-01-30 02:00:00          4.0     2\n2018-01-30 03:00:00          4.0     3\n2018-01-30 04:00:00          4.0     4",
      "text/html": "<div>\n<style scoped>\n    .dataframe tbody tr th:only-of-type {\n        vertical-align: middle;\n    }\n\n    .dataframe tbody tr th {\n        vertical-align: top;\n    }\n\n    .dataframe thead th {\n        text-align: right;\n    }\n</style>\n<table border=\"1\" class=\"dataframe\">\n  <thead>\n    <tr style=\"text-align: right;\">\n      <th></th>\n      <th>nexus_meter</th>\n      <th>hour</th>\n    </tr>\n    <tr>\n      <th>time</th>\n      <th></th>\n      <th></th>\n    </tr>\n  </thead>\n  <tbody>\n    <tr>\n      <th>2018-01-30 00:00:00</th>\n      <td>4.0</td>\n      <td>0</td>\n    </tr>\n    <tr>\n      <th>2018-01-30 01:00:00</th>\n      <td>4.0</td>\n      <td>1</td>\n    </tr>\n    <tr>\n      <th>2018-01-30 02:00:00</th>\n      <td>4.0</td>\n      <td>2</td>\n    </tr>\n    <tr>\n      <th>2018-01-30 03:00:00</th>\n      <td>4.0</td>\n      <td>3</td>\n    </tr>\n    <tr>\n      <th>2018-01-30 04:00:00</th>\n      <td>4.0</td>\n      <td>4</td>\n    </tr>\n  </tbody>\n</table>\n</div>"
     },
     "metadata": {},
     "execution_count": 210
    }
   ],
   "source": [
    "energy.head()"
   ]
  },
  {
   "cell_type": "markdown",
   "metadata": {},
   "source": [
    "Same goes for the week. Although the week of energy prediction will be the same week as weather conditions, I want to keep the time features consistent."
   ]
  },
  {
   "cell_type": "code",
   "execution_count": 218,
   "metadata": {},
   "outputs": [],
   "source": [
    "energy['week'] = energy.index.week"
   ]
  },
  {
   "cell_type": "code",
   "execution_count": 220,
   "metadata": {},
   "outputs": [
    {
     "output_type": "execute_result",
     "data": {
      "text/plain": "                     nexus_meter  hour  week\ntime                                        \n2018-01-30 00:00:00          4.0     0     5\n2018-01-30 01:00:00          4.0     1     5\n2018-01-30 02:00:00          4.0     2     5\n2018-01-30 03:00:00          4.0     3     5\n2018-01-30 04:00:00          4.0     4     5",
      "text/html": "<div>\n<style scoped>\n    .dataframe tbody tr th:only-of-type {\n        vertical-align: middle;\n    }\n\n    .dataframe tbody tr th {\n        vertical-align: top;\n    }\n\n    .dataframe thead th {\n        text-align: right;\n    }\n</style>\n<table border=\"1\" class=\"dataframe\">\n  <thead>\n    <tr style=\"text-align: right;\">\n      <th></th>\n      <th>nexus_meter</th>\n      <th>hour</th>\n      <th>week</th>\n    </tr>\n    <tr>\n      <th>time</th>\n      <th></th>\n      <th></th>\n      <th></th>\n    </tr>\n  </thead>\n  <tbody>\n    <tr>\n      <th>2018-01-30 00:00:00</th>\n      <td>4.0</td>\n      <td>0</td>\n      <td>5</td>\n    </tr>\n    <tr>\n      <th>2018-01-30 01:00:00</th>\n      <td>4.0</td>\n      <td>1</td>\n      <td>5</td>\n    </tr>\n    <tr>\n      <th>2018-01-30 02:00:00</th>\n      <td>4.0</td>\n      <td>2</td>\n      <td>5</td>\n    </tr>\n    <tr>\n      <th>2018-01-30 03:00:00</th>\n      <td>4.0</td>\n      <td>3</td>\n      <td>5</td>\n    </tr>\n    <tr>\n      <th>2018-01-30 04:00:00</th>\n      <td>4.0</td>\n      <td>4</td>\n      <td>5</td>\n    </tr>\n  </tbody>\n</table>\n</div>"
     },
     "metadata": {},
     "execution_count": 220
    }
   ],
   "source": [
    "energy.head()"
   ]
  },
  {
   "cell_type": "markdown",
   "metadata": {},
   "source": [
    "Great now I have the week of the year and hour of the day for each energy prediction. The next features I would like to create are more weather features. Currently, the only weather conditions I am using to predict solar energy production three hours in the future are the current weather observations (ie the weather conditions three hours prior to energy production). I think by including the weather conditions prior to the current observations, and the rate at which they changed will allow the model to pick up on how the weather may change in the future. In other words, I will use the current weather conditions, weather conditions from three hours prior, and the derivative of each weather condition over that time period to guage the rate at which they are changing to predict solar energy output three hours in advance. This means i will need to create two more weather dataframes.\n",
    "\n",
    "The first weather dataframe I need to create will be similar to how I structured the base model dataframe. I just need to incorporate a three hour lag and store it in a new dataframe."
   ]
  },
  {
   "cell_type": "code",
   "execution_count": 348,
   "metadata": {},
   "outputs": [],
   "source": [
    "weather_lagged_df = weather_hourly.shift(3)"
   ]
  },
  {
   "cell_type": "code",
   "execution_count": 349,
   "metadata": {},
   "outputs": [
    {
     "output_type": "execute_result",
     "data": {
      "text/plain": "                     HourlyAltimeterSetting  HourlyDewPointTemperature  \\\nDATE                                                                     \n2018-01-29 00:00:00                     NaN                        NaN   \n2018-01-29 01:00:00                     NaN                        NaN   \n2018-01-29 02:00:00                     NaN                        NaN   \n2018-01-29 03:00:00                 30.3425                       28.0   \n2018-01-29 04:00:00                 30.3400                       28.0   \n\n                     HourlyDryBulbTemperature  HourlyRelativeHumidity  \\\nDATE                                                                    \n2018-01-29 00:00:00                       NaN                     NaN   \n2018-01-29 01:00:00                       NaN                     NaN   \n2018-01-29 02:00:00                       NaN                     NaN   \n2018-01-29 03:00:00                      30.0                   92.25   \n2018-01-29 04:00:00                      30.0                   92.00   \n\n                     HourlyStationPressure  HourlyVisibility  HourlyWindSpeed  \\\nDATE                                                                            \n2018-01-29 00:00:00                    NaN               NaN              NaN   \n2018-01-29 01:00:00                    NaN               NaN              NaN   \n2018-01-29 02:00:00                    NaN               NaN              NaN   \n2018-01-29 03:00:00                29.5125              5.75            14.25   \n2018-01-29 04:00:00                29.5100              3.00            10.00   \n\n                     HourlyWindDirection  HourlyPrecipitation  cloud_coverage  \\\nDATE                                                                            \n2018-01-29 00:00:00                  NaN                  NaN             NaN   \n2018-01-29 01:00:00                  NaN                  NaN             NaN   \n2018-01-29 02:00:00                  NaN                  NaN             NaN   \n2018-01-29 03:00:00                327.5             0.017317            80.0   \n2018-01-29 04:00:00                340.0             0.000000            80.0   \n\n                                   time  \nDATE                                     \n2018-01-29 00:00:00                 NaT  \n2018-01-29 01:00:00                 NaT  \n2018-01-29 02:00:00                 NaT  \n2018-01-29 03:00:00 2018-01-29 00:00:00  \n2018-01-29 04:00:00 2018-01-29 01:00:00  ",
      "text/html": "<div>\n<style scoped>\n    .dataframe tbody tr th:only-of-type {\n        vertical-align: middle;\n    }\n\n    .dataframe tbody tr th {\n        vertical-align: top;\n    }\n\n    .dataframe thead th {\n        text-align: right;\n    }\n</style>\n<table border=\"1\" class=\"dataframe\">\n  <thead>\n    <tr style=\"text-align: right;\">\n      <th></th>\n      <th>HourlyAltimeterSetting</th>\n      <th>HourlyDewPointTemperature</th>\n      <th>HourlyDryBulbTemperature</th>\n      <th>HourlyRelativeHumidity</th>\n      <th>HourlyStationPressure</th>\n      <th>HourlyVisibility</th>\n      <th>HourlyWindSpeed</th>\n      <th>HourlyWindDirection</th>\n      <th>HourlyPrecipitation</th>\n      <th>cloud_coverage</th>\n      <th>time</th>\n    </tr>\n    <tr>\n      <th>DATE</th>\n      <th></th>\n      <th></th>\n      <th></th>\n      <th></th>\n      <th></th>\n      <th></th>\n      <th></th>\n      <th></th>\n      <th></th>\n      <th></th>\n      <th></th>\n    </tr>\n  </thead>\n  <tbody>\n    <tr>\n      <th>2018-01-29 00:00:00</th>\n      <td>NaN</td>\n      <td>NaN</td>\n      <td>NaN</td>\n      <td>NaN</td>\n      <td>NaN</td>\n      <td>NaN</td>\n      <td>NaN</td>\n      <td>NaN</td>\n      <td>NaN</td>\n      <td>NaN</td>\n      <td>NaT</td>\n    </tr>\n    <tr>\n      <th>2018-01-29 01:00:00</th>\n      <td>NaN</td>\n      <td>NaN</td>\n      <td>NaN</td>\n      <td>NaN</td>\n      <td>NaN</td>\n      <td>NaN</td>\n      <td>NaN</td>\n      <td>NaN</td>\n      <td>NaN</td>\n      <td>NaN</td>\n      <td>NaT</td>\n    </tr>\n    <tr>\n      <th>2018-01-29 02:00:00</th>\n      <td>NaN</td>\n      <td>NaN</td>\n      <td>NaN</td>\n      <td>NaN</td>\n      <td>NaN</td>\n      <td>NaN</td>\n      <td>NaN</td>\n      <td>NaN</td>\n      <td>NaN</td>\n      <td>NaN</td>\n      <td>NaT</td>\n    </tr>\n    <tr>\n      <th>2018-01-29 03:00:00</th>\n      <td>30.3425</td>\n      <td>28.0</td>\n      <td>30.0</td>\n      <td>92.25</td>\n      <td>29.5125</td>\n      <td>5.75</td>\n      <td>14.25</td>\n      <td>327.5</td>\n      <td>0.017317</td>\n      <td>80.0</td>\n      <td>2018-01-29 00:00:00</td>\n    </tr>\n    <tr>\n      <th>2018-01-29 04:00:00</th>\n      <td>30.3400</td>\n      <td>28.0</td>\n      <td>30.0</td>\n      <td>92.00</td>\n      <td>29.5100</td>\n      <td>3.00</td>\n      <td>10.00</td>\n      <td>340.0</td>\n      <td>0.000000</td>\n      <td>80.0</td>\n      <td>2018-01-29 01:00:00</td>\n    </tr>\n  </tbody>\n</table>\n</div>"
     },
     "metadata": {},
     "execution_count": 349
    }
   ],
   "source": [
    "weather_lagged_df.head()"
   ]
  },
  {
   "cell_type": "code",
   "execution_count": 350,
   "metadata": {},
   "outputs": [
    {
     "output_type": "execute_result",
     "data": {
      "text/plain": "                     HourlyAltimeterSetting  HourlyDewPointTemperature  \\\nDATE                                                                     \n2018-01-29 00:00:00                 30.3425                       28.0   \n2018-01-29 01:00:00                 30.3400                       28.0   \n2018-01-29 02:00:00                 30.3300                       28.0   \n2018-01-29 03:00:00                 30.3300                       28.0   \n2018-01-29 04:00:00                 30.3300                       28.0   \n\n                     HourlyDryBulbTemperature  HourlyRelativeHumidity  \\\nDATE                                                                    \n2018-01-29 00:00:00                      30.0                   92.25   \n2018-01-29 01:00:00                      30.0                   92.00   \n2018-01-29 02:00:00                      30.0                   92.00   \n2018-01-29 03:00:00                      30.0                   92.00   \n2018-01-29 04:00:00                      30.0                   92.50   \n\n                     HourlyStationPressure  HourlyVisibility  HourlyWindSpeed  \\\nDATE                                                                            \n2018-01-29 00:00:00                29.5125              5.75            14.25   \n2018-01-29 01:00:00                29.5100              3.00            10.00   \n2018-01-29 02:00:00                29.5000              5.00            13.00   \n2018-01-29 03:00:00                29.5000              6.00            13.00   \n2018-01-29 04:00:00                29.5000              6.00            10.50   \n\n                     HourlyWindDirection  HourlyPrecipitation  cloud_coverage  \\\nDATE                                                                            \n2018-01-29 00:00:00                327.5             0.017317            80.0   \n2018-01-29 01:00:00                340.0             0.000000            80.0   \n2018-01-29 02:00:00                340.0             0.000000            80.0   \n2018-01-29 03:00:00                320.0             0.000000            80.0   \n2018-01-29 04:00:00                325.0             0.009066            80.0   \n\n                                   time  \nDATE                                     \n2018-01-29 00:00:00 2018-01-29 00:00:00  \n2018-01-29 01:00:00 2018-01-29 01:00:00  \n2018-01-29 02:00:00 2018-01-29 02:00:00  \n2018-01-29 03:00:00 2018-01-29 03:00:00  \n2018-01-29 04:00:00 2018-01-29 04:00:00  ",
      "text/html": "<div>\n<style scoped>\n    .dataframe tbody tr th:only-of-type {\n        vertical-align: middle;\n    }\n\n    .dataframe tbody tr th {\n        vertical-align: top;\n    }\n\n    .dataframe thead th {\n        text-align: right;\n    }\n</style>\n<table border=\"1\" class=\"dataframe\">\n  <thead>\n    <tr style=\"text-align: right;\">\n      <th></th>\n      <th>HourlyAltimeterSetting</th>\n      <th>HourlyDewPointTemperature</th>\n      <th>HourlyDryBulbTemperature</th>\n      <th>HourlyRelativeHumidity</th>\n      <th>HourlyStationPressure</th>\n      <th>HourlyVisibility</th>\n      <th>HourlyWindSpeed</th>\n      <th>HourlyWindDirection</th>\n      <th>HourlyPrecipitation</th>\n      <th>cloud_coverage</th>\n      <th>time</th>\n    </tr>\n    <tr>\n      <th>DATE</th>\n      <th></th>\n      <th></th>\n      <th></th>\n      <th></th>\n      <th></th>\n      <th></th>\n      <th></th>\n      <th></th>\n      <th></th>\n      <th></th>\n      <th></th>\n    </tr>\n  </thead>\n  <tbody>\n    <tr>\n      <th>2018-01-29 00:00:00</th>\n      <td>30.3425</td>\n      <td>28.0</td>\n      <td>30.0</td>\n      <td>92.25</td>\n      <td>29.5125</td>\n      <td>5.75</td>\n      <td>14.25</td>\n      <td>327.5</td>\n      <td>0.017317</td>\n      <td>80.0</td>\n      <td>2018-01-29 00:00:00</td>\n    </tr>\n    <tr>\n      <th>2018-01-29 01:00:00</th>\n      <td>30.3400</td>\n      <td>28.0</td>\n      <td>30.0</td>\n      <td>92.00</td>\n      <td>29.5100</td>\n      <td>3.00</td>\n      <td>10.00</td>\n      <td>340.0</td>\n      <td>0.000000</td>\n      <td>80.0</td>\n      <td>2018-01-29 01:00:00</td>\n    </tr>\n    <tr>\n      <th>2018-01-29 02:00:00</th>\n      <td>30.3300</td>\n      <td>28.0</td>\n      <td>30.0</td>\n      <td>92.00</td>\n      <td>29.5000</td>\n      <td>5.00</td>\n      <td>13.00</td>\n      <td>340.0</td>\n      <td>0.000000</td>\n      <td>80.0</td>\n      <td>2018-01-29 02:00:00</td>\n    </tr>\n    <tr>\n      <th>2018-01-29 03:00:00</th>\n      <td>30.3300</td>\n      <td>28.0</td>\n      <td>30.0</td>\n      <td>92.00</td>\n      <td>29.5000</td>\n      <td>6.00</td>\n      <td>13.00</td>\n      <td>320.0</td>\n      <td>0.000000</td>\n      <td>80.0</td>\n      <td>2018-01-29 03:00:00</td>\n    </tr>\n    <tr>\n      <th>2018-01-29 04:00:00</th>\n      <td>30.3300</td>\n      <td>28.0</td>\n      <td>30.0</td>\n      <td>92.50</td>\n      <td>29.5000</td>\n      <td>6.00</td>\n      <td>10.50</td>\n      <td>325.0</td>\n      <td>0.009066</td>\n      <td>80.0</td>\n      <td>2018-01-29 04:00:00</td>\n    </tr>\n  </tbody>\n</table>\n</div>"
     },
     "metadata": {},
     "execution_count": 350
    }
   ],
   "source": [
    "weather_hourly.head()"
   ]
  },
  {
   "cell_type": "code",
   "execution_count": 352,
   "metadata": {},
   "outputs": [],
   "source": [
    "weather_lagged_df.drop(weather_lagged_df.iloc[0:3].index, axis=0, inplace=True)\n",
    "weather_hourly.drop(weather_hourly.iloc[0:3].index, axis=0, inplace=True)"
   ]
  },
  {
   "cell_type": "markdown",
   "metadata": {},
   "source": [
    "Now the dataframe weather_lagged_df holds the weather observations three hour's prior to the time index. I can assure this by investigating the 'time' column in the dataframe. Each value of 'time' is three hours earlier than the index of that row. The next dataframe I need to construct is the rate at which these observations changed over the three hour period. To do this I will find the slope of the value of each weather observation from the past weather observation to current weather observation with the following formula: (current_value-past_value)/3. I use three in the denominator because the change in x (change in time) remains constant."
   ]
  },
  {
   "cell_type": "code",
   "execution_count": 353,
   "metadata": {},
   "outputs": [],
   "source": [
    "weather_change_df = pd.DataFrame(index=weather_hourly.index, columns=weather_hourly.columns)"
   ]
  },
  {
   "cell_type": "code",
   "execution_count": 354,
   "metadata": {},
   "outputs": [
    {
     "output_type": "execute_result",
     "data": {
      "text/plain": "                    HourlyAltimeterSetting HourlyDewPointTemperature  \\\nDATE                                                                   \n2018-01-29 03:00:00                    NaN                       NaN   \n2018-01-29 04:00:00                    NaN                       NaN   \n2018-01-29 05:00:00                    NaN                       NaN   \n2018-01-29 06:00:00                    NaN                       NaN   \n2018-01-29 07:00:00                    NaN                       NaN   \n\n                    HourlyDryBulbTemperature HourlyRelativeHumidity  \\\nDATE                                                                  \n2018-01-29 03:00:00                      NaN                    NaN   \n2018-01-29 04:00:00                      NaN                    NaN   \n2018-01-29 05:00:00                      NaN                    NaN   \n2018-01-29 06:00:00                      NaN                    NaN   \n2018-01-29 07:00:00                      NaN                    NaN   \n\n                    HourlyStationPressure HourlyVisibility HourlyWindSpeed  \\\nDATE                                                                         \n2018-01-29 03:00:00                   NaN              NaN             NaN   \n2018-01-29 04:00:00                   NaN              NaN             NaN   \n2018-01-29 05:00:00                   NaN              NaN             NaN   \n2018-01-29 06:00:00                   NaN              NaN             NaN   \n2018-01-29 07:00:00                   NaN              NaN             NaN   \n\n                    HourlyWindDirection HourlyPrecipitation cloud_coverage  \\\nDATE                                                                         \n2018-01-29 03:00:00                 NaN                 NaN            NaN   \n2018-01-29 04:00:00                 NaN                 NaN            NaN   \n2018-01-29 05:00:00                 NaN                 NaN            NaN   \n2018-01-29 06:00:00                 NaN                 NaN            NaN   \n2018-01-29 07:00:00                 NaN                 NaN            NaN   \n\n                    time  \nDATE                      \n2018-01-29 03:00:00  NaN  \n2018-01-29 04:00:00  NaN  \n2018-01-29 05:00:00  NaN  \n2018-01-29 06:00:00  NaN  \n2018-01-29 07:00:00  NaN  ",
      "text/html": "<div>\n<style scoped>\n    .dataframe tbody tr th:only-of-type {\n        vertical-align: middle;\n    }\n\n    .dataframe tbody tr th {\n        vertical-align: top;\n    }\n\n    .dataframe thead th {\n        text-align: right;\n    }\n</style>\n<table border=\"1\" class=\"dataframe\">\n  <thead>\n    <tr style=\"text-align: right;\">\n      <th></th>\n      <th>HourlyAltimeterSetting</th>\n      <th>HourlyDewPointTemperature</th>\n      <th>HourlyDryBulbTemperature</th>\n      <th>HourlyRelativeHumidity</th>\n      <th>HourlyStationPressure</th>\n      <th>HourlyVisibility</th>\n      <th>HourlyWindSpeed</th>\n      <th>HourlyWindDirection</th>\n      <th>HourlyPrecipitation</th>\n      <th>cloud_coverage</th>\n      <th>time</th>\n    </tr>\n    <tr>\n      <th>DATE</th>\n      <th></th>\n      <th></th>\n      <th></th>\n      <th></th>\n      <th></th>\n      <th></th>\n      <th></th>\n      <th></th>\n      <th></th>\n      <th></th>\n      <th></th>\n    </tr>\n  </thead>\n  <tbody>\n    <tr>\n      <th>2018-01-29 03:00:00</th>\n      <td>NaN</td>\n      <td>NaN</td>\n      <td>NaN</td>\n      <td>NaN</td>\n      <td>NaN</td>\n      <td>NaN</td>\n      <td>NaN</td>\n      <td>NaN</td>\n      <td>NaN</td>\n      <td>NaN</td>\n      <td>NaN</td>\n    </tr>\n    <tr>\n      <th>2018-01-29 04:00:00</th>\n      <td>NaN</td>\n      <td>NaN</td>\n      <td>NaN</td>\n      <td>NaN</td>\n      <td>NaN</td>\n      <td>NaN</td>\n      <td>NaN</td>\n      <td>NaN</td>\n      <td>NaN</td>\n      <td>NaN</td>\n      <td>NaN</td>\n    </tr>\n    <tr>\n      <th>2018-01-29 05:00:00</th>\n      <td>NaN</td>\n      <td>NaN</td>\n      <td>NaN</td>\n      <td>NaN</td>\n      <td>NaN</td>\n      <td>NaN</td>\n      <td>NaN</td>\n      <td>NaN</td>\n      <td>NaN</td>\n      <td>NaN</td>\n      <td>NaN</td>\n    </tr>\n    <tr>\n      <th>2018-01-29 06:00:00</th>\n      <td>NaN</td>\n      <td>NaN</td>\n      <td>NaN</td>\n      <td>NaN</td>\n      <td>NaN</td>\n      <td>NaN</td>\n      <td>NaN</td>\n      <td>NaN</td>\n      <td>NaN</td>\n      <td>NaN</td>\n      <td>NaN</td>\n    </tr>\n    <tr>\n      <th>2018-01-29 07:00:00</th>\n      <td>NaN</td>\n      <td>NaN</td>\n      <td>NaN</td>\n      <td>NaN</td>\n      <td>NaN</td>\n      <td>NaN</td>\n      <td>NaN</td>\n      <td>NaN</td>\n      <td>NaN</td>\n      <td>NaN</td>\n      <td>NaN</td>\n    </tr>\n  </tbody>\n</table>\n</div>"
     },
     "metadata": {},
     "execution_count": 354
    }
   ],
   "source": [
    "weather_change_df.head()"
   ]
  },
  {
   "cell_type": "markdown",
   "metadata": {},
   "source": [
    "Now i need to iterate through both the weather_hourly dataframe and weather_lagged_df dataframe and subtract the value of the lagged df from the normal df and divide by three. Before I do that I need to drop the first three rows from each dataframe so the calculation will work. These rows would be dropped when combining with the energy data anyways so I am not losing any valuable data"
   ]
  },
  {
   "cell_type": "code",
   "execution_count": 355,
   "metadata": {},
   "outputs": [
    {
     "output_type": "execute_result",
     "data": {
      "text/plain": "                     HourlyAltimeterSetting  HourlyDewPointTemperature  \\\nDATE                                                                     \n2018-01-29 03:00:00                 30.3425                       28.0   \n2018-01-29 04:00:00                 30.3400                       28.0   \n2018-01-29 05:00:00                 30.3300                       28.0   \n2018-01-29 06:00:00                 30.3300                       28.0   \n2018-01-29 07:00:00                 30.3300                       28.0   \n\n                     HourlyDryBulbTemperature  HourlyRelativeHumidity  \\\nDATE                                                                    \n2018-01-29 03:00:00                      30.0                   92.25   \n2018-01-29 04:00:00                      30.0                   92.00   \n2018-01-29 05:00:00                      30.0                   92.00   \n2018-01-29 06:00:00                      30.0                   92.00   \n2018-01-29 07:00:00                      30.0                   92.50   \n\n                     HourlyStationPressure  HourlyVisibility  HourlyWindSpeed  \\\nDATE                                                                            \n2018-01-29 03:00:00                29.5125              5.75            14.25   \n2018-01-29 04:00:00                29.5100              3.00            10.00   \n2018-01-29 05:00:00                29.5000              5.00            13.00   \n2018-01-29 06:00:00                29.5000              6.00            13.00   \n2018-01-29 07:00:00                29.5000              6.00            10.50   \n\n                     HourlyWindDirection  HourlyPrecipitation  cloud_coverage  \\\nDATE                                                                            \n2018-01-29 03:00:00                327.5             0.017317            80.0   \n2018-01-29 04:00:00                340.0             0.000000            80.0   \n2018-01-29 05:00:00                340.0             0.000000            80.0   \n2018-01-29 06:00:00                320.0             0.000000            80.0   \n2018-01-29 07:00:00                325.0             0.009066            80.0   \n\n                                   time  \nDATE                                     \n2018-01-29 03:00:00 2018-01-29 00:00:00  \n2018-01-29 04:00:00 2018-01-29 01:00:00  \n2018-01-29 05:00:00 2018-01-29 02:00:00  \n2018-01-29 06:00:00 2018-01-29 03:00:00  \n2018-01-29 07:00:00 2018-01-29 04:00:00  ",
      "text/html": "<div>\n<style scoped>\n    .dataframe tbody tr th:only-of-type {\n        vertical-align: middle;\n    }\n\n    .dataframe tbody tr th {\n        vertical-align: top;\n    }\n\n    .dataframe thead th {\n        text-align: right;\n    }\n</style>\n<table border=\"1\" class=\"dataframe\">\n  <thead>\n    <tr style=\"text-align: right;\">\n      <th></th>\n      <th>HourlyAltimeterSetting</th>\n      <th>HourlyDewPointTemperature</th>\n      <th>HourlyDryBulbTemperature</th>\n      <th>HourlyRelativeHumidity</th>\n      <th>HourlyStationPressure</th>\n      <th>HourlyVisibility</th>\n      <th>HourlyWindSpeed</th>\n      <th>HourlyWindDirection</th>\n      <th>HourlyPrecipitation</th>\n      <th>cloud_coverage</th>\n      <th>time</th>\n    </tr>\n    <tr>\n      <th>DATE</th>\n      <th></th>\n      <th></th>\n      <th></th>\n      <th></th>\n      <th></th>\n      <th></th>\n      <th></th>\n      <th></th>\n      <th></th>\n      <th></th>\n      <th></th>\n    </tr>\n  </thead>\n  <tbody>\n    <tr>\n      <th>2018-01-29 03:00:00</th>\n      <td>30.3425</td>\n      <td>28.0</td>\n      <td>30.0</td>\n      <td>92.25</td>\n      <td>29.5125</td>\n      <td>5.75</td>\n      <td>14.25</td>\n      <td>327.5</td>\n      <td>0.017317</td>\n      <td>80.0</td>\n      <td>2018-01-29 00:00:00</td>\n    </tr>\n    <tr>\n      <th>2018-01-29 04:00:00</th>\n      <td>30.3400</td>\n      <td>28.0</td>\n      <td>30.0</td>\n      <td>92.00</td>\n      <td>29.5100</td>\n      <td>3.00</td>\n      <td>10.00</td>\n      <td>340.0</td>\n      <td>0.000000</td>\n      <td>80.0</td>\n      <td>2018-01-29 01:00:00</td>\n    </tr>\n    <tr>\n      <th>2018-01-29 05:00:00</th>\n      <td>30.3300</td>\n      <td>28.0</td>\n      <td>30.0</td>\n      <td>92.00</td>\n      <td>29.5000</td>\n      <td>5.00</td>\n      <td>13.00</td>\n      <td>340.0</td>\n      <td>0.000000</td>\n      <td>80.0</td>\n      <td>2018-01-29 02:00:00</td>\n    </tr>\n    <tr>\n      <th>2018-01-29 06:00:00</th>\n      <td>30.3300</td>\n      <td>28.0</td>\n      <td>30.0</td>\n      <td>92.00</td>\n      <td>29.5000</td>\n      <td>6.00</td>\n      <td>13.00</td>\n      <td>320.0</td>\n      <td>0.000000</td>\n      <td>80.0</td>\n      <td>2018-01-29 03:00:00</td>\n    </tr>\n    <tr>\n      <th>2018-01-29 07:00:00</th>\n      <td>30.3300</td>\n      <td>28.0</td>\n      <td>30.0</td>\n      <td>92.50</td>\n      <td>29.5000</td>\n      <td>6.00</td>\n      <td>10.50</td>\n      <td>325.0</td>\n      <td>0.009066</td>\n      <td>80.0</td>\n      <td>2018-01-29 04:00:00</td>\n    </tr>\n  </tbody>\n</table>\n</div>"
     },
     "metadata": {},
     "execution_count": 355
    }
   ],
   "source": [
    "weather_lagged_df.head()"
   ]
  },
  {
   "cell_type": "code",
   "execution_count": 356,
   "metadata": {},
   "outputs": [
    {
     "output_type": "execute_result",
     "data": {
      "text/plain": "                     HourlyAltimeterSetting  HourlyDewPointTemperature  \\\nDATE                                                                     \n2018-01-29 03:00:00                   30.33                       28.0   \n2018-01-29 04:00:00                   30.33                       28.0   \n2018-01-29 05:00:00                   30.34                       27.0   \n2018-01-29 06:00:00                   30.36                       26.0   \n2018-01-29 07:00:00                   30.37                       25.0   \n\n                     HourlyDryBulbTemperature  HourlyRelativeHumidity  \\\nDATE                                                                    \n2018-01-29 03:00:00                     30.00                   92.00   \n2018-01-29 04:00:00                     30.00                   92.50   \n2018-01-29 05:00:00                     30.00                   88.00   \n2018-01-29 06:00:00                     29.00                   89.00   \n2018-01-29 07:00:00                     28.25                   86.75   \n\n                     HourlyStationPressure  HourlyVisibility  HourlyWindSpeed  \\\nDATE                                                                            \n2018-01-29 03:00:00                  29.50               6.0             13.0   \n2018-01-29 04:00:00                  29.50               6.0             10.5   \n2018-01-29 05:00:00                  29.51              10.0             14.0   \n2018-01-29 06:00:00                  29.53               5.0             16.0   \n2018-01-29 07:00:00                  29.54               9.0             14.5   \n\n                     HourlyWindDirection  HourlyPrecipitation  cloud_coverage  \\\nDATE                                                                            \n2018-01-29 03:00:00                320.0             0.000000            80.0   \n2018-01-29 04:00:00                325.0             0.009066            80.0   \n2018-01-29 05:00:00                340.0            -0.001126            80.0   \n2018-01-29 06:00:00                350.0             0.000000            80.0   \n2018-01-29 07:00:00                352.5            -0.000203            80.0   \n\n                                   time  \nDATE                                     \n2018-01-29 03:00:00 2018-01-29 03:00:00  \n2018-01-29 04:00:00 2018-01-29 04:00:00  \n2018-01-29 05:00:00 2018-01-29 05:00:00  \n2018-01-29 06:00:00 2018-01-29 06:00:00  \n2018-01-29 07:00:00 2018-01-29 07:00:00  ",
      "text/html": "<div>\n<style scoped>\n    .dataframe tbody tr th:only-of-type {\n        vertical-align: middle;\n    }\n\n    .dataframe tbody tr th {\n        vertical-align: top;\n    }\n\n    .dataframe thead th {\n        text-align: right;\n    }\n</style>\n<table border=\"1\" class=\"dataframe\">\n  <thead>\n    <tr style=\"text-align: right;\">\n      <th></th>\n      <th>HourlyAltimeterSetting</th>\n      <th>HourlyDewPointTemperature</th>\n      <th>HourlyDryBulbTemperature</th>\n      <th>HourlyRelativeHumidity</th>\n      <th>HourlyStationPressure</th>\n      <th>HourlyVisibility</th>\n      <th>HourlyWindSpeed</th>\n      <th>HourlyWindDirection</th>\n      <th>HourlyPrecipitation</th>\n      <th>cloud_coverage</th>\n      <th>time</th>\n    </tr>\n    <tr>\n      <th>DATE</th>\n      <th></th>\n      <th></th>\n      <th></th>\n      <th></th>\n      <th></th>\n      <th></th>\n      <th></th>\n      <th></th>\n      <th></th>\n      <th></th>\n      <th></th>\n    </tr>\n  </thead>\n  <tbody>\n    <tr>\n      <th>2018-01-29 03:00:00</th>\n      <td>30.33</td>\n      <td>28.0</td>\n      <td>30.00</td>\n      <td>92.00</td>\n      <td>29.50</td>\n      <td>6.0</td>\n      <td>13.0</td>\n      <td>320.0</td>\n      <td>0.000000</td>\n      <td>80.0</td>\n      <td>2018-01-29 03:00:00</td>\n    </tr>\n    <tr>\n      <th>2018-01-29 04:00:00</th>\n      <td>30.33</td>\n      <td>28.0</td>\n      <td>30.00</td>\n      <td>92.50</td>\n      <td>29.50</td>\n      <td>6.0</td>\n      <td>10.5</td>\n      <td>325.0</td>\n      <td>0.009066</td>\n      <td>80.0</td>\n      <td>2018-01-29 04:00:00</td>\n    </tr>\n    <tr>\n      <th>2018-01-29 05:00:00</th>\n      <td>30.34</td>\n      <td>27.0</td>\n      <td>30.00</td>\n      <td>88.00</td>\n      <td>29.51</td>\n      <td>10.0</td>\n      <td>14.0</td>\n      <td>340.0</td>\n      <td>-0.001126</td>\n      <td>80.0</td>\n      <td>2018-01-29 05:00:00</td>\n    </tr>\n    <tr>\n      <th>2018-01-29 06:00:00</th>\n      <td>30.36</td>\n      <td>26.0</td>\n      <td>29.00</td>\n      <td>89.00</td>\n      <td>29.53</td>\n      <td>5.0</td>\n      <td>16.0</td>\n      <td>350.0</td>\n      <td>0.000000</td>\n      <td>80.0</td>\n      <td>2018-01-29 06:00:00</td>\n    </tr>\n    <tr>\n      <th>2018-01-29 07:00:00</th>\n      <td>30.37</td>\n      <td>25.0</td>\n      <td>28.25</td>\n      <td>86.75</td>\n      <td>29.54</td>\n      <td>9.0</td>\n      <td>14.5</td>\n      <td>352.5</td>\n      <td>-0.000203</td>\n      <td>80.0</td>\n      <td>2018-01-29 07:00:00</td>\n    </tr>\n  </tbody>\n</table>\n</div>"
     },
     "metadata": {},
     "execution_count": 356
    }
   ],
   "source": [
    "weather_hourly.head()"
   ]
  },
  {
   "cell_type": "markdown",
   "metadata": {},
   "source": [
    "Now I can iterate through the dataframe and calculate the slope of each weather condition over the three hour time period."
   ]
  },
  {
   "cell_type": "code",
   "execution_count": 357,
   "metadata": {},
   "outputs": [],
   "source": [
    "for idx, row in weather_change_df.iterrows():\n",
    "    weather_change_df.loc[idx] = (weather_hourly.loc[idx] - weather_lagged_df.loc[idx])/3"
   ]
  },
  {
   "cell_type": "code",
   "execution_count": 358,
   "metadata": {},
   "outputs": [
    {
     "output_type": "execute_result",
     "data": {
      "text/plain": "                    HourlyAltimeterSetting HourlyDewPointTemperature  \\\nDATE                                                                   \n2018-01-29 03:00:00            -0.00416667                         0   \n2018-01-29 04:00:00            -0.00333333                         0   \n2018-01-29 05:00:00             0.00333333                 -0.333333   \n2018-01-29 06:00:00                   0.01                 -0.666667   \n2018-01-29 07:00:00              0.0133333                        -1   \n\n                    HourlyDryBulbTemperature HourlyRelativeHumidity  \\\nDATE                                                                  \n2018-01-29 03:00:00                        0             -0.0833333   \n2018-01-29 04:00:00                        0               0.166667   \n2018-01-29 05:00:00                        0               -1.33333   \n2018-01-29 06:00:00                -0.333333                     -1   \n2018-01-29 07:00:00                -0.583333               -1.91667   \n\n                    HourlyStationPressure HourlyVisibility HourlyWindSpeed  \\\nDATE                                                                         \n2018-01-29 03:00:00           -0.00416667        0.0833333       -0.416667   \n2018-01-29 04:00:00           -0.00333333                1        0.166667   \n2018-01-29 05:00:00            0.00333333          1.66667        0.333333   \n2018-01-29 06:00:00                  0.01        -0.333333               1   \n2018-01-29 07:00:00             0.0133333                1         1.33333   \n\n                    HourlyWindDirection HourlyPrecipitation cloud_coverage  \\\nDATE                                                                         \n2018-01-29 03:00:00                -2.5         -0.00577225              0   \n2018-01-29 04:00:00                  -5          0.00302193              0   \n2018-01-29 05:00:00                   0        -0.000375227              0   \n2018-01-29 06:00:00                  10                   0              0   \n2018-01-29 07:00:00             9.16667         -0.00308974              0   \n\n                                time  \nDATE                                  \n2018-01-29 03:00:00  0 days 01:00:00  \n2018-01-29 04:00:00  0 days 01:00:00  \n2018-01-29 05:00:00  0 days 01:00:00  \n2018-01-29 06:00:00  0 days 01:00:00  \n2018-01-29 07:00:00  0 days 01:00:00  ",
      "text/html": "<div>\n<style scoped>\n    .dataframe tbody tr th:only-of-type {\n        vertical-align: middle;\n    }\n\n    .dataframe tbody tr th {\n        vertical-align: top;\n    }\n\n    .dataframe thead th {\n        text-align: right;\n    }\n</style>\n<table border=\"1\" class=\"dataframe\">\n  <thead>\n    <tr style=\"text-align: right;\">\n      <th></th>\n      <th>HourlyAltimeterSetting</th>\n      <th>HourlyDewPointTemperature</th>\n      <th>HourlyDryBulbTemperature</th>\n      <th>HourlyRelativeHumidity</th>\n      <th>HourlyStationPressure</th>\n      <th>HourlyVisibility</th>\n      <th>HourlyWindSpeed</th>\n      <th>HourlyWindDirection</th>\n      <th>HourlyPrecipitation</th>\n      <th>cloud_coverage</th>\n      <th>time</th>\n    </tr>\n    <tr>\n      <th>DATE</th>\n      <th></th>\n      <th></th>\n      <th></th>\n      <th></th>\n      <th></th>\n      <th></th>\n      <th></th>\n      <th></th>\n      <th></th>\n      <th></th>\n      <th></th>\n    </tr>\n  </thead>\n  <tbody>\n    <tr>\n      <th>2018-01-29 03:00:00</th>\n      <td>-0.00416667</td>\n      <td>0</td>\n      <td>0</td>\n      <td>-0.0833333</td>\n      <td>-0.00416667</td>\n      <td>0.0833333</td>\n      <td>-0.416667</td>\n      <td>-2.5</td>\n      <td>-0.00577225</td>\n      <td>0</td>\n      <td>0 days 01:00:00</td>\n    </tr>\n    <tr>\n      <th>2018-01-29 04:00:00</th>\n      <td>-0.00333333</td>\n      <td>0</td>\n      <td>0</td>\n      <td>0.166667</td>\n      <td>-0.00333333</td>\n      <td>1</td>\n      <td>0.166667</td>\n      <td>-5</td>\n      <td>0.00302193</td>\n      <td>0</td>\n      <td>0 days 01:00:00</td>\n    </tr>\n    <tr>\n      <th>2018-01-29 05:00:00</th>\n      <td>0.00333333</td>\n      <td>-0.333333</td>\n      <td>0</td>\n      <td>-1.33333</td>\n      <td>0.00333333</td>\n      <td>1.66667</td>\n      <td>0.333333</td>\n      <td>0</td>\n      <td>-0.000375227</td>\n      <td>0</td>\n      <td>0 days 01:00:00</td>\n    </tr>\n    <tr>\n      <th>2018-01-29 06:00:00</th>\n      <td>0.01</td>\n      <td>-0.666667</td>\n      <td>-0.333333</td>\n      <td>-1</td>\n      <td>0.01</td>\n      <td>-0.333333</td>\n      <td>1</td>\n      <td>10</td>\n      <td>0</td>\n      <td>0</td>\n      <td>0 days 01:00:00</td>\n    </tr>\n    <tr>\n      <th>2018-01-29 07:00:00</th>\n      <td>0.0133333</td>\n      <td>-1</td>\n      <td>-0.583333</td>\n      <td>-1.91667</td>\n      <td>0.0133333</td>\n      <td>1</td>\n      <td>1.33333</td>\n      <td>9.16667</td>\n      <td>-0.00308974</td>\n      <td>0</td>\n      <td>0 days 01:00:00</td>\n    </tr>\n  </tbody>\n</table>\n</div>"
     },
     "metadata": {},
     "execution_count": 358
    }
   ],
   "source": [
    "weather_change_df.head()"
   ]
  },
  {
   "cell_type": "markdown",
   "metadata": {},
   "source": [
    "Great, now I can combine all four dataframes into one and begin modeling again. Before I do that I want to change the column names of the dataframes so i can differentiate between the different time lags and change over time."
   ]
  },
  {
   "cell_type": "code",
   "execution_count": 359,
   "metadata": {},
   "outputs": [],
   "source": [
    "energy.drop(energy.iloc[0:3].index, axis=0, inplace=True)"
   ]
  },
  {
   "cell_type": "code",
   "execution_count": 360,
   "metadata": {},
   "outputs": [
    {
     "output_type": "execute_result",
     "data": {
      "text/plain": "Index(['HourlyAltimeterSetting', 'HourlyDewPointTemperature',\n       'HourlyDryBulbTemperature', 'HourlyRelativeHumidity',\n       'HourlyStationPressure', 'HourlyVisibility', 'HourlyWindSpeed',\n       'HourlyWindDirection', 'HourlyPrecipitation', 'cloud_coverage', 'time'],\n      dtype='object')"
     },
     "metadata": {},
     "execution_count": 360
    }
   ],
   "source": [
    "weather_hourly.columns"
   ]
  },
  {
   "cell_type": "code",
   "execution_count": 362,
   "metadata": {},
   "outputs": [],
   "source": [
    "weather_hourly.drop('time', axis=1, inplace=True)\n",
    "weather_lagged_df.drop('time', axis=1, inplace=True)\n",
    "weather_change_df.drop('time', axis=1, inplace=True)"
   ]
  },
  {
   "cell_type": "code",
   "execution_count": 363,
   "metadata": {},
   "outputs": [],
   "source": [
    "weather_hourly.columns = ['altimeter', 'dew_point', 'temperature', 'humidity', 'station_pressure', 'visibility', 'wind_speed', 'wind_direction', 'precipitation', 'cloud_coverage']\n",
    "weather_lagged_df.columns = ['lag3_altimeter', 'lag3_dew_point', 'lag3_temperature', 'lag3_humidity', 'lag3_station_pressure', 'lag3_visibility', \n",
    "                            'lag3_wind_speed', 'lag3_wind_direction', 'lag3_precipitation', 'lag3_cloud_coverage']\n",
    "weather_change_df.columns = ['altimeter_change', 'dew_point_change', 'temperature_change', 'humidity_change', 'station_pressure_change', 'visibility_change', \n",
    "                            'wind_speed_change', 'wind_direction_change', 'precipitation_change', 'cloud_coverage_change']"
   ]
  },
  {
   "cell_type": "code",
   "execution_count": 364,
   "metadata": {},
   "outputs": [],
   "source": [
    "weather_change_df = weather_change_df.astype(float)"
   ]
  },
  {
   "cell_type": "code",
   "execution_count": 384,
   "metadata": {},
   "outputs": [],
   "source": [
    "base_df2 = pd.concat([energy, weather_hourly.shift(3), weather_lagged_df.shift(3), weather_change_df.shift(3)], axis=1)"
   ]
  },
  {
   "cell_type": "code",
   "execution_count": 385,
   "metadata": {},
   "outputs": [
    {
     "output_type": "execute_result",
     "data": {
      "text/plain": "                     nexus_meter  hour  week  altimeter  dew_point  \\\nDATE                                                                 \n2018-01-29 03:00:00          NaN   NaN   NaN        NaN        NaN   \n2018-01-29 04:00:00          NaN   NaN   NaN        NaN        NaN   \n2018-01-29 05:00:00          NaN   NaN   NaN        NaN        NaN   \n2018-01-29 06:00:00          NaN   NaN   NaN      30.33       28.0   \n2018-01-29 07:00:00          NaN   NaN   NaN      30.33       28.0   \n\n                     temperature  humidity  station_pressure  visibility  \\\nDATE                                                                       \n2018-01-29 03:00:00          NaN       NaN               NaN         NaN   \n2018-01-29 04:00:00          NaN       NaN               NaN         NaN   \n2018-01-29 05:00:00          NaN       NaN               NaN         NaN   \n2018-01-29 06:00:00         30.0      92.0              29.5         6.0   \n2018-01-29 07:00:00         30.0      92.5              29.5         6.0   \n\n                     wind_speed  ...  altimeter_change  dew_point_change  \\\nDATE                             ...                                       \n2018-01-29 03:00:00         NaN  ...               NaN               NaN   \n2018-01-29 04:00:00         NaN  ...               NaN               NaN   \n2018-01-29 05:00:00         NaN  ...               NaN               NaN   \n2018-01-29 06:00:00        13.0  ...         -0.004167               0.0   \n2018-01-29 07:00:00        10.5  ...         -0.003333               0.0   \n\n                     temperature_change  humidity_change  \\\nDATE                                                       \n2018-01-29 03:00:00                 NaN              NaN   \n2018-01-29 04:00:00                 NaN              NaN   \n2018-01-29 05:00:00                 NaN              NaN   \n2018-01-29 06:00:00                 0.0        -0.083333   \n2018-01-29 07:00:00                 0.0         0.166667   \n\n                     station_pressure_change  visibility_change  \\\nDATE                                                              \n2018-01-29 03:00:00                      NaN                NaN   \n2018-01-29 04:00:00                      NaN                NaN   \n2018-01-29 05:00:00                      NaN                NaN   \n2018-01-29 06:00:00                -0.004167           0.083333   \n2018-01-29 07:00:00                -0.003333           1.000000   \n\n                     wind_speed_change  wind_direction_change  \\\nDATE                                                            \n2018-01-29 03:00:00                NaN                    NaN   \n2018-01-29 04:00:00                NaN                    NaN   \n2018-01-29 05:00:00                NaN                    NaN   \n2018-01-29 06:00:00          -0.416667                   -2.5   \n2018-01-29 07:00:00           0.166667                   -5.0   \n\n                     precipitation_change  cloud_coverage_change  \nDATE                                                              \n2018-01-29 03:00:00                   NaN                    NaN  \n2018-01-29 04:00:00                   NaN                    NaN  \n2018-01-29 05:00:00                   NaN                    NaN  \n2018-01-29 06:00:00             -0.005772                    0.0  \n2018-01-29 07:00:00              0.003022                    0.0  \n\n[5 rows x 33 columns]",
      "text/html": "<div>\n<style scoped>\n    .dataframe tbody tr th:only-of-type {\n        vertical-align: middle;\n    }\n\n    .dataframe tbody tr th {\n        vertical-align: top;\n    }\n\n    .dataframe thead th {\n        text-align: right;\n    }\n</style>\n<table border=\"1\" class=\"dataframe\">\n  <thead>\n    <tr style=\"text-align: right;\">\n      <th></th>\n      <th>nexus_meter</th>\n      <th>hour</th>\n      <th>week</th>\n      <th>altimeter</th>\n      <th>dew_point</th>\n      <th>temperature</th>\n      <th>humidity</th>\n      <th>station_pressure</th>\n      <th>visibility</th>\n      <th>wind_speed</th>\n      <th>...</th>\n      <th>altimeter_change</th>\n      <th>dew_point_change</th>\n      <th>temperature_change</th>\n      <th>humidity_change</th>\n      <th>station_pressure_change</th>\n      <th>visibility_change</th>\n      <th>wind_speed_change</th>\n      <th>wind_direction_change</th>\n      <th>precipitation_change</th>\n      <th>cloud_coverage_change</th>\n    </tr>\n    <tr>\n      <th>DATE</th>\n      <th></th>\n      <th></th>\n      <th></th>\n      <th></th>\n      <th></th>\n      <th></th>\n      <th></th>\n      <th></th>\n      <th></th>\n      <th></th>\n      <th></th>\n      <th></th>\n      <th></th>\n      <th></th>\n      <th></th>\n      <th></th>\n      <th></th>\n      <th></th>\n      <th></th>\n      <th></th>\n      <th></th>\n    </tr>\n  </thead>\n  <tbody>\n    <tr>\n      <th>2018-01-29 03:00:00</th>\n      <td>NaN</td>\n      <td>NaN</td>\n      <td>NaN</td>\n      <td>NaN</td>\n      <td>NaN</td>\n      <td>NaN</td>\n      <td>NaN</td>\n      <td>NaN</td>\n      <td>NaN</td>\n      <td>NaN</td>\n      <td>...</td>\n      <td>NaN</td>\n      <td>NaN</td>\n      <td>NaN</td>\n      <td>NaN</td>\n      <td>NaN</td>\n      <td>NaN</td>\n      <td>NaN</td>\n      <td>NaN</td>\n      <td>NaN</td>\n      <td>NaN</td>\n    </tr>\n    <tr>\n      <th>2018-01-29 04:00:00</th>\n      <td>NaN</td>\n      <td>NaN</td>\n      <td>NaN</td>\n      <td>NaN</td>\n      <td>NaN</td>\n      <td>NaN</td>\n      <td>NaN</td>\n      <td>NaN</td>\n      <td>NaN</td>\n      <td>NaN</td>\n      <td>...</td>\n      <td>NaN</td>\n      <td>NaN</td>\n      <td>NaN</td>\n      <td>NaN</td>\n      <td>NaN</td>\n      <td>NaN</td>\n      <td>NaN</td>\n      <td>NaN</td>\n      <td>NaN</td>\n      <td>NaN</td>\n    </tr>\n    <tr>\n      <th>2018-01-29 05:00:00</th>\n      <td>NaN</td>\n      <td>NaN</td>\n      <td>NaN</td>\n      <td>NaN</td>\n      <td>NaN</td>\n      <td>NaN</td>\n      <td>NaN</td>\n      <td>NaN</td>\n      <td>NaN</td>\n      <td>NaN</td>\n      <td>...</td>\n      <td>NaN</td>\n      <td>NaN</td>\n      <td>NaN</td>\n      <td>NaN</td>\n      <td>NaN</td>\n      <td>NaN</td>\n      <td>NaN</td>\n      <td>NaN</td>\n      <td>NaN</td>\n      <td>NaN</td>\n    </tr>\n    <tr>\n      <th>2018-01-29 06:00:00</th>\n      <td>NaN</td>\n      <td>NaN</td>\n      <td>NaN</td>\n      <td>30.33</td>\n      <td>28.0</td>\n      <td>30.0</td>\n      <td>92.0</td>\n      <td>29.5</td>\n      <td>6.0</td>\n      <td>13.0</td>\n      <td>...</td>\n      <td>-0.004167</td>\n      <td>0.0</td>\n      <td>0.0</td>\n      <td>-0.083333</td>\n      <td>-0.004167</td>\n      <td>0.083333</td>\n      <td>-0.416667</td>\n      <td>-2.5</td>\n      <td>-0.005772</td>\n      <td>0.0</td>\n    </tr>\n    <tr>\n      <th>2018-01-29 07:00:00</th>\n      <td>NaN</td>\n      <td>NaN</td>\n      <td>NaN</td>\n      <td>30.33</td>\n      <td>28.0</td>\n      <td>30.0</td>\n      <td>92.5</td>\n      <td>29.5</td>\n      <td>6.0</td>\n      <td>10.5</td>\n      <td>...</td>\n      <td>-0.003333</td>\n      <td>0.0</td>\n      <td>0.0</td>\n      <td>0.166667</td>\n      <td>-0.003333</td>\n      <td>1.000000</td>\n      <td>0.166667</td>\n      <td>-5.0</td>\n      <td>0.003022</td>\n      <td>0.0</td>\n    </tr>\n  </tbody>\n</table>\n<p>5 rows × 33 columns</p>\n</div>"
     },
     "metadata": {},
     "execution_count": 385
    }
   ],
   "source": [
    "base_df2.head()"
   ]
  },
  {
   "cell_type": "markdown",
   "metadata": {},
   "source": [
    "The first day of observations does not have any energy data, so i will drop the rows up to '2018-01-30'"
   ]
  },
  {
   "cell_type": "code",
   "execution_count": 386,
   "metadata": {},
   "outputs": [],
   "source": [
    "base_df2.drop(base_df2[:'2018-01-30'].index, axis=0, inplace=True)"
   ]
  },
  {
   "cell_type": "markdown",
   "metadata": {},
   "source": [
    "Again, I only want to focus on the times that are likely to produce solar energy, for now I will consider this the time period 5am - 9pm each day. I will now subset this dataframe to only include those times."
   ]
  },
  {
   "cell_type": "code",
   "execution_count": 387,
   "metadata": {},
   "outputs": [],
   "source": [
    "model_df2 = base_df2[(base_df2.index.hour >= 5) & (base_df2.index.hour <= 21)]"
   ]
  },
  {
   "cell_type": "code",
   "execution_count": 388,
   "metadata": {},
   "outputs": [
    {
     "output_type": "execute_result",
     "data": {
      "text/plain": "                     nexus_meter  hour  week  altimeter  dew_point  \\\nDATE                                                                 \n2018-01-31 05:00:00          4.0   5.0   5.0      29.99       20.0   \n2018-01-31 06:00:00          4.0   6.0   5.0      29.93       20.0   \n2018-01-31 07:00:00          4.0   7.0   5.0      29.87       21.0   \n2018-01-31 08:00:00          4.0   8.0   5.0      29.87       21.0   \n2018-01-31 09:00:00          4.0   9.0   5.0      29.87       21.0   \n\n                     temperature  humidity  station_pressure  visibility  \\\nDATE                                                                       \n2018-01-31 05:00:00         30.0      66.0             29.17        10.0   \n2018-01-31 06:00:00         30.0      66.0             29.11        10.0   \n2018-01-31 07:00:00         31.0      67.0             29.05        10.0   \n2018-01-31 08:00:00         31.0      67.0             29.05        10.0   \n2018-01-31 09:00:00         31.0      67.0             29.05        10.0   \n\n                     wind_speed  ...  altimeter_change  dew_point_change  \\\nDATE                             ...                                       \n2018-01-31 05:00:00        21.0  ...         -0.020000          0.333333   \n2018-01-31 06:00:00        23.0  ...         -0.030000          0.333333   \n2018-01-31 07:00:00        24.0  ...         -0.046667          0.333333   \n2018-01-31 08:00:00        23.0  ...         -0.040000          0.333333   \n2018-01-31 09:00:00        20.0  ...         -0.020000          0.333333   \n\n                     temperature_change  humidity_change  \\\nDATE                                                       \n2018-01-31 05:00:00            0.000000         0.666667   \n2018-01-31 06:00:00            0.000000         0.666667   \n2018-01-31 07:00:00            0.333333         0.333333   \n2018-01-31 08:00:00            0.333333         0.333333   \n2018-01-31 09:00:00            0.333333         0.333333   \n\n                     station_pressure_change  visibility_change  \\\nDATE                                                              \n2018-01-31 05:00:00                -0.020000                0.0   \n2018-01-31 06:00:00                -0.030000                0.0   \n2018-01-31 07:00:00                -0.046667                0.0   \n2018-01-31 08:00:00                -0.040000                0.0   \n2018-01-31 09:00:00                -0.020000                0.0   \n\n                     wind_speed_change  wind_direction_change  \\\nDATE                                                            \n2018-01-31 05:00:00          -0.333333               3.333333   \n2018-01-31 06:00:00           0.333333               0.000000   \n2018-01-31 07:00:00           0.666667               0.000000   \n2018-01-31 08:00:00           0.666667               3.333333   \n2018-01-31 09:00:00          -1.000000               3.333333   \n\n                     precipitation_change  cloud_coverage_change  \nDATE                                                              \n2018-01-31 05:00:00                   0.0                    0.0  \n2018-01-31 06:00:00                   0.0                    0.0  \n2018-01-31 07:00:00                   0.0                    0.0  \n2018-01-31 08:00:00                   0.0                    0.0  \n2018-01-31 09:00:00                   0.0                    0.0  \n\n[5 rows x 33 columns]",
      "text/html": "<div>\n<style scoped>\n    .dataframe tbody tr th:only-of-type {\n        vertical-align: middle;\n    }\n\n    .dataframe tbody tr th {\n        vertical-align: top;\n    }\n\n    .dataframe thead th {\n        text-align: right;\n    }\n</style>\n<table border=\"1\" class=\"dataframe\">\n  <thead>\n    <tr style=\"text-align: right;\">\n      <th></th>\n      <th>nexus_meter</th>\n      <th>hour</th>\n      <th>week</th>\n      <th>altimeter</th>\n      <th>dew_point</th>\n      <th>temperature</th>\n      <th>humidity</th>\n      <th>station_pressure</th>\n      <th>visibility</th>\n      <th>wind_speed</th>\n      <th>...</th>\n      <th>altimeter_change</th>\n      <th>dew_point_change</th>\n      <th>temperature_change</th>\n      <th>humidity_change</th>\n      <th>station_pressure_change</th>\n      <th>visibility_change</th>\n      <th>wind_speed_change</th>\n      <th>wind_direction_change</th>\n      <th>precipitation_change</th>\n      <th>cloud_coverage_change</th>\n    </tr>\n    <tr>\n      <th>DATE</th>\n      <th></th>\n      <th></th>\n      <th></th>\n      <th></th>\n      <th></th>\n      <th></th>\n      <th></th>\n      <th></th>\n      <th></th>\n      <th></th>\n      <th></th>\n      <th></th>\n      <th></th>\n      <th></th>\n      <th></th>\n      <th></th>\n      <th></th>\n      <th></th>\n      <th></th>\n      <th></th>\n      <th></th>\n    </tr>\n  </thead>\n  <tbody>\n    <tr>\n      <th>2018-01-31 05:00:00</th>\n      <td>4.0</td>\n      <td>5.0</td>\n      <td>5.0</td>\n      <td>29.99</td>\n      <td>20.0</td>\n      <td>30.0</td>\n      <td>66.0</td>\n      <td>29.17</td>\n      <td>10.0</td>\n      <td>21.0</td>\n      <td>...</td>\n      <td>-0.020000</td>\n      <td>0.333333</td>\n      <td>0.000000</td>\n      <td>0.666667</td>\n      <td>-0.020000</td>\n      <td>0.0</td>\n      <td>-0.333333</td>\n      <td>3.333333</td>\n      <td>0.0</td>\n      <td>0.0</td>\n    </tr>\n    <tr>\n      <th>2018-01-31 06:00:00</th>\n      <td>4.0</td>\n      <td>6.0</td>\n      <td>5.0</td>\n      <td>29.93</td>\n      <td>20.0</td>\n      <td>30.0</td>\n      <td>66.0</td>\n      <td>29.11</td>\n      <td>10.0</td>\n      <td>23.0</td>\n      <td>...</td>\n      <td>-0.030000</td>\n      <td>0.333333</td>\n      <td>0.000000</td>\n      <td>0.666667</td>\n      <td>-0.030000</td>\n      <td>0.0</td>\n      <td>0.333333</td>\n      <td>0.000000</td>\n      <td>0.0</td>\n      <td>0.0</td>\n    </tr>\n    <tr>\n      <th>2018-01-31 07:00:00</th>\n      <td>4.0</td>\n      <td>7.0</td>\n      <td>5.0</td>\n      <td>29.87</td>\n      <td>21.0</td>\n      <td>31.0</td>\n      <td>67.0</td>\n      <td>29.05</td>\n      <td>10.0</td>\n      <td>24.0</td>\n      <td>...</td>\n      <td>-0.046667</td>\n      <td>0.333333</td>\n      <td>0.333333</td>\n      <td>0.333333</td>\n      <td>-0.046667</td>\n      <td>0.0</td>\n      <td>0.666667</td>\n      <td>0.000000</td>\n      <td>0.0</td>\n      <td>0.0</td>\n    </tr>\n    <tr>\n      <th>2018-01-31 08:00:00</th>\n      <td>4.0</td>\n      <td>8.0</td>\n      <td>5.0</td>\n      <td>29.87</td>\n      <td>21.0</td>\n      <td>31.0</td>\n      <td>67.0</td>\n      <td>29.05</td>\n      <td>10.0</td>\n      <td>23.0</td>\n      <td>...</td>\n      <td>-0.040000</td>\n      <td>0.333333</td>\n      <td>0.333333</td>\n      <td>0.333333</td>\n      <td>-0.040000</td>\n      <td>0.0</td>\n      <td>0.666667</td>\n      <td>3.333333</td>\n      <td>0.0</td>\n      <td>0.0</td>\n    </tr>\n    <tr>\n      <th>2018-01-31 09:00:00</th>\n      <td>4.0</td>\n      <td>9.0</td>\n      <td>5.0</td>\n      <td>29.87</td>\n      <td>21.0</td>\n      <td>31.0</td>\n      <td>67.0</td>\n      <td>29.05</td>\n      <td>10.0</td>\n      <td>20.0</td>\n      <td>...</td>\n      <td>-0.020000</td>\n      <td>0.333333</td>\n      <td>0.333333</td>\n      <td>0.333333</td>\n      <td>-0.020000</td>\n      <td>0.0</td>\n      <td>-1.000000</td>\n      <td>3.333333</td>\n      <td>0.0</td>\n      <td>0.0</td>\n    </tr>\n  </tbody>\n</table>\n<p>5 rows × 33 columns</p>\n</div>"
     },
     "metadata": {},
     "execution_count": 388
    }
   ],
   "source": [
    "model_df2.head()"
   ]
  },
  {
   "cell_type": "markdown",
   "metadata": {},
   "source": [
    "The dataframe looks like it is formatted correctly, now I can proceed with more model iterations with the new features. \n",
    "\n",
    "## NOTE\n",
    "There was already a lot of multicollinearity between the original weather conditions, but now there is likely to be a lot more (the weather from three hours ago is highly influential of the weather conditions now), so I will definitely need to perform some dimensionality reduction with PCA during these model iterations."
   ]
  },
  {
   "cell_type": "markdown",
   "metadata": {},
   "source": [
    "## Continued Model Iterations\n",
    "\n",
    "The first thing I need to do is perform another train test split into training, validation, and testing data with the new model dataframe."
   ]
  },
  {
   "cell_type": "code",
   "execution_count": 389,
   "metadata": {},
   "outputs": [],
   "source": [
    "# separate target and features\n",
    "\n",
    "# target\n",
    "y2 = model_df2['nexus_meter']\n",
    "\n",
    "# features\n",
    "X2 = model_df2.drop('nexus_meter', axis=1)"
   ]
  },
  {
   "cell_type": "code",
   "execution_count": 391,
   "metadata": {},
   "outputs": [],
   "source": [
    "X2_imputed = imp.fit_transform(X2)"
   ]
  },
  {
   "cell_type": "code",
   "execution_count": 392,
   "metadata": {},
   "outputs": [],
   "source": [
    "X2_df = pd.DataFrame(index=X2.index, columns=X2.columns, data=X2_imputed)"
   ]
  },
  {
   "cell_type": "code",
   "execution_count": 393,
   "metadata": {},
   "outputs": [],
   "source": [
    "# initial train test split into training and testing data\n",
    "X_train2, X_test2, y_train2, y_test2 = train_test_split(X2_df, y2, random_state=42, test_size=.15)"
   ]
  },
  {
   "cell_type": "code",
   "execution_count": 394,
   "metadata": {},
   "outputs": [],
   "source": [
    "# second split into training and validation data\n",
    "X_t2, X_v2, y_t2, y_v2 = train_test_split(X_train2, y_train2, random_state=42, test_size=.18)"
   ]
  },
  {
   "cell_type": "markdown",
   "metadata": {},
   "source": [
    "Now I can scale the training and validation data"
   ]
  },
  {
   "cell_type": "code",
   "execution_count": 395,
   "metadata": {},
   "outputs": [],
   "source": [
    "X_t2_scaled = scaler.fit_transform(X_t2)\n",
    "X_v2_scaled = scaler.transform(X_v2)"
   ]
  },
  {
   "cell_type": "markdown",
   "metadata": {},
   "source": [
    "## Random Forest with more features\n",
    "\n",
    "During earlier model iterations, random forest was the best performing model I had created, so I will begin with a random forest model on the new feature set. I am using the same hyperparameters as before so I can see how the new features either help (hopefully) or hurt the model."
   ]
  },
  {
   "cell_type": "code",
   "execution_count": 396,
   "metadata": {},
   "outputs": [],
   "source": [
    "rf = RandomForestRegressor(random_state=42, max_depth=15, min_samples_leaf=25, n_estimators=100)"
   ]
  },
  {
   "cell_type": "markdown",
   "metadata": {},
   "source": [
    "Now I can calculate the cross-validation RMSE score over 5 splits"
   ]
  },
  {
   "cell_type": "code",
   "execution_count": 397,
   "metadata": {},
   "outputs": [
    {
     "output_type": "execute_result",
     "data": {
      "text/plain": "4.834985733299825"
     },
     "metadata": {},
     "execution_count": 397
    }
   ],
   "source": [
    "np.sqrt(cross_val_score(rf, X_t2_scaled, y_t2, scoring=mse_score, cv=5).mean())"
   ]
  },
  {
   "cell_type": "code",
   "execution_count": null,
   "metadata": {},
   "outputs": [],
   "source": []
  },
  {
   "cell_type": "markdown",
   "metadata": {},
   "source": [
    "Well that doesn't make sense. I think something might have gone wrong during feature engineering or making the new model_df because I don't think the RMSE should be that low."
   ]
  },
  {
   "cell_type": "code",
   "execution_count": 398,
   "metadata": {},
   "outputs": [
    {
     "output_type": "execute_result",
     "data": {
      "text/plain": "RandomForestRegressor(max_depth=15, min_samples_leaf=25, random_state=42)"
     },
     "metadata": {},
     "execution_count": 398
    }
   ],
   "source": [
    "rf.fit(X_t2_scaled, y_t2)"
   ]
  },
  {
   "cell_type": "code",
   "execution_count": 399,
   "metadata": {},
   "outputs": [],
   "source": [
    "rf_train_preds = rf.predict(X_t2_scaled)"
   ]
  },
  {
   "cell_type": "code",
   "execution_count": 400,
   "metadata": {},
   "outputs": [
    {
     "output_type": "execute_result",
     "data": {
      "text/plain": "4.180454389728944"
     },
     "metadata": {},
     "execution_count": 400
    }
   ],
   "source": [
    "np.sqrt(mse(y_v2, rf.predict(X_v2_scaled)))"
   ]
  },
  {
   "cell_type": "code",
   "execution_count": null,
   "metadata": {},
   "outputs": [],
   "source": []
  }
 ]
}