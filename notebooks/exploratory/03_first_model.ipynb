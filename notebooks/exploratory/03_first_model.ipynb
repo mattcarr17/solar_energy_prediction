{
 "metadata": {
  "language_info": {
   "codemirror_mode": {
    "name": "ipython",
    "version": 3
   },
   "file_extension": ".py",
   "mimetype": "text/x-python",
   "name": "python",
   "nbconvert_exporter": "python",
   "pygments_lexer": "ipython3",
   "version": 3
  },
  "orig_nbformat": 2,
  "kernelspec": {
   "name": "python_defaultSpec_1596513626353",
   "display_name": "Python 3.6.9 64-bit"
  }
 },
 "nbformat": 4,
 "nbformat_minor": 2,
 "cells": [
  {
   "cell_type": "markdown",
   "metadata": {},
   "source": [
    "# Baseline Model\n",
    "\n",
    "This notebook will contain the baseline MVP model as well as continued data exploration. Though this notebook is for developing the first model, there will be multiple model iterations and experimentation with various features and methods for dealing with missing values in weather data.\n",
    "\n",
    "### Plan\n",
    "- Import libraries/energy and weather dataframes\n",
    "- Data Exploration\n",
    "- Initial weather data aggregation and imputing\n",
    "- First Simple Model\n",
    "\n",
    "## NOTE\n",
    "Based on research into the current model's being used to accomplish this project's task (found in references/ directory) current weather observations can be used to accurately forecast only a few hours in the future. Extended forecasts (three hours +) require weather forecasts to be more accurate. For that reason, this MVP model, which only uses current weather observations, will forecast solar energy production three hours in advance. In later iterations of the model I will include weather forecasts and aim to predict solar energy output twenty-four hours in advance."
   ]
  },
  {
   "cell_type": "markdown",
   "metadata": {},
   "source": [
    "## Import libraries and data"
   ]
  },
  {
   "cell_type": "code",
   "execution_count": 1,
   "metadata": {},
   "outputs": [],
   "source": [
    "# Import standard libraries\n",
    "import numpy as np\n",
    "import pandas as pd\n",
    "import matplotlib.pyplot as plt\n",
    "import seaborn as sns\n",
    "\n",
    "# Import Machine Learning Models\n",
    "from sklearn.linear_model import LinearRegression\n",
    "from sklearn.tree import DecisionTreeRegressor\n",
    "\n",
    "# Import Data Preprocessing\n",
    "from sklearn.preprocessing import StandardScaler\n",
    "\n",
    "# Import ML Metrics\n",
    "from sklearn.metrics import mean_squared_error as mse\n",
    "from sklearn.metrics import mean_absolute_error as mae\n",
    "from sklearn.metrics import r2_score\n",
    "\n",
    "# Cross Validation\n",
    "from sklearn.model_selection import train_test_split, cross_val_score, KFold\n",
    "\n",
    "# Use functions from .py file\n",
    "%load_ext autoreload\n",
    "%autoreload 2\n",
    "import os\n",
    "import sys\n",
    "module_path = os.path.abspath(os.path.join(os.pardir, os.pardir))\n",
    "if module_path not in sys.path:\n",
    "    sys.path.append(module_path)\n",
    "    \n",
    "import src.data_gathering as dg\n"
   ]
  },
  {
   "cell_type": "markdown",
   "metadata": {},
   "source": [
    "I want to have a function that calculates the adjusted R squared score. Since I will be experimenting with number of features, I want my metrics to reflect the quality of the model and not just the number of features being used to train it."
   ]
  },
  {
   "cell_type": "code",
   "execution_count": 2,
   "metadata": {},
   "outputs": [],
   "source": [
    "def adjusted_r_squared(r, n, p):\n",
    "    adjusted_score = (1 - (1-r)) * ((n-1)/(n-p-1))\n",
    "    return adjusted_score"
   ]
  },
  {
   "cell_type": "markdown",
   "metadata": {},
   "source": [
    "Next I will get the base hourly energy and weather dataframes using the functions from the data_gathering.py file in the src/ directory."
   ]
  },
  {
   "cell_type": "code",
   "execution_count": 3,
   "metadata": {},
   "outputs": [],
   "source": [
    "energy = dg.energy_data()\n",
    "weather = dg.weather_data()"
   ]
  },
  {
   "cell_type": "code",
   "execution_count": 4,
   "metadata": {},
   "outputs": [
    {
     "output_type": "execute_result",
     "data": {
      "text/plain": "                     nexus_meter  inverter\ntime                                      \n2018-01-30 00:00:00          0.0       0.0\n2018-01-30 01:00:00          0.0       0.0\n2018-01-30 02:00:00          0.0       0.0\n2018-01-30 03:00:00          0.0       0.0\n2018-01-30 04:00:00          0.0       0.0",
      "text/html": "<div>\n<style scoped>\n    .dataframe tbody tr th:only-of-type {\n        vertical-align: middle;\n    }\n\n    .dataframe tbody tr th {\n        vertical-align: top;\n    }\n\n    .dataframe thead th {\n        text-align: right;\n    }\n</style>\n<table border=\"1\" class=\"dataframe\">\n  <thead>\n    <tr style=\"text-align: right;\">\n      <th></th>\n      <th>nexus_meter</th>\n      <th>inverter</th>\n    </tr>\n    <tr>\n      <th>time</th>\n      <th></th>\n      <th></th>\n    </tr>\n  </thead>\n  <tbody>\n    <tr>\n      <th>2018-01-30 00:00:00</th>\n      <td>0.0</td>\n      <td>0.0</td>\n    </tr>\n    <tr>\n      <th>2018-01-30 01:00:00</th>\n      <td>0.0</td>\n      <td>0.0</td>\n    </tr>\n    <tr>\n      <th>2018-01-30 02:00:00</th>\n      <td>0.0</td>\n      <td>0.0</td>\n    </tr>\n    <tr>\n      <th>2018-01-30 03:00:00</th>\n      <td>0.0</td>\n      <td>0.0</td>\n    </tr>\n    <tr>\n      <th>2018-01-30 04:00:00</th>\n      <td>0.0</td>\n      <td>0.0</td>\n    </tr>\n  </tbody>\n</table>\n</div>"
     },
     "metadata": {},
     "execution_count": 4
    }
   ],
   "source": [
    "energy.head()"
   ]
  },
  {
   "cell_type": "code",
   "execution_count": 5,
   "metadata": {},
   "outputs": [
    {
     "output_type": "execute_result",
     "data": {
      "text/plain": "                    HourlyAltimeterSetting HourlyDewPointTemperature  \\\nDATE                                                                   \n2018-01-29 00:23:00                  30.34                        28   \n2018-01-29 00:42:00                  30.35                        28   \n2018-01-29 00:51:00                  30.34                        28   \n2018-01-29 00:53:00                  30.34                        28   \n2018-01-29 01:53:00                  30.34                        28   \n\n                    HourlyDryBulbTemperature HourlyRelativeHumidity  \\\nDATE                                                                  \n2018-01-29 00:23:00                       30                     92   \n2018-01-29 00:42:00                       30                     92   \n2018-01-29 00:51:00                       30                     93   \n2018-01-29 00:53:00                       30                     92   \n2018-01-29 01:53:00                       30                     92   \n\n                    HourlySeaLevelPressure HourlyStationPressure  \\\nDATE                                                               \n2018-01-29 00:23:00                    NaN                 29.51   \n2018-01-29 00:42:00                    NaN                 29.52   \n2018-01-29 00:51:00                    NaN                 29.51   \n2018-01-29 00:53:00                  30.36                 29.51   \n2018-01-29 01:53:00                  30.35                 29.51   \n\n                    HourlyVisibility HourlyWindSpeed  cloud_coverage  \nDATE                                                                  \n2018-01-29 00:23:00             5.00              14            80.0  \n2018-01-29 00:42:00             6.00              13            80.0  \n2018-01-29 00:51:00             6.00              15            80.0  \n2018-01-29 00:53:00             6.00              15            80.0  \n2018-01-29 01:53:00             3.00              10            80.0  ",
      "text/html": "<div>\n<style scoped>\n    .dataframe tbody tr th:only-of-type {\n        vertical-align: middle;\n    }\n\n    .dataframe tbody tr th {\n        vertical-align: top;\n    }\n\n    .dataframe thead th {\n        text-align: right;\n    }\n</style>\n<table border=\"1\" class=\"dataframe\">\n  <thead>\n    <tr style=\"text-align: right;\">\n      <th></th>\n      <th>HourlyAltimeterSetting</th>\n      <th>HourlyDewPointTemperature</th>\n      <th>HourlyDryBulbTemperature</th>\n      <th>HourlyRelativeHumidity</th>\n      <th>HourlySeaLevelPressure</th>\n      <th>HourlyStationPressure</th>\n      <th>HourlyVisibility</th>\n      <th>HourlyWindSpeed</th>\n      <th>cloud_coverage</th>\n    </tr>\n    <tr>\n      <th>DATE</th>\n      <th></th>\n      <th></th>\n      <th></th>\n      <th></th>\n      <th></th>\n      <th></th>\n      <th></th>\n      <th></th>\n      <th></th>\n    </tr>\n  </thead>\n  <tbody>\n    <tr>\n      <th>2018-01-29 00:23:00</th>\n      <td>30.34</td>\n      <td>28</td>\n      <td>30</td>\n      <td>92</td>\n      <td>NaN</td>\n      <td>29.51</td>\n      <td>5.00</td>\n      <td>14</td>\n      <td>80.0</td>\n    </tr>\n    <tr>\n      <th>2018-01-29 00:42:00</th>\n      <td>30.35</td>\n      <td>28</td>\n      <td>30</td>\n      <td>92</td>\n      <td>NaN</td>\n      <td>29.52</td>\n      <td>6.00</td>\n      <td>13</td>\n      <td>80.0</td>\n    </tr>\n    <tr>\n      <th>2018-01-29 00:51:00</th>\n      <td>30.34</td>\n      <td>28</td>\n      <td>30</td>\n      <td>93</td>\n      <td>NaN</td>\n      <td>29.51</td>\n      <td>6.00</td>\n      <td>15</td>\n      <td>80.0</td>\n    </tr>\n    <tr>\n      <th>2018-01-29 00:53:00</th>\n      <td>30.34</td>\n      <td>28</td>\n      <td>30</td>\n      <td>92</td>\n      <td>30.36</td>\n      <td>29.51</td>\n      <td>6.00</td>\n      <td>15</td>\n      <td>80.0</td>\n    </tr>\n    <tr>\n      <th>2018-01-29 01:53:00</th>\n      <td>30.34</td>\n      <td>28</td>\n      <td>30</td>\n      <td>92</td>\n      <td>30.35</td>\n      <td>29.51</td>\n      <td>3.00</td>\n      <td>10</td>\n      <td>80.0</td>\n    </tr>\n  </tbody>\n</table>\n</div>"
     },
     "metadata": {},
     "execution_count": 5
    }
   ],
   "source": [
    "weather.head()"
   ]
  },
  {
   "cell_type": "markdown",
   "metadata": {},
   "source": [
    "Both dataframes were imported correctly. I would like to investigate the weather data more. In particular, is there any pattern for missing data (occuring at certain times or in relation to other features) and also the occurence of the '*' symbol in a few of the columns."
   ]
  },
  {
   "cell_type": "markdown",
   "metadata": {},
   "source": [
    "## Data Exploration\n",
    "\n",
    "First I would like to explore the missing values in the weather dataframe and see if there is any recurring pattern for missing data. This will hopefully provide some insight into the best way to impute these missing values."
   ]
  },
  {
   "cell_type": "code",
   "execution_count": 6,
   "metadata": {},
   "outputs": [
    {
     "output_type": "execute_result",
     "data": {
      "text/plain": "(30124, 9)"
     },
     "metadata": {},
     "execution_count": 6
    }
   ],
   "source": [
    "weather.shape"
   ]
  },
  {
   "cell_type": "code",
   "execution_count": 7,
   "metadata": {},
   "outputs": [
    {
     "output_type": "execute_result",
     "data": {
      "text/plain": "HourlyAltimeterSetting        939\nHourlyDewPointTemperature    1015\nHourlyDryBulbTemperature      934\nHourlyRelativeHumidity       1015\nHourlySeaLevelPressure       8449\nHourlyStationPressure        1026\nHourlyVisibility              937\nHourlyWindSpeed              1019\ncloud_coverage               1018\ndtype: int64"
     },
     "metadata": {},
     "execution_count": 7
    }
   ],
   "source": [
    "weather.isna().sum()"
   ]
  },
  {
   "cell_type": "markdown",
   "metadata": {},
   "source": [
    "The majority of the columns are only missing about 1,000 observations. 'HourlySeaLevelPressure' is the exception and is missing nearly a third of it's observations. One thing to note is that this dataframe has not been aggregated hourly yet. I know from the notebook 02_explore that when I perform hourly aggregation, there are only a hundred or so missing values in each column. This means that for the most part, at least one observation within each our contains data. This is good because it is unlikely weather conditions will change dramatically within a single hour, so even one observation in a given hour still provides some level of accuracy of what the weather was like during that entire hour.\n",
    "\n",
    "#### It is likely I will impute the missing data AFTER aggregating, but I want to explore the missing values at a more granular level before doing this."
   ]
  },
  {
   "cell_type": "markdown",
   "metadata": {},
   "source": [
    "The first thing I want to do is see if the missing data is scattered throughout the dataframe, or if for the most part columns are missing data at the same index. To do this I am going to create a dictionary with the key as the column names and the values as a list of the indices with missing values for it's respectice column."
   ]
  },
  {
   "cell_type": "code",
   "execution_count": 8,
   "metadata": {},
   "outputs": [],
   "source": [
    "cols = weather.columns\n",
    "missing = {}"
   ]
  },
  {
   "cell_type": "code",
   "execution_count": 9,
   "metadata": {},
   "outputs": [],
   "source": [
    "for col in cols:\n",
    "    missing[col] = weather[weather[col].isna() == True].index"
   ]
  },
  {
   "cell_type": "code",
   "execution_count": 10,
   "metadata": {},
   "outputs": [
    {
     "output_type": "execute_result",
     "data": {
      "text/plain": "{'HourlyAltimeterSetting': DatetimeIndex(['2018-01-29 23:59:00', '2018-01-30 23:59:00',\n                '2018-01-31 23:59:00', '2018-01-31 23:59:00',\n                '2018-02-01 23:59:00', '2018-02-02 23:59:00',\n                '2018-02-03 23:59:00', '2018-02-04 23:59:00',\n                '2018-02-05 23:59:00', '2018-02-06 23:59:00',\n                ...\n                '2020-07-11 23:59:00', '2020-07-12 23:59:00',\n                '2020-07-13 23:59:00', '2020-07-14 23:59:00',\n                '2020-07-15 23:59:00', '2020-07-16 23:59:00',\n                '2020-07-17 23:59:00', '2020-07-18 23:59:00',\n                '2020-07-19 23:59:00', '2020-07-20 23:59:00'],\n               dtype='datetime64[ns]', name='DATE', length=939, freq=None),\n 'HourlyDewPointTemperature': DatetimeIndex(['2018-01-29 23:59:00', '2018-01-30 23:59:00',\n                '2018-01-31 23:59:00', '2018-01-31 23:59:00',\n                '2018-02-01 23:59:00', '2018-02-02 23:59:00',\n                '2018-02-03 23:59:00', '2018-02-04 23:59:00',\n                '2018-02-05 23:59:00', '2018-02-06 23:59:00',\n                ...\n                '2020-07-11 23:59:00', '2020-07-12 23:59:00',\n                '2020-07-13 23:59:00', '2020-07-14 23:59:00',\n                '2020-07-15 23:59:00', '2020-07-16 23:59:00',\n                '2020-07-17 23:59:00', '2020-07-18 23:59:00',\n                '2020-07-19 23:59:00', '2020-07-20 23:59:00'],\n               dtype='datetime64[ns]', name='DATE', length=1015, freq=None),\n 'HourlyDryBulbTemperature': DatetimeIndex(['2018-01-29 23:59:00', '2018-01-30 23:59:00',\n                '2018-01-31 23:59:00', '2018-01-31 23:59:00',\n                '2018-02-01 23:59:00', '2018-02-02 23:59:00',\n                '2018-02-03 23:59:00', '2018-02-04 23:59:00',\n                '2018-02-05 23:59:00', '2018-02-06 23:59:00',\n                ...\n                '2020-07-11 23:59:00', '2020-07-12 23:59:00',\n                '2020-07-13 23:59:00', '2020-07-14 23:59:00',\n                '2020-07-15 23:59:00', '2020-07-16 23:59:00',\n                '2020-07-17 23:59:00', '2020-07-18 23:59:00',\n                '2020-07-19 23:59:00', '2020-07-20 23:59:00'],\n               dtype='datetime64[ns]', name='DATE', length=934, freq=None),\n 'HourlyRelativeHumidity': DatetimeIndex(['2018-01-29 23:59:00', '2018-01-30 23:59:00',\n                '2018-01-31 23:59:00', '2018-01-31 23:59:00',\n                '2018-02-01 23:59:00', '2018-02-02 23:59:00',\n                '2018-02-03 23:59:00', '2018-02-04 23:59:00',\n                '2018-02-05 23:59:00', '2018-02-06 23:59:00',\n                ...\n                '2020-07-11 23:59:00', '2020-07-12 23:59:00',\n                '2020-07-13 23:59:00', '2020-07-14 23:59:00',\n                '2020-07-15 23:59:00', '2020-07-16 23:59:00',\n                '2020-07-17 23:59:00', '2020-07-18 23:59:00',\n                '2020-07-19 23:59:00', '2020-07-20 23:59:00'],\n               dtype='datetime64[ns]', name='DATE', length=1015, freq=None),\n 'HourlySeaLevelPressure': DatetimeIndex(['2018-01-29 00:23:00', '2018-01-29 00:42:00',\n                '2018-01-29 00:51:00', '2018-01-29 04:48:00',\n                '2018-01-29 05:43:00', '2018-01-29 07:29:00',\n                '2018-01-29 07:41:00', '2018-01-29 07:51:00',\n                '2018-01-29 08:01:00', '2018-01-29 08:11:00',\n                ...\n                '2020-07-20 04:29:00', '2020-07-20 04:51:00',\n                '2020-07-20 05:07:00', '2020-07-20 05:10:00',\n                '2020-07-20 05:22:00', '2020-07-20 06:04:00',\n                '2020-07-20 06:10:00', '2020-07-20 06:19:00',\n                '2020-07-20 08:51:00', '2020-07-20 23:59:00'],\n               dtype='datetime64[ns]', name='DATE', length=8449, freq=None),\n 'HourlyStationPressure': DatetimeIndex(['2018-01-29 23:59:00', '2018-01-30 23:59:00',\n                '2018-01-31 23:59:00', '2018-01-31 23:59:00',\n                '2018-02-01 23:59:00', '2018-02-02 23:59:00',\n                '2018-02-03 23:59:00', '2018-02-04 23:59:00',\n                '2018-02-05 23:59:00', '2018-02-06 23:59:00',\n                ...\n                '2020-07-11 23:59:00', '2020-07-12 23:59:00',\n                '2020-07-13 23:59:00', '2020-07-14 23:59:00',\n                '2020-07-15 23:59:00', '2020-07-16 23:59:00',\n                '2020-07-17 23:59:00', '2020-07-18 23:59:00',\n                '2020-07-19 23:59:00', '2020-07-20 23:59:00'],\n               dtype='datetime64[ns]', name='DATE', length=1026, freq=None),\n 'HourlyVisibility': DatetimeIndex(['2018-01-29 23:59:00', '2018-01-30 23:59:00',\n                '2018-01-31 23:59:00', '2018-01-31 23:59:00',\n                '2018-02-01 23:59:00', '2018-02-02 23:59:00',\n                '2018-02-03 23:59:00', '2018-02-04 23:59:00',\n                '2018-02-05 23:59:00', '2018-02-06 23:59:00',\n                ...\n                '2020-07-11 23:59:00', '2020-07-12 23:59:00',\n                '2020-07-13 23:59:00', '2020-07-14 23:59:00',\n                '2020-07-15 23:59:00', '2020-07-16 23:59:00',\n                '2020-07-17 23:59:00', '2020-07-18 23:59:00',\n                '2020-07-19 23:59:00', '2020-07-20 23:59:00'],\n               dtype='datetime64[ns]', name='DATE', length=937, freq=None),\n 'HourlyWindSpeed': DatetimeIndex(['2018-01-29 23:59:00', '2018-01-30 23:59:00',\n                '2018-01-31 23:59:00', '2018-01-31 23:59:00',\n                '2018-02-01 23:59:00', '2018-02-02 23:59:00',\n                '2018-02-03 23:59:00', '2018-02-04 23:59:00',\n                '2018-02-05 23:59:00', '2018-02-06 23:59:00',\n                ...\n                '2020-07-12 23:59:00', '2020-07-13 23:59:00',\n                '2020-07-14 23:59:00', '2020-07-15 23:59:00',\n                '2020-07-16 23:59:00', '2020-07-17 23:59:00',\n                '2020-07-18 23:59:00', '2020-07-19 23:59:00',\n                '2020-07-20 09:53:00', '2020-07-20 23:59:00'],\n               dtype='datetime64[ns]', name='DATE', length=1019, freq=None),\n 'cloud_coverage': DatetimeIndex(['2018-01-29 23:59:00', '2018-01-30 23:59:00',\n                '2018-01-31 23:59:00', '2018-01-31 23:59:00',\n                '2018-02-01 23:59:00', '2018-02-02 23:59:00',\n                '2018-02-03 23:59:00', '2018-02-04 23:59:00',\n                '2018-02-05 23:59:00', '2018-02-06 23:59:00',\n                ...\n                '2020-07-11 23:59:00', '2020-07-12 23:59:00',\n                '2020-07-13 23:59:00', '2020-07-14 23:59:00',\n                '2020-07-15 23:59:00', '2020-07-16 23:59:00',\n                '2020-07-17 23:59:00', '2020-07-18 23:59:00',\n                '2020-07-19 23:59:00', '2020-07-20 23:59:00'],\n               dtype='datetime64[ns]', name='DATE', length=1018, freq=None)}"
     },
     "metadata": {},
     "execution_count": 10
    }
   ],
   "source": [
    "missing"
   ]
  },
  {
   "cell_type": "markdown",
   "metadata": {},
   "source": [
    "Just looking at the output above, it seems like practically all of the missing values are at the same time (23:59:00). Excpet for 'HourlySeaLevelPressure' which has many more missing values. This means the majority of missing values for each column are at the same time. Also, the missing values are at 12am, which is the middle of the night. There is no energy production at this time so i may be able to drop these rows altogether. I want to look at these indices in the weather dataframe"
   ]
  },
  {
   "cell_type": "code",
   "execution_count": 11,
   "metadata": {},
   "outputs": [
    {
     "output_type": "execute_result",
     "data": {
      "text/plain": "                    HourlyAltimeterSetting HourlyDewPointTemperature  \\\nDATE                                                                   \n2018-01-29 23:59:00                    NaN                       NaN   \n2018-01-30 23:59:00                    NaN                       NaN   \n2018-01-31 23:59:00                    NaN                       NaN   \n2018-01-31 23:59:00                    NaN                       NaN   \n2018-02-01 23:59:00                    NaN                       NaN   \n...                                    ...                       ...   \n2020-07-16 23:59:00                    NaN                       NaN   \n2020-07-17 23:59:00                    NaN                       NaN   \n2020-07-18 23:59:00                    NaN                       NaN   \n2020-07-19 23:59:00                    NaN                       NaN   \n2020-07-20 23:59:00                    NaN                       NaN   \n\n                    HourlyDryBulbTemperature HourlyRelativeHumidity  \\\nDATE                                                                  \n2018-01-29 23:59:00                      NaN                    NaN   \n2018-01-30 23:59:00                      NaN                    NaN   \n2018-01-31 23:59:00                      NaN                    NaN   \n2018-01-31 23:59:00                      NaN                    NaN   \n2018-02-01 23:59:00                      NaN                    NaN   \n...                                      ...                    ...   \n2020-07-16 23:59:00                      NaN                    NaN   \n2020-07-17 23:59:00                      NaN                    NaN   \n2020-07-18 23:59:00                      NaN                    NaN   \n2020-07-19 23:59:00                      NaN                    NaN   \n2020-07-20 23:59:00                      NaN                    NaN   \n\n                    HourlySeaLevelPressure HourlyStationPressure  \\\nDATE                                                               \n2018-01-29 23:59:00                    NaN                   NaN   \n2018-01-30 23:59:00                    NaN                   NaN   \n2018-01-31 23:59:00                    NaN                   NaN   \n2018-01-31 23:59:00                    NaN                   NaN   \n2018-02-01 23:59:00                    NaN                   NaN   \n...                                    ...                   ...   \n2020-07-16 23:59:00                    NaN                   NaN   \n2020-07-17 23:59:00                    NaN                   NaN   \n2020-07-18 23:59:00                    NaN                   NaN   \n2020-07-19 23:59:00                    NaN                   NaN   \n2020-07-20 23:59:00                    NaN                   NaN   \n\n                    HourlyVisibility HourlyWindSpeed  cloud_coverage  \nDATE                                                                  \n2018-01-29 23:59:00              NaN             NaN             NaN  \n2018-01-30 23:59:00              NaN             NaN             NaN  \n2018-01-31 23:59:00              NaN             NaN             NaN  \n2018-01-31 23:59:00              NaN             NaN             NaN  \n2018-02-01 23:59:00              NaN             NaN             NaN  \n...                              ...             ...             ...  \n2020-07-16 23:59:00              NaN             NaN             NaN  \n2020-07-17 23:59:00              NaN             NaN             NaN  \n2020-07-18 23:59:00              NaN             NaN             NaN  \n2020-07-19 23:59:00              NaN             NaN             NaN  \n2020-07-20 23:59:00              NaN             NaN             NaN  \n\n[1018 rows x 9 columns]",
      "text/html": "<div>\n<style scoped>\n    .dataframe tbody tr th:only-of-type {\n        vertical-align: middle;\n    }\n\n    .dataframe tbody tr th {\n        vertical-align: top;\n    }\n\n    .dataframe thead th {\n        text-align: right;\n    }\n</style>\n<table border=\"1\" class=\"dataframe\">\n  <thead>\n    <tr style=\"text-align: right;\">\n      <th></th>\n      <th>HourlyAltimeterSetting</th>\n      <th>HourlyDewPointTemperature</th>\n      <th>HourlyDryBulbTemperature</th>\n      <th>HourlyRelativeHumidity</th>\n      <th>HourlySeaLevelPressure</th>\n      <th>HourlyStationPressure</th>\n      <th>HourlyVisibility</th>\n      <th>HourlyWindSpeed</th>\n      <th>cloud_coverage</th>\n    </tr>\n    <tr>\n      <th>DATE</th>\n      <th></th>\n      <th></th>\n      <th></th>\n      <th></th>\n      <th></th>\n      <th></th>\n      <th></th>\n      <th></th>\n      <th></th>\n    </tr>\n  </thead>\n  <tbody>\n    <tr>\n      <th>2018-01-29 23:59:00</th>\n      <td>NaN</td>\n      <td>NaN</td>\n      <td>NaN</td>\n      <td>NaN</td>\n      <td>NaN</td>\n      <td>NaN</td>\n      <td>NaN</td>\n      <td>NaN</td>\n      <td>NaN</td>\n    </tr>\n    <tr>\n      <th>2018-01-30 23:59:00</th>\n      <td>NaN</td>\n      <td>NaN</td>\n      <td>NaN</td>\n      <td>NaN</td>\n      <td>NaN</td>\n      <td>NaN</td>\n      <td>NaN</td>\n      <td>NaN</td>\n      <td>NaN</td>\n    </tr>\n    <tr>\n      <th>2018-01-31 23:59:00</th>\n      <td>NaN</td>\n      <td>NaN</td>\n      <td>NaN</td>\n      <td>NaN</td>\n      <td>NaN</td>\n      <td>NaN</td>\n      <td>NaN</td>\n      <td>NaN</td>\n      <td>NaN</td>\n    </tr>\n    <tr>\n      <th>2018-01-31 23:59:00</th>\n      <td>NaN</td>\n      <td>NaN</td>\n      <td>NaN</td>\n      <td>NaN</td>\n      <td>NaN</td>\n      <td>NaN</td>\n      <td>NaN</td>\n      <td>NaN</td>\n      <td>NaN</td>\n    </tr>\n    <tr>\n      <th>2018-02-01 23:59:00</th>\n      <td>NaN</td>\n      <td>NaN</td>\n      <td>NaN</td>\n      <td>NaN</td>\n      <td>NaN</td>\n      <td>NaN</td>\n      <td>NaN</td>\n      <td>NaN</td>\n      <td>NaN</td>\n    </tr>\n    <tr>\n      <th>...</th>\n      <td>...</td>\n      <td>...</td>\n      <td>...</td>\n      <td>...</td>\n      <td>...</td>\n      <td>...</td>\n      <td>...</td>\n      <td>...</td>\n      <td>...</td>\n    </tr>\n    <tr>\n      <th>2020-07-16 23:59:00</th>\n      <td>NaN</td>\n      <td>NaN</td>\n      <td>NaN</td>\n      <td>NaN</td>\n      <td>NaN</td>\n      <td>NaN</td>\n      <td>NaN</td>\n      <td>NaN</td>\n      <td>NaN</td>\n    </tr>\n    <tr>\n      <th>2020-07-17 23:59:00</th>\n      <td>NaN</td>\n      <td>NaN</td>\n      <td>NaN</td>\n      <td>NaN</td>\n      <td>NaN</td>\n      <td>NaN</td>\n      <td>NaN</td>\n      <td>NaN</td>\n      <td>NaN</td>\n    </tr>\n    <tr>\n      <th>2020-07-18 23:59:00</th>\n      <td>NaN</td>\n      <td>NaN</td>\n      <td>NaN</td>\n      <td>NaN</td>\n      <td>NaN</td>\n      <td>NaN</td>\n      <td>NaN</td>\n      <td>NaN</td>\n      <td>NaN</td>\n    </tr>\n    <tr>\n      <th>2020-07-19 23:59:00</th>\n      <td>NaN</td>\n      <td>NaN</td>\n      <td>NaN</td>\n      <td>NaN</td>\n      <td>NaN</td>\n      <td>NaN</td>\n      <td>NaN</td>\n      <td>NaN</td>\n      <td>NaN</td>\n    </tr>\n    <tr>\n      <th>2020-07-20 23:59:00</th>\n      <td>NaN</td>\n      <td>NaN</td>\n      <td>NaN</td>\n      <td>NaN</td>\n      <td>NaN</td>\n      <td>NaN</td>\n      <td>NaN</td>\n      <td>NaN</td>\n      <td>NaN</td>\n    </tr>\n  </tbody>\n</table>\n<p>1018 rows × 9 columns</p>\n</div>"
     },
     "metadata": {},
     "execution_count": 11
    }
   ],
   "source": [
    "weather[weather['cloud_coverage'].isna() == True]"
   ]
  },
  {
   "cell_type": "markdown",
   "metadata": {},
   "source": [
    "The missing valuesa are at the same time every day. This data is not very useful for me since there is no energy production at this time of the night anyways. I do want to double check this before dropping these rows."
   ]
  },
  {
   "cell_type": "code",
   "execution_count": 12,
   "metadata": {},
   "outputs": [
    {
     "output_type": "execute_result",
     "data": {
      "text/plain": "                     nexus_meter  inverter\ntime                                      \n2018-01-30 23:00:00       -52.50       0.0\n2018-01-31 23:00:00       -42.69       0.0\n2018-02-01 23:00:00       -49.70       0.0\n2018-02-02 23:00:00       -46.00       0.0\n2018-02-03 23:00:00       -42.10       0.0\n...                          ...       ...\n2020-07-16 23:00:00       -55.30       0.0\n2020-07-17 23:00:00       -54.40       0.0\n2020-07-18 23:00:00       -54.30       0.0\n2020-07-19 23:00:00       -55.10       0.0\n2020-07-20 23:00:00       -54.80       0.0\n\n[903 rows x 2 columns]",
      "text/html": "<div>\n<style scoped>\n    .dataframe tbody tr th:only-of-type {\n        vertical-align: middle;\n    }\n\n    .dataframe tbody tr th {\n        vertical-align: top;\n    }\n\n    .dataframe thead th {\n        text-align: right;\n    }\n</style>\n<table border=\"1\" class=\"dataframe\">\n  <thead>\n    <tr style=\"text-align: right;\">\n      <th></th>\n      <th>nexus_meter</th>\n      <th>inverter</th>\n    </tr>\n    <tr>\n      <th>time</th>\n      <th></th>\n      <th></th>\n    </tr>\n  </thead>\n  <tbody>\n    <tr>\n      <th>2018-01-30 23:00:00</th>\n      <td>-52.50</td>\n      <td>0.0</td>\n    </tr>\n    <tr>\n      <th>2018-01-31 23:00:00</th>\n      <td>-42.69</td>\n      <td>0.0</td>\n    </tr>\n    <tr>\n      <th>2018-02-01 23:00:00</th>\n      <td>-49.70</td>\n      <td>0.0</td>\n    </tr>\n    <tr>\n      <th>2018-02-02 23:00:00</th>\n      <td>-46.00</td>\n      <td>0.0</td>\n    </tr>\n    <tr>\n      <th>2018-02-03 23:00:00</th>\n      <td>-42.10</td>\n      <td>0.0</td>\n    </tr>\n    <tr>\n      <th>...</th>\n      <td>...</td>\n      <td>...</td>\n    </tr>\n    <tr>\n      <th>2020-07-16 23:00:00</th>\n      <td>-55.30</td>\n      <td>0.0</td>\n    </tr>\n    <tr>\n      <th>2020-07-17 23:00:00</th>\n      <td>-54.40</td>\n      <td>0.0</td>\n    </tr>\n    <tr>\n      <th>2020-07-18 23:00:00</th>\n      <td>-54.30</td>\n      <td>0.0</td>\n    </tr>\n    <tr>\n      <th>2020-07-19 23:00:00</th>\n      <td>-55.10</td>\n      <td>0.0</td>\n    </tr>\n    <tr>\n      <th>2020-07-20 23:00:00</th>\n      <td>-54.80</td>\n      <td>0.0</td>\n    </tr>\n  </tbody>\n</table>\n<p>903 rows × 2 columns</p>\n</div>"
     },
     "metadata": {},
     "execution_count": 12
    }
   ],
   "source": [
    "energy[energy.index.hour == 23]"
   ]
  },
  {
   "cell_type": "markdown",
   "metadata": {},
   "source": [
    "These time indices do not produce any solar energy output, so they will be excluded from the model anyways. I am going to drop the rows from the weather dataframe at this time since they are all missing data. I need to be sure I don't drop any rows that may be missing data at other times though, so i need to pass in one more filtering condition and make sure the time index is correct"
   ]
  },
  {
   "cell_type": "code",
   "execution_count": 13,
   "metadata": {},
   "outputs": [
    {
     "output_type": "execute_result",
     "data": {
      "text/plain": "                    HourlyAltimeterSetting HourlyDewPointTemperature  \\\nDATE                                                                   \n2018-01-29 23:59:00                    NaN                       NaN   \n2018-01-30 23:59:00                    NaN                       NaN   \n2018-01-31 23:59:00                    NaN                       NaN   \n2018-01-31 23:59:00                    NaN                       NaN   \n2018-02-01 23:59:00                    NaN                       NaN   \n...                                    ...                       ...   \n2020-07-16 23:59:00                    NaN                       NaN   \n2020-07-17 23:59:00                    NaN                       NaN   \n2020-07-18 23:59:00                    NaN                       NaN   \n2020-07-19 23:59:00                    NaN                       NaN   \n2020-07-20 23:59:00                    NaN                       NaN   \n\n                    HourlyDryBulbTemperature HourlyRelativeHumidity  \\\nDATE                                                                  \n2018-01-29 23:59:00                      NaN                    NaN   \n2018-01-30 23:59:00                      NaN                    NaN   \n2018-01-31 23:59:00                      NaN                    NaN   \n2018-01-31 23:59:00                      NaN                    NaN   \n2018-02-01 23:59:00                      NaN                    NaN   \n...                                      ...                    ...   \n2020-07-16 23:59:00                      NaN                    NaN   \n2020-07-17 23:59:00                      NaN                    NaN   \n2020-07-18 23:59:00                      NaN                    NaN   \n2020-07-19 23:59:00                      NaN                    NaN   \n2020-07-20 23:59:00                      NaN                    NaN   \n\n                    HourlySeaLevelPressure HourlyStationPressure  \\\nDATE                                                               \n2018-01-29 23:59:00                    NaN                   NaN   \n2018-01-30 23:59:00                    NaN                   NaN   \n2018-01-31 23:59:00                    NaN                   NaN   \n2018-01-31 23:59:00                    NaN                   NaN   \n2018-02-01 23:59:00                    NaN                   NaN   \n...                                    ...                   ...   \n2020-07-16 23:59:00                    NaN                   NaN   \n2020-07-17 23:59:00                    NaN                   NaN   \n2020-07-18 23:59:00                    NaN                   NaN   \n2020-07-19 23:59:00                    NaN                   NaN   \n2020-07-20 23:59:00                    NaN                   NaN   \n\n                    HourlyVisibility HourlyWindSpeed  cloud_coverage  \nDATE                                                                  \n2018-01-29 23:59:00              NaN             NaN             NaN  \n2018-01-30 23:59:00              NaN             NaN             NaN  \n2018-01-31 23:59:00              NaN             NaN             NaN  \n2018-01-31 23:59:00              NaN             NaN             NaN  \n2018-02-01 23:59:00              NaN             NaN             NaN  \n...                              ...             ...             ...  \n2020-07-16 23:59:00              NaN             NaN             NaN  \n2020-07-17 23:59:00              NaN             NaN             NaN  \n2020-07-18 23:59:00              NaN             NaN             NaN  \n2020-07-19 23:59:00              NaN             NaN             NaN  \n2020-07-20 23:59:00              NaN             NaN             NaN  \n\n[939 rows x 9 columns]",
      "text/html": "<div>\n<style scoped>\n    .dataframe tbody tr th:only-of-type {\n        vertical-align: middle;\n    }\n\n    .dataframe tbody tr th {\n        vertical-align: top;\n    }\n\n    .dataframe thead th {\n        text-align: right;\n    }\n</style>\n<table border=\"1\" class=\"dataframe\">\n  <thead>\n    <tr style=\"text-align: right;\">\n      <th></th>\n      <th>HourlyAltimeterSetting</th>\n      <th>HourlyDewPointTemperature</th>\n      <th>HourlyDryBulbTemperature</th>\n      <th>HourlyRelativeHumidity</th>\n      <th>HourlySeaLevelPressure</th>\n      <th>HourlyStationPressure</th>\n      <th>HourlyVisibility</th>\n      <th>HourlyWindSpeed</th>\n      <th>cloud_coverage</th>\n    </tr>\n    <tr>\n      <th>DATE</th>\n      <th></th>\n      <th></th>\n      <th></th>\n      <th></th>\n      <th></th>\n      <th></th>\n      <th></th>\n      <th></th>\n      <th></th>\n    </tr>\n  </thead>\n  <tbody>\n    <tr>\n      <th>2018-01-29 23:59:00</th>\n      <td>NaN</td>\n      <td>NaN</td>\n      <td>NaN</td>\n      <td>NaN</td>\n      <td>NaN</td>\n      <td>NaN</td>\n      <td>NaN</td>\n      <td>NaN</td>\n      <td>NaN</td>\n    </tr>\n    <tr>\n      <th>2018-01-30 23:59:00</th>\n      <td>NaN</td>\n      <td>NaN</td>\n      <td>NaN</td>\n      <td>NaN</td>\n      <td>NaN</td>\n      <td>NaN</td>\n      <td>NaN</td>\n      <td>NaN</td>\n      <td>NaN</td>\n    </tr>\n    <tr>\n      <th>2018-01-31 23:59:00</th>\n      <td>NaN</td>\n      <td>NaN</td>\n      <td>NaN</td>\n      <td>NaN</td>\n      <td>NaN</td>\n      <td>NaN</td>\n      <td>NaN</td>\n      <td>NaN</td>\n      <td>NaN</td>\n    </tr>\n    <tr>\n      <th>2018-01-31 23:59:00</th>\n      <td>NaN</td>\n      <td>NaN</td>\n      <td>NaN</td>\n      <td>NaN</td>\n      <td>NaN</td>\n      <td>NaN</td>\n      <td>NaN</td>\n      <td>NaN</td>\n      <td>NaN</td>\n    </tr>\n    <tr>\n      <th>2018-02-01 23:59:00</th>\n      <td>NaN</td>\n      <td>NaN</td>\n      <td>NaN</td>\n      <td>NaN</td>\n      <td>NaN</td>\n      <td>NaN</td>\n      <td>NaN</td>\n      <td>NaN</td>\n      <td>NaN</td>\n    </tr>\n    <tr>\n      <th>...</th>\n      <td>...</td>\n      <td>...</td>\n      <td>...</td>\n      <td>...</td>\n      <td>...</td>\n      <td>...</td>\n      <td>...</td>\n      <td>...</td>\n      <td>...</td>\n    </tr>\n    <tr>\n      <th>2020-07-16 23:59:00</th>\n      <td>NaN</td>\n      <td>NaN</td>\n      <td>NaN</td>\n      <td>NaN</td>\n      <td>NaN</td>\n      <td>NaN</td>\n      <td>NaN</td>\n      <td>NaN</td>\n      <td>NaN</td>\n    </tr>\n    <tr>\n      <th>2020-07-17 23:59:00</th>\n      <td>NaN</td>\n      <td>NaN</td>\n      <td>NaN</td>\n      <td>NaN</td>\n      <td>NaN</td>\n      <td>NaN</td>\n      <td>NaN</td>\n      <td>NaN</td>\n      <td>NaN</td>\n    </tr>\n    <tr>\n      <th>2020-07-18 23:59:00</th>\n      <td>NaN</td>\n      <td>NaN</td>\n      <td>NaN</td>\n      <td>NaN</td>\n      <td>NaN</td>\n      <td>NaN</td>\n      <td>NaN</td>\n      <td>NaN</td>\n      <td>NaN</td>\n    </tr>\n    <tr>\n      <th>2020-07-19 23:59:00</th>\n      <td>NaN</td>\n      <td>NaN</td>\n      <td>NaN</td>\n      <td>NaN</td>\n      <td>NaN</td>\n      <td>NaN</td>\n      <td>NaN</td>\n      <td>NaN</td>\n      <td>NaN</td>\n    </tr>\n    <tr>\n      <th>2020-07-20 23:59:00</th>\n      <td>NaN</td>\n      <td>NaN</td>\n      <td>NaN</td>\n      <td>NaN</td>\n      <td>NaN</td>\n      <td>NaN</td>\n      <td>NaN</td>\n      <td>NaN</td>\n      <td>NaN</td>\n    </tr>\n  </tbody>\n</table>\n<p>939 rows × 9 columns</p>\n</div>"
     },
     "metadata": {},
     "execution_count": 13
    }
   ],
   "source": [
    "weather[(weather['cloud_coverage'].isna() == True) & (weather.index.hour == 23)]"
   ]
  },
  {
   "cell_type": "markdown",
   "metadata": {},
   "source": [
    "There are a few other rows that are missing 'cloud_coverage' values. I want to check 'HourlyAltimeterSetting', which has the same number of missing values as this filtered dataframe above."
   ]
  },
  {
   "cell_type": "code",
   "execution_count": 14,
   "metadata": {},
   "outputs": [
    {
     "output_type": "execute_result",
     "data": {
      "text/plain": "                    HourlyAltimeterSetting HourlyDewPointTemperature  \\\nDATE                                                                   \n2018-01-29 23:59:00                    NaN                       NaN   \n2018-01-30 23:59:00                    NaN                       NaN   \n2018-01-31 23:59:00                    NaN                       NaN   \n2018-01-31 23:59:00                    NaN                       NaN   \n2018-02-01 23:59:00                    NaN                       NaN   \n...                                    ...                       ...   \n2020-07-16 23:59:00                    NaN                       NaN   \n2020-07-17 23:59:00                    NaN                       NaN   \n2020-07-18 23:59:00                    NaN                       NaN   \n2020-07-19 23:59:00                    NaN                       NaN   \n2020-07-20 23:59:00                    NaN                       NaN   \n\n                    HourlyDryBulbTemperature HourlyRelativeHumidity  \\\nDATE                                                                  \n2018-01-29 23:59:00                      NaN                    NaN   \n2018-01-30 23:59:00                      NaN                    NaN   \n2018-01-31 23:59:00                      NaN                    NaN   \n2018-01-31 23:59:00                      NaN                    NaN   \n2018-02-01 23:59:00                      NaN                    NaN   \n...                                      ...                    ...   \n2020-07-16 23:59:00                      NaN                    NaN   \n2020-07-17 23:59:00                      NaN                    NaN   \n2020-07-18 23:59:00                      NaN                    NaN   \n2020-07-19 23:59:00                      NaN                    NaN   \n2020-07-20 23:59:00                      NaN                    NaN   \n\n                    HourlySeaLevelPressure HourlyStationPressure  \\\nDATE                                                               \n2018-01-29 23:59:00                    NaN                   NaN   \n2018-01-30 23:59:00                    NaN                   NaN   \n2018-01-31 23:59:00                    NaN                   NaN   \n2018-01-31 23:59:00                    NaN                   NaN   \n2018-02-01 23:59:00                    NaN                   NaN   \n...                                    ...                   ...   \n2020-07-16 23:59:00                    NaN                   NaN   \n2020-07-17 23:59:00                    NaN                   NaN   \n2020-07-18 23:59:00                    NaN                   NaN   \n2020-07-19 23:59:00                    NaN                   NaN   \n2020-07-20 23:59:00                    NaN                   NaN   \n\n                    HourlyVisibility HourlyWindSpeed  cloud_coverage  \nDATE                                                                  \n2018-01-29 23:59:00              NaN             NaN             NaN  \n2018-01-30 23:59:00              NaN             NaN             NaN  \n2018-01-31 23:59:00              NaN             NaN             NaN  \n2018-01-31 23:59:00              NaN             NaN             NaN  \n2018-02-01 23:59:00              NaN             NaN             NaN  \n...                              ...             ...             ...  \n2020-07-16 23:59:00              NaN             NaN             NaN  \n2020-07-17 23:59:00              NaN             NaN             NaN  \n2020-07-18 23:59:00              NaN             NaN             NaN  \n2020-07-19 23:59:00              NaN             NaN             NaN  \n2020-07-20 23:59:00              NaN             NaN             NaN  \n\n[932 rows x 9 columns]",
      "text/html": "<div>\n<style scoped>\n    .dataframe tbody tr th:only-of-type {\n        vertical-align: middle;\n    }\n\n    .dataframe tbody tr th {\n        vertical-align: top;\n    }\n\n    .dataframe thead th {\n        text-align: right;\n    }\n</style>\n<table border=\"1\" class=\"dataframe\">\n  <thead>\n    <tr style=\"text-align: right;\">\n      <th></th>\n      <th>HourlyAltimeterSetting</th>\n      <th>HourlyDewPointTemperature</th>\n      <th>HourlyDryBulbTemperature</th>\n      <th>HourlyRelativeHumidity</th>\n      <th>HourlySeaLevelPressure</th>\n      <th>HourlyStationPressure</th>\n      <th>HourlyVisibility</th>\n      <th>HourlyWindSpeed</th>\n      <th>cloud_coverage</th>\n    </tr>\n    <tr>\n      <th>DATE</th>\n      <th></th>\n      <th></th>\n      <th></th>\n      <th></th>\n      <th></th>\n      <th></th>\n      <th></th>\n      <th></th>\n      <th></th>\n    </tr>\n  </thead>\n  <tbody>\n    <tr>\n      <th>2018-01-29 23:59:00</th>\n      <td>NaN</td>\n      <td>NaN</td>\n      <td>NaN</td>\n      <td>NaN</td>\n      <td>NaN</td>\n      <td>NaN</td>\n      <td>NaN</td>\n      <td>NaN</td>\n      <td>NaN</td>\n    </tr>\n    <tr>\n      <th>2018-01-30 23:59:00</th>\n      <td>NaN</td>\n      <td>NaN</td>\n      <td>NaN</td>\n      <td>NaN</td>\n      <td>NaN</td>\n      <td>NaN</td>\n      <td>NaN</td>\n      <td>NaN</td>\n      <td>NaN</td>\n    </tr>\n    <tr>\n      <th>2018-01-31 23:59:00</th>\n      <td>NaN</td>\n      <td>NaN</td>\n      <td>NaN</td>\n      <td>NaN</td>\n      <td>NaN</td>\n      <td>NaN</td>\n      <td>NaN</td>\n      <td>NaN</td>\n      <td>NaN</td>\n    </tr>\n    <tr>\n      <th>2018-01-31 23:59:00</th>\n      <td>NaN</td>\n      <td>NaN</td>\n      <td>NaN</td>\n      <td>NaN</td>\n      <td>NaN</td>\n      <td>NaN</td>\n      <td>NaN</td>\n      <td>NaN</td>\n      <td>NaN</td>\n    </tr>\n    <tr>\n      <th>2018-02-01 23:59:00</th>\n      <td>NaN</td>\n      <td>NaN</td>\n      <td>NaN</td>\n      <td>NaN</td>\n      <td>NaN</td>\n      <td>NaN</td>\n      <td>NaN</td>\n      <td>NaN</td>\n      <td>NaN</td>\n    </tr>\n    <tr>\n      <th>...</th>\n      <td>...</td>\n      <td>...</td>\n      <td>...</td>\n      <td>...</td>\n      <td>...</td>\n      <td>...</td>\n      <td>...</td>\n      <td>...</td>\n      <td>...</td>\n    </tr>\n    <tr>\n      <th>2020-07-16 23:59:00</th>\n      <td>NaN</td>\n      <td>NaN</td>\n      <td>NaN</td>\n      <td>NaN</td>\n      <td>NaN</td>\n      <td>NaN</td>\n      <td>NaN</td>\n      <td>NaN</td>\n      <td>NaN</td>\n    </tr>\n    <tr>\n      <th>2020-07-17 23:59:00</th>\n      <td>NaN</td>\n      <td>NaN</td>\n      <td>NaN</td>\n      <td>NaN</td>\n      <td>NaN</td>\n      <td>NaN</td>\n      <td>NaN</td>\n      <td>NaN</td>\n      <td>NaN</td>\n    </tr>\n    <tr>\n      <th>2020-07-18 23:59:00</th>\n      <td>NaN</td>\n      <td>NaN</td>\n      <td>NaN</td>\n      <td>NaN</td>\n      <td>NaN</td>\n      <td>NaN</td>\n      <td>NaN</td>\n      <td>NaN</td>\n      <td>NaN</td>\n    </tr>\n    <tr>\n      <th>2020-07-19 23:59:00</th>\n      <td>NaN</td>\n      <td>NaN</td>\n      <td>NaN</td>\n      <td>NaN</td>\n      <td>NaN</td>\n      <td>NaN</td>\n      <td>NaN</td>\n      <td>NaN</td>\n      <td>NaN</td>\n    </tr>\n    <tr>\n      <th>2020-07-20 23:59:00</th>\n      <td>NaN</td>\n      <td>NaN</td>\n      <td>NaN</td>\n      <td>NaN</td>\n      <td>NaN</td>\n      <td>NaN</td>\n      <td>NaN</td>\n      <td>NaN</td>\n      <td>NaN</td>\n    </tr>\n  </tbody>\n</table>\n<p>932 rows × 9 columns</p>\n</div>"
     },
     "metadata": {},
     "execution_count": 14
    }
   ],
   "source": [
    "weather[(weather['HourlyAltimeterSetting'].isna() == True) & (weather.index.hour == 23)]"
   ]
  },
  {
   "cell_type": "code",
   "execution_count": 15,
   "metadata": {},
   "outputs": [
    {
     "output_type": "execute_result",
     "data": {
      "text/plain": "HourlyAltimeterSetting       932\nHourlyDewPointTemperature    933\nHourlyDryBulbTemperature     932\nHourlyRelativeHumidity       933\nHourlySeaLevelPressure       935\nHourlyStationPressure        932\nHourlyVisibility             932\nHourlyWindSpeed              932\ncloud_coverage               932\ndtype: int64"
     },
     "metadata": {},
     "execution_count": 15
    }
   ],
   "source": [
    "weather[(weather.index.hour == 23) & (weather.index.minute == 59)].isna().sum()"
   ]
  },
  {
   "cell_type": "markdown",
   "metadata": {},
   "source": [
    "All of the columns are missing the vast majority of values at this time index. Since this time is not useful for my analysis, I am going to drop this time index."
   ]
  },
  {
   "cell_type": "code",
   "execution_count": 16,
   "metadata": {},
   "outputs": [],
   "source": [
    "to_drop = weather[(weather.index.hour == 23) & (weather.index.minute == 59)].index"
   ]
  },
  {
   "cell_type": "code",
   "execution_count": 17,
   "metadata": {},
   "outputs": [],
   "source": [
    "weather.drop(to_drop, axis=0, inplace=True)"
   ]
  },
  {
   "cell_type": "code",
   "execution_count": 18,
   "metadata": {},
   "outputs": [
    {
     "output_type": "execute_result",
     "data": {
      "text/plain": "HourlyAltimeterSetting          7\nHourlyDewPointTemperature      82\nHourlyDryBulbTemperature        2\nHourlyRelativeHumidity         82\nHourlySeaLevelPressure       7514\nHourlyStationPressure          94\nHourlyVisibility                5\nHourlyWindSpeed                87\ncloud_coverage                 86\ndtype: int64"
     },
     "metadata": {},
     "execution_count": 18
    }
   ],
   "source": [
    "weather.isna().sum()"
   ]
  },
  {
   "cell_type": "markdown",
   "metadata": {},
   "source": [
    "That took care of pretty much all of the missing data besides 'HourlySeaLevelPressure'. I want to look closer at that column now."
   ]
  },
  {
   "cell_type": "code",
   "execution_count": 19,
   "metadata": {},
   "outputs": [],
   "source": [
    "missing_hours = weather[weather['HourlySeaLevelPressure'].isna() == True].index.hour"
   ]
  },
  {
   "cell_type": "code",
   "execution_count": 20,
   "metadata": {},
   "outputs": [
    {
     "output_type": "execute_result",
     "data": {
      "text/plain": "array([ 0,  1,  2,  3,  4,  5,  6,  7,  8,  9, 10, 11, 12, 13, 14, 15, 16,\n       17, 18, 19, 20, 21, 22, 23])"
     },
     "metadata": {},
     "execution_count": 20
    }
   ],
   "source": [
    "np.unique(missing_hours)"
   ]
  },
  {
   "cell_type": "markdown",
   "metadata": {},
   "source": [
    "This column is missing data at all time indices. There is a chance I may not use this column (if it is not a good predictor of solar energy production), so i am going to leave it for now and figure out how to deal with these missing values later on. The last thing I want to do before I begin modelling is explore the occurence of '*' throughout the dataframe. Again, according to the documentation (found in references/ directory), this value means that the value is included in the following measurement because time distribution is unknown. So I may be able to drop these rows. A problem occurs however, if this value appears in subsequent rows, because the data that is supposed to be included in the following measurement is passed along without ever actually appearing."
   ]
  },
  {
   "cell_type": "code",
   "execution_count": 21,
   "metadata": {},
   "outputs": [],
   "source": [
    "star_present = {}\n",
    "for col in cols:\n",
    "    star_present[col] = weather[weather[col] == '*'].index"
   ]
  },
  {
   "cell_type": "code",
   "execution_count": 22,
   "metadata": {},
   "outputs": [
    {
     "output_type": "execute_result",
     "data": {
      "text/plain": "{'HourlyAltimeterSetting': DatetimeIndex([], dtype='datetime64[ns]', name='DATE', freq=None),\n 'HourlyDewPointTemperature': DatetimeIndex(['2018-03-28 10:53:00', '2020-06-23 11:53:00',\n                '2020-06-24 11:58:00'],\n               dtype='datetime64[ns]', name='DATE', freq=None),\n 'HourlyDryBulbTemperature': DatetimeIndex(['2018-03-28 10:53:00', '2020-06-23 11:53:00',\n                '2020-06-24 11:58:00'],\n               dtype='datetime64[ns]', name='DATE', freq=None),\n 'HourlyRelativeHumidity': DatetimeIndex(['2018-03-28 10:53:00', '2020-06-23 11:53:00',\n                '2020-06-24 11:58:00'],\n               dtype='datetime64[ns]', name='DATE', freq=None),\n 'HourlySeaLevelPressure': DatetimeIndex([], dtype='datetime64[ns]', name='DATE', freq=None),\n 'HourlyStationPressure': DatetimeIndex([], dtype='datetime64[ns]', name='DATE', freq=None),\n 'HourlyVisibility': DatetimeIndex(['2018-03-27 11:53:00', '2019-03-15 08:01:00',\n                '2019-03-15 08:10:00', '2019-03-15 08:38:00',\n                '2019-03-15 08:46:00', '2019-03-15 08:51:00',\n                '2019-03-15 08:53:00', '2019-12-01 21:28:00'],\n               dtype='datetime64[ns]', name='DATE', freq=None),\n 'HourlyWindSpeed': DatetimeIndex([], dtype='datetime64[ns]', name='DATE', freq=None),\n 'cloud_coverage': DatetimeIndex([], dtype='datetime64[ns]', name='DATE', freq=None)}"
     },
     "metadata": {},
     "execution_count": 22
    }
   ],
   "source": [
    "star_present"
   ]
  },
  {
   "cell_type": "markdown",
   "metadata": {},
   "source": [
    "The columns 'HourlyDewPointTemperature', 'HourlyDryBulbTemperature', and 'HourlyRelativeHumidity' all have three occurences of the '*' value and all at the same index. 'HourlyVisibility' has 8 occurences and at different time indices than the other three columns. The three occurences all occur at different hours of different days, so i can drop those rows once I make sure there is another observaton at that hour to represent the weather conditions at that time period. If there is not, I will convert '*' value to null and impute it with other missing values."
   ]
  },
  {
   "cell_type": "code",
   "execution_count": 23,
   "metadata": {},
   "outputs": [
    {
     "output_type": "execute_result",
     "data": {
      "text/plain": "                    HourlyAltimeterSetting HourlyDewPointTemperature  \\\nDATE                                                                   \n2018-03-28 10:53:00                  29.96                         *   \n\n                    HourlyDryBulbTemperature HourlyRelativeHumidity  \\\nDATE                                                                  \n2018-03-28 10:53:00                        *                      *   \n\n                    HourlySeaLevelPressure HourlyStationPressure  \\\nDATE                                                               \n2018-03-28 10:53:00                    NaN                 29.14   \n\n                    HourlyVisibility HourlyWindSpeed  cloud_coverage  \nDATE                                                                  \n2018-03-28 10:53:00             5.00               5            80.0  ",
      "text/html": "<div>\n<style scoped>\n    .dataframe tbody tr th:only-of-type {\n        vertical-align: middle;\n    }\n\n    .dataframe tbody tr th {\n        vertical-align: top;\n    }\n\n    .dataframe thead th {\n        text-align: right;\n    }\n</style>\n<table border=\"1\" class=\"dataframe\">\n  <thead>\n    <tr style=\"text-align: right;\">\n      <th></th>\n      <th>HourlyAltimeterSetting</th>\n      <th>HourlyDewPointTemperature</th>\n      <th>HourlyDryBulbTemperature</th>\n      <th>HourlyRelativeHumidity</th>\n      <th>HourlySeaLevelPressure</th>\n      <th>HourlyStationPressure</th>\n      <th>HourlyVisibility</th>\n      <th>HourlyWindSpeed</th>\n      <th>cloud_coverage</th>\n    </tr>\n    <tr>\n      <th>DATE</th>\n      <th></th>\n      <th></th>\n      <th></th>\n      <th></th>\n      <th></th>\n      <th></th>\n      <th></th>\n      <th></th>\n      <th></th>\n    </tr>\n  </thead>\n  <tbody>\n    <tr>\n      <th>2018-03-28 10:53:00</th>\n      <td>29.96</td>\n      <td>*</td>\n      <td>*</td>\n      <td>*</td>\n      <td>NaN</td>\n      <td>29.14</td>\n      <td>5.00</td>\n      <td>5</td>\n      <td>80.0</td>\n    </tr>\n  </tbody>\n</table>\n</div>"
     },
     "metadata": {},
     "execution_count": 23
    }
   ],
   "source": [
    "weather[weather.index.hour == 10]['2018-03-28']"
   ]
  },
  {
   "cell_type": "code",
   "execution_count": 24,
   "metadata": {},
   "outputs": [
    {
     "output_type": "execute_result",
     "data": {
      "text/plain": "                    HourlyAltimeterSetting HourlyDewPointTemperature  \\\nDATE                                                                   \n2020-06-23 11:53:00                  29.85                         *   \n\n                    HourlyDryBulbTemperature HourlyRelativeHumidity  \\\nDATE                                                                  \n2020-06-23 11:53:00                        *                      *   \n\n                    HourlySeaLevelPressure HourlyStationPressure  \\\nDATE                                                               \n2020-06-23 11:53:00                    NaN                 29.03   \n\n                    HourlyVisibility HourlyWindSpeed  cloud_coverage  \nDATE                                                                  \n2020-06-23 11:53:00            10.00              17            20.0  ",
      "text/html": "<div>\n<style scoped>\n    .dataframe tbody tr th:only-of-type {\n        vertical-align: middle;\n    }\n\n    .dataframe tbody tr th {\n        vertical-align: top;\n    }\n\n    .dataframe thead th {\n        text-align: right;\n    }\n</style>\n<table border=\"1\" class=\"dataframe\">\n  <thead>\n    <tr style=\"text-align: right;\">\n      <th></th>\n      <th>HourlyAltimeterSetting</th>\n      <th>HourlyDewPointTemperature</th>\n      <th>HourlyDryBulbTemperature</th>\n      <th>HourlyRelativeHumidity</th>\n      <th>HourlySeaLevelPressure</th>\n      <th>HourlyStationPressure</th>\n      <th>HourlyVisibility</th>\n      <th>HourlyWindSpeed</th>\n      <th>cloud_coverage</th>\n    </tr>\n    <tr>\n      <th>DATE</th>\n      <th></th>\n      <th></th>\n      <th></th>\n      <th></th>\n      <th></th>\n      <th></th>\n      <th></th>\n      <th></th>\n      <th></th>\n    </tr>\n  </thead>\n  <tbody>\n    <tr>\n      <th>2020-06-23 11:53:00</th>\n      <td>29.85</td>\n      <td>*</td>\n      <td>*</td>\n      <td>*</td>\n      <td>NaN</td>\n      <td>29.03</td>\n      <td>10.00</td>\n      <td>17</td>\n      <td>20.0</td>\n    </tr>\n  </tbody>\n</table>\n</div>"
     },
     "metadata": {},
     "execution_count": 24
    }
   ],
   "source": [
    "weather[weather.index.hour == 11]['2020-06-23']"
   ]
  },
  {
   "cell_type": "code",
   "execution_count": 25,
   "metadata": {},
   "outputs": [
    {
     "output_type": "execute_result",
     "data": {
      "text/plain": "                    HourlyAltimeterSetting HourlyDewPointTemperature  \\\nDATE                                                                   \n2020-06-24 11:53:00                  29.93                        56   \n2020-06-24 11:58:00                  29.93                         *   \n\n                    HourlyDryBulbTemperature HourlyRelativeHumidity  \\\nDATE                                                                  \n2020-06-24 11:53:00                       75                     52   \n2020-06-24 11:58:00                        *                      *   \n\n                    HourlySeaLevelPressure HourlyStationPressure  \\\nDATE                                                               \n2020-06-24 11:53:00                  29.92                   NaN   \n2020-06-24 11:58:00                    NaN                 29.11   \n\n                    HourlyVisibility HourlyWindSpeed  cloud_coverage  \nDATE                                                                  \n2020-06-24 11:53:00            10.00               7             NaN  \n2020-06-24 11:58:00            10.00               0            40.0  ",
      "text/html": "<div>\n<style scoped>\n    .dataframe tbody tr th:only-of-type {\n        vertical-align: middle;\n    }\n\n    .dataframe tbody tr th {\n        vertical-align: top;\n    }\n\n    .dataframe thead th {\n        text-align: right;\n    }\n</style>\n<table border=\"1\" class=\"dataframe\">\n  <thead>\n    <tr style=\"text-align: right;\">\n      <th></th>\n      <th>HourlyAltimeterSetting</th>\n      <th>HourlyDewPointTemperature</th>\n      <th>HourlyDryBulbTemperature</th>\n      <th>HourlyRelativeHumidity</th>\n      <th>HourlySeaLevelPressure</th>\n      <th>HourlyStationPressure</th>\n      <th>HourlyVisibility</th>\n      <th>HourlyWindSpeed</th>\n      <th>cloud_coverage</th>\n    </tr>\n    <tr>\n      <th>DATE</th>\n      <th></th>\n      <th></th>\n      <th></th>\n      <th></th>\n      <th></th>\n      <th></th>\n      <th></th>\n      <th></th>\n      <th></th>\n    </tr>\n  </thead>\n  <tbody>\n    <tr>\n      <th>2020-06-24 11:53:00</th>\n      <td>29.93</td>\n      <td>56</td>\n      <td>75</td>\n      <td>52</td>\n      <td>29.92</td>\n      <td>NaN</td>\n      <td>10.00</td>\n      <td>7</td>\n      <td>NaN</td>\n    </tr>\n    <tr>\n      <th>2020-06-24 11:58:00</th>\n      <td>29.93</td>\n      <td>*</td>\n      <td>*</td>\n      <td>*</td>\n      <td>NaN</td>\n      <td>29.11</td>\n      <td>10.00</td>\n      <td>0</td>\n      <td>40.0</td>\n    </tr>\n  </tbody>\n</table>\n</div>"
     },
     "metadata": {},
     "execution_count": 25
    }
   ],
   "source": [
    "weather[weather.index.hour == 11]['2020-06-24']"
   ]
  },
  {
   "cell_type": "markdown",
   "metadata": {},
   "source": [
    "The occurence on '2020-06-24' has another value that can represent the values at that time period, the other two do not. So I will drop the last one and convert the other to nan."
   ]
  },
  {
   "cell_type": "code",
   "execution_count": 26,
   "metadata": {},
   "outputs": [],
   "source": [
    "weather.drop(weather[(weather.index.hour == 11) & (weather.index.minute == 58)]['2020-06-24'].index, axis=0, inplace=True)"
   ]
  },
  {
   "cell_type": "code",
   "execution_count": 27,
   "metadata": {},
   "outputs": [],
   "source": [
    "weather['HourlyDewPointTemperature'].loc[weather['HourlyDewPointTemperature'] == '*'] = np.nan\n",
    "weather['HourlyDryBulbTemperature'].loc[weather['HourlyDryBulbTemperature'] == '*'] = np.nan\n",
    "weather['HourlyRelativeHumidity'].loc[weather['HourlyRelativeHumidity'] == '*'] = np.nan"
   ]
  },
  {
   "cell_type": "code",
   "execution_count": 28,
   "metadata": {},
   "outputs": [
    {
     "output_type": "execute_result",
     "data": {
      "text/plain": "                    HourlyAltimeterSetting HourlyDewPointTemperature  \\\nDATE                                                                   \n2018-03-28 10:53:00                  29.96                       NaN   \n\n                    HourlyDryBulbTemperature HourlyRelativeHumidity  \\\nDATE                                                                  \n2018-03-28 10:53:00                      NaN                    NaN   \n\n                    HourlySeaLevelPressure HourlyStationPressure  \\\nDATE                                                               \n2018-03-28 10:53:00                    NaN                 29.14   \n\n                    HourlyVisibility HourlyWindSpeed  cloud_coverage  \nDATE                                                                  \n2018-03-28 10:53:00             5.00               5            80.0  ",
      "text/html": "<div>\n<style scoped>\n    .dataframe tbody tr th:only-of-type {\n        vertical-align: middle;\n    }\n\n    .dataframe tbody tr th {\n        vertical-align: top;\n    }\n\n    .dataframe thead th {\n        text-align: right;\n    }\n</style>\n<table border=\"1\" class=\"dataframe\">\n  <thead>\n    <tr style=\"text-align: right;\">\n      <th></th>\n      <th>HourlyAltimeterSetting</th>\n      <th>HourlyDewPointTemperature</th>\n      <th>HourlyDryBulbTemperature</th>\n      <th>HourlyRelativeHumidity</th>\n      <th>HourlySeaLevelPressure</th>\n      <th>HourlyStationPressure</th>\n      <th>HourlyVisibility</th>\n      <th>HourlyWindSpeed</th>\n      <th>cloud_coverage</th>\n    </tr>\n    <tr>\n      <th>DATE</th>\n      <th></th>\n      <th></th>\n      <th></th>\n      <th></th>\n      <th></th>\n      <th></th>\n      <th></th>\n      <th></th>\n      <th></th>\n    </tr>\n  </thead>\n  <tbody>\n    <tr>\n      <th>2018-03-28 10:53:00</th>\n      <td>29.96</td>\n      <td>NaN</td>\n      <td>NaN</td>\n      <td>NaN</td>\n      <td>NaN</td>\n      <td>29.14</td>\n      <td>5.00</td>\n      <td>5</td>\n      <td>80.0</td>\n    </tr>\n  </tbody>\n</table>\n</div>"
     },
     "metadata": {},
     "execution_count": 28
    }
   ],
   "source": [
    "weather[weather.index.hour == 10]['2018-03-28']"
   ]
  },
  {
   "cell_type": "code",
   "execution_count": 29,
   "metadata": {},
   "outputs": [
    {
     "output_type": "execute_result",
     "data": {
      "text/plain": "                    HourlyAltimeterSetting HourlyDewPointTemperature  \\\nDATE                                                                   \n2020-06-23 11:53:00                  29.85                       NaN   \n\n                    HourlyDryBulbTemperature HourlyRelativeHumidity  \\\nDATE                                                                  \n2020-06-23 11:53:00                      NaN                    NaN   \n\n                    HourlySeaLevelPressure HourlyStationPressure  \\\nDATE                                                               \n2020-06-23 11:53:00                    NaN                 29.03   \n\n                    HourlyVisibility HourlyWindSpeed  cloud_coverage  \nDATE                                                                  \n2020-06-23 11:53:00            10.00              17            20.0  ",
      "text/html": "<div>\n<style scoped>\n    .dataframe tbody tr th:only-of-type {\n        vertical-align: middle;\n    }\n\n    .dataframe tbody tr th {\n        vertical-align: top;\n    }\n\n    .dataframe thead th {\n        text-align: right;\n    }\n</style>\n<table border=\"1\" class=\"dataframe\">\n  <thead>\n    <tr style=\"text-align: right;\">\n      <th></th>\n      <th>HourlyAltimeterSetting</th>\n      <th>HourlyDewPointTemperature</th>\n      <th>HourlyDryBulbTemperature</th>\n      <th>HourlyRelativeHumidity</th>\n      <th>HourlySeaLevelPressure</th>\n      <th>HourlyStationPressure</th>\n      <th>HourlyVisibility</th>\n      <th>HourlyWindSpeed</th>\n      <th>cloud_coverage</th>\n    </tr>\n    <tr>\n      <th>DATE</th>\n      <th></th>\n      <th></th>\n      <th></th>\n      <th></th>\n      <th></th>\n      <th></th>\n      <th></th>\n      <th></th>\n      <th></th>\n    </tr>\n  </thead>\n  <tbody>\n    <tr>\n      <th>2020-06-23 11:53:00</th>\n      <td>29.85</td>\n      <td>NaN</td>\n      <td>NaN</td>\n      <td>NaN</td>\n      <td>NaN</td>\n      <td>29.03</td>\n      <td>10.00</td>\n      <td>17</td>\n      <td>20.0</td>\n    </tr>\n  </tbody>\n</table>\n</div>"
     },
     "metadata": {},
     "execution_count": 29
    }
   ],
   "source": [
    "weather[weather.index.hour == 11]['2020-06-23']"
   ]
  },
  {
   "cell_type": "markdown",
   "metadata": {},
   "source": [
    "Now that those values are taken care of, I can look closer at the star values from the 'HourlyVisibility' column"
   ]
  },
  {
   "cell_type": "code",
   "execution_count": 30,
   "metadata": {},
   "outputs": [
    {
     "output_type": "execute_result",
     "data": {
      "text/plain": "                    HourlyAltimeterSetting HourlyDewPointTemperature  \\\nDATE                                                                   \n2018-03-27 11:53:00                  29.99                        56   \n2019-03-15 08:01:00                  29.96                        33   \n2019-03-15 08:10:00                  29.96                        33   \n2019-03-15 08:38:00                  29.97                        33   \n2019-03-15 08:46:00                  29.97                        33   \n2019-03-15 08:51:00                  29.98                        34   \n2019-03-15 08:53:00                  29.98                        34   \n2019-12-01 21:28:00                  29.72                        34   \n\n                    HourlyDryBulbTemperature HourlyRelativeHumidity  \\\nDATE                                                                  \n2018-03-27 11:53:00                       56                    100   \n2019-03-15 08:01:00                       34                     97   \n2019-03-15 08:10:00                       34                     97   \n2019-03-15 08:38:00                       34                     97   \n2019-03-15 08:46:00                       35                     93   \n2019-03-15 08:51:00                       36                     93   \n2019-03-15 08:53:00                       35                     96   \n2019-12-01 21:28:00                       35                     96   \n\n                    HourlySeaLevelPressure HourlyStationPressure  \\\nDATE                                                               \n2018-03-27 11:53:00                     30                 29.17   \n2019-03-15 08:01:00                    NaN                 29.14   \n2019-03-15 08:10:00                    NaN                 29.14   \n2019-03-15 08:38:00                    NaN                 29.15   \n2019-03-15 08:46:00                    NaN                 29.15   \n2019-03-15 08:51:00                    NaN                 29.16   \n2019-03-15 08:53:00                  29.99                 29.16   \n2019-12-01 21:28:00                    NaN                 28.91   \n\n                    HourlyVisibility HourlyWindSpeed  cloud_coverage  \nDATE                                                                  \n2018-03-27 11:53:00                *              14            80.0  \n2019-03-15 08:01:00                *              21            80.0  \n2019-03-15 08:10:00                *              22            80.0  \n2019-03-15 08:38:00                *              20            80.0  \n2019-03-15 08:46:00                *              23            80.0  \n2019-03-15 08:51:00                *              25            80.0  \n2019-03-15 08:53:00                *              22            80.0  \n2019-12-01 21:28:00                *              15            80.0  ",
      "text/html": "<div>\n<style scoped>\n    .dataframe tbody tr th:only-of-type {\n        vertical-align: middle;\n    }\n\n    .dataframe tbody tr th {\n        vertical-align: top;\n    }\n\n    .dataframe thead th {\n        text-align: right;\n    }\n</style>\n<table border=\"1\" class=\"dataframe\">\n  <thead>\n    <tr style=\"text-align: right;\">\n      <th></th>\n      <th>HourlyAltimeterSetting</th>\n      <th>HourlyDewPointTemperature</th>\n      <th>HourlyDryBulbTemperature</th>\n      <th>HourlyRelativeHumidity</th>\n      <th>HourlySeaLevelPressure</th>\n      <th>HourlyStationPressure</th>\n      <th>HourlyVisibility</th>\n      <th>HourlyWindSpeed</th>\n      <th>cloud_coverage</th>\n    </tr>\n    <tr>\n      <th>DATE</th>\n      <th></th>\n      <th></th>\n      <th></th>\n      <th></th>\n      <th></th>\n      <th></th>\n      <th></th>\n      <th></th>\n      <th></th>\n    </tr>\n  </thead>\n  <tbody>\n    <tr>\n      <th>2018-03-27 11:53:00</th>\n      <td>29.99</td>\n      <td>56</td>\n      <td>56</td>\n      <td>100</td>\n      <td>30</td>\n      <td>29.17</td>\n      <td>*</td>\n      <td>14</td>\n      <td>80.0</td>\n    </tr>\n    <tr>\n      <th>2019-03-15 08:01:00</th>\n      <td>29.96</td>\n      <td>33</td>\n      <td>34</td>\n      <td>97</td>\n      <td>NaN</td>\n      <td>29.14</td>\n      <td>*</td>\n      <td>21</td>\n      <td>80.0</td>\n    </tr>\n    <tr>\n      <th>2019-03-15 08:10:00</th>\n      <td>29.96</td>\n      <td>33</td>\n      <td>34</td>\n      <td>97</td>\n      <td>NaN</td>\n      <td>29.14</td>\n      <td>*</td>\n      <td>22</td>\n      <td>80.0</td>\n    </tr>\n    <tr>\n      <th>2019-03-15 08:38:00</th>\n      <td>29.97</td>\n      <td>33</td>\n      <td>34</td>\n      <td>97</td>\n      <td>NaN</td>\n      <td>29.15</td>\n      <td>*</td>\n      <td>20</td>\n      <td>80.0</td>\n    </tr>\n    <tr>\n      <th>2019-03-15 08:46:00</th>\n      <td>29.97</td>\n      <td>33</td>\n      <td>35</td>\n      <td>93</td>\n      <td>NaN</td>\n      <td>29.15</td>\n      <td>*</td>\n      <td>23</td>\n      <td>80.0</td>\n    </tr>\n    <tr>\n      <th>2019-03-15 08:51:00</th>\n      <td>29.98</td>\n      <td>34</td>\n      <td>36</td>\n      <td>93</td>\n      <td>NaN</td>\n      <td>29.16</td>\n      <td>*</td>\n      <td>25</td>\n      <td>80.0</td>\n    </tr>\n    <tr>\n      <th>2019-03-15 08:53:00</th>\n      <td>29.98</td>\n      <td>34</td>\n      <td>35</td>\n      <td>96</td>\n      <td>29.99</td>\n      <td>29.16</td>\n      <td>*</td>\n      <td>22</td>\n      <td>80.0</td>\n    </tr>\n    <tr>\n      <th>2019-12-01 21:28:00</th>\n      <td>29.72</td>\n      <td>34</td>\n      <td>35</td>\n      <td>96</td>\n      <td>NaN</td>\n      <td>28.91</td>\n      <td>*</td>\n      <td>15</td>\n      <td>80.0</td>\n    </tr>\n  </tbody>\n</table>\n</div>"
     },
     "metadata": {},
     "execution_count": 30
    }
   ],
   "source": [
    "weather[weather['HourlyVisibility'] == '*']"
   ]
  },
  {
   "cell_type": "markdown",
   "metadata": {},
   "source": [
    "I am going to convert these to nan as well and impute them with the other missing values. The problem is that all 'HourlyVisibility' values on '2019-03-15' at hour 8 are unknown. When i aggregate this dataframe though, I will be able to impute these values with values before it, so it shouldn't be a problem."
   ]
  },
  {
   "cell_type": "code",
   "execution_count": 31,
   "metadata": {},
   "outputs": [],
   "source": [
    "weather['HourlyVisibility'].loc[weather['HourlyVisibility'] == '*'] = np.nan"
   ]
  },
  {
   "cell_type": "code",
   "execution_count": 32,
   "metadata": {},
   "outputs": [
    {
     "output_type": "execute_result",
     "data": {
      "text/plain": "Empty DataFrame\nColumns: [HourlyAltimeterSetting, HourlyDewPointTemperature, HourlyDryBulbTemperature, HourlyRelativeHumidity, HourlySeaLevelPressure, HourlyStationPressure, HourlyVisibility, HourlyWindSpeed, cloud_coverage]\nIndex: []",
      "text/html": "<div>\n<style scoped>\n    .dataframe tbody tr th:only-of-type {\n        vertical-align: middle;\n    }\n\n    .dataframe tbody tr th {\n        vertical-align: top;\n    }\n\n    .dataframe thead th {\n        text-align: right;\n    }\n</style>\n<table border=\"1\" class=\"dataframe\">\n  <thead>\n    <tr style=\"text-align: right;\">\n      <th></th>\n      <th>HourlyAltimeterSetting</th>\n      <th>HourlyDewPointTemperature</th>\n      <th>HourlyDryBulbTemperature</th>\n      <th>HourlyRelativeHumidity</th>\n      <th>HourlySeaLevelPressure</th>\n      <th>HourlyStationPressure</th>\n      <th>HourlyVisibility</th>\n      <th>HourlyWindSpeed</th>\n      <th>cloud_coverage</th>\n    </tr>\n    <tr>\n      <th>DATE</th>\n      <th></th>\n      <th></th>\n      <th></th>\n      <th></th>\n      <th></th>\n      <th></th>\n      <th></th>\n      <th></th>\n      <th></th>\n    </tr>\n  </thead>\n  <tbody>\n  </tbody>\n</table>\n</div>"
     },
     "metadata": {},
     "execution_count": 32
    }
   ],
   "source": [
    "weather[weather['HourlyVisibility'] == '*']"
   ]
  },
  {
   "cell_type": "markdown",
   "metadata": {},
   "source": [
    "Great now those values are taken of, I can now aggregate the dataframe and begin exploring the relationship between different features and the target value and then begin modeling."
   ]
  },
  {
   "cell_type": "code",
   "execution_count": 33,
   "metadata": {},
   "outputs": [
    {
     "output_type": "error",
     "ename": "ValueError",
     "evalue": "could not convert string to float: '0.50s'",
     "traceback": [
      "\u001b[0;31m---------------------------------------------------------------------------\u001b[0m",
      "\u001b[0;31mValueError\u001b[0m                                Traceback (most recent call last)",
      "\u001b[0;32m<ipython-input-33-6fad184ed930>\u001b[0m in \u001b[0;36m<module>\u001b[0;34m\u001b[0m\n\u001b[0;32m----> 1\u001b[0;31m \u001b[0mweather\u001b[0m \u001b[0;34m=\u001b[0m \u001b[0mweather\u001b[0m\u001b[0;34m.\u001b[0m\u001b[0mastype\u001b[0m\u001b[0;34m(\u001b[0m\u001b[0mfloat\u001b[0m\u001b[0;34m)\u001b[0m\u001b[0;34m\u001b[0m\u001b[0;34m\u001b[0m\u001b[0m\n\u001b[0m",
      "\u001b[0;32m~/opt/anaconda3/envs/learn-env/lib/python3.6/site-packages/pandas/core/generic.py\u001b[0m in \u001b[0;36mastype\u001b[0;34m(self, dtype, copy, errors)\u001b[0m\n\u001b[1;32m   5696\u001b[0m         \u001b[0;32melse\u001b[0m\u001b[0;34m:\u001b[0m\u001b[0;34m\u001b[0m\u001b[0;34m\u001b[0m\u001b[0m\n\u001b[1;32m   5697\u001b[0m             \u001b[0;31m# else, only a single dtype is given\u001b[0m\u001b[0;34m\u001b[0m\u001b[0;34m\u001b[0m\u001b[0;34m\u001b[0m\u001b[0m\n\u001b[0;32m-> 5698\u001b[0;31m             \u001b[0mnew_data\u001b[0m \u001b[0;34m=\u001b[0m \u001b[0mself\u001b[0m\u001b[0;34m.\u001b[0m\u001b[0m_data\u001b[0m\u001b[0;34m.\u001b[0m\u001b[0mastype\u001b[0m\u001b[0;34m(\u001b[0m\u001b[0mdtype\u001b[0m\u001b[0;34m=\u001b[0m\u001b[0mdtype\u001b[0m\u001b[0;34m,\u001b[0m \u001b[0mcopy\u001b[0m\u001b[0;34m=\u001b[0m\u001b[0mcopy\u001b[0m\u001b[0;34m,\u001b[0m \u001b[0merrors\u001b[0m\u001b[0;34m=\u001b[0m\u001b[0merrors\u001b[0m\u001b[0;34m)\u001b[0m\u001b[0;34m\u001b[0m\u001b[0;34m\u001b[0m\u001b[0m\n\u001b[0m\u001b[1;32m   5699\u001b[0m             \u001b[0;32mreturn\u001b[0m \u001b[0mself\u001b[0m\u001b[0;34m.\u001b[0m\u001b[0m_constructor\u001b[0m\u001b[0;34m(\u001b[0m\u001b[0mnew_data\u001b[0m\u001b[0;34m)\u001b[0m\u001b[0;34m.\u001b[0m\u001b[0m__finalize__\u001b[0m\u001b[0;34m(\u001b[0m\u001b[0mself\u001b[0m\u001b[0;34m)\u001b[0m\u001b[0;34m\u001b[0m\u001b[0;34m\u001b[0m\u001b[0m\n\u001b[1;32m   5700\u001b[0m \u001b[0;34m\u001b[0m\u001b[0m\n",
      "\u001b[0;32m~/opt/anaconda3/envs/learn-env/lib/python3.6/site-packages/pandas/core/internals/managers.py\u001b[0m in \u001b[0;36mastype\u001b[0;34m(self, dtype, copy, errors)\u001b[0m\n\u001b[1;32m    580\u001b[0m \u001b[0;34m\u001b[0m\u001b[0m\n\u001b[1;32m    581\u001b[0m     \u001b[0;32mdef\u001b[0m \u001b[0mastype\u001b[0m\u001b[0;34m(\u001b[0m\u001b[0mself\u001b[0m\u001b[0;34m,\u001b[0m \u001b[0mdtype\u001b[0m\u001b[0;34m,\u001b[0m \u001b[0mcopy\u001b[0m\u001b[0;34m:\u001b[0m \u001b[0mbool\u001b[0m \u001b[0;34m=\u001b[0m \u001b[0;32mFalse\u001b[0m\u001b[0;34m,\u001b[0m \u001b[0merrors\u001b[0m\u001b[0;34m:\u001b[0m \u001b[0mstr\u001b[0m \u001b[0;34m=\u001b[0m \u001b[0;34m\"raise\"\u001b[0m\u001b[0;34m)\u001b[0m\u001b[0;34m:\u001b[0m\u001b[0;34m\u001b[0m\u001b[0;34m\u001b[0m\u001b[0m\n\u001b[0;32m--> 582\u001b[0;31m         \u001b[0;32mreturn\u001b[0m \u001b[0mself\u001b[0m\u001b[0;34m.\u001b[0m\u001b[0mapply\u001b[0m\u001b[0;34m(\u001b[0m\u001b[0;34m\"astype\"\u001b[0m\u001b[0;34m,\u001b[0m \u001b[0mdtype\u001b[0m\u001b[0;34m=\u001b[0m\u001b[0mdtype\u001b[0m\u001b[0;34m,\u001b[0m \u001b[0mcopy\u001b[0m\u001b[0;34m=\u001b[0m\u001b[0mcopy\u001b[0m\u001b[0;34m,\u001b[0m \u001b[0merrors\u001b[0m\u001b[0;34m=\u001b[0m\u001b[0merrors\u001b[0m\u001b[0;34m)\u001b[0m\u001b[0;34m\u001b[0m\u001b[0;34m\u001b[0m\u001b[0m\n\u001b[0m\u001b[1;32m    583\u001b[0m \u001b[0;34m\u001b[0m\u001b[0m\n\u001b[1;32m    584\u001b[0m     \u001b[0;32mdef\u001b[0m \u001b[0mconvert\u001b[0m\u001b[0;34m(\u001b[0m\u001b[0mself\u001b[0m\u001b[0;34m,\u001b[0m \u001b[0;34m**\u001b[0m\u001b[0mkwargs\u001b[0m\u001b[0;34m)\u001b[0m\u001b[0;34m:\u001b[0m\u001b[0;34m\u001b[0m\u001b[0;34m\u001b[0m\u001b[0m\n",
      "\u001b[0;32m~/opt/anaconda3/envs/learn-env/lib/python3.6/site-packages/pandas/core/internals/managers.py\u001b[0m in \u001b[0;36mapply\u001b[0;34m(self, f, filter, **kwargs)\u001b[0m\n\u001b[1;32m    440\u001b[0m                 \u001b[0mapplied\u001b[0m \u001b[0;34m=\u001b[0m \u001b[0mb\u001b[0m\u001b[0;34m.\u001b[0m\u001b[0mapply\u001b[0m\u001b[0;34m(\u001b[0m\u001b[0mf\u001b[0m\u001b[0;34m,\u001b[0m \u001b[0;34m**\u001b[0m\u001b[0mkwargs\u001b[0m\u001b[0;34m)\u001b[0m\u001b[0;34m\u001b[0m\u001b[0;34m\u001b[0m\u001b[0m\n\u001b[1;32m    441\u001b[0m             \u001b[0;32melse\u001b[0m\u001b[0;34m:\u001b[0m\u001b[0;34m\u001b[0m\u001b[0;34m\u001b[0m\u001b[0m\n\u001b[0;32m--> 442\u001b[0;31m                 \u001b[0mapplied\u001b[0m \u001b[0;34m=\u001b[0m \u001b[0mgetattr\u001b[0m\u001b[0;34m(\u001b[0m\u001b[0mb\u001b[0m\u001b[0;34m,\u001b[0m \u001b[0mf\u001b[0m\u001b[0;34m)\u001b[0m\u001b[0;34m(\u001b[0m\u001b[0;34m**\u001b[0m\u001b[0mkwargs\u001b[0m\u001b[0;34m)\u001b[0m\u001b[0;34m\u001b[0m\u001b[0;34m\u001b[0m\u001b[0m\n\u001b[0m\u001b[1;32m    443\u001b[0m             \u001b[0mresult_blocks\u001b[0m \u001b[0;34m=\u001b[0m \u001b[0m_extend_blocks\u001b[0m\u001b[0;34m(\u001b[0m\u001b[0mapplied\u001b[0m\u001b[0;34m,\u001b[0m \u001b[0mresult_blocks\u001b[0m\u001b[0;34m)\u001b[0m\u001b[0;34m\u001b[0m\u001b[0;34m\u001b[0m\u001b[0m\n\u001b[1;32m    444\u001b[0m \u001b[0;34m\u001b[0m\u001b[0m\n",
      "\u001b[0;32m~/opt/anaconda3/envs/learn-env/lib/python3.6/site-packages/pandas/core/internals/blocks.py\u001b[0m in \u001b[0;36mastype\u001b[0;34m(self, dtype, copy, errors)\u001b[0m\n\u001b[1;32m    623\u001b[0m             \u001b[0mvals1d\u001b[0m \u001b[0;34m=\u001b[0m \u001b[0mvalues\u001b[0m\u001b[0;34m.\u001b[0m\u001b[0mravel\u001b[0m\u001b[0;34m(\u001b[0m\u001b[0;34m)\u001b[0m\u001b[0;34m\u001b[0m\u001b[0;34m\u001b[0m\u001b[0m\n\u001b[1;32m    624\u001b[0m             \u001b[0;32mtry\u001b[0m\u001b[0;34m:\u001b[0m\u001b[0;34m\u001b[0m\u001b[0;34m\u001b[0m\u001b[0m\n\u001b[0;32m--> 625\u001b[0;31m                 \u001b[0mvalues\u001b[0m \u001b[0;34m=\u001b[0m \u001b[0mastype_nansafe\u001b[0m\u001b[0;34m(\u001b[0m\u001b[0mvals1d\u001b[0m\u001b[0;34m,\u001b[0m \u001b[0mdtype\u001b[0m\u001b[0;34m,\u001b[0m \u001b[0mcopy\u001b[0m\u001b[0;34m=\u001b[0m\u001b[0;32mTrue\u001b[0m\u001b[0;34m)\u001b[0m\u001b[0;34m\u001b[0m\u001b[0;34m\u001b[0m\u001b[0m\n\u001b[0m\u001b[1;32m    626\u001b[0m             \u001b[0;32mexcept\u001b[0m \u001b[0;34m(\u001b[0m\u001b[0mValueError\u001b[0m\u001b[0;34m,\u001b[0m \u001b[0mTypeError\u001b[0m\u001b[0;34m)\u001b[0m\u001b[0;34m:\u001b[0m\u001b[0;34m\u001b[0m\u001b[0;34m\u001b[0m\u001b[0m\n\u001b[1;32m    627\u001b[0m                 \u001b[0;31m# e.g. astype_nansafe can fail on object-dtype of strings\u001b[0m\u001b[0;34m\u001b[0m\u001b[0;34m\u001b[0m\u001b[0;34m\u001b[0m\u001b[0m\n",
      "\u001b[0;32m~/opt/anaconda3/envs/learn-env/lib/python3.6/site-packages/pandas/core/dtypes/cast.py\u001b[0m in \u001b[0;36mastype_nansafe\u001b[0;34m(arr, dtype, copy, skipna)\u001b[0m\n\u001b[1;32m    895\u001b[0m     \u001b[0;32mif\u001b[0m \u001b[0mcopy\u001b[0m \u001b[0;32mor\u001b[0m \u001b[0mis_object_dtype\u001b[0m\u001b[0;34m(\u001b[0m\u001b[0marr\u001b[0m\u001b[0;34m)\u001b[0m \u001b[0;32mor\u001b[0m \u001b[0mis_object_dtype\u001b[0m\u001b[0;34m(\u001b[0m\u001b[0mdtype\u001b[0m\u001b[0;34m)\u001b[0m\u001b[0;34m:\u001b[0m\u001b[0;34m\u001b[0m\u001b[0;34m\u001b[0m\u001b[0m\n\u001b[1;32m    896\u001b[0m         \u001b[0;31m# Explicit copy, or required since NumPy can't view from / to object.\u001b[0m\u001b[0;34m\u001b[0m\u001b[0;34m\u001b[0m\u001b[0;34m\u001b[0m\u001b[0m\n\u001b[0;32m--> 897\u001b[0;31m         \u001b[0;32mreturn\u001b[0m \u001b[0marr\u001b[0m\u001b[0;34m.\u001b[0m\u001b[0mastype\u001b[0m\u001b[0;34m(\u001b[0m\u001b[0mdtype\u001b[0m\u001b[0;34m,\u001b[0m \u001b[0mcopy\u001b[0m\u001b[0;34m=\u001b[0m\u001b[0;32mTrue\u001b[0m\u001b[0;34m)\u001b[0m\u001b[0;34m\u001b[0m\u001b[0;34m\u001b[0m\u001b[0m\n\u001b[0m\u001b[1;32m    898\u001b[0m \u001b[0;34m\u001b[0m\u001b[0m\n\u001b[1;32m    899\u001b[0m     \u001b[0;32mreturn\u001b[0m \u001b[0marr\u001b[0m\u001b[0;34m.\u001b[0m\u001b[0mview\u001b[0m\u001b[0;34m(\u001b[0m\u001b[0mdtype\u001b[0m\u001b[0;34m)\u001b[0m\u001b[0;34m\u001b[0m\u001b[0;34m\u001b[0m\u001b[0m\n",
      "\u001b[0;31mValueError\u001b[0m: could not convert string to float: '0.50s'"
     ]
    }
   ],
   "source": [
    "weather = weather.astype(float)"
   ]
  },
  {
   "cell_type": "markdown",
   "metadata": {},
   "source": [
    "For some reason the weather_data function missed the 's' present in 'HourlyVisibility'. I will fix that function later, for now I will remove it manually."
   ]
  },
  {
   "cell_type": "code",
   "execution_count": 34,
   "metadata": {},
   "outputs": [],
   "source": [
    "weather['HourlyVisibility'] = dg.remove_letter_from_column(weather, 'HourlyVisibility', 's')"
   ]
  },
  {
   "cell_type": "markdown",
   "metadata": {},
   "source": [
    "Now that the only thing I have to worry about is missing values. I would like to impute the missing values before I aggregate because I think the aggregation would be more accurate if the values were already imputed. Now I just need to determine the best way to fill the missing values. There are a few approaches I could take, none of which are perfect, but I can experiment with different imputation strategies during model iterations to see which works best. Two ideas come to mind: \n",
    "\n",
    "- Using the past values of a given column to predict the missing values. For example if 'HourlyVisibility' was missing a value at 3 pm, I could take the average of the values before it and use that to fill the missing value. The problem with this is that there are multiple occurences of successive missing values, so i would be using imputed values to fill subsequent missing values. Since the weather conditions don't change too drastically over a short time period, I don't think this would be too big a problem.\n",
    "\n",
    "- A second method would be using K Nearest Neighbors to impute the missing values. I could use the other weather conditions at a given time to impute the missing value of a certain feature. The problem with this strategy occurs when there are missing values for multiple features in a given row, which happens a few times.\n",
    "\n",
    "I think for now the best way to go about it would be combining the two. 'HourlySeaLevelPressure' has too many missing values for me to be comfortable using the first method. So I will use the first method for all the other columns, and use KNN to impute the missing values for 'HourlySeaLevelPressure'\n",
    "\n",
    "So I want to create two imputer objects, one for each method above."
   ]
  },
  {
   "cell_type": "code",
   "execution_count": 48,
   "metadata": {},
   "outputs": [],
   "source": [
    "from sklearn.base import BaseEstimator"
   ]
  },
  {
   "cell_type": "code",
   "execution_count": 47,
   "metadata": {},
   "outputs": [],
   "source": [
    "# Imputer object 1\n",
    "class PastAverageImputer(BaseEstimator):\n",
    "\n",
    "    def __init__(self, target, time_frame=3):\n",
    "        \n",
    "        self.target = target\n",
    "        self.time_frame = time_frame\n",
    "\n",
    "    def fit(self, X, y=None):\n",
    "        "
   ]
  },
  {
   "cell_type": "markdown",
   "metadata": {},
   "source": [
    "After a little research, I found an sklearn imputer that I believe would work well for the circumstances of the current dataframe. IterativeImputer is an experimental imputation strategy, so I need to enable it, but it's strategy is just what I need. What it does is perform a linear regression on every missing value, using the other columns as features, in a round robin fashion. The imputation_order parameter let's you decide which column's missing value get's filled first. By default it goes in ascending order, so the column with the least amount of missing values is filled first, then the second, and so on. I left this parameter to be default."
   ]
  },
  {
   "cell_type": "code",
   "execution_count": 50,
   "metadata": {},
   "outputs": [],
   "source": [
    "from sklearn.experimental import enable_iterative_imputer\n",
    "from sklearn.impute import IterativeImputer"
   ]
  },
  {
   "cell_type": "markdown",
   "metadata": {},
   "source": [
    "I want to create a copy of my weather dataframe in case the imputation alters it in any way."
   ]
  },
  {
   "cell_type": "code",
   "execution_count": 51,
   "metadata": {},
   "outputs": [],
   "source": [
    "weather_copy = weather.copy()"
   ]
  },
  {
   "cell_type": "code",
   "execution_count": 52,
   "metadata": {},
   "outputs": [],
   "source": [
    "imp = IterativeImputer(random_state=42)"
   ]
  },
  {
   "cell_type": "code",
   "execution_count": 53,
   "metadata": {},
   "outputs": [],
   "source": [
    "weather_imputed = imp.fit_transform(weather_copy)"
   ]
  },
  {
   "cell_type": "code",
   "execution_count": 55,
   "metadata": {},
   "outputs": [
    {
     "output_type": "execute_result",
     "data": {
      "text/plain": "array([[30.34, 28.  , 30.  , ...,  5.  , 14.  , 80.  ],\n       [30.35, 28.  , 30.  , ...,  6.  , 13.  , 80.  ],\n       [30.34, 28.  , 30.  , ...,  6.  , 15.  , 80.  ],\n       ...,\n       [30.04, 69.  , 72.  , ..., 10.  ,  0.  ,  0.  ],\n       [30.04, 68.  , 71.  , ..., 10.  ,  0.  ,  0.  ],\n       [30.02, 68.  , 71.  , ..., 10.  ,  0.  ,  0.  ]])"
     },
     "metadata": {},
     "execution_count": 55
    }
   ],
   "source": [
    "weather_imputed"
   ]
  },
  {
   "cell_type": "markdown",
   "metadata": {},
   "source": [
    "The imputed data is return as a numpy array, so I need to put it back in a dataframe. I can take the index and columns from the weather dataframe."
   ]
  },
  {
   "cell_type": "code",
   "execution_count": 56,
   "metadata": {},
   "outputs": [],
   "source": [
    "weather_imputed_df = pd.DataFrame(index=weather_copy.index, columns=weather_copy.columns, data=weather_imputed)"
   ]
  },
  {
   "cell_type": "code",
   "execution_count": 58,
   "metadata": {},
   "outputs": [
    {
     "output_type": "execute_result",
     "data": {
      "text/plain": "HourlyAltimeterSetting       0\nHourlyDewPointTemperature    0\nHourlyDryBulbTemperature     0\nHourlyRelativeHumidity       0\nHourlySeaLevelPressure       0\nHourlyStationPressure        0\nHourlyVisibility             0\nHourlyWindSpeed              0\ncloud_coverage               0\ndtype: int64"
     },
     "metadata": {},
     "execution_count": 58
    }
   ],
   "source": [
    "weather_imputed_df.isna().sum()"
   ]
  },
  {
   "cell_type": "markdown",
   "metadata": {},
   "source": [
    "No more missing values! I may still experiment with different imputation methods in further model iterations, but for now I think this works great. Now I can begin creating my first basic model."
   ]
  },
  {
   "cell_type": "markdown",
   "metadata": {},
   "source": [
    "## First Simple Model."
   ]
  },
  {
   "cell_type": "markdown",
   "metadata": {},
   "source": [
    "To begin, I can aggregate the weather data into an hourly frequency."
   ]
  },
  {
   "cell_type": "code",
   "execution_count": 62,
   "metadata": {},
   "outputs": [],
   "source": [
    "weather_hourly = weather_imputed_df.resample('H').mean()"
   ]
  },
  {
   "cell_type": "code",
   "execution_count": 63,
   "metadata": {},
   "outputs": [
    {
     "output_type": "execute_result",
     "data": {
      "text/plain": "                     HourlyAltimeterSetting  HourlyDewPointTemperature  \\\nDATE                                                                     \n2018-01-29 00:00:00                 30.3425                       28.0   \n2018-01-29 01:00:00                 30.3400                       28.0   \n2018-01-29 02:00:00                 30.3300                       28.0   \n2018-01-29 03:00:00                 30.3300                       28.0   \n2018-01-29 04:00:00                 30.3300                       28.0   \n\n                     HourlyDryBulbTemperature  HourlyRelativeHumidity  \\\nDATE                                                                    \n2018-01-29 00:00:00                      30.0                   92.25   \n2018-01-29 01:00:00                      30.0                   92.00   \n2018-01-29 02:00:00                      30.0                   92.00   \n2018-01-29 03:00:00                      30.0                   92.00   \n2018-01-29 04:00:00                      30.0                   92.50   \n\n                     HourlySeaLevelPressure  HourlyStationPressure  \\\nDATE                                                                 \n2018-01-29 00:00:00               30.364994                29.5125   \n2018-01-29 01:00:00               30.350000                29.5100   \n2018-01-29 02:00:00               30.340000                29.5000   \n2018-01-29 03:00:00               30.340000                29.5000   \n2018-01-29 04:00:00               30.351525                29.5000   \n\n                     HourlyVisibility  HourlyWindSpeed  cloud_coverage  \nDATE                                                                    \n2018-01-29 00:00:00              5.75            14.25            80.0  \n2018-01-29 01:00:00              3.00            10.00            80.0  \n2018-01-29 02:00:00              5.00            13.00            80.0  \n2018-01-29 03:00:00              6.00            13.00            80.0  \n2018-01-29 04:00:00              6.00            10.50            80.0  ",
      "text/html": "<div>\n<style scoped>\n    .dataframe tbody tr th:only-of-type {\n        vertical-align: middle;\n    }\n\n    .dataframe tbody tr th {\n        vertical-align: top;\n    }\n\n    .dataframe thead th {\n        text-align: right;\n    }\n</style>\n<table border=\"1\" class=\"dataframe\">\n  <thead>\n    <tr style=\"text-align: right;\">\n      <th></th>\n      <th>HourlyAltimeterSetting</th>\n      <th>HourlyDewPointTemperature</th>\n      <th>HourlyDryBulbTemperature</th>\n      <th>HourlyRelativeHumidity</th>\n      <th>HourlySeaLevelPressure</th>\n      <th>HourlyStationPressure</th>\n      <th>HourlyVisibility</th>\n      <th>HourlyWindSpeed</th>\n      <th>cloud_coverage</th>\n    </tr>\n    <tr>\n      <th>DATE</th>\n      <th></th>\n      <th></th>\n      <th></th>\n      <th></th>\n      <th></th>\n      <th></th>\n      <th></th>\n      <th></th>\n      <th></th>\n    </tr>\n  </thead>\n  <tbody>\n    <tr>\n      <th>2018-01-29 00:00:00</th>\n      <td>30.3425</td>\n      <td>28.0</td>\n      <td>30.0</td>\n      <td>92.25</td>\n      <td>30.364994</td>\n      <td>29.5125</td>\n      <td>5.75</td>\n      <td>14.25</td>\n      <td>80.0</td>\n    </tr>\n    <tr>\n      <th>2018-01-29 01:00:00</th>\n      <td>30.3400</td>\n      <td>28.0</td>\n      <td>30.0</td>\n      <td>92.00</td>\n      <td>30.350000</td>\n      <td>29.5100</td>\n      <td>3.00</td>\n      <td>10.00</td>\n      <td>80.0</td>\n    </tr>\n    <tr>\n      <th>2018-01-29 02:00:00</th>\n      <td>30.3300</td>\n      <td>28.0</td>\n      <td>30.0</td>\n      <td>92.00</td>\n      <td>30.340000</td>\n      <td>29.5000</td>\n      <td>5.00</td>\n      <td>13.00</td>\n      <td>80.0</td>\n    </tr>\n    <tr>\n      <th>2018-01-29 03:00:00</th>\n      <td>30.3300</td>\n      <td>28.0</td>\n      <td>30.0</td>\n      <td>92.00</td>\n      <td>30.340000</td>\n      <td>29.5000</td>\n      <td>6.00</td>\n      <td>13.00</td>\n      <td>80.0</td>\n    </tr>\n    <tr>\n      <th>2018-01-29 04:00:00</th>\n      <td>30.3300</td>\n      <td>28.0</td>\n      <td>30.0</td>\n      <td>92.50</td>\n      <td>30.351525</td>\n      <td>29.5000</td>\n      <td>6.00</td>\n      <td>10.50</td>\n      <td>80.0</td>\n    </tr>\n  </tbody>\n</table>\n</div>"
     },
     "metadata": {},
     "execution_count": 63
    }
   ],
   "source": [
    "weather_hourly.head()"
   ]
  },
  {
   "cell_type": "markdown",
   "metadata": {},
   "source": [
    "Next, I combine the weather and energy data into a single dataframe, incorporating a three hour lag between weather data and energy data. I can do this by using .shift() on the weather data when concatenating."
   ]
  },
  {
   "cell_type": "code",
   "execution_count": 64,
   "metadata": {},
   "outputs": [],
   "source": [
    "model_df = pd.concat([energy, weather_hourly.shift(3)], axis=1)"
   ]
  },
  {
   "cell_type": "code",
   "execution_count": 65,
   "metadata": {},
   "outputs": [
    {
     "output_type": "execute_result",
     "data": {
      "text/plain": "                     nexus_meter  inverter  HourlyAltimeterSetting  \\\nDATE                                                                 \n2018-01-29 00:00:00          NaN       NaN                     NaN   \n2018-01-29 01:00:00          NaN       NaN                     NaN   \n2018-01-29 02:00:00          NaN       NaN                     NaN   \n2018-01-29 03:00:00          NaN       NaN                 30.3425   \n2018-01-29 04:00:00          NaN       NaN                 30.3400   \n\n                     HourlyDewPointTemperature  HourlyDryBulbTemperature  \\\nDATE                                                                       \n2018-01-29 00:00:00                        NaN                       NaN   \n2018-01-29 01:00:00                        NaN                       NaN   \n2018-01-29 02:00:00                        NaN                       NaN   \n2018-01-29 03:00:00                       28.0                      30.0   \n2018-01-29 04:00:00                       28.0                      30.0   \n\n                     HourlyRelativeHumidity  HourlySeaLevelPressure  \\\nDATE                                                                  \n2018-01-29 00:00:00                     NaN                     NaN   \n2018-01-29 01:00:00                     NaN                     NaN   \n2018-01-29 02:00:00                     NaN                     NaN   \n2018-01-29 03:00:00                   92.25               30.364994   \n2018-01-29 04:00:00                   92.00               30.350000   \n\n                     HourlyStationPressure  HourlyVisibility  HourlyWindSpeed  \\\nDATE                                                                            \n2018-01-29 00:00:00                    NaN               NaN              NaN   \n2018-01-29 01:00:00                    NaN               NaN              NaN   \n2018-01-29 02:00:00                    NaN               NaN              NaN   \n2018-01-29 03:00:00                29.5125              5.75            14.25   \n2018-01-29 04:00:00                29.5100              3.00            10.00   \n\n                     cloud_coverage  \nDATE                                 \n2018-01-29 00:00:00             NaN  \n2018-01-29 01:00:00             NaN  \n2018-01-29 02:00:00             NaN  \n2018-01-29 03:00:00            80.0  \n2018-01-29 04:00:00            80.0  ",
      "text/html": "<div>\n<style scoped>\n    .dataframe tbody tr th:only-of-type {\n        vertical-align: middle;\n    }\n\n    .dataframe tbody tr th {\n        vertical-align: top;\n    }\n\n    .dataframe thead th {\n        text-align: right;\n    }\n</style>\n<table border=\"1\" class=\"dataframe\">\n  <thead>\n    <tr style=\"text-align: right;\">\n      <th></th>\n      <th>nexus_meter</th>\n      <th>inverter</th>\n      <th>HourlyAltimeterSetting</th>\n      <th>HourlyDewPointTemperature</th>\n      <th>HourlyDryBulbTemperature</th>\n      <th>HourlyRelativeHumidity</th>\n      <th>HourlySeaLevelPressure</th>\n      <th>HourlyStationPressure</th>\n      <th>HourlyVisibility</th>\n      <th>HourlyWindSpeed</th>\n      <th>cloud_coverage</th>\n    </tr>\n    <tr>\n      <th>DATE</th>\n      <th></th>\n      <th></th>\n      <th></th>\n      <th></th>\n      <th></th>\n      <th></th>\n      <th></th>\n      <th></th>\n      <th></th>\n      <th></th>\n      <th></th>\n    </tr>\n  </thead>\n  <tbody>\n    <tr>\n      <th>2018-01-29 00:00:00</th>\n      <td>NaN</td>\n      <td>NaN</td>\n      <td>NaN</td>\n      <td>NaN</td>\n      <td>NaN</td>\n      <td>NaN</td>\n      <td>NaN</td>\n      <td>NaN</td>\n      <td>NaN</td>\n      <td>NaN</td>\n      <td>NaN</td>\n    </tr>\n    <tr>\n      <th>2018-01-29 01:00:00</th>\n      <td>NaN</td>\n      <td>NaN</td>\n      <td>NaN</td>\n      <td>NaN</td>\n      <td>NaN</td>\n      <td>NaN</td>\n      <td>NaN</td>\n      <td>NaN</td>\n      <td>NaN</td>\n      <td>NaN</td>\n      <td>NaN</td>\n    </tr>\n    <tr>\n      <th>2018-01-29 02:00:00</th>\n      <td>NaN</td>\n      <td>NaN</td>\n      <td>NaN</td>\n      <td>NaN</td>\n      <td>NaN</td>\n      <td>NaN</td>\n      <td>NaN</td>\n      <td>NaN</td>\n      <td>NaN</td>\n      <td>NaN</td>\n      <td>NaN</td>\n    </tr>\n    <tr>\n      <th>2018-01-29 03:00:00</th>\n      <td>NaN</td>\n      <td>NaN</td>\n      <td>30.3425</td>\n      <td>28.0</td>\n      <td>30.0</td>\n      <td>92.25</td>\n      <td>30.364994</td>\n      <td>29.5125</td>\n      <td>5.75</td>\n      <td>14.25</td>\n      <td>80.0</td>\n    </tr>\n    <tr>\n      <th>2018-01-29 04:00:00</th>\n      <td>NaN</td>\n      <td>NaN</td>\n      <td>30.3400</td>\n      <td>28.0</td>\n      <td>30.0</td>\n      <td>92.00</td>\n      <td>30.350000</td>\n      <td>29.5100</td>\n      <td>3.00</td>\n      <td>10.00</td>\n      <td>80.0</td>\n    </tr>\n  </tbody>\n</table>\n</div>"
     },
     "metadata": {},
     "execution_count": 65
    }
   ],
   "source": [
    "model_df.head()"
   ]
  },
  {
   "cell_type": "markdown",
   "metadata": {},
   "source": [
    "the inverter column from the energy data provides no valuable information so I am going to drop it. I am also going to drop the first 24 rows of the dataframe as they have no energy data."
   ]
  },
  {
   "cell_type": "code",
   "execution_count": 69,
   "metadata": {},
   "outputs": [],
   "source": [
    "model_df.drop('inverter', axis=1, inplace=True)"
   ]
  },
  {
   "cell_type": "code",
   "execution_count": 71,
   "metadata": {},
   "outputs": [],
   "source": [
    "model_df = model_df['2018-01-30 1:00:00':]"
   ]
  },
  {
   "cell_type": "code",
   "execution_count": 72,
   "metadata": {},
   "outputs": [
    {
     "output_type": "execute_result",
     "data": {
      "text/plain": "                     nexus_meter  HourlyAltimeterSetting  \\\nDATE                                                       \n2018-01-30 01:00:00          0.0                   30.48   \n2018-01-30 02:00:00          0.0                   30.48   \n2018-01-30 03:00:00          0.0                   30.46   \n2018-01-30 04:00:00          0.0                   30.47   \n2018-01-30 05:00:00          0.0                   30.47   \n2018-01-30 06:00:00          0.0                   30.46   \n2018-01-30 07:00:00          0.0                   30.45   \n2018-01-30 08:00:00          0.0                   30.47   \n2018-01-30 09:00:00          0.0                   30.50   \n2018-01-30 10:00:00        276.6                   30.48   \n\n                     HourlyDewPointTemperature  HourlyDryBulbTemperature  \\\nDATE                                                                       \n2018-01-30 01:00:00                       13.0                      17.0   \n2018-01-30 02:00:00                       13.0                      17.0   \n2018-01-30 03:00:00                       14.0                      17.0   \n2018-01-30 04:00:00                       11.0                      15.0   \n2018-01-30 05:00:00                       11.0                      14.0   \n2018-01-30 06:00:00                       11.0                      14.0   \n2018-01-30 07:00:00                       10.0                      13.0   \n2018-01-30 08:00:00                       11.0                      14.0   \n2018-01-30 09:00:00                       11.0                      13.0   \n2018-01-30 10:00:00                       13.0                      16.0   \n\n                     HourlyRelativeHumidity  HourlySeaLevelPressure  \\\nDATE                                                                  \n2018-01-30 01:00:00                    84.0                   30.52   \n2018-01-30 02:00:00                    84.0                   30.51   \n2018-01-30 03:00:00                    88.0                   30.50   \n2018-01-30 04:00:00                    84.0                   30.50   \n2018-01-30 05:00:00                    88.0                   30.50   \n2018-01-30 06:00:00                    88.0                   30.49   \n2018-01-30 07:00:00                    88.0                   30.49   \n2018-01-30 08:00:00                    88.0                   30.51   \n2018-01-30 09:00:00                    92.0                   30.54   \n2018-01-30 10:00:00                    88.0                   30.52   \n\n                     HourlyStationPressure  HourlyVisibility  HourlyWindSpeed  \\\nDATE                                                                            \n2018-01-30 01:00:00                  29.65              10.0              6.0   \n2018-01-30 02:00:00                  29.65              10.0              5.0   \n2018-01-30 03:00:00                  29.63              10.0              6.0   \n2018-01-30 04:00:00                  29.64              10.0              6.0   \n2018-01-30 05:00:00                  29.64              10.0              5.0   \n2018-01-30 06:00:00                  29.63              10.0              5.0   \n2018-01-30 07:00:00                  29.62              10.0              0.0   \n2018-01-30 08:00:00                  29.64              10.0              6.0   \n2018-01-30 09:00:00                  29.67              10.0              6.0   \n2018-01-30 10:00:00                  29.65              10.0              0.0   \n\n                     cloud_coverage  \nDATE                                 \n2018-01-30 01:00:00             0.0  \n2018-01-30 02:00:00             0.0  \n2018-01-30 03:00:00             0.0  \n2018-01-30 04:00:00             0.0  \n2018-01-30 05:00:00             0.0  \n2018-01-30 06:00:00             0.0  \n2018-01-30 07:00:00             0.0  \n2018-01-30 08:00:00             0.0  \n2018-01-30 09:00:00             0.0  \n2018-01-30 10:00:00             0.0  ",
      "text/html": "<div>\n<style scoped>\n    .dataframe tbody tr th:only-of-type {\n        vertical-align: middle;\n    }\n\n    .dataframe tbody tr th {\n        vertical-align: top;\n    }\n\n    .dataframe thead th {\n        text-align: right;\n    }\n</style>\n<table border=\"1\" class=\"dataframe\">\n  <thead>\n    <tr style=\"text-align: right;\">\n      <th></th>\n      <th>nexus_meter</th>\n      <th>HourlyAltimeterSetting</th>\n      <th>HourlyDewPointTemperature</th>\n      <th>HourlyDryBulbTemperature</th>\n      <th>HourlyRelativeHumidity</th>\n      <th>HourlySeaLevelPressure</th>\n      <th>HourlyStationPressure</th>\n      <th>HourlyVisibility</th>\n      <th>HourlyWindSpeed</th>\n      <th>cloud_coverage</th>\n    </tr>\n    <tr>\n      <th>DATE</th>\n      <th></th>\n      <th></th>\n      <th></th>\n      <th></th>\n      <th></th>\n      <th></th>\n      <th></th>\n      <th></th>\n      <th></th>\n      <th></th>\n    </tr>\n  </thead>\n  <tbody>\n    <tr>\n      <th>2018-01-30 01:00:00</th>\n      <td>0.0</td>\n      <td>30.48</td>\n      <td>13.0</td>\n      <td>17.0</td>\n      <td>84.0</td>\n      <td>30.52</td>\n      <td>29.65</td>\n      <td>10.0</td>\n      <td>6.0</td>\n      <td>0.0</td>\n    </tr>\n    <tr>\n      <th>2018-01-30 02:00:00</th>\n      <td>0.0</td>\n      <td>30.48</td>\n      <td>13.0</td>\n      <td>17.0</td>\n      <td>84.0</td>\n      <td>30.51</td>\n      <td>29.65</td>\n      <td>10.0</td>\n      <td>5.0</td>\n      <td>0.0</td>\n    </tr>\n    <tr>\n      <th>2018-01-30 03:00:00</th>\n      <td>0.0</td>\n      <td>30.46</td>\n      <td>14.0</td>\n      <td>17.0</td>\n      <td>88.0</td>\n      <td>30.50</td>\n      <td>29.63</td>\n      <td>10.0</td>\n      <td>6.0</td>\n      <td>0.0</td>\n    </tr>\n    <tr>\n      <th>2018-01-30 04:00:00</th>\n      <td>0.0</td>\n      <td>30.47</td>\n      <td>11.0</td>\n      <td>15.0</td>\n      <td>84.0</td>\n      <td>30.50</td>\n      <td>29.64</td>\n      <td>10.0</td>\n      <td>6.0</td>\n      <td>0.0</td>\n    </tr>\n    <tr>\n      <th>2018-01-30 05:00:00</th>\n      <td>0.0</td>\n      <td>30.47</td>\n      <td>11.0</td>\n      <td>14.0</td>\n      <td>88.0</td>\n      <td>30.50</td>\n      <td>29.64</td>\n      <td>10.0</td>\n      <td>5.0</td>\n      <td>0.0</td>\n    </tr>\n    <tr>\n      <th>2018-01-30 06:00:00</th>\n      <td>0.0</td>\n      <td>30.46</td>\n      <td>11.0</td>\n      <td>14.0</td>\n      <td>88.0</td>\n      <td>30.49</td>\n      <td>29.63</td>\n      <td>10.0</td>\n      <td>5.0</td>\n      <td>0.0</td>\n    </tr>\n    <tr>\n      <th>2018-01-30 07:00:00</th>\n      <td>0.0</td>\n      <td>30.45</td>\n      <td>10.0</td>\n      <td>13.0</td>\n      <td>88.0</td>\n      <td>30.49</td>\n      <td>29.62</td>\n      <td>10.0</td>\n      <td>0.0</td>\n      <td>0.0</td>\n    </tr>\n    <tr>\n      <th>2018-01-30 08:00:00</th>\n      <td>0.0</td>\n      <td>30.47</td>\n      <td>11.0</td>\n      <td>14.0</td>\n      <td>88.0</td>\n      <td>30.51</td>\n      <td>29.64</td>\n      <td>10.0</td>\n      <td>6.0</td>\n      <td>0.0</td>\n    </tr>\n    <tr>\n      <th>2018-01-30 09:00:00</th>\n      <td>0.0</td>\n      <td>30.50</td>\n      <td>11.0</td>\n      <td>13.0</td>\n      <td>92.0</td>\n      <td>30.54</td>\n      <td>29.67</td>\n      <td>10.0</td>\n      <td>6.0</td>\n      <td>0.0</td>\n    </tr>\n    <tr>\n      <th>2018-01-30 10:00:00</th>\n      <td>276.6</td>\n      <td>30.48</td>\n      <td>13.0</td>\n      <td>16.0</td>\n      <td>88.0</td>\n      <td>30.52</td>\n      <td>29.65</td>\n      <td>10.0</td>\n      <td>0.0</td>\n      <td>0.0</td>\n    </tr>\n  </tbody>\n</table>\n</div>"
     },
     "metadata": {},
     "execution_count": 72
    }
   ],
   "source": [
    "model_df.head(10)"
   ]
  },
  {
   "cell_type": "markdown",
   "metadata": {},
   "source": [
    "I have my dataframe formatted properly, now I can perform a train test split and run it through a dummy_regressor from sklearn to obtain a few baseline metrics that I compare future model iterations against."
   ]
  },
  {
   "cell_type": "code",
   "execution_count": 73,
   "metadata": {},
   "outputs": [
    {
     "output_type": "execute_result",
     "data": {
      "text/plain": "(21671, 10)"
     },
     "metadata": {},
     "execution_count": 73
    }
   ],
   "source": [
    "model_df.shape"
   ]
  },
  {
   "cell_type": "markdown",
   "metadata": {},
   "source": [
    "I want to perform a 80/20 train test split. That will give me about 17,000 rows for training and the remainder for testing."
   ]
  },
  {
   "cell_type": "code",
   "execution_count": 75,
   "metadata": {},
   "outputs": [],
   "source": [
    "# Target\n",
    "y = model_df['nexus_meter']\n",
    "# Features\n",
    "X = model_df.drop('nexus_meter', axis=1)"
   ]
  },
  {
   "cell_type": "code",
   "execution_count": 76,
   "metadata": {},
   "outputs": [],
   "source": [
    "X_train, X_test, y_train, y_test = train_test_split(X, y, random_state=42, test_size=.2)"
   ]
  },
  {
   "cell_type": "markdown",
   "metadata": {},
   "source": [
    "For this basline model, I will use sklearn's dummy_regressor."
   ]
  },
  {
   "cell_type": "code",
   "execution_count": 78,
   "metadata": {},
   "outputs": [],
   "source": [
    "from sklearn.dummy import DummyRegressor"
   ]
  },
  {
   "cell_type": "code",
   "execution_count": 104,
   "metadata": {},
   "outputs": [],
   "source": [
    "dr = DummyRegressor(strategy='mean')"
   ]
  },
  {
   "cell_type": "code",
   "execution_count": 105,
   "metadata": {},
   "outputs": [],
   "source": [
    "scaler = StandardScaler()"
   ]
  },
  {
   "cell_type": "code",
   "execution_count": 106,
   "metadata": {},
   "outputs": [],
   "source": [
    "X_train_scaled = scaler.fit_transform(X_train)\n",
    "X_test_scaled = scaler.transform(X_test)"
   ]
  },
  {
   "cell_type": "code",
   "execution_count": 107,
   "metadata": {},
   "outputs": [
    {
     "output_type": "execute_result",
     "data": {
      "text/plain": "DummyRegressor()"
     },
     "metadata": {},
     "execution_count": 107
    }
   ],
   "source": [
    "dr.fit(X_train_scaled, y_train)"
   ]
  },
  {
   "cell_type": "code",
   "execution_count": 108,
   "metadata": {},
   "outputs": [],
   "source": [
    "train_preds = dr.predict(X_train_scaled)"
   ]
  },
  {
   "cell_type": "code",
   "execution_count": 109,
   "metadata": {},
   "outputs": [
    {
     "output_type": "execute_result",
     "data": {
      "text/plain": "5170.219268550485"
     },
     "metadata": {},
     "execution_count": 109
    }
   ],
   "source": [
    "np.sqrt(mse(y_train, train_preds))"
   ]
  },
  {
   "cell_type": "code",
   "execution_count": 110,
   "metadata": {},
   "outputs": [],
   "source": [
    "test_preds = dr.predict(X_test_scaled)"
   ]
  },
  {
   "cell_type": "code",
   "execution_count": 111,
   "metadata": {},
   "outputs": [
    {
     "output_type": "execute_result",
     "data": {
      "text/plain": "5206.865865892132"
     },
     "metadata": {},
     "execution_count": 111
    }
   ],
   "source": [
    "np.sqrt(mse(y_test, test_preds))"
   ]
  },
  {
   "cell_type": "markdown",
   "metadata": {},
   "source": [
    "So the baseline model produced an RMSE of about 5,200 for both the training and test set. That is pretty bad and should only go up from there. I'm curious how much better it would perform when looking at only the hour's that generate energy (for now we will consider this 5am to 9pm)"
   ]
  },
  {
   "cell_type": "code",
   "execution_count": 116,
   "metadata": {},
   "outputs": [],
   "source": [
    "y2 = model_df['nexus_meter']\n",
    "X2 = model_df.drop('nexus_meter', axis=1)"
   ]
  },
  {
   "cell_type": "code",
   "execution_count": 117,
   "metadata": {},
   "outputs": [],
   "source": [
    "y2 = y2[(y2.index.hour >= 5) & (y2.index.hour <= 21)]\n",
    "X2 = X2[(X2.index.hour >= 5) & (X2.index.hour <= 21)]"
   ]
  },
  {
   "cell_type": "code",
   "execution_count": 118,
   "metadata": {},
   "outputs": [],
   "source": [
    "X_train2, X_test2, y_train2, y_test2 = train_test_split(X2, y2, random_state=42, test_size=.2)"
   ]
  },
  {
   "cell_type": "code",
   "execution_count": 119,
   "metadata": {},
   "outputs": [],
   "source": [
    "X_train2_scaled = imp.fit_transform(X_train2)"
   ]
  },
  {
   "cell_type": "code",
   "execution_count": 120,
   "metadata": {},
   "outputs": [],
   "source": [
    "dr2 = DummyRegressor()"
   ]
  },
  {
   "cell_type": "code",
   "execution_count": 122,
   "metadata": {},
   "outputs": [
    {
     "output_type": "execute_result",
     "data": {
      "text/plain": "DummyRegressor()"
     },
     "metadata": {},
     "execution_count": 122
    }
   ],
   "source": [
    "dr2.fit(X_train2_scaled, y_train2)"
   ]
  },
  {
   "cell_type": "code",
   "execution_count": 123,
   "metadata": {},
   "outputs": [],
   "source": [
    "train_preds2 = dr2.predict(X_train2_scaled)"
   ]
  },
  {
   "cell_type": "code",
   "execution_count": 124,
   "metadata": {},
   "outputs": [
    {
     "output_type": "execute_result",
     "data": {
      "text/plain": "5642.56604005931"
     },
     "metadata": {},
     "execution_count": 124
    }
   ],
   "source": [
    "np.sqrt(mse(y_train2, train_preds2))"
   ]
  },
  {
   "cell_type": "markdown",
   "metadata": {},
   "source": [
    "Unexpectedly, the subset model actually performed worse than the entire dataset. I am thinking this is because of how the dummy regressor makes it's predictions (mean of target), and when I run a legitamite model on it in the next notebook, I still think the subset will perform better."
   ]
  },
  {
   "cell_type": "code",
   "execution_count": null,
   "metadata": {},
   "outputs": [],
   "source": []
  }
 ]
}